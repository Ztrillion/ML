{
  "nbformat": 4,
  "nbformat_minor": 0,
  "metadata": {
    "colab": {
      "name": "400_CNN_CIFAR100.ipynb",
      "provenance": [],
      "collapsed_sections": []
    },
    "kernelspec": {
      "name": "python3",
      "display_name": "Python 3"
    },
    "accelerator": "GPU"
  },
  "cells": [
    {
      "cell_type": "markdown",
      "metadata": {
        "id": "q2Pr7oBdYLdf"
      },
      "source": [
        "# CIFAR100 - Categorical Classification\n",
        "> # Convolutional Neural Network"
      ]
    },
    {
      "cell_type": "code",
      "metadata": {
        "id": "RbPgODpVzdHI"
      },
      "source": [
        "import warnings\n",
        "warnings.filterwarnings('ignore')"
      ],
      "execution_count": 1,
      "outputs": []
    },
    {
      "cell_type": "markdown",
      "metadata": {
        "id": "tUvJIk2aRFtw"
      },
      "source": [
        "* import Tensorflow"
      ]
    },
    {
      "cell_type": "code",
      "metadata": {
        "id": "GR4j3p6N_rDV",
        "colab": {
          "base_uri": "https://localhost:8080/",
          "height": 35
        },
        "outputId": "18e328ae-8127-4cfd-9b37-4c9dd65285cb"
      },
      "source": [
        "import tensorflow\n",
        "\n",
        "tensorflow.__version__"
      ],
      "execution_count": 2,
      "outputs": [
        {
          "output_type": "execute_result",
          "data": {
            "application/vnd.google.colaboratory.intrinsic+json": {
              "type": "string"
            },
            "text/plain": [
              "'2.5.0'"
            ]
          },
          "metadata": {
            "tags": []
          },
          "execution_count": 2
        }
      ]
    },
    {
      "cell_type": "markdown",
      "metadata": {
        "id": "H49A769LYp-a"
      },
      "source": [
        "# I. CIFAR100 Data_Set Load"
      ]
    },
    {
      "cell_type": "code",
      "metadata": {
        "id": "DxstjE8b_6Te"
      },
      "source": [
        "from tensorflow.keras.datasets import cifar100\n",
        "\n",
        "(X_train, y_train), (X_test, y_test) = cifar100.load_data(label_mode = 'fine')"
      ],
      "execution_count": 3,
      "outputs": []
    },
    {
      "cell_type": "markdown",
      "metadata": {
        "id": "Mk9XL5vGHor6"
      },
      "source": [
        "# II. Data Preprocessing"
      ]
    },
    {
      "cell_type": "markdown",
      "metadata": {
        "id": "ec8zU4XCZRUF"
      },
      "source": [
        "> ## 1) Reshape and Normalization"
      ]
    },
    {
      "cell_type": "markdown",
      "metadata": {
        "id": "olI6ZPtEIb8H"
      },
      "source": [
        "* reshape"
      ]
    },
    {
      "cell_type": "code",
      "metadata": {
        "id": "8-toPn1ZAmFd"
      },
      "source": [
        "X_train = X_train.reshape((50000,  32, 32, 3))\n",
        "X_test = X_test.reshape((10000,  32, 32, 3))"
      ],
      "execution_count": 4,
      "outputs": []
    },
    {
      "cell_type": "markdown",
      "metadata": {
        "id": "UN-xPWjYIeWL"
      },
      "source": [
        "* Normalization"
      ]
    },
    {
      "cell_type": "code",
      "metadata": {
        "id": "SoGHuYeFIGBj",
        "colab": {
          "base_uri": "https://localhost:8080/"
        },
        "outputId": "e034a429-0e0f-434f-dd0e-e61a458e3ccf"
      },
      "source": [
        "X_train = X_train.astype(float) / 255\n",
        "X_test = X_test.astype(float) / 255\n",
        "\n",
        "X_train.shape, X_test.shape"
      ],
      "execution_count": 5,
      "outputs": [
        {
          "output_type": "execute_result",
          "data": {
            "text/plain": [
              "((50000, 32, 32, 3), (10000, 32, 32, 3))"
            ]
          },
          "metadata": {
            "tags": []
          },
          "execution_count": 5
        }
      ]
    },
    {
      "cell_type": "markdown",
      "metadata": {
        "id": "BtSROU80aF12"
      },
      "source": [
        "> ## 2) One Hot Encoding"
      ]
    },
    {
      "cell_type": "code",
      "metadata": {
        "id": "eC48Oym3Ao8E"
      },
      "source": [
        "from tensorflow.keras.utils import to_categorical\n",
        "\n",
        "y_train = to_categorical(y_train)\n",
        "y_test = to_categorical(y_test)"
      ],
      "execution_count": 6,
      "outputs": []
    },
    {
      "cell_type": "code",
      "metadata": {
        "colab": {
          "base_uri": "https://localhost:8080/"
        },
        "id": "YdtrfX8yzX4s",
        "outputId": "a01ba934-31dd-4620-f18a-dbd77595ccb1"
      },
      "source": [
        "y_train.shape, y_test.shape"
      ],
      "execution_count": 7,
      "outputs": [
        {
          "output_type": "execute_result",
          "data": {
            "text/plain": [
              "((50000, 100), (10000, 100))"
            ]
          },
          "metadata": {
            "tags": []
          },
          "execution_count": 7
        }
      ]
    },
    {
      "cell_type": "markdown",
      "metadata": {
        "id": "NTwZiSjiop3v"
      },
      "source": [
        "# III. MNIST Keras Modeling"
      ]
    },
    {
      "cell_type": "markdown",
      "metadata": {
        "id": "j5CT0TurJCkc"
      },
      "source": [
        "> ## 1) Model Define"
      ]
    },
    {
      "cell_type": "code",
      "metadata": {
        "id": "II0DskRdAcHS"
      },
      "source": [
        "from tensorflow.keras import models\n",
        "from tensorflow.keras import layers\n",
        "\n",
        "model = models.Sequential()\n",
        "model.add(layers.Conv2D(128, kernel_size=(3,3), padding = 'same', activation='relu',input_shape=(32,32,3)))\n",
        "model.add(layers.MaxPool2D(pool_size=(2,2)))\n",
        "model.add(layers.Conv2D(128, kernel_size=(3,3), activation='relu'))\n",
        "model.add(layers.MaxPool2D(pool_size=(2,2)))\n",
        "model.add(layers.Conv2D(256, kernel_size=(3,3), activation='relu'))\n",
        "\n",
        "\n",
        "#DNN\n",
        "model.add(layers.Flatten())\n",
        "model.add(layers.Dense(256))\n",
        "model.add(layers.BatchNormalization())\n",
        "model.add(layers.Activation('relu'))\n",
        "model.add(layers.Dropout(0.4))\n",
        "model.add(layers.Dense(128))\n",
        "model.add(layers.BatchNormalization())\n",
        "model.add(layers.Activation('relu'))\n",
        "model.add(layers.Dropout(0.2))\n",
        "model.add(layers.Dense(units=100, activation='softmax'))"
      ],
      "execution_count": 35,
      "outputs": []
    },
    {
      "cell_type": "code",
      "metadata": {
        "id": "kQ02_BOz8-ek"
      },
      "source": [
        ""
      ],
      "execution_count": null,
      "outputs": []
    },
    {
      "cell_type": "markdown",
      "metadata": {
        "id": "tpjBDBeYoyuj"
      },
      "source": [
        "> ## 2) Model Compile"
      ]
    },
    {
      "cell_type": "markdown",
      "metadata": {
        "id": "f3sxkQa0JoUr"
      },
      "source": [
        "* 모델 학습방법 설정"
      ]
    },
    {
      "cell_type": "code",
      "metadata": {
        "id": "AyK_t1qwAi6M"
      },
      "source": [
        "model.compile(loss='categorical_crossentropy',\n",
        "              optimizer = 'adam',\n",
        "              metrics=['accuracy'])"
      ],
      "execution_count": 36,
      "outputs": []
    },
    {
      "cell_type": "markdown",
      "metadata": {
        "id": "umiq4B-Xo3OB"
      },
      "source": [
        "> ## 3) Model Fit"
      ]
    },
    {
      "cell_type": "markdown",
      "metadata": {
        "id": "1KuXREziKMD1"
      },
      "source": [
        "* 약 5분"
      ]
    },
    {
      "cell_type": "code",
      "metadata": {
        "id": "zxwqwAqRAqRP",
        "colab": {
          "base_uri": "https://localhost:8080/"
        },
        "outputId": "cbd6a96d-c7fa-48b8-f77b-e66335d584dc"
      },
      "source": [
        "%time\n",
        "\n",
        "modelh = model.fit(X_train, y_train, \n",
        "                   epochs=100, \n",
        "                   batch_size = 128, \n",
        "                   validation_split = 0.2)"
      ],
      "execution_count": 37,
      "outputs": [
        {
          "output_type": "stream",
          "text": [
            "CPU times: user 3 µs, sys: 1 µs, total: 4 µs\n",
            "Wall time: 7.15 µs\n",
            "Epoch 1/100\n",
            "313/313 [==============================] - 38s 19ms/step - loss: 4.0593 - accuracy: 0.0851 - val_loss: 3.8559 - val_accuracy: 0.1192\n",
            "Epoch 2/100\n",
            "313/313 [==============================] - 5s 17ms/step - loss: 3.4211 - accuracy: 0.1781 - val_loss: 3.3819 - val_accuracy: 0.1962\n",
            "Epoch 3/100\n",
            "313/313 [==============================] - 5s 17ms/step - loss: 3.0578 - accuracy: 0.2375 - val_loss: 2.9261 - val_accuracy: 0.2762\n",
            "Epoch 4/100\n",
            "313/313 [==============================] - 5s 17ms/step - loss: 2.7961 - accuracy: 0.2893 - val_loss: 2.9892 - val_accuracy: 0.2628\n",
            "Epoch 5/100\n",
            "313/313 [==============================] - 5s 17ms/step - loss: 2.6098 - accuracy: 0.3257 - val_loss: 2.8482 - val_accuracy: 0.2889\n",
            "Epoch 6/100\n",
            "313/313 [==============================] - 6s 18ms/step - loss: 2.4606 - accuracy: 0.3589 - val_loss: 2.4740 - val_accuracy: 0.3575\n",
            "Epoch 7/100\n",
            "313/313 [==============================] - 5s 17ms/step - loss: 2.3289 - accuracy: 0.3884 - val_loss: 2.4568 - val_accuracy: 0.3655\n",
            "Epoch 8/100\n",
            "313/313 [==============================] - 5s 17ms/step - loss: 2.2020 - accuracy: 0.4116 - val_loss: 2.5210 - val_accuracy: 0.3636\n",
            "Epoch 9/100\n",
            "313/313 [==============================] - 5s 17ms/step - loss: 2.0986 - accuracy: 0.4315 - val_loss: 2.2822 - val_accuracy: 0.4058\n",
            "Epoch 10/100\n",
            "313/313 [==============================] - 5s 17ms/step - loss: 1.9899 - accuracy: 0.4566 - val_loss: 2.3548 - val_accuracy: 0.3934\n",
            "Epoch 11/100\n",
            "313/313 [==============================] - 5s 17ms/step - loss: 1.8849 - accuracy: 0.4802 - val_loss: 2.2760 - val_accuracy: 0.4149\n",
            "Epoch 12/100\n",
            "313/313 [==============================] - 5s 17ms/step - loss: 1.7805 - accuracy: 0.5039 - val_loss: 2.3042 - val_accuracy: 0.4114\n",
            "Epoch 13/100\n",
            "313/313 [==============================] - 5s 17ms/step - loss: 1.6939 - accuracy: 0.5245 - val_loss: 2.4534 - val_accuracy: 0.3970\n",
            "Epoch 14/100\n",
            "313/313 [==============================] - 5s 17ms/step - loss: 1.5997 - accuracy: 0.5447 - val_loss: 2.2458 - val_accuracy: 0.4318\n",
            "Epoch 15/100\n",
            "313/313 [==============================] - 5s 17ms/step - loss: 1.5059 - accuracy: 0.5682 - val_loss: 2.3186 - val_accuracy: 0.4255\n",
            "Epoch 16/100\n",
            "313/313 [==============================] - 5s 17ms/step - loss: 1.4159 - accuracy: 0.5902 - val_loss: 2.2010 - val_accuracy: 0.4453\n",
            "Epoch 17/100\n",
            "313/313 [==============================] - 5s 17ms/step - loss: 1.3330 - accuracy: 0.6077 - val_loss: 2.2657 - val_accuracy: 0.4407\n",
            "Epoch 18/100\n",
            "313/313 [==============================] - 5s 17ms/step - loss: 1.2583 - accuracy: 0.6263 - val_loss: 2.3478 - val_accuracy: 0.4334\n",
            "Epoch 19/100\n",
            "313/313 [==============================] - 5s 17ms/step - loss: 1.1859 - accuracy: 0.6460 - val_loss: 2.3848 - val_accuracy: 0.4296\n",
            "Epoch 20/100\n",
            "313/313 [==============================] - 5s 17ms/step - loss: 1.1045 - accuracy: 0.6692 - val_loss: 2.4369 - val_accuracy: 0.4328\n",
            "Epoch 21/100\n",
            "313/313 [==============================] - 5s 17ms/step - loss: 1.0473 - accuracy: 0.6792 - val_loss: 2.3747 - val_accuracy: 0.4414\n",
            "Epoch 22/100\n",
            "313/313 [==============================] - 5s 17ms/step - loss: 0.9812 - accuracy: 0.7020 - val_loss: 2.4941 - val_accuracy: 0.4277\n",
            "Epoch 23/100\n",
            "313/313 [==============================] - 6s 18ms/step - loss: 0.9425 - accuracy: 0.7098 - val_loss: 2.6574 - val_accuracy: 0.4192\n",
            "Epoch 24/100\n",
            "313/313 [==============================] - 5s 17ms/step - loss: 0.8817 - accuracy: 0.7283 - val_loss: 2.5745 - val_accuracy: 0.4292\n",
            "Epoch 25/100\n",
            "313/313 [==============================] - 5s 17ms/step - loss: 0.8345 - accuracy: 0.7403 - val_loss: 2.6077 - val_accuracy: 0.4225\n",
            "Epoch 26/100\n",
            "313/313 [==============================] - 5s 17ms/step - loss: 0.7795 - accuracy: 0.7541 - val_loss: 2.6243 - val_accuracy: 0.4329\n",
            "Epoch 27/100\n",
            "313/313 [==============================] - 5s 17ms/step - loss: 0.7553 - accuracy: 0.7645 - val_loss: 2.7736 - val_accuracy: 0.4296\n",
            "Epoch 28/100\n",
            "313/313 [==============================] - 5s 17ms/step - loss: 0.7150 - accuracy: 0.7745 - val_loss: 2.6457 - val_accuracy: 0.4305\n",
            "Epoch 29/100\n",
            "313/313 [==============================] - 5s 17ms/step - loss: 0.6782 - accuracy: 0.7872 - val_loss: 2.9030 - val_accuracy: 0.4169\n",
            "Epoch 30/100\n",
            "313/313 [==============================] - 5s 17ms/step - loss: 0.6524 - accuracy: 0.7952 - val_loss: 2.8529 - val_accuracy: 0.4329\n",
            "Epoch 31/100\n",
            "313/313 [==============================] - 5s 17ms/step - loss: 0.6170 - accuracy: 0.8047 - val_loss: 2.9057 - val_accuracy: 0.4262\n",
            "Epoch 32/100\n",
            "313/313 [==============================] - 5s 17ms/step - loss: 0.6014 - accuracy: 0.8079 - val_loss: 2.8927 - val_accuracy: 0.4286\n",
            "Epoch 33/100\n",
            "313/313 [==============================] - 5s 17ms/step - loss: 0.5775 - accuracy: 0.8180 - val_loss: 2.8544 - val_accuracy: 0.4294\n",
            "Epoch 34/100\n",
            "313/313 [==============================] - 5s 17ms/step - loss: 0.5397 - accuracy: 0.8295 - val_loss: 3.1704 - val_accuracy: 0.4118\n",
            "Epoch 35/100\n",
            "313/313 [==============================] - 5s 17ms/step - loss: 0.5384 - accuracy: 0.8296 - val_loss: 3.0382 - val_accuracy: 0.4242\n",
            "Epoch 36/100\n",
            "313/313 [==============================] - 5s 17ms/step - loss: 0.5148 - accuracy: 0.8351 - val_loss: 3.0134 - val_accuracy: 0.4282\n",
            "Epoch 37/100\n",
            "313/313 [==============================] - 5s 17ms/step - loss: 0.4977 - accuracy: 0.8423 - val_loss: 3.1284 - val_accuracy: 0.4260\n",
            "Epoch 38/100\n",
            "313/313 [==============================] - 5s 17ms/step - loss: 0.4821 - accuracy: 0.8459 - val_loss: 3.1669 - val_accuracy: 0.4239\n",
            "Epoch 39/100\n",
            "313/313 [==============================] - 5s 17ms/step - loss: 0.4612 - accuracy: 0.8528 - val_loss: 3.2341 - val_accuracy: 0.4205\n",
            "Epoch 40/100\n",
            "313/313 [==============================] - 5s 17ms/step - loss: 0.4566 - accuracy: 0.8542 - val_loss: 3.1556 - val_accuracy: 0.4243\n",
            "Epoch 41/100\n",
            "313/313 [==============================] - 5s 17ms/step - loss: 0.4566 - accuracy: 0.8544 - val_loss: 3.2391 - val_accuracy: 0.4239\n",
            "Epoch 42/100\n",
            "313/313 [==============================] - 5s 17ms/step - loss: 0.4379 - accuracy: 0.8594 - val_loss: 3.2490 - val_accuracy: 0.4168\n",
            "Epoch 43/100\n",
            "313/313 [==============================] - 6s 18ms/step - loss: 0.4276 - accuracy: 0.8634 - val_loss: 3.3363 - val_accuracy: 0.4159\n",
            "Epoch 44/100\n",
            "313/313 [==============================] - 5s 17ms/step - loss: 0.4193 - accuracy: 0.8648 - val_loss: 3.3674 - val_accuracy: 0.4241\n",
            "Epoch 45/100\n",
            "313/313 [==============================] - 5s 17ms/step - loss: 0.4068 - accuracy: 0.8685 - val_loss: 3.4002 - val_accuracy: 0.4217\n",
            "Epoch 46/100\n",
            "313/313 [==============================] - 5s 17ms/step - loss: 0.3974 - accuracy: 0.8728 - val_loss: 3.6256 - val_accuracy: 0.4025\n",
            "Epoch 47/100\n",
            "313/313 [==============================] - 5s 17ms/step - loss: 0.3860 - accuracy: 0.8769 - val_loss: 3.2757 - val_accuracy: 0.4228\n",
            "Epoch 48/100\n",
            "313/313 [==============================] - 5s 17ms/step - loss: 0.3779 - accuracy: 0.8776 - val_loss: 3.4503 - val_accuracy: 0.4191\n",
            "Epoch 49/100\n",
            "313/313 [==============================] - 5s 17ms/step - loss: 0.3744 - accuracy: 0.8790 - val_loss: 3.5161 - val_accuracy: 0.4230\n",
            "Epoch 50/100\n",
            "313/313 [==============================] - 5s 17ms/step - loss: 0.3563 - accuracy: 0.8857 - val_loss: 3.4873 - val_accuracy: 0.4238\n",
            "Epoch 51/100\n",
            "313/313 [==============================] - 5s 17ms/step - loss: 0.3624 - accuracy: 0.8839 - val_loss: 3.4147 - val_accuracy: 0.4258\n",
            "Epoch 52/100\n",
            "313/313 [==============================] - 5s 17ms/step - loss: 0.3469 - accuracy: 0.8902 - val_loss: 3.4678 - val_accuracy: 0.4270\n",
            "Epoch 53/100\n",
            "313/313 [==============================] - 5s 17ms/step - loss: 0.3291 - accuracy: 0.8935 - val_loss: 3.6182 - val_accuracy: 0.4163\n",
            "Epoch 54/100\n",
            "313/313 [==============================] - 5s 17ms/step - loss: 0.3337 - accuracy: 0.8929 - val_loss: 3.4298 - val_accuracy: 0.4243\n",
            "Epoch 55/100\n",
            "313/313 [==============================] - 5s 17ms/step - loss: 0.3296 - accuracy: 0.8946 - val_loss: 3.5256 - val_accuracy: 0.4282\n",
            "Epoch 56/100\n",
            "313/313 [==============================] - 6s 18ms/step - loss: 0.3216 - accuracy: 0.8980 - val_loss: 3.6632 - val_accuracy: 0.4197\n",
            "Epoch 57/100\n",
            "313/313 [==============================] - 5s 17ms/step - loss: 0.3280 - accuracy: 0.8953 - val_loss: 3.7204 - val_accuracy: 0.4111\n",
            "Epoch 58/100\n",
            "313/313 [==============================] - 5s 17ms/step - loss: 0.3229 - accuracy: 0.8946 - val_loss: 3.6512 - val_accuracy: 0.4216\n",
            "Epoch 59/100\n",
            "313/313 [==============================] - 6s 18ms/step - loss: 0.3159 - accuracy: 0.8988 - val_loss: 3.5810 - val_accuracy: 0.4151\n",
            "Epoch 60/100\n",
            "313/313 [==============================] - 5s 17ms/step - loss: 0.3036 - accuracy: 0.9016 - val_loss: 3.6605 - val_accuracy: 0.4224\n",
            "Epoch 61/100\n",
            "313/313 [==============================] - 6s 18ms/step - loss: 0.2982 - accuracy: 0.9054 - val_loss: 3.6050 - val_accuracy: 0.4226\n",
            "Epoch 62/100\n",
            "313/313 [==============================] - 6s 18ms/step - loss: 0.2959 - accuracy: 0.9065 - val_loss: 3.6859 - val_accuracy: 0.4223\n",
            "Epoch 63/100\n",
            "313/313 [==============================] - 5s 17ms/step - loss: 0.2895 - accuracy: 0.9072 - val_loss: 3.6235 - val_accuracy: 0.4143\n",
            "Epoch 64/100\n",
            "313/313 [==============================] - 5s 17ms/step - loss: 0.2918 - accuracy: 0.9069 - val_loss: 3.7318 - val_accuracy: 0.4140\n",
            "Epoch 65/100\n",
            "313/313 [==============================] - 6s 18ms/step - loss: 0.2762 - accuracy: 0.9118 - val_loss: 3.6947 - val_accuracy: 0.4136\n",
            "Epoch 66/100\n",
            "313/313 [==============================] - 5s 17ms/step - loss: 0.2847 - accuracy: 0.9065 - val_loss: 3.7342 - val_accuracy: 0.4134\n",
            "Epoch 67/100\n",
            "313/313 [==============================] - 5s 18ms/step - loss: 0.2742 - accuracy: 0.9119 - val_loss: 3.7808 - val_accuracy: 0.4112\n",
            "Epoch 68/100\n",
            "313/313 [==============================] - 5s 17ms/step - loss: 0.2756 - accuracy: 0.9115 - val_loss: 3.7065 - val_accuracy: 0.4122\n",
            "Epoch 69/100\n",
            "313/313 [==============================] - 6s 18ms/step - loss: 0.2689 - accuracy: 0.9139 - val_loss: 3.6817 - val_accuracy: 0.4228\n",
            "Epoch 70/100\n",
            "313/313 [==============================] - 5s 17ms/step - loss: 0.2607 - accuracy: 0.9158 - val_loss: 3.7517 - val_accuracy: 0.4214\n",
            "Epoch 71/100\n",
            "313/313 [==============================] - 6s 18ms/step - loss: 0.2619 - accuracy: 0.9148 - val_loss: 3.8131 - val_accuracy: 0.4216\n",
            "Epoch 72/100\n",
            "313/313 [==============================] - 6s 18ms/step - loss: 0.2580 - accuracy: 0.9161 - val_loss: 3.7848 - val_accuracy: 0.4219\n",
            "Epoch 73/100\n",
            "313/313 [==============================] - 5s 18ms/step - loss: 0.2563 - accuracy: 0.9158 - val_loss: 3.8338 - val_accuracy: 0.4173\n",
            "Epoch 74/100\n",
            "313/313 [==============================] - 5s 18ms/step - loss: 0.2647 - accuracy: 0.9158 - val_loss: 3.8428 - val_accuracy: 0.4219\n",
            "Epoch 75/100\n",
            "313/313 [==============================] - 5s 17ms/step - loss: 0.2553 - accuracy: 0.9184 - val_loss: 3.8495 - val_accuracy: 0.4236\n",
            "Epoch 76/100\n",
            "313/313 [==============================] - 5s 17ms/step - loss: 0.2401 - accuracy: 0.9233 - val_loss: 3.8667 - val_accuracy: 0.4183\n",
            "Epoch 77/100\n",
            "313/313 [==============================] - 5s 17ms/step - loss: 0.2365 - accuracy: 0.9237 - val_loss: 3.9361 - val_accuracy: 0.4124\n",
            "Epoch 78/100\n",
            "313/313 [==============================] - 5s 17ms/step - loss: 0.2392 - accuracy: 0.9237 - val_loss: 3.9863 - val_accuracy: 0.4189\n",
            "Epoch 79/100\n",
            "313/313 [==============================] - 5s 17ms/step - loss: 0.2378 - accuracy: 0.9236 - val_loss: 3.9977 - val_accuracy: 0.4059\n",
            "Epoch 80/100\n",
            "313/313 [==============================] - 5s 17ms/step - loss: 0.2333 - accuracy: 0.9262 - val_loss: 3.9465 - val_accuracy: 0.4172\n",
            "Epoch 81/100\n",
            "313/313 [==============================] - 5s 17ms/step - loss: 0.2314 - accuracy: 0.9258 - val_loss: 3.9621 - val_accuracy: 0.4109\n",
            "Epoch 82/100\n",
            "313/313 [==============================] - 5s 17ms/step - loss: 0.2284 - accuracy: 0.9274 - val_loss: 3.9061 - val_accuracy: 0.4232\n",
            "Epoch 83/100\n",
            "313/313 [==============================] - 5s 17ms/step - loss: 0.2238 - accuracy: 0.9286 - val_loss: 3.9589 - val_accuracy: 0.4142\n",
            "Epoch 84/100\n",
            "313/313 [==============================] - 5s 17ms/step - loss: 0.2205 - accuracy: 0.9287 - val_loss: 3.9568 - val_accuracy: 0.4214\n",
            "Epoch 85/100\n",
            "313/313 [==============================] - 5s 17ms/step - loss: 0.2219 - accuracy: 0.9282 - val_loss: 4.1890 - val_accuracy: 0.4053\n",
            "Epoch 86/100\n",
            "313/313 [==============================] - 5s 17ms/step - loss: 0.2267 - accuracy: 0.9272 - val_loss: 3.9291 - val_accuracy: 0.4176\n",
            "Epoch 87/100\n",
            "313/313 [==============================] - 5s 17ms/step - loss: 0.2186 - accuracy: 0.9293 - val_loss: 4.0373 - val_accuracy: 0.4162\n",
            "Epoch 88/100\n",
            "313/313 [==============================] - 5s 17ms/step - loss: 0.2159 - accuracy: 0.9316 - val_loss: 3.9476 - val_accuracy: 0.4261\n",
            "Epoch 89/100\n",
            "313/313 [==============================] - 6s 18ms/step - loss: 0.2194 - accuracy: 0.9318 - val_loss: 3.9601 - val_accuracy: 0.4204\n",
            "Epoch 90/100\n",
            "313/313 [==============================] - 5s 17ms/step - loss: 0.2130 - accuracy: 0.9330 - val_loss: 3.9534 - val_accuracy: 0.4229\n",
            "Epoch 91/100\n",
            "313/313 [==============================] - 5s 17ms/step - loss: 0.2090 - accuracy: 0.9337 - val_loss: 3.9617 - val_accuracy: 0.4219\n",
            "Epoch 92/100\n",
            "313/313 [==============================] - 5s 17ms/step - loss: 0.2098 - accuracy: 0.9332 - val_loss: 3.9970 - val_accuracy: 0.4169\n",
            "Epoch 93/100\n",
            "313/313 [==============================] - 5s 17ms/step - loss: 0.2029 - accuracy: 0.9361 - val_loss: 4.0261 - val_accuracy: 0.4179\n",
            "Epoch 94/100\n",
            "313/313 [==============================] - 5s 17ms/step - loss: 0.1996 - accuracy: 0.9363 - val_loss: 4.1426 - val_accuracy: 0.4077\n",
            "Epoch 95/100\n",
            "313/313 [==============================] - 5s 17ms/step - loss: 0.2044 - accuracy: 0.9338 - val_loss: 4.1678 - val_accuracy: 0.4064\n",
            "Epoch 96/100\n",
            "313/313 [==============================] - 5s 17ms/step - loss: 0.1978 - accuracy: 0.9359 - val_loss: 3.9958 - val_accuracy: 0.4159\n",
            "Epoch 97/100\n",
            "313/313 [==============================] - 5s 17ms/step - loss: 0.2035 - accuracy: 0.9351 - val_loss: 3.9880 - val_accuracy: 0.4226\n",
            "Epoch 98/100\n",
            "313/313 [==============================] - 5s 17ms/step - loss: 0.1942 - accuracy: 0.9380 - val_loss: 4.0806 - val_accuracy: 0.4207\n",
            "Epoch 99/100\n",
            "313/313 [==============================] - 5s 17ms/step - loss: 0.2005 - accuracy: 0.9362 - val_loss: 4.1193 - val_accuracy: 0.4168\n",
            "Epoch 100/100\n",
            "313/313 [==============================] - 5s 17ms/step - loss: 0.1882 - accuracy: 0.9385 - val_loss: 4.1146 - val_accuracy: 0.4174\n"
          ],
          "name": "stdout"
        }
      ]
    },
    {
      "cell_type": "markdown",
      "metadata": {
        "id": "FnnIyFtNKhbD"
      },
      "source": [
        "> ## 4) 학습 결과 시각화"
      ]
    },
    {
      "cell_type": "markdown",
      "metadata": {
        "id": "YgXRhVauKqOm"
      },
      "source": [
        "* Loss Visualization"
      ]
    },
    {
      "cell_type": "code",
      "metadata": {
        "id": "OQ4ke8BbKi50",
        "colab": {
          "base_uri": "https://localhost:8080/",
          "height": 404
        },
        "outputId": "96e029c7-16fc-4482-c2e8-e4be359ba491"
      },
      "source": [
        "import matplotlib.pyplot as plt\n",
        "\n",
        "epochs = range(1, len(modelh.history['loss']) + 1)\n",
        "\n",
        "plt.figure(figsize = (9, 6))\n",
        "plt.plot(epochs, modelh.history['loss'])\n",
        "plt.plot(epochs, modelh.history['val_loss'])\n",
        "\n",
        "plt.title('Training & Validation Loss')\n",
        "plt.xlabel('Epochs')\n",
        "plt.ylabel('Loss')\n",
        "plt.legend(['Training Loss', 'Validation Loss'])\n",
        "plt.grid()\n",
        "plt.show()"
      ],
      "execution_count": 43,
      "outputs": [
        {
          "output_type": "display_data",
          "data": {
            "image/png": "[encoded data removed]",
            "text/plain": [
              "<Figure size 648x432 with 1 Axes>"
            ]
          },
          "metadata": {
            "tags": [],
            "needs_background": "light"
          }
        }
      ]
    },
    {
      "cell_type": "markdown",
      "metadata": {
        "id": "_uJSOLBko7lh"
      },
      "source": [
        "> ## 5) Model Evaluate"
      ]
    },
    {
      "cell_type": "markdown",
      "metadata": {
        "id": "i-TqAB2ALGzZ"
      },
      "source": [
        "* Loss & Accuracy"
      ]
    },
    {
      "cell_type": "code",
      "metadata": {
        "id": "OF30PuZsAxQJ",
        "colab": {
          "base_uri": "https://localhost:8080/"
        },
        "outputId": "67e29f77-3523-4e1f-ceec-1c35e061b5e1"
      },
      "source": [
        "loss, accuracy = model.evaluate(X_test, y_test)\n",
        "\n",
        "print('Loss = {:.5f}'.format(loss))\n",
        "print('Accuracy = {:.5f}'.format(accuracy))"
      ],
      "execution_count": 41,
      "outputs": [
        {
          "output_type": "stream",
          "text": [
            "313/313 [==============================] - 1s 4ms/step - loss: 4.1700 - accuracy: 0.4197\n",
            "Loss = 4.17003\n",
            "Accuracy = 0.41970\n"
          ],
          "name": "stdout"
        }
      ]
    },
    {
      "cell_type": "markdown",
      "metadata": {
        "id": "sN48I9GrLxOX"
      },
      "source": [
        "# \n",
        "# \n",
        "# \n",
        "# The End\n",
        "# \n",
        "# \n",
        "# "
      ]
    }
  ]
}