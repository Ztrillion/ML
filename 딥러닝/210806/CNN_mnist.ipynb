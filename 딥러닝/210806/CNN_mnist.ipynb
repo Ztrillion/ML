{
  "nbformat": 4,
  "nbformat_minor": 0,
  "metadata": {
    "colab": {
      "name": "CNN_mnist.ipynb",
      "provenance": [],
      "collapsed_sections": []
    },
    "kernelspec": {
      "name": "python3",
      "display_name": "Python 3"
    },
    "language_info": {
      "name": "python"
    }
  },
  "cells": [
    {
      "cell_type": "markdown",
      "metadata": {
        "id": "GrjNW4AsNFMx"
      },
      "source": [
        "# MNIST - Categorical_Classification\n",
        "\n",
        "# Convolutional Neural Network(합성곱 신경말 알고리즘)\n"
      ]
    },
    {
      "cell_type": "code",
      "metadata": {
        "colab": {
          "base_uri": "https://localhost:8080/",
          "height": 35
        },
        "id": "5rjWSVWrS3dy",
        "outputId": "f66c82e7-61cb-4ad5-858d-2706cf65fe2a"
      },
      "source": [
        "import warnings\n",
        "warnings.filterwarnings('ignore')\n",
        "\n",
        "import tensorflow\n",
        "tensorflow.__version__"
      ],
      "execution_count": 2,
      "outputs": [
        {
          "output_type": "execute_result",
          "data": {
            "application/vnd.google.colaboratory.intrinsic+json": {
              "type": "string"
            },
            "text/plain": [
              "'2.5.0'"
            ]
          },
          "metadata": {
            "tags": []
          },
          "execution_count": 2
        }
      ]
    },
    {
      "cell_type": "markdown",
      "metadata": {
        "id": "fWHSYFgmTBVR"
      },
      "source": [
        "## Data Load"
      ]
    },
    {
      "cell_type": "code",
      "metadata": {
        "colab": {
          "base_uri": "https://localhost:8080/"
        },
        "id": "XVXUfp7JTASA",
        "outputId": "6dd9f91c-6ebb-40d2-82ba-8db8ebf08216"
      },
      "source": [
        "from tensorflow.keras.datasets import mnist\n",
        "\n",
        "(X_train,y_train),(X_test,y_test) = mnist.load_data()"
      ],
      "execution_count": 3,
      "outputs": [
        {
          "output_type": "stream",
          "text": [
            "Downloading data from https://storage.googleapis.com/tensorflow/tf-keras-datasets/mnist.npz\n",
            "11493376/11490434 [==============================] - 0s 0us/step\n"
          ],
          "name": "stdout"
        }
      ]
    },
    {
      "cell_type": "code",
      "metadata": {
        "colab": {
          "base_uri": "https://localhost:8080/"
        },
        "id": "adFE4muGT07o",
        "outputId": "a947e567-d32c-4f69-a8de-6e4463900be2"
      },
      "source": [
        "X_train.shape, X_test.shape"
      ],
      "execution_count": 4,
      "outputs": [
        {
          "output_type": "execute_result",
          "data": {
            "text/plain": [
              "((60000, 28, 28), (10000, 28, 28))"
            ]
          },
          "metadata": {
            "tags": []
          },
          "execution_count": 4
        }
      ]
    },
    {
      "cell_type": "markdown",
      "metadata": {
        "id": "1RsZhz6zTVSg"
      },
      "source": [
        "## Data Preprocessing"
      ]
    },
    {
      "cell_type": "code",
      "metadata": {
        "id": "jLRzxgg6T8WQ"
      },
      "source": [
        "X_train = X_train.reshape(60000,28,28,1)\n",
        "X_test = X_test.reshape(10000,28,28,1) "
      ],
      "execution_count": 5,
      "outputs": []
    },
    {
      "cell_type": "code",
      "metadata": {
        "id": "rqyA9aAzT_gl"
      },
      "source": [
        "X_train = X_train.astype(float)/255\n",
        "X_test = X_test.astype(float)/255"
      ],
      "execution_count": 6,
      "outputs": []
    },
    {
      "cell_type": "code",
      "metadata": {
        "id": "CJ5xZn2UTShZ"
      },
      "source": [
        "from tensorflow.keras.utils import to_categorical\n",
        "\n",
        "y_train = to_categorical(y_train)\n",
        "y_test = to_categorical(y_test)"
      ],
      "execution_count": 8,
      "outputs": []
    },
    {
      "cell_type": "markdown",
      "metadata": {
        "id": "-tVEXBZ6UT9N"
      },
      "source": [
        "## Keras Modeling"
      ]
    },
    {
      "cell_type": "code",
      "metadata": {
        "colab": {
          "base_uri": "https://localhost:8080/"
        },
        "id": "8ZFfYab_UQJA",
        "outputId": "10fd05c5-b571-4692-cfbe-4dc7615a3f3d"
      },
      "source": [
        "from tensorflow.keras import models\n",
        "from tensorflow.keras import layers\n",
        "\n",
        "#CNN\n",
        "model = models.Sequential()\n",
        "model.add(layers.Conv2D(filters=32, kernel_size = (3,3), activation = 'relu',input_shape=(28,28,1)))\n",
        "model.add(layers.MaxPool2D(pool_size=(2,2)))\n",
        "model.add(layers.Conv2D(filters=64, kernel_size = (3,3), activation = 'relu'))\n",
        "model.add(layers.MaxPool2D(pool_size=(2,2)))\n",
        "model.add(layers.Conv2D(filters=64, kernel_size = (3,3), activation = 'relu'))\n",
        "\n",
        "#DNN\n",
        "model.add(layers.Flatten())\n",
        "model.add(layers.Dense(units=64, activation='relu'))\n",
        "model.add(layers.Dense(units=10, activation ='softmax'))\n",
        "model.summary()"
      ],
      "execution_count": 19,
      "outputs": [
        {
          "output_type": "stream",
          "text": [
            "Model: \"sequential\"\n",
            "_________________________________________________________________\n",
            "Layer (type)                 Output Shape              Param #   \n",
            "=================================================================\n",
            "conv2d (Conv2D)              (None, 26, 26, 32)        320       \n",
            "_________________________________________________________________\n",
            "max_pooling2d (MaxPooling2D) (None, 13, 13, 32)        0         \n",
            "_________________________________________________________________\n",
            "conv2d_1 (Conv2D)            (None, 11, 11, 64)        18496     \n",
            "_________________________________________________________________\n",
            "max_pooling2d_1 (MaxPooling2 (None, 5, 5, 64)          0         \n",
            "_________________________________________________________________\n",
            "conv2d_2 (Conv2D)            (None, 3, 3, 64)          36928     \n",
            "_________________________________________________________________\n",
            "flatten (Flatten)            (None, 576)               0         \n",
            "_________________________________________________________________\n",
            "dense (Dense)                (None, 64)                36928     \n",
            "_________________________________________________________________\n",
            "dense_1 (Dense)              (None, 10)                650       \n",
            "=================================================================\n",
            "Total params: 93,322\n",
            "Trainable params: 93,322\n",
            "Non-trainable params: 0\n",
            "_________________________________________________________________\n"
          ],
          "name": "stdout"
        }
      ]
    },
    {
      "cell_type": "markdown",
      "metadata": {
        "id": "o_vtsbBKXVHE"
      },
      "source": [
        "## Model Compile & Fit"
      ]
    },
    {
      "cell_type": "code",
      "metadata": {
        "colab": {
          "base_uri": "https://localhost:8080/"
        },
        "id": "ZQf87WMTV9-Y",
        "outputId": "2b4c1e88-f140-4df4-d17a-d00c72bbf062"
      },
      "source": [
        "model.compile(loss='categorical_crossentropy',\n",
        "              optimizer = 'adam',\n",
        "              metrics = ['accuracy'])\n",
        "\n",
        "%time\n",
        "hist_mnist = model.fit(X_train, y_train,\n",
        "                       epochs = 100,\n",
        "                       batch_size = 128,\n",
        "                       validation_split=0.2)"
      ],
      "execution_count": 20,
      "outputs": [
        {
          "output_type": "stream",
          "text": [
            "CPU times: user 3 µs, sys: 1e+03 ns, total: 4 µs\n",
            "Wall time: 9.06 µs\n",
            "Epoch 1/100\n",
            "375/375 [==============================] - 42s 110ms/step - loss: 0.2916 - accuracy: 0.9110 - val_loss: 0.0868 - val_accuracy: 0.9728\n",
            "Epoch 2/100\n",
            "375/375 [==============================] - 41s 110ms/step - loss: 0.0681 - accuracy: 0.9793 - val_loss: 0.0610 - val_accuracy: 0.9816\n",
            "Epoch 3/100\n",
            "375/375 [==============================] - 41s 110ms/step - loss: 0.0458 - accuracy: 0.9847 - val_loss: 0.0733 - val_accuracy: 0.9796\n",
            "Epoch 4/100\n",
            "375/375 [==============================] - 41s 109ms/step - loss: 0.0368 - accuracy: 0.9882 - val_loss: 0.0401 - val_accuracy: 0.9878\n",
            "Epoch 5/100\n",
            "375/375 [==============================] - 41s 110ms/step - loss: 0.0291 - accuracy: 0.9906 - val_loss: 0.0510 - val_accuracy: 0.9848\n",
            "Epoch 6/100\n",
            "375/375 [==============================] - 41s 110ms/step - loss: 0.0232 - accuracy: 0.9927 - val_loss: 0.0455 - val_accuracy: 0.9868\n",
            "Epoch 7/100\n",
            "375/375 [==============================] - 41s 109ms/step - loss: 0.0218 - accuracy: 0.9930 - val_loss: 0.0410 - val_accuracy: 0.9887\n",
            "Epoch 8/100\n",
            "375/375 [==============================] - 41s 109ms/step - loss: 0.0175 - accuracy: 0.9943 - val_loss: 0.0422 - val_accuracy: 0.9882\n",
            "Epoch 9/100\n",
            "375/375 [==============================] - 41s 108ms/step - loss: 0.0138 - accuracy: 0.9954 - val_loss: 0.0446 - val_accuracy: 0.9872\n",
            "Epoch 10/100\n",
            "375/375 [==============================] - 41s 109ms/step - loss: 0.0133 - accuracy: 0.9956 - val_loss: 0.0452 - val_accuracy: 0.9885\n",
            "Epoch 11/100\n",
            "375/375 [==============================] - 41s 109ms/step - loss: 0.0120 - accuracy: 0.9958 - val_loss: 0.0429 - val_accuracy: 0.9897\n",
            "Epoch 12/100\n",
            "375/375 [==============================] - 41s 109ms/step - loss: 0.0105 - accuracy: 0.9959 - val_loss: 0.0412 - val_accuracy: 0.9895\n",
            "Epoch 13/100\n",
            "375/375 [==============================] - 41s 109ms/step - loss: 0.0085 - accuracy: 0.9973 - val_loss: 0.0504 - val_accuracy: 0.9880\n",
            "Epoch 14/100\n",
            "375/375 [==============================] - 41s 109ms/step - loss: 0.0089 - accuracy: 0.9972 - val_loss: 0.0550 - val_accuracy: 0.9875\n",
            "Epoch 15/100\n",
            "375/375 [==============================] - 41s 109ms/step - loss: 0.0094 - accuracy: 0.9969 - val_loss: 0.0438 - val_accuracy: 0.9898\n",
            "Epoch 16/100\n",
            "375/375 [==============================] - 41s 108ms/step - loss: 0.0056 - accuracy: 0.9980 - val_loss: 0.0413 - val_accuracy: 0.9909\n",
            "Epoch 17/100\n",
            "375/375 [==============================] - 41s 108ms/step - loss: 0.0070 - accuracy: 0.9976 - val_loss: 0.0436 - val_accuracy: 0.9907\n",
            "Epoch 18/100\n",
            "375/375 [==============================] - 41s 109ms/step - loss: 0.0051 - accuracy: 0.9981 - val_loss: 0.0454 - val_accuracy: 0.9908\n",
            "Epoch 19/100\n",
            "375/375 [==============================] - 41s 108ms/step - loss: 0.0052 - accuracy: 0.9981 - val_loss: 0.0415 - val_accuracy: 0.9908\n",
            "Epoch 20/100\n",
            "375/375 [==============================] - 41s 109ms/step - loss: 0.0046 - accuracy: 0.9982 - val_loss: 0.0516 - val_accuracy: 0.9898\n",
            "Epoch 21/100\n",
            "375/375 [==============================] - 41s 109ms/step - loss: 0.0044 - accuracy: 0.9985 - val_loss: 0.0457 - val_accuracy: 0.9912\n",
            "Epoch 22/100\n",
            "375/375 [==============================] - 41s 109ms/step - loss: 0.0060 - accuracy: 0.9980 - val_loss: 0.0458 - val_accuracy: 0.9898\n",
            "Epoch 23/100\n",
            "375/375 [==============================] - 42s 111ms/step - loss: 0.0056 - accuracy: 0.9981 - val_loss: 0.0479 - val_accuracy: 0.9891\n",
            "Epoch 24/100\n",
            "375/375 [==============================] - 42s 111ms/step - loss: 0.0030 - accuracy: 0.9990 - val_loss: 0.0516 - val_accuracy: 0.9899\n",
            "Epoch 25/100\n",
            "375/375 [==============================] - 41s 110ms/step - loss: 0.0047 - accuracy: 0.9984 - val_loss: 0.0559 - val_accuracy: 0.9907\n",
            "Epoch 26/100\n",
            "375/375 [==============================] - 41s 110ms/step - loss: 0.0043 - accuracy: 0.9986 - val_loss: 0.0535 - val_accuracy: 0.9904\n",
            "Epoch 27/100\n",
            "375/375 [==============================] - 41s 110ms/step - loss: 0.0032 - accuracy: 0.9990 - val_loss: 0.0453 - val_accuracy: 0.9913\n",
            "Epoch 28/100\n",
            "375/375 [==============================] - 41s 110ms/step - loss: 0.0035 - accuracy: 0.9988 - val_loss: 0.0554 - val_accuracy: 0.9901\n",
            "Epoch 29/100\n",
            "375/375 [==============================] - 41s 110ms/step - loss: 0.0050 - accuracy: 0.9982 - val_loss: 0.0534 - val_accuracy: 0.9902\n",
            "Epoch 30/100\n",
            "375/375 [==============================] - 41s 110ms/step - loss: 0.0029 - accuracy: 0.9991 - val_loss: 0.0509 - val_accuracy: 0.9910\n",
            "Epoch 31/100\n",
            "375/375 [==============================] - 41s 110ms/step - loss: 0.0035 - accuracy: 0.9987 - val_loss: 0.0528 - val_accuracy: 0.9894\n",
            "Epoch 32/100\n",
            "375/375 [==============================] - 41s 110ms/step - loss: 0.0039 - accuracy: 0.9988 - val_loss: 0.0568 - val_accuracy: 0.9900\n",
            "Epoch 33/100\n",
            "375/375 [==============================] - 41s 110ms/step - loss: 0.0012 - accuracy: 0.9996 - val_loss: 0.0607 - val_accuracy: 0.9919\n",
            "Epoch 34/100\n",
            "375/375 [==============================] - 41s 111ms/step - loss: 5.1582e-04 - accuracy: 0.9999 - val_loss: 0.0595 - val_accuracy: 0.9911\n",
            "Epoch 35/100\n",
            "375/375 [==============================] - 41s 110ms/step - loss: 0.0058 - accuracy: 0.9983 - val_loss: 0.0572 - val_accuracy: 0.9900\n",
            "Epoch 36/100\n",
            "375/375 [==============================] - 41s 110ms/step - loss: 0.0052 - accuracy: 0.9982 - val_loss: 0.0549 - val_accuracy: 0.9905\n",
            "Epoch 37/100\n",
            "375/375 [==============================] - 41s 110ms/step - loss: 7.8412e-04 - accuracy: 0.9997 - val_loss: 0.0565 - val_accuracy: 0.9904\n",
            "Epoch 38/100\n",
            "375/375 [==============================] - 41s 110ms/step - loss: 2.3431e-04 - accuracy: 0.9999 - val_loss: 0.0571 - val_accuracy: 0.9913\n",
            "Epoch 39/100\n",
            "375/375 [==============================] - 42s 111ms/step - loss: 3.2415e-05 - accuracy: 1.0000 - val_loss: 0.0583 - val_accuracy: 0.9912\n",
            "Epoch 40/100\n",
            "375/375 [==============================] - 41s 110ms/step - loss: 1.3734e-05 - accuracy: 1.0000 - val_loss: 0.0588 - val_accuracy: 0.9914\n",
            "Epoch 41/100\n",
            "375/375 [==============================] - 41s 110ms/step - loss: 9.4827e-06 - accuracy: 1.0000 - val_loss: 0.0594 - val_accuracy: 0.9915\n",
            "Epoch 42/100\n",
            "375/375 [==============================] - 41s 110ms/step - loss: 7.3537e-06 - accuracy: 1.0000 - val_loss: 0.0601 - val_accuracy: 0.9918\n",
            "Epoch 43/100\n",
            "375/375 [==============================] - 41s 110ms/step - loss: 5.9757e-06 - accuracy: 1.0000 - val_loss: 0.0608 - val_accuracy: 0.9919\n",
            "Epoch 44/100\n",
            "375/375 [==============================] - 41s 111ms/step - loss: 4.7658e-06 - accuracy: 1.0000 - val_loss: 0.0617 - val_accuracy: 0.9917\n",
            "Epoch 45/100\n",
            "375/375 [==============================] - 41s 110ms/step - loss: 3.9206e-06 - accuracy: 1.0000 - val_loss: 0.0623 - val_accuracy: 0.9919\n",
            "Epoch 46/100\n",
            "375/375 [==============================] - 41s 110ms/step - loss: 3.2235e-06 - accuracy: 1.0000 - val_loss: 0.0632 - val_accuracy: 0.9918\n",
            "Epoch 47/100\n",
            "375/375 [==============================] - 41s 110ms/step - loss: 2.6069e-06 - accuracy: 1.0000 - val_loss: 0.0639 - val_accuracy: 0.9918\n",
            "Epoch 48/100\n",
            "375/375 [==============================] - 41s 110ms/step - loss: 2.2173e-06 - accuracy: 1.0000 - val_loss: 0.0648 - val_accuracy: 0.9918\n",
            "Epoch 49/100\n",
            "375/375 [==============================] - 41s 109ms/step - loss: 1.8447e-06 - accuracy: 1.0000 - val_loss: 0.0655 - val_accuracy: 0.9918\n",
            "Epoch 50/100\n",
            "375/375 [==============================] - 41s 110ms/step - loss: 1.4598e-06 - accuracy: 1.0000 - val_loss: 0.0665 - val_accuracy: 0.9920\n",
            "Epoch 51/100\n",
            "375/375 [==============================] - 41s 110ms/step - loss: 1.2831e-06 - accuracy: 1.0000 - val_loss: 0.0672 - val_accuracy: 0.9922\n",
            "Epoch 52/100\n",
            "375/375 [==============================] - 41s 109ms/step - loss: 1.0242e-06 - accuracy: 1.0000 - val_loss: 0.0681 - val_accuracy: 0.9922\n",
            "Epoch 53/100\n",
            "375/375 [==============================] - 41s 109ms/step - loss: 8.7826e-07 - accuracy: 1.0000 - val_loss: 0.0690 - val_accuracy: 0.9921\n",
            "Epoch 54/100\n",
            "375/375 [==============================] - 41s 109ms/step - loss: 6.9651e-07 - accuracy: 1.0000 - val_loss: 0.0699 - val_accuracy: 0.9921\n",
            "Epoch 55/100\n",
            "375/375 [==============================] - 41s 110ms/step - loss: 5.7052e-07 - accuracy: 1.0000 - val_loss: 0.0709 - val_accuracy: 0.9920\n",
            "Epoch 56/100\n",
            "375/375 [==============================] - 41s 110ms/step - loss: 4.6493e-07 - accuracy: 1.0000 - val_loss: 0.0716 - val_accuracy: 0.9921\n",
            "Epoch 57/100\n",
            "375/375 [==============================] - 42s 111ms/step - loss: 3.9734e-07 - accuracy: 1.0000 - val_loss: 0.0723 - val_accuracy: 0.9922\n",
            "Epoch 58/100\n",
            "375/375 [==============================] - 42s 112ms/step - loss: 3.3693e-07 - accuracy: 1.0000 - val_loss: 0.0732 - val_accuracy: 0.9922\n",
            "Epoch 59/100\n",
            "375/375 [==============================] - 42s 111ms/step - loss: 2.7098e-07 - accuracy: 1.0000 - val_loss: 0.0741 - val_accuracy: 0.9920\n",
            "Epoch 60/100\n",
            "375/375 [==============================] - 42s 111ms/step - loss: 2.2701e-07 - accuracy: 1.0000 - val_loss: 0.0748 - val_accuracy: 0.9921\n",
            "Epoch 61/100\n",
            "375/375 [==============================] - 42s 111ms/step - loss: 1.7387e-07 - accuracy: 1.0000 - val_loss: 0.0758 - val_accuracy: 0.9921\n",
            "Epoch 62/100\n",
            "375/375 [==============================] - 42s 111ms/step - loss: 1.4380e-07 - accuracy: 1.0000 - val_loss: 0.0770 - val_accuracy: 0.9920\n",
            "Epoch 63/100\n",
            "375/375 [==============================] - 42s 111ms/step - loss: 1.1506e-07 - accuracy: 1.0000 - val_loss: 0.0775 - val_accuracy: 0.9920\n",
            "Epoch 64/100\n",
            "375/375 [==============================] - 42s 112ms/step - loss: 1.0910e-07 - accuracy: 1.0000 - val_loss: 0.0785 - val_accuracy: 0.9921\n",
            "Epoch 65/100\n",
            "375/375 [==============================] - 42s 111ms/step - loss: 8.2894e-08 - accuracy: 1.0000 - val_loss: 0.0794 - val_accuracy: 0.9921\n",
            "Epoch 66/100\n",
            "375/375 [==============================] - 42s 111ms/step - loss: 6.5984e-08 - accuracy: 1.0000 - val_loss: 0.0803 - val_accuracy: 0.9921\n",
            "Epoch 67/100\n",
            "375/375 [==============================] - 41s 110ms/step - loss: 5.7033e-08 - accuracy: 1.0000 - val_loss: 0.0813 - val_accuracy: 0.9921\n",
            "Epoch 68/100\n",
            "375/375 [==============================] - 42s 111ms/step - loss: 4.5200e-08 - accuracy: 1.0000 - val_loss: 0.0822 - val_accuracy: 0.9920\n",
            "Epoch 69/100\n",
            "375/375 [==============================] - 42s 111ms/step - loss: 3.7153e-08 - accuracy: 1.0000 - val_loss: 0.0834 - val_accuracy: 0.9921\n",
            "Epoch 70/100\n",
            "375/375 [==============================] - 42s 111ms/step - loss: 3.1079e-08 - accuracy: 1.0000 - val_loss: 0.0842 - val_accuracy: 0.9923\n",
            "Epoch 71/100\n",
            "375/375 [==============================] - 42s 111ms/step - loss: 2.5071e-08 - accuracy: 1.0000 - val_loss: 0.0849 - val_accuracy: 0.9923\n",
            "Epoch 72/100\n",
            "375/375 [==============================] - 42s 111ms/step - loss: 2.1423e-08 - accuracy: 1.0000 - val_loss: 0.0859 - val_accuracy: 0.9923\n",
            "Epoch 73/100\n",
            "375/375 [==============================] - 42s 111ms/step - loss: 1.7213e-08 - accuracy: 1.0000 - val_loss: 0.0867 - val_accuracy: 0.9923\n",
            "Epoch 74/100\n",
            "375/375 [==============================] - 42s 111ms/step - loss: 1.4154e-08 - accuracy: 1.0000 - val_loss: 0.0876 - val_accuracy: 0.9924\n",
            "Epoch 75/100\n",
            "375/375 [==============================] - 42s 112ms/step - loss: 1.2259e-08 - accuracy: 1.0000 - val_loss: 0.0883 - val_accuracy: 0.9923\n",
            "Epoch 76/100\n",
            "375/375 [==============================] - 42s 111ms/step - loss: 9.8074e-09 - accuracy: 1.0000 - val_loss: 0.0893 - val_accuracy: 0.9925\n",
            "Epoch 77/100\n",
            "375/375 [==============================] - 42s 111ms/step - loss: 8.4241e-09 - accuracy: 1.0000 - val_loss: 0.0902 - val_accuracy: 0.9924\n",
            "Epoch 78/100\n",
            "375/375 [==============================] - 42s 111ms/step - loss: 6.9191e-09 - accuracy: 1.0000 - val_loss: 0.0911 - val_accuracy: 0.9924\n",
            "Epoch 79/100\n",
            "375/375 [==============================] - 42s 111ms/step - loss: 5.5929e-09 - accuracy: 1.0000 - val_loss: 0.0918 - val_accuracy: 0.9925\n",
            "Epoch 80/100\n",
            "375/375 [==============================] - 42s 111ms/step - loss: 5.2427e-09 - accuracy: 1.0000 - val_loss: 0.0929 - val_accuracy: 0.9923\n",
            "Epoch 81/100\n",
            "375/375 [==============================] - 42s 112ms/step - loss: 3.9438e-09 - accuracy: 1.0000 - val_loss: 0.0933 - val_accuracy: 0.9925\n",
            "Epoch 82/100\n",
            "375/375 [==============================] - 42s 112ms/step - loss: 3.3552e-09 - accuracy: 1.0000 - val_loss: 0.0941 - val_accuracy: 0.9924\n",
            "Epoch 83/100\n",
            "375/375 [==============================] - 42s 112ms/step - loss: 2.8312e-09 - accuracy: 1.0000 - val_loss: 0.0948 - val_accuracy: 0.9923\n",
            "Epoch 84/100\n",
            "375/375 [==============================] - 42s 111ms/step - loss: 2.4661e-09 - accuracy: 1.0000 - val_loss: 0.0956 - val_accuracy: 0.9923\n",
            "Epoch 85/100\n",
            "375/375 [==============================] - 42s 111ms/step - loss: 2.1333e-09 - accuracy: 1.0000 - val_loss: 0.0962 - val_accuracy: 0.9923\n",
            "Epoch 86/100\n",
            "375/375 [==============================] - 42s 112ms/step - loss: 1.8179e-09 - accuracy: 1.0000 - val_loss: 0.0967 - val_accuracy: 0.9923\n",
            "Epoch 87/100\n",
            "375/375 [==============================] - 42s 112ms/step - loss: 1.4827e-09 - accuracy: 1.0000 - val_loss: 0.0973 - val_accuracy: 0.9924\n",
            "Epoch 88/100\n",
            "375/375 [==============================] - 42s 112ms/step - loss: 1.4082e-09 - accuracy: 1.0000 - val_loss: 0.0977 - val_accuracy: 0.9923\n",
            "Epoch 89/100\n",
            "375/375 [==============================] - 42s 111ms/step - loss: 1.1747e-09 - accuracy: 1.0000 - val_loss: 0.0979 - val_accuracy: 0.9923\n",
            "Epoch 90/100\n",
            "375/375 [==============================] - 42s 112ms/step - loss: 1.0381e-09 - accuracy: 1.0000 - val_loss: 0.0987 - val_accuracy: 0.9923\n",
            "Epoch 91/100\n",
            "375/375 [==============================] - 42s 112ms/step - loss: 9.0400e-10 - accuracy: 1.0000 - val_loss: 0.0990 - val_accuracy: 0.9923\n",
            "Epoch 92/100\n",
            "375/375 [==============================] - 42s 112ms/step - loss: 7.7983e-10 - accuracy: 1.0000 - val_loss: 0.0989 - val_accuracy: 0.9923\n",
            "Epoch 93/100\n",
            "375/375 [==============================] - 42s 112ms/step - loss: 7.0781e-10 - accuracy: 1.0000 - val_loss: 0.0993 - val_accuracy: 0.9923\n",
            "Epoch 94/100\n",
            "375/375 [==============================] - 42s 112ms/step - loss: 6.4572e-10 - accuracy: 1.0000 - val_loss: 0.0993 - val_accuracy: 0.9923\n",
            "Epoch 95/100\n",
            "375/375 [==============================] - 42s 112ms/step - loss: 5.8363e-10 - accuracy: 1.0000 - val_loss: 0.0998 - val_accuracy: 0.9923\n",
            "Epoch 96/100\n",
            "375/375 [==============================] - 42s 112ms/step - loss: 5.2899e-10 - accuracy: 1.0000 - val_loss: 0.0997 - val_accuracy: 0.9923\n",
            "Epoch 97/100\n",
            "375/375 [==============================] - 42s 112ms/step - loss: 4.8429e-10 - accuracy: 1.0000 - val_loss: 0.0996 - val_accuracy: 0.9923\n",
            "Epoch 98/100\n",
            "375/375 [==============================] - 42s 112ms/step - loss: 4.3710e-10 - accuracy: 1.0000 - val_loss: 0.0998 - val_accuracy: 0.9924\n",
            "Epoch 99/100\n",
            "375/375 [==============================] - 42s 112ms/step - loss: 3.8743e-10 - accuracy: 1.0000 - val_loss: 0.0995 - val_accuracy: 0.9923\n",
            "Epoch 100/100\n",
            "375/375 [==============================] - 43s 114ms/step - loss: 3.8495e-10 - accuracy: 1.0000 - val_loss: 0.0996 - val_accuracy: 0.9923\n"
          ],
          "name": "stdout"
        }
      ]
    },
    {
      "cell_type": "markdown",
      "metadata": {
        "id": "jPcHIH2_muEn"
      },
      "source": [
        "##시각화"
      ]
    },
    {
      "cell_type": "code",
      "metadata": {
        "colab": {
          "base_uri": "https://localhost:8080/",
          "height": 404
        },
        "id": "N4zFXOwgX1kZ",
        "outputId": "c512465a-f74e-4c27-b57a-4e4d65301626"
      },
      "source": [
        "import matplotlib.pyplot as plt\n",
        "\n",
        "epochs = range(1,len(hist_mnist.history['loss'])+1)\n",
        "\n",
        "plt.figure(figsize = (9, 6))\n",
        "plt.plot(epochs, hist_mnist.history['loss'])\n",
        "plt.plot(epochs, hist_mnist.history['val_loss'])\n",
        "\n",
        "plt.title('Training & Validation Loss')\n",
        "plt.xlabel('Epochs')\n",
        "plt.ylabel('Loss')\n",
        "plt.legend(['Training','Validation'])\n",
        "plt.grid()\n",
        "plt.show()"
      ],
      "execution_count": 26,
      "outputs": [
        {
          "output_type": "display_data",
          "data": {
            "image/png": "[encoded data removed]",
            "text/plain": [
              "<Figure size 648x432 with 1 Axes>"
            ]
          },
          "metadata": {
            "tags": [],
            "needs_background": "light"
          }
        }
      ]
    },
    {
      "cell_type": "code",
      "metadata": {
        "colab": {
          "base_uri": "https://localhost:8080/"
        },
        "id": "GT5YEhoQnzNX",
        "outputId": "3a108782-b9e6-4385-b08c-d6d8269c0039"
      },
      "source": [
        "loss, accuracy = model.evaluate(X_test,y_test)\n",
        "print('Loss : ',loss)\n",
        "print('accuracy :',accuracy)"
      ],
      "execution_count": 27,
      "outputs": [
        {
          "output_type": "stream",
          "text": [
            "313/313 [==============================] - 3s 10ms/step - loss: 0.0762 - accuracy: 0.9934\n",
            "Loss :  0.07617184519767761\n",
            "accuracy : 0.993399977684021\n"
          ],
          "name": "stdout"
        }
      ]
    },
    {
      "cell_type": "code",
      "metadata": {
        "id": "hdRpzRsWoQEG"
      },
      "source": [
        ""
      ],
      "execution_count": null,
      "outputs": []
    }
  ]
}