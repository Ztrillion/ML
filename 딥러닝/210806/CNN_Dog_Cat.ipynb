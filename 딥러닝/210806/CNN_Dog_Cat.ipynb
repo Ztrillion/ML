{
 "cells": [
  {
   "cell_type": "code",
   "execution_count": 1,
   "metadata": {
    "colab": {
     "base_uri": "https://localhost:8080/",
     "height": 35
    },
    "id": "U2EpRFY-DTzd",
    "outputId": "ba24603b-bdc2-4352-f7c1-49de88453986"
   },
   "outputs": [
    {
     "data": {
      "text/plain": [
       "'2.6.0'"
      ]
     },
     "execution_count": 1,
     "metadata": {},
     "output_type": "execute_result"
    }
   ],
   "source": [
    "import warnings\n",
    "warnings.filterwarnings('ignore')\n",
    "\n",
    "import tensorflow as tf\n",
    "tf.__version__"
   ]
  },
  {
   "cell_type": "code",
   "execution_count": 2,
   "metadata": {
    "colab": {
     "base_uri": "https://localhost:8080/"
    },
    "id": "FmTVRuyDDlqO",
    "outputId": "fc014f2e-33a7-4f5f-eb25-a5952740636c"
   },
   "outputs": [
    {
     "name": "stdout",
     "output_type": "stream",
     "text": [
      "GPU information :   \n",
      "\n",
      "Tue Oct 26 00:30:30 2021       \n",
      "+-----------------------------------------------------------------------------+\n",
      "| NVIDIA-SMI 456.71       Driver Version: 456.71       CUDA Version: 11.1     |\n",
      "|-------------------------------+----------------------+----------------------+\n",
      "| GPU  Name            TCC/WDDM | Bus-Id        Disp.A | Volatile Uncorr. ECC |\n",
      "| Fan  Temp  Perf  Pwr:Usage/Cap|         Memory-Usage | GPU-Util  Compute M. |\n",
      "|===============================+======================+======================|\n",
      "|   0  GeForce RTX 2060   WDDM  | 00000000:01:00.0  On |                  N/A |\n",
      "| 35%   29C    P2    32W / 160W |    562MiB /  6144MiB |      3%      Default |\n",
      "+-------------------------------+----------------------+----------------------+\n",
      "                                                                               \n",
      "+-----------------------------------------------------------------------------+\n",
      "| Processes:                                                                  |\n",
      "|  GPU   GI   CI        PID   Type   Process name                  GPU Memory |\n",
      "|        ID   ID                                                   Usage      |\n",
      "|=============================================================================|\n",
      "|    0   N/A  N/A       312    C+G   ...ekyb3d8bbwe\\YourPhone.exe    N/A      |\n",
      "|    0   N/A  N/A      1396    C+G   ...y\\ShellExperienceHost.exe    N/A      |\n",
      "|    0   N/A  N/A      4192    C+G   ...nputApp\\TextInputHost.exe    N/A      |\n",
      "|    0   N/A  N/A      7828      C   ...s\\pc\\anaconda3\\python.exe    N/A      |\n",
      "|    0   N/A  N/A      8472    C+G   Insufficient Permissions        N/A      |\n",
      "|    0   N/A  N/A      9800    C+G   ...me\\Application\\chrome.exe    N/A      |\n",
      "|    0   N/A  N/A     10652    C+G   ...8bbwe\\Microsoft.Notes.exe    N/A      |\n",
      "|    0   N/A  N/A     11552    C+G   ...wekyb3d8bbwe\\Video.UI.exe    N/A      |\n",
      "|    0   N/A  N/A     13648    C+G   ...artMenuExperienceHost.exe    N/A      |\n",
      "|    0   N/A  N/A     13884    C+G   C:\\Windows\\explorer.exe         N/A      |\n",
      "|    0   N/A  N/A     14832    C+G   ...5n1h2txyewy\\SearchApp.exe    N/A      |\n",
      "|    0   N/A  N/A     16980    C+G   ...8wekyb3d8bbwe\\Cortana.exe    N/A      |\n",
      "+-----------------------------------------------------------------------------+\n"
     ]
    }
   ],
   "source": [
    "print('GPU information : ', tf.test.gpu_device_name(), '\\n')\n",
    "!nvidia-smi"
   ]
  },
  {
   "cell_type": "markdown",
   "metadata": {
    "id": "Cim-kHlEERLl"
   },
   "source": [
    "# Data_Load"
   ]
  },
  {
   "cell_type": "markdown",
   "metadata": {
    "id": "SrxDuNiCEVGu"
   },
   "source": [
    "# Data Preprocessing"
   ]
  },
  {
   "cell_type": "code",
   "execution_count": 12,
   "metadata": {},
   "outputs": [],
   "source": [
    "import os\n",
    "import numpy as np\n",
    "from keras.preprocessing.image import ImageDataGenerator"
   ]
  },
  {
   "cell_type": "code",
   "execution_count": 23,
   "metadata": {
    "id": "VL2JkTUHEeoG"
   },
   "outputs": [],
   "source": [
    "dataset = './C:/Users/pc/ML/210806/train'\n",
    "base_dir = './C:/Users/pc/ML/210806'\n",
    "os.mkdir(basedir)\n",
    "#valid_dir = os.path.join(base_dir,'validation')\n",
    "#test_dir = os.path.join(base_dir,'test')"
   ]
  },
  {
   "cell_type": "markdown",
   "metadata": {
    "id": "FvIz-eeFEsEp"
   },
   "source": [
    "**ImageDataGenerator() & flow_from_directory()**\n",
    "\n",
    "  - Normalization\n",
    "    - ImageDataGenerator()\n",
    "\n",
    "  - Resizing & Generator\n",
    "    - flow_from_directory()"
   ]
  },
  {
   "cell_type": "code",
   "execution_count": 24,
   "metadata": {
    "colab": {
     "base_uri": "https://localhost:8080/"
    },
    "id": "UqkNyUY8Epe2",
    "outputId": "19b2abed-a597-4bb6-8f91-b0ea529db8f7"
   },
   "outputs": [],
   "source": [
    "from tensorflow.keras.preprocessing.image import ImageDataGenerator\n",
    "\n",
    "train_gen = ImageDataGenerator(rescale = 1./255)\n",
    "valid_gen = ImageDataGenerator(rescale = 1./255)"
   ]
  },
  {
   "cell_type": "code",
   "execution_count": 25,
   "metadata": {},
   "outputs": [
    {
     "ename": "OSError",
     "evalue": "[WinError 123] 파일 이름, 디렉터리 이름 또는 볼륨 레이블 구문이 잘못되었습니다: './C:/Users/pc/ML/210806\\\\train'",
     "output_type": "error",
     "traceback": [
      "\u001b[1;31m---------------------------------------------------------------------------\u001b[0m",
      "\u001b[1;31mOSError\u001b[0m                                   Traceback (most recent call last)",
      "\u001b[1;32m~\\AppData\\Local\\Temp/ipykernel_7828/3844980296.py\u001b[0m in \u001b[0;36m<module>\u001b[1;34m\u001b[0m\n\u001b[1;32m----> 1\u001b[1;33m train_generator = train_gen.flow_from_directory(\n\u001b[0m\u001b[0;32m      2\u001b[0m                   \u001b[0mtrain_dir\u001b[0m\u001b[1;33m,\u001b[0m\u001b[1;33m\u001b[0m\u001b[1;33m\u001b[0m\u001b[0m\n\u001b[0;32m      3\u001b[0m                   \u001b[0mtarget_size\u001b[0m\u001b[1;33m=\u001b[0m\u001b[1;33m(\u001b[0m\u001b[1;36m150\u001b[0m\u001b[1;33m,\u001b[0m\u001b[1;36m150\u001b[0m\u001b[1;33m)\u001b[0m\u001b[1;33m,\u001b[0m\u001b[1;33m\u001b[0m\u001b[1;33m\u001b[0m\u001b[0m\n\u001b[0;32m      4\u001b[0m                   \u001b[0mbatch_size\u001b[0m \u001b[1;33m=\u001b[0m \u001b[1;36m20\u001b[0m\u001b[1;33m,\u001b[0m\u001b[1;33m\u001b[0m\u001b[1;33m\u001b[0m\u001b[0m\n\u001b[0;32m      5\u001b[0m                   class_mode = 'binary')\n",
      "\u001b[1;32m~\\anaconda3\\lib\\site-packages\\keras\\preprocessing\\image.py\u001b[0m in \u001b[0;36mflow_from_directory\u001b[1;34m(self, directory, target_size, color_mode, classes, class_mode, batch_size, shuffle, seed, save_to_dir, save_prefix, save_format, follow_links, subset, interpolation)\u001b[0m\n\u001b[0;32m    974\u001b[0m             \u001b[1;32mand\u001b[0m\u001b[0;31m \u001b[0m\u001b[0;31m`\u001b[0m\u001b[0my\u001b[0m\u001b[0;31m`\u001b[0m \u001b[1;32mis\u001b[0m \u001b[0ma\u001b[0m \u001b[0mnumpy\u001b[0m \u001b[0marray\u001b[0m \u001b[0mof\u001b[0m \u001b[0mcorresponding\u001b[0m \u001b[0mlabels\u001b[0m\u001b[1;33m.\u001b[0m\u001b[1;33m\u001b[0m\u001b[1;33m\u001b[0m\u001b[0m\n\u001b[0;32m    975\u001b[0m     \"\"\"\n\u001b[1;32m--> 976\u001b[1;33m     return DirectoryIterator(\n\u001b[0m\u001b[0;32m    977\u001b[0m         \u001b[0mdirectory\u001b[0m\u001b[1;33m,\u001b[0m\u001b[1;33m\u001b[0m\u001b[1;33m\u001b[0m\u001b[0m\n\u001b[0;32m    978\u001b[0m         \u001b[0mself\u001b[0m\u001b[1;33m,\u001b[0m\u001b[1;33m\u001b[0m\u001b[1;33m\u001b[0m\u001b[0m\n",
      "\u001b[1;32m~\\anaconda3\\lib\\site-packages\\keras\\preprocessing\\image.py\u001b[0m in \u001b[0;36m__init__\u001b[1;34m(self, directory, image_data_generator, target_size, color_mode, classes, class_mode, batch_size, shuffle, seed, data_format, save_to_dir, save_prefix, save_format, follow_links, subset, interpolation, dtype)\u001b[0m\n\u001b[0;32m    392\u001b[0m         \u001b[0mdtype\u001b[0m \u001b[1;33m=\u001b[0m \u001b[0mbackend\u001b[0m\u001b[1;33m.\u001b[0m\u001b[0mfloatx\u001b[0m\u001b[1;33m(\u001b[0m\u001b[1;33m)\u001b[0m\u001b[1;33m\u001b[0m\u001b[1;33m\u001b[0m\u001b[0m\n\u001b[0;32m    393\u001b[0m       \u001b[0mkwargs\u001b[0m\u001b[1;33m[\u001b[0m\u001b[1;34m'dtype'\u001b[0m\u001b[1;33m]\u001b[0m \u001b[1;33m=\u001b[0m \u001b[0mdtype\u001b[0m\u001b[1;33m\u001b[0m\u001b[1;33m\u001b[0m\u001b[0m\n\u001b[1;32m--> 394\u001b[1;33m     super(DirectoryIterator, self).__init__(\n\u001b[0m\u001b[0;32m    395\u001b[0m         \u001b[0mdirectory\u001b[0m\u001b[1;33m,\u001b[0m \u001b[0mimage_data_generator\u001b[0m\u001b[1;33m,\u001b[0m\u001b[1;33m\u001b[0m\u001b[1;33m\u001b[0m\u001b[0m\n\u001b[0;32m    396\u001b[0m         \u001b[0mtarget_size\u001b[0m\u001b[1;33m=\u001b[0m\u001b[0mtarget_size\u001b[0m\u001b[1;33m,\u001b[0m\u001b[1;33m\u001b[0m\u001b[1;33m\u001b[0m\u001b[0m\n",
      "\u001b[1;32m~\\anaconda3\\lib\\site-packages\\keras_preprocessing\\image\\directory_iterator.py\u001b[0m in \u001b[0;36m__init__\u001b[1;34m(self, directory, image_data_generator, target_size, color_mode, classes, class_mode, batch_size, shuffle, seed, data_format, save_to_dir, save_prefix, save_format, follow_links, subset, interpolation, dtype)\u001b[0m\n\u001b[0;32m    113\u001b[0m         \u001b[1;32mif\u001b[0m \u001b[1;32mnot\u001b[0m \u001b[0mclasses\u001b[0m\u001b[1;33m:\u001b[0m\u001b[1;33m\u001b[0m\u001b[1;33m\u001b[0m\u001b[0m\n\u001b[0;32m    114\u001b[0m             \u001b[0mclasses\u001b[0m \u001b[1;33m=\u001b[0m \u001b[1;33m[\u001b[0m\u001b[1;33m]\u001b[0m\u001b[1;33m\u001b[0m\u001b[1;33m\u001b[0m\u001b[0m\n\u001b[1;32m--> 115\u001b[1;33m             \u001b[1;32mfor\u001b[0m \u001b[0msubdir\u001b[0m \u001b[1;32min\u001b[0m \u001b[0msorted\u001b[0m\u001b[1;33m(\u001b[0m\u001b[0mos\u001b[0m\u001b[1;33m.\u001b[0m\u001b[0mlistdir\u001b[0m\u001b[1;33m(\u001b[0m\u001b[0mdirectory\u001b[0m\u001b[1;33m)\u001b[0m\u001b[1;33m)\u001b[0m\u001b[1;33m:\u001b[0m\u001b[1;33m\u001b[0m\u001b[1;33m\u001b[0m\u001b[0m\n\u001b[0m\u001b[0;32m    116\u001b[0m                 \u001b[1;32mif\u001b[0m \u001b[0mos\u001b[0m\u001b[1;33m.\u001b[0m\u001b[0mpath\u001b[0m\u001b[1;33m.\u001b[0m\u001b[0misdir\u001b[0m\u001b[1;33m(\u001b[0m\u001b[0mos\u001b[0m\u001b[1;33m.\u001b[0m\u001b[0mpath\u001b[0m\u001b[1;33m.\u001b[0m\u001b[0mjoin\u001b[0m\u001b[1;33m(\u001b[0m\u001b[0mdirectory\u001b[0m\u001b[1;33m,\u001b[0m \u001b[0msubdir\u001b[0m\u001b[1;33m)\u001b[0m\u001b[1;33m)\u001b[0m\u001b[1;33m:\u001b[0m\u001b[1;33m\u001b[0m\u001b[1;33m\u001b[0m\u001b[0m\n\u001b[0;32m    117\u001b[0m                     \u001b[0mclasses\u001b[0m\u001b[1;33m.\u001b[0m\u001b[0mappend\u001b[0m\u001b[1;33m(\u001b[0m\u001b[0msubdir\u001b[0m\u001b[1;33m)\u001b[0m\u001b[1;33m\u001b[0m\u001b[1;33m\u001b[0m\u001b[0m\n",
      "\u001b[1;31mOSError\u001b[0m: [WinError 123] 파일 이름, 디렉터리 이름 또는 볼륨 레이블 구문이 잘못되었습니다: './C:/Users/pc/ML/210806\\\\train'"
     ]
    }
   ],
   "source": [
    "train_generator = train_gen.flow_from_directory(\n",
    "                  train_dir,\n",
    "                  target_size=(150,150),\n",
    "                  batch_size = 20,\n",
    "                  class_mode = 'binary')\n",
    "\n",
    "valid_generator = valid_gen.flow_from_directory(\n",
    "                valid_dir,\n",
    "                target_size=(150,150),\n",
    "                batch_size = 20,\n",
    "                class_mode='binary')"
   ]
  },
  {
   "cell_type": "code",
   "execution_count": 15,
   "metadata": {
    "colab": {
     "base_uri": "https://localhost:8080/"
    },
    "id": "rZL_ZtDgF-to",
    "outputId": "cfcfbf05-f547-4ea5-8f3a-aaec56101380"
   },
   "outputs": [
    {
     "name": "stdout",
     "output_type": "stream",
     "text": [
      "배치 데이터 크기: (20, 150, 150, 3)\n",
      "배치 레이블 크기: (20,)\n"
     ]
    }
   ],
   "source": [
    "for data_batch, labels_batch in train_generator:\n",
    "    print('배치 데이터 크기:', data_batch.shape)\n",
    "    print('배치 레이블 크기:', labels_batch.shape)\n",
    "    break"
   ]
  },
  {
   "cell_type": "code",
   "execution_count": 16,
   "metadata": {
    "colab": {
     "base_uri": "https://localhost:8080/"
    },
    "id": "v1JAI-SwHDYa",
    "outputId": "cb5d7f99-da29-4f3a-ce69-29d912eccf1e"
   },
   "outputs": [
    {
     "data": {
      "text/plain": [
       "array([1., 0., 0., 1., 1., 0., 0., 1., 1., 0., 1., 1., 1., 1., 1., 0., 1.,\n",
       "       0., 1., 1.], dtype=float32)"
      ]
     },
     "execution_count": 16,
     "metadata": {
      "tags": []
     },
     "output_type": "execute_result"
    }
   ],
   "source": [
    "labels_batch"
   ]
  },
  {
   "cell_type": "markdown",
   "metadata": {
    "id": "kKN1UxEIHGwM"
   },
   "source": [
    "## CNN Keras Modeling"
   ]
  },
  {
   "cell_type": "code",
   "execution_count": 20,
   "metadata": {
    "colab": {
     "base_uri": "https://localhost:8080/"
    },
    "id": "U2A-FtS_HD3N",
    "outputId": "2749779e-f1da-436b-c2e7-5ccff29e5b03"
   },
   "outputs": [
    {
     "name": "stdout",
     "output_type": "stream",
     "text": [
      "Model: \"sequential_1\"\n",
      "_________________________________________________________________\n",
      "Layer (type)                 Output Shape              Param #   \n",
      "=================================================================\n",
      "conv2d_4 (Conv2D)            (None, 148, 148, 32)      896       \n",
      "_________________________________________________________________\n",
      "max_pooling2d_4 (MaxPooling2 (None, 74, 74, 32)        0         \n",
      "_________________________________________________________________\n",
      "conv2d_5 (Conv2D)            (None, 72, 72, 64)        18496     \n",
      "_________________________________________________________________\n",
      "max_pooling2d_5 (MaxPooling2 (None, 36, 36, 64)        0         \n",
      "_________________________________________________________________\n",
      "conv2d_6 (Conv2D)            (None, 34, 34, 128)       73856     \n",
      "_________________________________________________________________\n",
      "max_pooling2d_6 (MaxPooling2 (None, 17, 17, 128)       0         \n",
      "_________________________________________________________________\n",
      "conv2d_7 (Conv2D)            (None, 15, 15, 256)       295168    \n",
      "_________________________________________________________________\n",
      "max_pooling2d_7 (MaxPooling2 (None, 7, 7, 256)         0         \n",
      "_________________________________________________________________\n",
      "flatten_1 (Flatten)          (None, 12544)             0         \n",
      "_________________________________________________________________\n",
      "dense_3 (Dense)              (None, 512)               6423040   \n",
      "_________________________________________________________________\n",
      "batch_normalization_2 (Batch (None, 512)               2048      \n",
      "_________________________________________________________________\n",
      "activation_2 (Activation)    (None, 512)               0         \n",
      "_________________________________________________________________\n",
      "dense_4 (Dense)              (None, 256)               131328    \n",
      "_________________________________________________________________\n",
      "batch_normalization_3 (Batch (None, 256)               1024      \n",
      "_________________________________________________________________\n",
      "activation_3 (Activation)    (None, 256)               0         \n",
      "_________________________________________________________________\n",
      "dense_5 (Dense)              (None, 1)                 257       \n",
      "=================================================================\n",
      "Total params: 6,946,113\n",
      "Trainable params: 6,944,577\n",
      "Non-trainable params: 1,536\n",
      "_________________________________________________________________\n"
     ]
    }
   ],
   "source": [
    "from tensorflow.keras import models\n",
    "from tensorflow.keras import layers\n",
    "\n",
    "#CNN\n",
    "model = models.Sequential()\n",
    "model.add(layers.Conv2D(32,(3,3), activation='relu',input_shape=(150,150,3)))\n",
    "model.add(layers.MaxPooling2D(2,2))\n",
    "model.add(layers.Conv2D(64,(3,3), activation='relu'))\n",
    "model.add(layers.MaxPooling2D(2,2))\n",
    "model.add(layers.Conv2D(128,(3,3),activation = 'relu'))\n",
    "model.add(layers.MaxPooling2D(2,2))\n",
    "model.add(layers.Conv2D(256,(3,3),activation= 'relu'))\n",
    "model.add(layers.MaxPooling2D(2,2))\n",
    "\n",
    "#DNN\n",
    "\n",
    "model.add(layers.Flatten())\n",
    "model.add(layers.Dense(512))\n",
    "model.add(layers.BatchNormalization())\n",
    "model.add(layers.Activation('relu'))\n",
    "# model.add(layers.Dropout(0.4))\n",
    "model.add(layers.Dense(256))\n",
    "model.add(layers.BatchNormalization())\n",
    "model.add(layers.Activation('relu'))\n",
    "# model.add(layers.Dropout(0.2))\n",
    "model.add(layers.Dense(1, activation='sigmoid'))\n",
    "model.summary()"
   ]
  },
  {
   "cell_type": "code",
   "execution_count": 21,
   "metadata": {
    "id": "V2A345KtJrpF"
   },
   "outputs": [],
   "source": [
    "model.compile(loss='binary_crossentropy',\n",
    "              optimizer = 'adam',\n",
    "              metrics=['accuracy'])"
   ]
  },
  {
   "cell_type": "code",
   "execution_count": 25,
   "metadata": {
    "colab": {
     "base_uri": "https://localhost:8080/"
    },
    "id": "kHohoKvOKUmA",
    "outputId": "25158ec6-ea88-45e9-9619-2d311e772c88"
   },
   "outputs": [
    {
     "name": "stdout",
     "output_type": "stream",
     "text": [
      "Epoch 1/60\n",
      "100/100 [==============================] - 41s 86ms/step - loss: 0.7415 - accuracy: 0.5485 - val_loss: 0.6970 - val_accuracy: 0.5820\n",
      "Epoch 2/60\n",
      "100/100 [==============================] - 9s 91ms/step - loss: 0.6519 - accuracy: 0.6140 - val_loss: 0.6788 - val_accuracy: 0.5690\n",
      "Epoch 3/60\n",
      "100/100 [==============================] - 9s 93ms/step - loss: 0.6263 - accuracy: 0.6570 - val_loss: 0.6762 - val_accuracy: 0.6330\n",
      "Epoch 4/60\n",
      "100/100 [==============================] - 9s 92ms/step - loss: 0.5686 - accuracy: 0.7055 - val_loss: 0.8647 - val_accuracy: 0.5030\n",
      "Epoch 5/60\n",
      "100/100 [==============================] - 9s 86ms/step - loss: 0.5478 - accuracy: 0.7305 - val_loss: 0.6437 - val_accuracy: 0.6580\n",
      "Epoch 6/60\n",
      "100/100 [==============================] - 9s 85ms/step - loss: 0.5108 - accuracy: 0.7430 - val_loss: 0.7893 - val_accuracy: 0.6200\n",
      "Epoch 7/60\n",
      "100/100 [==============================] - 8s 85ms/step - loss: 0.4696 - accuracy: 0.7825 - val_loss: 0.7223 - val_accuracy: 0.6310\n",
      "Epoch 8/60\n",
      "100/100 [==============================] - 9s 86ms/step - loss: 0.4022 - accuracy: 0.8140 - val_loss: 0.7406 - val_accuracy: 0.6470\n",
      "Epoch 9/60\n",
      "100/100 [==============================] - 9s 86ms/step - loss: 0.3374 - accuracy: 0.8525 - val_loss: 0.6247 - val_accuracy: 0.6980\n",
      "Epoch 10/60\n",
      "100/100 [==============================] - 9s 92ms/step - loss: 0.2708 - accuracy: 0.8830 - val_loss: 0.7547 - val_accuracy: 0.6790\n",
      "Epoch 11/60\n",
      "100/100 [==============================] - 9s 93ms/step - loss: 0.2375 - accuracy: 0.9035 - val_loss: 1.2555 - val_accuracy: 0.5760\n",
      "Epoch 12/60\n",
      "100/100 [==============================] - 9s 89ms/step - loss: 0.1861 - accuracy: 0.9275 - val_loss: 0.8544 - val_accuracy: 0.6880\n",
      "Epoch 13/60\n",
      "100/100 [==============================] - 9s 87ms/step - loss: 0.1446 - accuracy: 0.9435 - val_loss: 0.8363 - val_accuracy: 0.7130\n",
      "Epoch 14/60\n",
      "100/100 [==============================] - 9s 87ms/step - loss: 0.0842 - accuracy: 0.9685 - val_loss: 0.9205 - val_accuracy: 0.7070\n",
      "Epoch 15/60\n",
      "100/100 [==============================] - 9s 87ms/step - loss: 0.1174 - accuracy: 0.9625 - val_loss: 0.9375 - val_accuracy: 0.6950\n",
      "Epoch 16/60\n",
      "100/100 [==============================] - 9s 88ms/step - loss: 0.1042 - accuracy: 0.9575 - val_loss: 1.0942 - val_accuracy: 0.6850\n",
      "Epoch 17/60\n",
      "100/100 [==============================] - 9s 92ms/step - loss: 0.0681 - accuracy: 0.9735 - val_loss: 0.9977 - val_accuracy: 0.7230\n",
      "Epoch 18/60\n",
      "100/100 [==============================] - 9s 94ms/step - loss: 0.0557 - accuracy: 0.9800 - val_loss: 1.1929 - val_accuracy: 0.6860\n",
      "Epoch 19/60\n",
      "100/100 [==============================] - 9s 91ms/step - loss: 0.0653 - accuracy: 0.9790 - val_loss: 1.5664 - val_accuracy: 0.6700\n",
      "Epoch 20/60\n",
      "100/100 [==============================] - 9s 85ms/step - loss: 0.0582 - accuracy: 0.9810 - val_loss: 1.6344 - val_accuracy: 0.6650\n",
      "Epoch 21/60\n",
      "100/100 [==============================] - 9s 87ms/step - loss: 0.0516 - accuracy: 0.9835 - val_loss: 1.0651 - val_accuracy: 0.7190\n",
      "Epoch 22/60\n",
      "100/100 [==============================] - 9s 86ms/step - loss: 0.0479 - accuracy: 0.9825 - val_loss: 1.1371 - val_accuracy: 0.6990\n",
      "Epoch 23/60\n",
      "100/100 [==============================] - 9s 86ms/step - loss: 0.0819 - accuracy: 0.9740 - val_loss: 1.5662 - val_accuracy: 0.6380\n",
      "Epoch 24/60\n",
      "100/100 [==============================] - 9s 88ms/step - loss: 0.0478 - accuracy: 0.9825 - val_loss: 1.5024 - val_accuracy: 0.7020\n",
      "Epoch 25/60\n",
      "100/100 [==============================] - 9s 93ms/step - loss: 0.0785 - accuracy: 0.9690 - val_loss: 1.2902 - val_accuracy: 0.6780\n",
      "Epoch 26/60\n",
      "100/100 [==============================] - 9s 92ms/step - loss: 0.0446 - accuracy: 0.9840 - val_loss: 1.2443 - val_accuracy: 0.7080\n",
      "Epoch 27/60\n",
      "100/100 [==============================] - 9s 90ms/step - loss: 0.0485 - accuracy: 0.9830 - val_loss: 1.8836 - val_accuracy: 0.6750\n",
      "Epoch 28/60\n",
      "100/100 [==============================] - 9s 91ms/step - loss: 0.0422 - accuracy: 0.9885 - val_loss: 1.6874 - val_accuracy: 0.6970\n",
      "Epoch 29/60\n",
      "100/100 [==============================] - 9s 93ms/step - loss: 0.0229 - accuracy: 0.9930 - val_loss: 1.3075 - val_accuracy: 0.7160\n",
      "Epoch 30/60\n",
      "100/100 [==============================] - 9s 93ms/step - loss: 0.0155 - accuracy: 0.9950 - val_loss: 1.3029 - val_accuracy: 0.6840\n",
      "Epoch 31/60\n",
      "100/100 [==============================] - 9s 86ms/step - loss: 0.0416 - accuracy: 0.9860 - val_loss: 2.0918 - val_accuracy: 0.6430\n",
      "Epoch 32/60\n",
      "100/100 [==============================] - 9s 86ms/step - loss: 0.0579 - accuracy: 0.9780 - val_loss: 1.7447 - val_accuracy: 0.6790\n",
      "Epoch 33/60\n",
      "100/100 [==============================] - 9s 85ms/step - loss: 0.0347 - accuracy: 0.9895 - val_loss: 1.1519 - val_accuracy: 0.7190\n",
      "Epoch 34/60\n",
      "100/100 [==============================] - 9s 86ms/step - loss: 0.0562 - accuracy: 0.9810 - val_loss: 2.0100 - val_accuracy: 0.6340\n",
      "Epoch 35/60\n",
      "100/100 [==============================] - 9s 86ms/step - loss: 0.0440 - accuracy: 0.9815 - val_loss: 1.4153 - val_accuracy: 0.7020\n",
      "Epoch 36/60\n",
      "100/100 [==============================] - 9s 92ms/step - loss: 0.0329 - accuracy: 0.9905 - val_loss: 1.4012 - val_accuracy: 0.7000\n",
      "Epoch 37/60\n",
      "100/100 [==============================] - 9s 93ms/step - loss: 0.0234 - accuracy: 0.9925 - val_loss: 1.3504 - val_accuracy: 0.7060\n",
      "Epoch 38/60\n",
      "100/100 [==============================] - 9s 87ms/step - loss: 0.0401 - accuracy: 0.9875 - val_loss: 1.8308 - val_accuracy: 0.6100\n",
      "Epoch 39/60\n",
      "100/100 [==============================] - 9s 85ms/step - loss: 0.0230 - accuracy: 0.9930 - val_loss: 1.3909 - val_accuracy: 0.7110\n",
      "Epoch 40/60\n",
      "100/100 [==============================] - 9s 87ms/step - loss: 0.0344 - accuracy: 0.9910 - val_loss: 1.3483 - val_accuracy: 0.7000\n",
      "Epoch 41/60\n",
      "100/100 [==============================] - 9s 86ms/step - loss: 0.0685 - accuracy: 0.9770 - val_loss: 1.3284 - val_accuracy: 0.6820\n",
      "Epoch 42/60\n",
      "100/100 [==============================] - 8s 85ms/step - loss: 0.0257 - accuracy: 0.9915 - val_loss: 1.9229 - val_accuracy: 0.6350\n",
      "Epoch 43/60\n",
      "100/100 [==============================] - 9s 91ms/step - loss: 0.0207 - accuracy: 0.9940 - val_loss: 1.2363 - val_accuracy: 0.6940\n",
      "Epoch 44/60\n",
      "100/100 [==============================] - 9s 92ms/step - loss: 0.0419 - accuracy: 0.9840 - val_loss: 1.3883 - val_accuracy: 0.7160\n",
      "Epoch 45/60\n",
      "100/100 [==============================] - 9s 91ms/step - loss: 0.0142 - accuracy: 0.9945 - val_loss: 1.2713 - val_accuracy: 0.7390\n",
      "Epoch 46/60\n",
      "100/100 [==============================] - 9s 85ms/step - loss: 0.0316 - accuracy: 0.9900 - val_loss: 1.3432 - val_accuracy: 0.7010\n",
      "Epoch 47/60\n",
      "100/100 [==============================] - 8s 85ms/step - loss: 0.0161 - accuracy: 0.9945 - val_loss: 1.3438 - val_accuracy: 0.6800\n",
      "Epoch 48/60\n",
      "100/100 [==============================] - 9s 86ms/step - loss: 0.0224 - accuracy: 0.9915 - val_loss: 1.3630 - val_accuracy: 0.7180\n",
      "Epoch 49/60\n",
      "100/100 [==============================] - 9s 86ms/step - loss: 0.0354 - accuracy: 0.9875 - val_loss: 1.4376 - val_accuracy: 0.7190\n",
      "Epoch 50/60\n",
      "100/100 [==============================] - 9s 88ms/step - loss: 0.0633 - accuracy: 0.9775 - val_loss: 1.6493 - val_accuracy: 0.6840\n",
      "Epoch 51/60\n",
      "100/100 [==============================] - 9s 92ms/step - loss: 0.0353 - accuracy: 0.9870 - val_loss: 1.3778 - val_accuracy: 0.7150\n",
      "Epoch 52/60\n",
      "100/100 [==============================] - 9s 90ms/step - loss: 0.0125 - accuracy: 0.9965 - val_loss: 1.2543 - val_accuracy: 0.7290\n",
      "Epoch 53/60\n",
      "100/100 [==============================] - 9s 87ms/step - loss: 0.0198 - accuracy: 0.9940 - val_loss: 1.6535 - val_accuracy: 0.6830\n",
      "Epoch 54/60\n",
      "100/100 [==============================] - 8s 84ms/step - loss: 0.0197 - accuracy: 0.9940 - val_loss: 1.2832 - val_accuracy: 0.7260\n",
      "Epoch 55/60\n",
      "100/100 [==============================] - 8s 85ms/step - loss: 0.0192 - accuracy: 0.9925 - val_loss: 1.2727 - val_accuracy: 0.7210\n",
      "Epoch 56/60\n",
      "100/100 [==============================] - 9s 85ms/step - loss: 0.0249 - accuracy: 0.9915 - val_loss: 1.7555 - val_accuracy: 0.6760\n",
      "Epoch 57/60\n",
      "100/100 [==============================] - 9s 86ms/step - loss: 0.0174 - accuracy: 0.9915 - val_loss: 1.8071 - val_accuracy: 0.6900\n",
      "Epoch 58/60\n",
      "100/100 [==============================] - 9s 91ms/step - loss: 0.0195 - accuracy: 0.9925 - val_loss: 1.7830 - val_accuracy: 0.6840\n",
      "Epoch 59/60\n",
      "100/100 [==============================] - 9s 93ms/step - loss: 0.0279 - accuracy: 0.9910 - val_loss: 1.3442 - val_accuracy: 0.7100\n",
      "Epoch 60/60\n",
      "100/100 [==============================] - 9s 91ms/step - loss: 0.0184 - accuracy: 0.9940 - val_loss: 1.4736 - val_accuracy: 0.7220\n"
     ]
    }
   ],
   "source": [
    "dc_hist = model.fit(train_generator,\n",
    "                    steps_per_epoch = 100,\n",
    "                    epochs = 60,\n",
    "                    validation_data = vlid_generator,\n",
    "                    validation_steps = 50)"
   ]
  },
  {
   "cell_type": "markdown",
   "metadata": {
    "id": "XSrTrNlALyF6"
   },
   "source": [
    "- Loss Visualization"
   ]
  },
  {
   "cell_type": "code",
   "execution_count": 26,
   "metadata": {
    "colab": {
     "base_uri": "https://localhost:8080/",
     "height": 422
    },
    "id": "AC2w7L-oKvPb",
    "outputId": "1afd194e-5479-4b3d-a601-96dc0d6e353c"
   },
   "outputs": [
    {
     "data": {
      "text/plain": [
       "<function matplotlib.pyplot.show>"
      ]
     },
     "execution_count": 26,
     "metadata": {
      "tags": []
     },
     "output_type": "execute_result"
    },
    {
     "data": {
      "image/png": "[encoded data removed]",
      "text/plain": [
       "<Figure size 576x432 with 1 Axes>"
      ]
     },
     "metadata": {
      "needs_background": "light",
      "tags": []
     },
     "output_type": "display_data"
    }
   ],
   "source": [
    "\n",
    "import matplotlib.pyplot as plt\n",
    "\n",
    "epochs = range(1,len(dc_hist.history['loss'])+1)\n",
    "\n",
    "plt.figure(figsize=(8,6))\n",
    "plt.plot(epochs, dc_hist.history['loss'])\n",
    "plt.plot(epochs, dc_hist.history['val_loss'])\n",
    "\n",
    "plt.title('Train & Validation Loss')\n",
    "plt.xlabel('Epochs')\n",
    "plt.ylabel('Loss')\n",
    "plt.legend(['Training_Loss', 'Validation_Loss'])\n",
    "plt.grid()\n",
    "plt.show"
   ]
  },
  {
   "cell_type": "markdown",
   "metadata": {
    "id": "-hpXpDiUL0mg"
   },
   "source": [
    "- Accuracy Visualization"
   ]
  },
  {
   "cell_type": "code",
   "execution_count": 32,
   "metadata": {
    "colab": {
     "base_uri": "https://localhost:8080/",
     "height": 404
    },
    "id": "Gx5aKUmILto1",
    "outputId": "0f37f38d-758a-49b0-bde4-72df7f1e99b2"
   },
   "outputs": [
    {
     "data": {
      "image/png": "[encoded data removed]",
      "text/plain": [
       "<Figure size 576x432 with 1 Axes>"
      ]
     },
     "metadata": {
      "needs_background": "light",
      "tags": []
     },
     "output_type": "display_data"
    }
   ],
   "source": [
    "epochs = range(1,len(dc_hist.history['loss'])+1)\n",
    "plt.figure(figsize=(8,6))\n",
    "\n",
    "plt.plot(epochs, dc_hist.history['accuracy'])\n",
    "plt.plot(epochs, dc_hist.history['val_accuracy'])\n",
    "\n",
    "plt.title('Training & Validation Accuracy')\n",
    "plt.xlabel('Epochs')\n",
    "plt.ylabel('Accuracy')\n",
    "plt.legend(['Training Accuracy', 'Validation Accuracy'])\n",
    "plt.grid()\n",
    "plt.show()\n"
   ]
  },
  {
   "cell_type": "code",
   "execution_count": 30,
   "metadata": {
    "colab": {
     "base_uri": "https://localhost:8080/"
    },
    "id": "OlD1KfdLNcft",
    "outputId": "2a103d5f-b568-4568-ef39-e36aae5f64df"
   },
   "outputs": [
    {
     "name": "stdout",
     "output_type": "stream",
     "text": [
      "Found 1000 images belonging to 2 classes.\n"
     ]
    }
   ],
   "source": [
    "test_datagen = ImageDataGenerator(rescale = 1./255)\n",
    "test_generator = test_datagen.flow_from_directory(\n",
    "                 test_dir,\n",
    "                 target_size = (150, 150),\n",
    "                 batch_size = 20,\n",
    "                 class_mode = 'binary')"
   ]
  },
  {
   "cell_type": "code",
   "execution_count": 31,
   "metadata": {
    "colab": {
     "base_uri": "https://localhost:8080/"
    },
    "id": "Sd4aDOmXNH4z",
    "outputId": "37c11ce5-d070-4112-cada-492ae3a14be8"
   },
   "outputs": [
    {
     "name": "stdout",
     "output_type": "stream",
     "text": [
      "50/50 [==============================] - 3s 52ms/step - loss: 1.5391 - accuracy: 0.7270\n",
      "Loss = 1.53911\n",
      "Accuracy = 0.72700\n"
     ]
    }
   ],
   "source": [
    "loss, accuracy = model.evaluate(test_generator,\n",
    "                                steps = 50)\n",
    "print('Loss = {:.5f}'.format(loss))\n",
    "print('Accuracy = {:.5f}'.format(accuracy))"
   ]
  },
  {
   "cell_type": "markdown",
   "metadata": {
    "id": "ldmwvKMASqsV"
   },
   "source": [
    "- save"
   ]
  },
  {
   "cell_type": "code",
   "execution_count": 34,
   "metadata": {
    "colab": {
     "base_uri": "https://localhost:8080/"
    },
    "id": "TXz9OpdoNIaB",
    "outputId": "fa9c7b16-5111-4847-fcab-c882168c9ebb"
   },
   "outputs": [
    {
     "name": "stdout",
     "output_type": "stream",
     "text": [
      "Drive already mounted at /content/drive; to attempt to forcibly remount, call drive.mount(\"/content/drive\", force_remount=True).\n"
     ]
    }
   ],
   "source": [
    "from google.colab import drive\n",
    "drive.mount('/content/drive')\n",
    "model.save('/content/drive/My Drive/Colab Notebooks/models/002_dogs_and_cats_small.h5')"
   ]
  },
  {
   "cell_type": "code",
   "execution_count": 35,
   "metadata": {
    "colab": {
     "base_uri": "https://localhost:8080/"
    },
    "id": "zkKgvjT2Szyw",
    "outputId": "6130d690-4502-4746-f306-a9d71ae2712c"
   },
   "outputs": [
    {
     "name": "stdout",
     "output_type": "stream",
     "text": [
      "total 81512\n",
      "-rw------- 1 root root    34600 Aug  4 09:09 001_Model_iris.h5\n",
      "-rw------- 1 root root 83433016 Aug  6 07:08 002_dogs_and_cats_small.h5\n"
     ]
    }
   ],
   "source": [
    "!ls -l /content/drive/My\\ Drive/Colab\\ Notebooks/models"
   ]
  },
  {
   "cell_type": "markdown",
   "metadata": {
    "id": "lRHSni4CTHC_"
   },
   "source": [
    "- load"
   ]
  },
  {
   "cell_type": "code",
   "execution_count": 36,
   "metadata": {
    "colab": {
     "base_uri": "https://localhost:8080/"
    },
    "id": "DlbmdA-zS0O2",
    "outputId": "2aa7d376-ab43-4758-9529-5f7269621d3c"
   },
   "outputs": [
    {
     "name": "stdout",
     "output_type": "stream",
     "text": [
      "50/50 [==============================] - 3s 57ms/step - loss: 1.5391 - accuracy: 0.7270\n",
      "Loss = 1.53911\n",
      "Accuracy = 0.72700\n"
     ]
    }
   ],
   "source": [
    "from tensorflow.keras.models import load_model\n",
    "model_small = load_model('/content/drive/My Drive/Colab Notebooks/models/002_dogs_and_cats_small.h5')\n",
    "loss, accuracy = model_small.evaluate(test_generator,\n",
    "                                      steps = 50)\n",
    "print('Loss = {:.5f}'.format(loss))\n",
    "print('Accuracy = {:.5f}'.format(accuracy))"
   ]
  }
 ],
 "metadata": {
  "accelerator": "GPU",
  "colab": {
   "collapsed_sections": [],
   "name": "CNN_Dog-Cat.ipynb",
   "provenance": []
  },
  "kernelspec": {
   "display_name": "Python3",
   "language": "python",
   "name": "base"
  },
  "language_info": {
   "codemirror_mode": {
    "name": "ipython",
    "version": 3
   },
   "file_extension": ".py",
   "mimetype": "text/x-python",
   "name": "python",
   "nbconvert_exporter": "python",
   "pygments_lexer": "ipython3",
   "version": "3.8.12"
  }
 },
 "nbformat": 4,
 "nbformat_minor": 4
}
