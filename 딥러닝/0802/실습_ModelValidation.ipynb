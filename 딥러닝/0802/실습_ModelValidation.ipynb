{
 "cells": [
  {
   "cell_type": "markdown",
   "id": "10d39323-f774-4369-9768-b29c97daa9e7",
   "metadata": {},
   "source": [
    "# Model_Validation"
   ]
  },
  {
   "cell_type": "code",
   "execution_count": 1,
   "id": "62a70323-e226-4374-93dd-44dd217a600d",
   "metadata": {},
   "outputs": [],
   "source": [
    "import warnings\n",
    "warnings.filterwarnings('ignore')"
   ]
  },
  {
   "cell_type": "markdown",
   "id": "f38ac56a-e57f-4821-98d4-d4da08e4d291",
   "metadata": {},
   "source": [
    "## Model Capacity"
   ]
  },
  {
   "cell_type": "code",
   "execution_count": 2,
   "id": "8d480330-9003-41d4-a4cb-698d33bb7ef2",
   "metadata": {},
   "outputs": [],
   "source": [
    "import pandas as pd\n",
    "import matplotlib.pyplot as plt\n",
    "import seaborn as sns"
   ]
  },
  {
   "cell_type": "code",
   "execution_count": 3,
   "id": "9ae290b4-746e-43a4-8c4d-71e96f6bc146",
   "metadata": {},
   "outputs": [
    {
     "name": "stdout",
     "output_type": "stream",
     "text": [
      "<class 'pandas.core.frame.DataFrame'>\n",
      "RangeIndex: 768 entries, 0 to 767\n",
      "Data columns (total 9 columns):\n",
      " #   Column                     Non-Null Count  Dtype  \n",
      "---  ------                     --------------  -----  \n",
      " 0   compactness                768 non-null    float64\n",
      " 1   surface_area               768 non-null    float64\n",
      " 2   wall_area                  768 non-null    float64\n",
      " 3   roof_area                  768 non-null    float64\n",
      " 4   height                     768 non-null    float64\n",
      " 5   orientation                768 non-null    int64  \n",
      " 6   glazing_area               768 non-null    float64\n",
      " 7   glazing_area_distribution  768 non-null    int64  \n",
      " 8   electricity                768 non-null    float64\n",
      "dtypes: float64(7), int64(2)\n",
      "memory usage: 54.1 KB\n"
     ]
    }
   ],
   "source": [
    "url =  'https://raw.githubusercontent.com/rusita-ai/pyData/master/Electric.csv'\n",
    "Elec = pd.read_csv(url)\n",
    "Elec.info()"
   ]
  },
  {
   "cell_type": "code",
   "execution_count": 4,
   "id": "dc8a150c-8a49-4359-8c47-beea1793bf76",
   "metadata": {},
   "outputs": [
    {
     "data": {
      "text/html": [
       "<div>\n",
       "<style scoped>\n",
       "    .dataframe tbody tr th:only-of-type {\n",
       "        vertical-align: middle;\n",
       "    }\n",
       "\n",
       "    .dataframe tbody tr th {\n",
       "        vertical-align: top;\n",
       "    }\n",
       "\n",
       "    .dataframe thead th {\n",
       "        text-align: right;\n",
       "    }\n",
       "</style>\n",
       "<table border=\"1\" class=\"dataframe\">\n",
       "  <thead>\n",
       "    <tr style=\"text-align: right;\">\n",
       "      <th></th>\n",
       "      <th>compactness</th>\n",
       "      <th>surface_area</th>\n",
       "      <th>wall_area</th>\n",
       "      <th>roof_area</th>\n",
       "      <th>height</th>\n",
       "      <th>orientation</th>\n",
       "      <th>glazing_area</th>\n",
       "      <th>glazing_area_distribution</th>\n",
       "      <th>electricity</th>\n",
       "    </tr>\n",
       "  </thead>\n",
       "  <tbody>\n",
       "    <tr>\n",
       "      <th>0</th>\n",
       "      <td>0.98</td>\n",
       "      <td>514.5</td>\n",
       "      <td>294.0</td>\n",
       "      <td>110.25</td>\n",
       "      <td>7.0</td>\n",
       "      <td>2</td>\n",
       "      <td>0.0</td>\n",
       "      <td>0</td>\n",
       "      <td>155.5</td>\n",
       "    </tr>\n",
       "    <tr>\n",
       "      <th>1</th>\n",
       "      <td>0.98</td>\n",
       "      <td>514.5</td>\n",
       "      <td>294.0</td>\n",
       "      <td>110.25</td>\n",
       "      <td>7.0</td>\n",
       "      <td>3</td>\n",
       "      <td>0.0</td>\n",
       "      <td>0</td>\n",
       "      <td>155.5</td>\n",
       "    </tr>\n",
       "    <tr>\n",
       "      <th>2</th>\n",
       "      <td>0.98</td>\n",
       "      <td>514.5</td>\n",
       "      <td>294.0</td>\n",
       "      <td>110.25</td>\n",
       "      <td>7.0</td>\n",
       "      <td>4</td>\n",
       "      <td>0.0</td>\n",
       "      <td>0</td>\n",
       "      <td>155.5</td>\n",
       "    </tr>\n",
       "  </tbody>\n",
       "</table>\n",
       "</div>"
      ],
      "text/plain": [
       "   compactness  surface_area  wall_area  roof_area  height  orientation  \\\n",
       "0         0.98         514.5      294.0     110.25     7.0            2   \n",
       "1         0.98         514.5      294.0     110.25     7.0            3   \n",
       "2         0.98         514.5      294.0     110.25     7.0            4   \n",
       "\n",
       "   glazing_area  glazing_area_distribution  electricity  \n",
       "0           0.0                          0        155.5  \n",
       "1           0.0                          0        155.5  \n",
       "2           0.0                          0        155.5  "
      ]
     },
     "execution_count": 4,
     "metadata": {},
     "output_type": "execute_result"
    }
   ],
   "source": [
    "Elec.head(3)"
   ]
  },
  {
   "cell_type": "markdown",
   "id": "6bfffc1e-faf6-4209-ae5d-9f9c1d965d14",
   "metadata": {},
   "source": [
    "**산점도 시각화(surface_area vs electricity)**"
   ]
  },
  {
   "cell_type": "code",
   "execution_count": 6,
   "id": "f7c8647d-a567-4ae5-a188-adea959b83e5",
   "metadata": {},
   "outputs": [
    {
     "data": {
      "image/png": "[encoded data removed]",
      "text/plain": [
       "<Figure size 432x288 with 1 Axes>"
      ]
     },
     "metadata": {
      "needs_background": "light"
     },
     "output_type": "display_data"
    }
   ],
   "source": [
    "sns.scatterplot(x=Elec['surface_area'], y=Elec['electricity'])\n",
    "plt.show()"
   ]
  },
  {
   "cell_type": "markdown",
   "id": "875878fa-3d3a-4c79-a9ea-52cf933ce8f6",
   "metadata": {},
   "source": [
    "**4개 모델 비교 시각화**"
   ]
  },
  {
   "cell_type": "code",
   "execution_count": 13,
   "id": "f747382b-a6bc-47a6-b482-ec67dd37bc87",
   "metadata": {},
   "outputs": [
    {
     "data": {
      "image/png": "[encoded data removed]",
      "text/plain": [
       "<Figure size 432x288 with 1 Axes>"
      ]
     },
     "metadata": {
      "needs_background": "light"
     },
     "output_type": "display_data"
    }
   ],
   "source": [
    "sns.regplot(x = 'surface_area', y = 'electricity', \n",
    "            data = Elec, \n",
    "            line_kws = {'color':'red'})\n",
    "sns.regplot(x = 'surface_area', y = 'electricity', \n",
    "            data = Elec, \n",
    "            line_kws = {'color':'blue'}, order = 2)\n",
    "sns.regplot(x = 'surface_area', y = 'electricity', \n",
    "            data = Elec, \n",
    "            line_kws = {'color':'green'}, order = 5)\n",
    "sns.regplot(x = 'surface_area', y = 'electricity', \n",
    "            data = Elec, \n",
    "            line_kws = {'color':'orange'}, order = 9,\n",
    "            scatter_kws = {'color':'gray', 'edgecolor':'white'})\n",
    "plt.xlim(505, 820)\n",
    "plt.ylim(50, 450)\n",
    "plt.xticks(rotation = 35)\n",
    "plt.yticks(rotation = 90)\n",
    "plt.show()"
   ]
  },
  {
   "cell_type": "markdown",
   "id": "f81dfd34-6476-44cf-8902-6df4dc37a24a",
   "metadata": {},
   "source": [
    "## Training Error"
   ]
  },
  {
   "cell_type": "code",
   "execution_count": 14,
   "id": "26fa3380-142e-4eba-adde-42e8894af7d8",
   "metadata": {},
   "outputs": [
    {
     "name": "stdout",
     "output_type": "stream",
     "text": [
      "<class 'pandas.core.frame.DataFrame'>\n",
      "RangeIndex: 768 entries, 0 to 767\n",
      "Data columns (total 9 columns):\n",
      " #   Column                     Non-Null Count  Dtype  \n",
      "---  ------                     --------------  -----  \n",
      " 0   compactness                768 non-null    float64\n",
      " 1   surface_area               768 non-null    float64\n",
      " 2   wall_area                  768 non-null    float64\n",
      " 3   roof_area                  768 non-null    float64\n",
      " 4   height                     768 non-null    float64\n",
      " 5   orientation                768 non-null    int64  \n",
      " 6   glazing_area               768 non-null    float64\n",
      " 7   glazing_area_distribution  768 non-null    int64  \n",
      " 8   electricity                768 non-null    float64\n",
      "dtypes: float64(7), int64(2)\n",
      "memory usage: 54.1 KB\n"
     ]
    }
   ],
   "source": [
    "import pandas as pd\n",
    "import matplotlib.pyplot as plt\n",
    "import seaborn as sns\n",
    "\n",
    "url =  'https://raw.githubusercontent.com/rusita-ai/pyData/master/Electric.csv'\n",
    "Elec = pd.read_csv(url)\n",
    "Elec.info()"
   ]
  },
  {
   "cell_type": "markdown",
   "id": "44b249e4-3c53-4305-b24e-59a3406dd415",
   "metadata": {},
   "source": [
    "### 1차모델 Training Error"
   ]
  },
  {
   "cell_type": "code",
   "execution_count": 16,
   "id": "e4971c3e-6d71-45c5-9431-78b195157f4a",
   "metadata": {},
   "outputs": [
    {
     "data": {
      "text/plain": [
       "((768, 1), (768,))"
      ]
     },
     "execution_count": 16,
     "metadata": {},
     "output_type": "execute_result"
    }
   ],
   "source": [
    "X_train = Elec[['surface_area']]\n",
    "y_train = Elec['electricity']\n",
    "\n",
    "X_train.shape, y_train.shape"
   ]
  },
  {
   "cell_type": "markdown",
   "id": "5d567154-2468-4406-8bd1-db8413e983c7",
   "metadata": {},
   "source": [
    "- 모델생성"
   ]
  },
  {
   "cell_type": "code",
   "execution_count": 17,
   "id": "2d9c8e36-4af2-4a6c-86c4-f06d1553af8b",
   "metadata": {},
   "outputs": [
    {
     "data": {
      "text/plain": [
       "LinearRegression()"
      ]
     },
     "execution_count": 17,
     "metadata": {},
     "output_type": "execute_result"
    }
   ],
   "source": [
    "from sklearn.linear_model import LinearRegression\n",
    "\n",
    "Model1 = LinearRegression()\n",
    "Model1.fit(X_train,y_train)"
   ]
  },
  {
   "cell_type": "code",
   "execution_count": 18,
   "id": "91f6c5ac-9983-46ff-96ab-d35daddba5b9",
   "metadata": {},
   "outputs": [
    {
     "name": "stdout",
     "output_type": "stream",
     "text": [
      "[-0.75387157]\n",
      "729.4538243006992\n"
     ]
    }
   ],
   "source": [
    "print(Model1.coef_)\n",
    "print(Model1.intercept_)"
   ]
  },
  {
   "cell_type": "code",
   "execution_count": 20,
   "id": "d5f6056c-b7e8-48b6-9ce1-008f958a83c1",
   "metadata": {},
   "outputs": [
    {
     "data": {
      "text/plain": [
       "768"
      ]
     },
     "execution_count": 20,
     "metadata": {},
     "output_type": "execute_result"
    }
   ],
   "source": [
    "# y_hat1 예측값 생성 \n",
    "y_hat1 = Model1.predict(X_train)\n",
    "len(y_hat1)"
   ]
  },
  {
   "cell_type": "code",
   "execution_count": 24,
   "id": "04c1376b-d152-4ab6-88c5-c69cea6fdd56",
   "metadata": {},
   "outputs": [
    {
     "data": {
      "text/plain": [
       "5763.983779426347"
      ]
     },
     "execution_count": 24,
     "metadata": {},
     "output_type": "execute_result"
    }
   ],
   "source": [
    "#MSE(Mean Squared Error) 계산\n",
    "import numpy as np\n",
    "MSE1 = np.mean((y_train-y_hat1)**2)\n",
    "MSE1"
   ]
  },
  {
   "cell_type": "markdown",
   "id": "68736f94-d7a7-41d6-8ab2-e7f62d96e22d",
   "metadata": {},
   "source": [
    "### 5차 모델 Training Error\n",
    "\n",
    "- X 다항 차수 변환\n",
    "    - (768,1) to (768,5)"
   ]
  },
  {
   "cell_type": "code",
   "execution_count": 26,
   "id": "7fc16531-14f7-4694-bdbc-7bdb80882db9",
   "metadata": {},
   "outputs": [
    {
     "data": {
      "text/plain": [
       "array([[5.14500000e+02, 2.64710250e+05, 1.36193424e+08, 7.00715165e+10,\n",
       "        3.60517952e+13],\n",
       "       [5.14500000e+02, 2.64710250e+05, 1.36193424e+08, 7.00715165e+10,\n",
       "        3.60517952e+13],\n",
       "       [5.14500000e+02, 2.64710250e+05, 1.36193424e+08, 7.00715165e+10,\n",
       "        3.60517952e+13],\n",
       "       ...,\n",
       "       [8.08500000e+02, 6.53672250e+05, 5.28494014e+08, 4.27287410e+11,\n",
       "        3.45461871e+14],\n",
       "       [8.08500000e+02, 6.53672250e+05, 5.28494014e+08, 4.27287410e+11,\n",
       "        3.45461871e+14],\n",
       "       [8.08500000e+02, 6.53672250e+05, 5.28494014e+08, 4.27287410e+11,\n",
       "        3.45461871e+14]])"
      ]
     },
     "execution_count": 26,
     "metadata": {},
     "output_type": "execute_result"
    }
   ],
   "source": [
    "from sklearn.preprocessing import PolynomialFeatures\n",
    "\n",
    "poly = PolynomialFeatures(degree = 5, include_bias = False)\n",
    "PX5 = poly.fit_transform(X_train)\n",
    "PX5"
   ]
  },
  {
   "cell_type": "code",
   "execution_count": 27,
   "id": "df988d6e-5fc1-4ee3-a9e8-a459d0e59b4d",
   "metadata": {},
   "outputs": [
    {
     "data": {
      "text/plain": [
       "((768, 1), (768, 5))"
      ]
     },
     "execution_count": 27,
     "metadata": {},
     "output_type": "execute_result"
    }
   ],
   "source": [
    "X_train.shape, PX5.shape"
   ]
  },
  {
   "cell_type": "markdown",
   "id": "69aca3e4-0d51-4d6a-a7e5-1eb3cca174ae",
   "metadata": {},
   "source": [
    "- 5차 모델 생성"
   ]
  },
  {
   "cell_type": "code",
   "execution_count": 28,
   "id": "792544bc-93c8-4a8e-b85d-75eeef988802",
   "metadata": {},
   "outputs": [
    {
     "data": {
      "text/plain": [
       "LinearRegression()"
      ]
     },
     "execution_count": 28,
     "metadata": {},
     "output_type": "execute_result"
    }
   ],
   "source": [
    "from sklearn.linear_model import LinearRegression\n",
    "\n",
    "Model5 = LinearRegression()\n",
    "Model5.fit(PX5,y_train)"
   ]
  },
  {
   "cell_type": "code",
   "execution_count": 29,
   "id": "1ac7e797-78ae-4be8-bc4b-be74b16806f7",
   "metadata": {},
   "outputs": [
    {
     "name": "stdout",
     "output_type": "stream",
     "text": [
      "[-0.0003155139 -0.1029295461  0.0003787613 -0.0000005032  0.0000000002]\n",
      "2906.2084288541437\n"
     ]
    }
   ],
   "source": [
    "np.set_printoptions(suppress=True, precision = 10)\n",
    "\n",
    "print(Model5.coef_)\n",
    "print(Model5.intercept_)"
   ]
  },
  {
   "cell_type": "markdown",
   "id": "d1ca8077-875a-4e94-b0b5-e6d32a30be03",
   "metadata": {},
   "source": [
    "- y_hat(예측값 )생성"
   ]
  },
  {
   "cell_type": "code",
   "execution_count": 32,
   "id": "248d1e15-7b17-4389-9c43-56b87f782a4e",
   "metadata": {},
   "outputs": [
    {
     "data": {
      "text/plain": [
       "(768,)"
      ]
     },
     "execution_count": 32,
     "metadata": {},
     "output_type": "execute_result"
    }
   ],
   "source": [
    "PX5_pred = poly.fit_transform(X_train)\n",
    "y_hat5 = Model5.predict(PX5_pred)\n",
    "y_hat5.shape"
   ]
  },
  {
   "cell_type": "markdown",
   "id": "7a03fce4-89d1-4c45-ad99-ca0ede83446d",
   "metadata": {},
   "source": [
    "- MSE(Mean Squared Error)계산"
   ]
  },
  {
   "cell_type": "code",
   "execution_count": 34,
   "id": "a2a3b9e4-06db-445f-aeea-a37ae13bb709",
   "metadata": {},
   "outputs": [
    {
     "data": {
      "text/plain": [
       "4177.726328803677"
      ]
     },
     "execution_count": 34,
     "metadata": {},
     "output_type": "execute_result"
    }
   ],
   "source": [
    "MSE5 = np.mean((y_train-y_hat5)**2)\n",
    "MSE5"
   ]
  },
  {
   "cell_type": "markdown",
   "id": "e35cf0de-ec1f-4ad7-8038-31c91484704c",
   "metadata": {},
   "source": [
    "### 9차 모델 Training Error\n",
    "\n",
    "- X 다항차수 변환\n",
    "    - (768,1) to (768,9)"
   ]
  },
  {
   "cell_type": "code",
   "execution_count": 35,
   "id": "1678dc08-baaa-4180-8fde-deebf050b1da",
   "metadata": {},
   "outputs": [],
   "source": [
    "from sklearn. preprocessing import PolynomialFeatures\n",
    "\n",
    "poly = PolynomialFeatures(degree = 9, include_bias=False)\n",
    "PX9 = poly.fit_transform(X_train)"
   ]
  },
  {
   "cell_type": "code",
   "execution_count": 36,
   "id": "295bae4d-530a-40fd-9fd8-d4b6d0d4a395",
   "metadata": {},
   "outputs": [
    {
     "data": {
      "text/plain": [
       "((768, 1), (768, 9))"
      ]
     },
     "execution_count": 36,
     "metadata": {},
     "output_type": "execute_result"
    }
   ],
   "source": [
    "X_train.shape, PX9.shape"
   ]
  },
  {
   "cell_type": "markdown",
   "id": "ec3ecaad-bc52-4fcc-bfbb-d3a0da71c061",
   "metadata": {},
   "source": [
    "- 모델 생성"
   ]
  },
  {
   "cell_type": "code",
   "execution_count": 37,
   "id": "afe135ea-362a-4079-9037-8a636fa5de1a",
   "metadata": {},
   "outputs": [
    {
     "data": {
      "text/plain": [
       "LinearRegression()"
      ]
     },
     "execution_count": 37,
     "metadata": {},
     "output_type": "execute_result"
    }
   ],
   "source": [
    "from sklearn.linear_model import LinearRegression\n",
    "\n",
    "Model9 = LinearRegression()\n",
    "Model9.fit(PX9,y_train)"
   ]
  },
  {
   "cell_type": "code",
   "execution_count": 38,
   "id": "58e01ec4-84f0-4745-bd3b-1307ab5c1d71",
   "metadata": {},
   "outputs": [
    {
     "name": "stdout",
     "output_type": "stream",
     "text": [
      "[ 0.  0.  0.  0.  0.  0. -0.  0. -0.]\n",
      "-440.08258376361584\n"
     ]
    }
   ],
   "source": [
    "print(Model9.coef_)\n",
    "print(Model9.intercept_)"
   ]
  },
  {
   "cell_type": "code",
   "execution_count": 40,
   "id": "dc9b876f-2a87-4960-8309-afaa6b4cffc0",
   "metadata": {},
   "outputs": [
    {
     "data": {
      "text/plain": [
       "(768,)"
      ]
     },
     "execution_count": 40,
     "metadata": {},
     "output_type": "execute_result"
    }
   ],
   "source": [
    "## y_hat(예측값 생성)\n",
    "PX9_pred = poly.fit_transform(X_train)\n",
    "y_hat9 = Model9.predict(PX9_pred)\n",
    "y_hat9.shape"
   ]
  },
  {
   "cell_type": "code",
   "execution_count": 42,
   "id": "0953bfed-086f-4861-bc33-1ac04c1c92d4",
   "metadata": {},
   "outputs": [
    {
     "data": {
      "text/plain": [
       "4086.7199908144376"
      ]
     },
     "execution_count": 42,
     "metadata": {},
     "output_type": "execute_result"
    }
   ],
   "source": [
    "## MSE 계산\n",
    "MSE9 = np.mean((y_train-y_hat9)**2)\n",
    "MSE9"
   ]
  },
  {
   "cell_type": "code",
   "execution_count": 45,
   "id": "fb675bec-8e30-495f-a83c-f750c73de883",
   "metadata": {},
   "outputs": [
    {
     "name": "stdout",
     "output_type": "stream",
     "text": [
      "1차 모델 :  5763.983779426347\n",
      "5차 모델 :  4177.726328803677\n",
      "9차 모델 :  4086.7199908144376\n"
     ]
    }
   ],
   "source": [
    "print('1차 모델 : ', MSE1)\n",
    "print('5차 모델 : ', MSE5)\n",
    "print('9차 모델 : ', MSE9)"
   ]
  },
  {
   "cell_type": "markdown",
   "id": "34fe88dc-be66-4762-a4eb-0dec39f5f5af",
   "metadata": {},
   "source": [
    "### 잔차(Residual) 시각화"
   ]
  },
  {
   "cell_type": "code",
   "execution_count": 46,
   "id": "b561e2da-7d99-4aa0-bc5b-979f4e0314fa",
   "metadata": {},
   "outputs": [
    {
     "data": {
      "image/png": "[encoded data removed]",
      "text/plain": [
       "<Figure size 432x288 with 1 Axes>"
      ]
     },
     "metadata": {
      "needs_background": "light"
     },
     "output_type": "display_data"
    }
   ],
   "source": [
    "# 1차모델\n",
    "sns.residplot(x = 'surface_area', \n",
    "              y = 'electricity', \n",
    "              data = Elec,\n",
    "              order = 1, \n",
    "              scatter_kws={'edgecolor':'white'})\n",
    "plt.ylim(-300, 300)\n",
    "plt.show()\n"
   ]
  },
  {
   "cell_type": "code",
   "execution_count": 47,
   "id": "a2f2ef5e-7d5d-401d-9df5-3b61ddbc4dcc",
   "metadata": {},
   "outputs": [
    {
     "data": {
      "image/png": "[encoded data removed]",
      "text/plain": [
       "<Figure size 432x288 with 1 Axes>"
      ]
     },
     "metadata": {
      "needs_background": "light"
     },
     "output_type": "display_data"
    }
   ],
   "source": [
    "# 5차모델\n",
    "sns.residplot(x = 'surface_area', \n",
    "              y = 'electricity', \n",
    "              data = Elec,\n",
    "              order = 5,\n",
    "              scatter_kws={'edgecolor':'white'})\n",
    "plt.ylim(-300, 300)\n",
    "plt.show()\n"
   ]
  },
  {
   "cell_type": "code",
   "execution_count": 48,
   "id": "df2f3f04-bf78-41f3-a986-8a4b9a6bf124",
   "metadata": {},
   "outputs": [
    {
     "data": {
      "image/png": "[encoded data removed]",
      "text/plain": [
       "<Figure size 432x288 with 1 Axes>"
      ]
     },
     "metadata": {
      "needs_background": "light"
     },
     "output_type": "display_data"
    }
   ],
   "source": [
    "# 9차 모델\n",
    "sns.residplot(x = 'surface_area', \n",
    "              y = 'electricity', \n",
    "              data = Elec,\n",
    "              order = 9,\n",
    "              scatter_kws={'edgecolor':'white'})\n",
    "plt.ylim(-300, 300)\n",
    "plt.show()\n"
   ]
  },
  {
   "cell_type": "markdown",
   "id": "9640b1ef-bb6d-4b7b-b47e-b7d2256e7fbd",
   "metadata": {},
   "source": [
    "## Testing Error"
   ]
  },
  {
   "cell_type": "code",
   "execution_count": 49,
   "id": "d9b0c4dd-0a61-4893-ba12-cee9cf2b0f32",
   "metadata": {},
   "outputs": [
    {
     "data": {
      "text/plain": [
       "(768, 9)"
      ]
     },
     "execution_count": 49,
     "metadata": {},
     "output_type": "execute_result"
    }
   ],
   "source": [
    "import pandas as pd\n",
    "import matplotlib.pyplot as plt\n",
    "import seaborn as sns \n",
    "url = 'https://raw.githubusercontent.com/rusita-ai/pyData/master/Electric.csv'\n",
    "Elec = pd.read_csv(url)\n",
    "Elec.shape"
   ]
  },
  {
   "cell_type": "code",
   "execution_count": null,
   "id": "1347355c-290c-431b-958f-d6b100b4168c",
   "metadata": {},
   "outputs": [],
   "source": []
  }
 ],
 "metadata": {
  "kernelspec": {
   "display_name": "Python 3",
   "language": "python",
   "name": "python3"
  },
  "language_info": {
   "codemirror_mode": {
    "name": "ipython",
    "version": 3
   },
   "file_extension": ".py",
   "mimetype": "text/x-python",
   "name": "python",
   "nbconvert_exporter": "python",
   "pygments_lexer": "ipython3",
   "version": "3.8.8"
  }
 },
 "nbformat": 4,
 "nbformat_minor": 5
}
