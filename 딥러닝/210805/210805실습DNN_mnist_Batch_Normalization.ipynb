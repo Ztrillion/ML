{
  "nbformat": 4,
  "nbformat_minor": 0,
  "metadata": {
    "colab": {
      "name": "210805실습DNN_mnist-Batch-Normalization.ipynb",
      "provenance": [],
      "collapsed_sections": []
    },
    "kernelspec": {
      "name": "python3",
      "display_name": "Python 3"
    },
    "language_info": {
      "name": "python"
    },
    "accelerator": "GPU"
  },
  "cells": [
    {
      "cell_type": "markdown",
      "metadata": {
        "id": "ZsGaay6leBNn"
      },
      "source": [
        "# MNIST - Categorical Classfication\n",
        "\n",
        "  Overfitting Issue\n",
        "\n",
        "## Import Tensorflow"
      ]
    },
    {
      "cell_type": "code",
      "metadata": {
        "colab": {
          "base_uri": "https://localhost:8080/",
          "height": 35
        },
        "id": "Rs0XUlbpeQcr",
        "outputId": "9efa3e41-3356-4835-f726-83a950ea5b09"
      },
      "source": [
        "import warnings\n",
        "warnings.filterwarnings('ignore')\n",
        "\n",
        "import tensorflow as tf\n",
        "tf.__version__"
      ],
      "execution_count": 1,
      "outputs": [
        {
          "output_type": "execute_result",
          "data": {
            "application/vnd.google.colaboratory.intrinsic+json": {
              "type": "string"
            },
            "text/plain": [
              "'2.5.0'"
            ]
          },
          "metadata": {
            "tags": []
          },
          "execution_count": 1
        }
      ]
    },
    {
      "cell_type": "code",
      "metadata": {
        "colab": {
          "base_uri": "https://localhost:8080/",
          "height": 35
        },
        "id": "H-p4saYmeaRi",
        "outputId": "76554d96-06c7-475d-86a6-3a39f22b3293"
      },
      "source": [
        "tf.test.gpu_device_name()"
      ],
      "execution_count": 2,
      "outputs": [
        {
          "output_type": "execute_result",
          "data": {
            "application/vnd.google.colaboratory.intrinsic+json": {
              "type": "string"
            },
            "text/plain": [
              "'/device:GPU:0'"
            ]
          },
          "metadata": {
            "tags": []
          },
          "execution_count": 2
        }
      ]
    },
    {
      "cell_type": "markdown",
      "metadata": {
        "id": "__0ZUl6-ex0B"
      },
      "source": [
        "## 1. MNIST Data_Set Load & Review\n",
        "\n",
        "### 1) Load MNIST Data_Set"
      ]
    },
    {
      "cell_type": "code",
      "metadata": {
        "id": "pJ5xaQ4neu5M"
      },
      "source": [
        "from tensorflow.keras.datasets import mnist\n",
        "\n",
        "(X_train,y_train),(X_test,y_test) = mnist.load_data()"
      ],
      "execution_count": 3,
      "outputs": []
    },
    {
      "cell_type": "code",
      "metadata": {
        "colab": {
          "base_uri": "https://localhost:8080/"
        },
        "id": "n2csvlwLfNL6",
        "outputId": "ed352cbf-b09b-4457-ba79-f5f7f73762cb"
      },
      "source": [
        "print(len(X_train),X_train.shape)\n",
        "print(len(y_train),y_train[:5])\n",
        "print(len(X_test),X_test.shape)\n",
        "print(len(y_test),y_test[:5])"
      ],
      "execution_count": 4,
      "outputs": [
        {
          "output_type": "stream",
          "text": [
            "60000 (60000, 28, 28)\n",
            "60000 [5 0 4 1 9]\n",
            "10000 (10000, 28, 28)\n",
            "10000 [7 2 1 0 4]\n"
          ],
          "name": "stdout"
        }
      ]
    },
    {
      "cell_type": "markdown",
      "metadata": {
        "id": "btLPM86BgCFu"
      },
      "source": [
        "### 2) Visualization"
      ]
    },
    {
      "cell_type": "code",
      "metadata": {
        "colab": {
          "base_uri": "https://localhost:8080/",
          "height": 265
        },
        "id": "6987uNBdfSjM",
        "outputId": "de4ce2ee-825f-434f-e01e-652f928ce569"
      },
      "source": [
        "import matplotlib.pyplot as plt\n",
        "\n",
        "digit = X_train[4]\n",
        "plt.imshow(digit,cmap='gray')\n",
        "plt.show()"
      ],
      "execution_count": 5,
      "outputs": [
        {
          "output_type": "display_data",
          "data": {
            "image/png": "[encoded data removed]",
            "text/plain": [
              "<Figure size 432x288 with 1 Axes>"
            ]
          },
          "metadata": {
            "tags": [],
            "needs_background": "light"
          }
        }
      ]
    },
    {
      "cell_type": "code",
      "metadata": {
        "colab": {
          "base_uri": "https://localhost:8080/"
        },
        "id": "AbPobGyBgRpz",
        "outputId": "cb18fd56-d304-422f-e4d9-b679488c7f57"
      },
      "source": [
        "import numpy as np\n",
        "\n",
        "np.set_printoptions(linewidth=150)\n",
        "print(X_train[4])"
      ],
      "execution_count": 6,
      "outputs": [
        {
          "output_type": "stream",
          "text": [
            "[[  0   0   0   0   0   0   0   0   0   0   0   0   0   0   0   0   0   0   0   0   0   0   0   0   0   0   0   0]\n",
            " [  0   0   0   0   0   0   0   0   0   0   0   0   0   0   0   0   0   0   0   0   0   0   0   0   0   0   0   0]\n",
            " [  0   0   0   0   0   0   0   0   0   0   0   0   0   0   0   0   0   0   0   0   0   0   0   0   0   0   0   0]\n",
            " [  0   0   0   0   0   0   0   0   0   0   0   0   0   0   0   0   0   0   0   0   0   0   0   0   0   0   0   0]\n",
            " [  0   0   0   0   0   0   0   0   0   0   0   0   0   0   0   0   0   0   0   0   0   0   0   0   0   0   0   0]\n",
            " [  0   0   0   0   0   0   0   0   0   0   0   0   0   0   0   0   0   0   0   0   0   0   0   0   0   0   0   0]\n",
            " [  0   0   0   0   0   0   0   0   0   0   0   0   0   0   0   0   0   0   0   0   0   0   0   0   0   0   0   0]\n",
            " [  0   0   0   0   0   0   0   0   0   0   0   0  55 148 210 253 253 113  87 148  55   0   0   0   0   0   0   0]\n",
            " [  0   0   0   0   0   0   0   0   0   0   0  87 232 252 253 189 210 252 252 253 168   0   0   0   0   0   0   0]\n",
            " [  0   0   0   0   0   0   0   0   0   4  57 242 252 190  65   5  12 182 252 253 116   0   0   0   0   0   0   0]\n",
            " [  0   0   0   0   0   0   0   0   0  96 252 252 183  14   0   0  92 252 252 225  21   0   0   0   0   0   0   0]\n",
            " [  0   0   0   0   0   0   0   0 132 253 252 146  14   0   0   0 215 252 252  79   0   0   0   0   0   0   0   0]\n",
            " [  0   0   0   0   0   0   0 126 253 247 176   9   0   0   8  78 245 253 129   0   0   0   0   0   0   0   0   0]\n",
            " [  0   0   0   0   0   0  16 232 252 176   0   0   0  36 201 252 252 169  11   0   0   0   0   0   0   0   0   0]\n",
            " [  0   0   0   0   0   0  22 252 252  30  22 119 197 241 253 252 251  77   0   0   0   0   0   0   0   0   0   0]\n",
            " [  0   0   0   0   0   0  16 231 252 253 252 252 252 226 227 252 231   0   0   0   0   0   0   0   0   0   0   0]\n",
            " [  0   0   0   0   0   0   0  55 235 253 217 138  42  24 192 252 143   0   0   0   0   0   0   0   0   0   0   0]\n",
            " [  0   0   0   0   0   0   0   0   0   0   0   0   0  62 255 253 109   0   0   0   0   0   0   0   0   0   0   0]\n",
            " [  0   0   0   0   0   0   0   0   0   0   0   0   0  71 253 252  21   0   0   0   0   0   0   0   0   0   0   0]\n",
            " [  0   0   0   0   0   0   0   0   0   0   0   0   0   0 253 252  21   0   0   0   0   0   0   0   0   0   0   0]\n",
            " [  0   0   0   0   0   0   0   0   0   0   0   0   0  71 253 252  21   0   0   0   0   0   0   0   0   0   0   0]\n",
            " [  0   0   0   0   0   0   0   0   0   0   0   0   0 106 253 252  21   0   0   0   0   0   0   0   0   0   0   0]\n",
            " [  0   0   0   0   0   0   0   0   0   0   0   0   0  45 255 253  21   0   0   0   0   0   0   0   0   0   0   0]\n",
            " [  0   0   0   0   0   0   0   0   0   0   0   0   0   0 218 252  56   0   0   0   0   0   0   0   0   0   0   0]\n",
            " [  0   0   0   0   0   0   0   0   0   0   0   0   0   0  96 252 189  42   0   0   0   0   0   0   0   0   0   0]\n",
            " [  0   0   0   0   0   0   0   0   0   0   0   0   0   0  14 184 252 170  11   0   0   0   0   0   0   0   0   0]\n",
            " [  0   0   0   0   0   0   0   0   0   0   0   0   0   0   0  14 147 252  42   0   0   0   0   0   0   0   0   0]\n",
            " [  0   0   0   0   0   0   0   0   0   0   0   0   0   0   0   0   0   0   0   0   0   0   0   0   0   0   0   0]]\n"
          ],
          "name": "stdout"
        }
      ]
    },
    {
      "cell_type": "markdown",
      "metadata": {
        "id": "c2qGjp-3gos_"
      },
      "source": [
        "## Data Preprocessing\n",
        "\n",
        "### 1) Reshape and Encoding\n",
        "\n",
        "- reshape X_train(60000, 28, 28) -> (60000,784), X_test(10000, 28, 28) -> (10000,784)\n",
        "          "
      ]
    },
    {
      "cell_type": "code",
      "metadata": {
        "colab": {
          "base_uri": "https://localhost:8080/"
        },
        "id": "OlMVBOCZgjka",
        "outputId": "6907a5e4-ea15-4e0a-db62-a80e71003854"
      },
      "source": [
        "X_train = X_train.reshape(60000,28*28)\n",
        "X_test = X_test.reshape(10000,28*28)\n",
        "X_train.shape, X_test.shape"
      ],
      "execution_count": 7,
      "outputs": [
        {
          "output_type": "execute_result",
          "data": {
            "text/plain": [
              "((60000, 784), (10000, 784))"
            ]
          },
          "metadata": {
            "tags": []
          },
          "execution_count": 7
        }
      ]
    },
    {
      "cell_type": "markdown",
      "metadata": {
        "id": "NGCj6qNphbpv"
      },
      "source": [
        "\n",
        "- Nomalization 0~1사이 값으로 변환"
      ]
    },
    {
      "cell_type": "code",
      "metadata": {
        "colab": {
          "base_uri": "https://localhost:8080/"
        },
        "id": "ma6I34njhP2L",
        "outputId": "b6298831-e123-472b-ab6f-97faeba4f2f0"
      },
      "source": [
        "X_train = X_train.astype(float)/255\n",
        "X_test = X_test.astype(float)/255\n",
        "print(X_train[4])"
      ],
      "execution_count": 8,
      "outputs": [
        {
          "output_type": "stream",
          "text": [
            "[0.         0.         0.         0.         0.         0.         0.         0.         0.         0.         0.         0.         0.\n",
            " 0.         0.         0.         0.         0.         0.         0.         0.         0.         0.         0.         0.         0.\n",
            " 0.         0.         0.         0.         0.         0.         0.         0.         0.         0.         0.         0.         0.\n",
            " 0.         0.         0.         0.         0.         0.         0.         0.         0.         0.         0.         0.         0.\n",
            " 0.         0.         0.         0.         0.         0.         0.         0.         0.         0.         0.         0.         0.\n",
            " 0.         0.         0.         0.         0.         0.         0.         0.         0.         0.         0.         0.         0.\n",
            " 0.         0.         0.         0.         0.         0.         0.         0.         0.         0.         0.         0.         0.\n",
            " 0.         0.         0.         0.         0.         0.         0.         0.         0.         0.         0.         0.         0.\n",
            " 0.         0.         0.         0.         0.         0.         0.         0.         0.         0.         0.         0.         0.\n",
            " 0.         0.         0.         0.         0.         0.         0.         0.         0.         0.         0.         0.         0.\n",
            " 0.         0.         0.         0.         0.         0.         0.         0.         0.         0.         0.         0.         0.\n",
            " 0.         0.         0.         0.         0.         0.         0.         0.         0.         0.         0.         0.         0.\n",
            " 0.         0.         0.         0.         0.         0.         0.         0.         0.         0.         0.         0.         0.\n",
            " 0.         0.         0.         0.         0.         0.         0.         0.         0.         0.         0.         0.         0.\n",
            " 0.         0.         0.         0.         0.         0.         0.         0.         0.         0.         0.         0.         0.\n",
            " 0.         0.         0.         0.         0.         0.         0.         0.         0.         0.         0.         0.         0.\n",
            " 0.21568627 0.58039216 0.82352941 0.99215686 0.99215686 0.44313725 0.34117647 0.58039216 0.21568627 0.         0.         0.         0.\n",
            " 0.         0.         0.         0.         0.         0.         0.         0.         0.         0.         0.         0.         0.\n",
            " 0.         0.34117647 0.90980392 0.98823529 0.99215686 0.74117647 0.82352941 0.98823529 0.98823529 0.99215686 0.65882353 0.         0.\n",
            " 0.         0.         0.         0.         0.         0.         0.         0.         0.         0.         0.         0.         0.\n",
            " 0.         0.01568627 0.22352941 0.94901961 0.98823529 0.74509804 0.25490196 0.01960784 0.04705882 0.71372549 0.98823529 0.99215686 0.45490196\n",
            " 0.         0.         0.         0.         0.         0.         0.         0.         0.         0.         0.         0.         0.\n",
            " 0.         0.         0.         0.37647059 0.98823529 0.98823529 0.71764706 0.05490196 0.         0.         0.36078431 0.98823529 0.98823529\n",
            " 0.88235294 0.08235294 0.         0.         0.         0.         0.         0.         0.         0.         0.         0.         0.\n",
            " 0.         0.         0.         0.         0.51764706 0.99215686 0.98823529 0.57254902 0.05490196 0.         0.         0.         0.84313725\n",
            " 0.98823529 0.98823529 0.30980392 0.         0.         0.         0.         0.         0.         0.         0.         0.         0.\n",
            " 0.         0.         0.         0.         0.         0.49411765 0.99215686 0.96862745 0.69019608 0.03529412 0.         0.         0.03137255\n",
            " 0.30588235 0.96078431 0.99215686 0.50588235 0.         0.         0.         0.         0.         0.         0.         0.         0.\n",
            " 0.         0.         0.         0.         0.         0.         0.0627451  0.90980392 0.98823529 0.69019608 0.         0.         0.\n",
            " 0.14117647 0.78823529 0.98823529 0.98823529 0.6627451  0.04313725 0.         0.         0.         0.         0.         0.         0.\n",
            " 0.         0.         0.         0.         0.         0.         0.         0.         0.08627451 0.98823529 0.98823529 0.11764706 0.08627451\n",
            " 0.46666667 0.77254902 0.94509804 0.99215686 0.98823529 0.98431373 0.30196078 0.         0.         0.         0.         0.         0.\n",
            " 0.         0.         0.         0.         0.         0.         0.         0.         0.         0.         0.0627451  0.90588235 0.98823529\n",
            " 0.99215686 0.98823529 0.98823529 0.98823529 0.88627451 0.89019608 0.98823529 0.90588235 0.         0.         0.         0.         0.\n",
            " 0.         0.         0.         0.         0.         0.         0.         0.         0.         0.         0.         0.         0.\n",
            " 0.21568627 0.92156863 0.99215686 0.85098039 0.54117647 0.16470588 0.09411765 0.75294118 0.98823529 0.56078431 0.         0.         0.\n",
            " 0.         0.         0.         0.         0.         0.         0.         0.         0.         0.         0.         0.         0.\n",
            " 0.         0.         0.         0.         0.         0.         0.         0.         0.24313725 1.         0.99215686 0.42745098 0.\n",
            " 0.         0.         0.         0.         0.         0.         0.         0.         0.         0.         0.         0.         0.\n",
            " 0.         0.         0.         0.         0.         0.         0.         0.         0.         0.         0.27843137 0.99215686 0.98823529\n",
            " 0.08235294 0.         0.         0.         0.         0.         0.         0.         0.         0.         0.         0.         0.\n",
            " 0.         0.         0.         0.         0.         0.         0.         0.         0.         0.         0.         0.         0.\n",
            " 0.99215686 0.98823529 0.08235294 0.         0.         0.         0.         0.         0.         0.         0.         0.         0.\n",
            " 0.         0.         0.         0.         0.         0.         0.         0.         0.         0.         0.         0.         0.\n",
            " 0.         0.27843137 0.99215686 0.98823529 0.08235294 0.         0.         0.         0.         0.         0.         0.         0.\n",
            " 0.         0.         0.         0.         0.         0.         0.         0.         0.         0.         0.         0.         0.\n",
            " 0.         0.         0.         0.41568627 0.99215686 0.98823529 0.08235294 0.         0.         0.         0.         0.         0.\n",
            " 0.         0.         0.         0.         0.         0.         0.         0.         0.         0.         0.         0.         0.\n",
            " 0.         0.         0.         0.         0.         0.17647059 1.         0.99215686 0.08235294 0.         0.         0.         0.\n",
            " 0.         0.         0.         0.         0.         0.         0.         0.         0.         0.         0.         0.         0.\n",
            " 0.         0.         0.         0.         0.         0.         0.         0.         0.85490196 0.98823529 0.21960784 0.         0.\n",
            " 0.         0.         0.         0.         0.         0.         0.         0.         0.         0.         0.         0.         0.\n",
            " 0.         0.         0.         0.         0.         0.         0.         0.         0.         0.         0.37647059 0.98823529 0.74117647\n",
            " 0.16470588 0.         0.         0.         0.         0.         0.         0.         0.         0.         0.         0.         0.\n",
            " 0.         0.         0.         0.         0.         0.         0.         0.         0.         0.         0.         0.         0.05490196\n",
            " 0.72156863 0.98823529 0.66666667 0.04313725 0.         0.         0.         0.         0.         0.         0.         0.         0.\n",
            " 0.         0.         0.         0.         0.         0.         0.         0.         0.         0.         0.         0.         0.\n",
            " 0.         0.         0.05490196 0.57647059 0.98823529 0.16470588 0.         0.         0.         0.         0.         0.         0.\n",
            " 0.         0.         0.         0.         0.         0.         0.         0.         0.         0.         0.         0.         0.\n",
            " 0.         0.         0.         0.         0.         0.         0.         0.         0.         0.         0.         0.         0.\n",
            " 0.         0.         0.         0.        ]\n"
          ],
          "name": "stdout"
        }
      ]
    },
    {
      "cell_type": "markdown",
      "metadata": {
        "id": "cRIx5O2MhxXs"
      },
      "source": [
        "- One-Hot Encoding"
      ]
    },
    {
      "cell_type": "code",
      "metadata": {
        "colab": {
          "base_uri": "https://localhost:8080/"
        },
        "id": "a-JGlwUshtuy",
        "outputId": "8304c3cb-de6f-43f3-a98b-3f3abe0d89ee"
      },
      "source": [
        "from tensorflow.keras.utils import to_categorical\n",
        "\n",
        "y_train = to_categorical(y_train)\n",
        "y_test = to_categorical(y_test)\n",
        "print(y_train[:5])"
      ],
      "execution_count": 9,
      "outputs": [
        {
          "output_type": "stream",
          "text": [
            "[[0. 0. 0. 0. 0. 1. 0. 0. 0. 0.]\n",
            " [1. 0. 0. 0. 0. 0. 0. 0. 0. 0.]\n",
            " [0. 0. 0. 0. 1. 0. 0. 0. 0. 0.]\n",
            " [0. 1. 0. 0. 0. 0. 0. 0. 0. 0.]\n",
            " [0. 0. 0. 0. 0. 0. 0. 0. 0. 1.]]\n"
          ],
          "name": "stdout"
        }
      ]
    },
    {
      "cell_type": "markdown",
      "metadata": {
        "id": "DkFz5kF0jdG9"
      },
      "source": [
        "## 3.MNIST Keras Modeling\n",
        "\n",
        "### 1) Model Define\n",
        "\n",
        "    - 모델 신경망 구조 정의\n",
        "      - 2개의 Hidden Layers & 768개의 Nodes\n",
        "      - 복잡한 Model Capacity로 인한 Overfitting"
      ]
    },
    {
      "cell_type": "code",
      "metadata": {
        "id": "PR7qVfcJiHzD"
      },
      "source": [
        "from tensorflow.keras import models\n",
        "from tensorflow.keras import layers\n",
        "\n",
        "mnist = models.Sequential()\n",
        "mnist.add(layers.Dense(512,input_shape=(28 * 28,)))\n",
        "mnist.add(layers.BatchNormalization())\n",
        "mnist.add(layers.Activation('relu'))\n",
        "mnist.add(layers.Dense(256))\n",
        "mnist.add(layers.BatchNormalization())\n",
        "mnist.add(layers.Activation('relu'))\n",
        "mnist.add(layers.Dense(10, activation='softmax'))"
      ],
      "execution_count": 11,
      "outputs": []
    },
    {
      "cell_type": "code",
      "metadata": {
        "colab": {
          "base_uri": "https://localhost:8080/"
        },
        "id": "N9oJ2YyzkVgv",
        "outputId": "404ba60b-aeea-4d7f-f06b-1df212ddb546"
      },
      "source": [
        "mnist.summary()"
      ],
      "execution_count": 12,
      "outputs": [
        {
          "output_type": "stream",
          "text": [
            "Model: \"sequential_1\"\n",
            "_________________________________________________________________\n",
            "Layer (type)                 Output Shape              Param #   \n",
            "=================================================================\n",
            "dense_3 (Dense)              (None, 512)               401920    \n",
            "_________________________________________________________________\n",
            "batch_normalization_2 (Batch (None, 512)               2048      \n",
            "_________________________________________________________________\n",
            "activation_2 (Activation)    (None, 512)               0         \n",
            "_________________________________________________________________\n",
            "dense_4 (Dense)              (None, 256)               131328    \n",
            "_________________________________________________________________\n",
            "batch_normalization_3 (Batch (None, 256)               1024      \n",
            "_________________________________________________________________\n",
            "activation_3 (Activation)    (None, 256)               0         \n",
            "_________________________________________________________________\n",
            "dense_5 (Dense)              (None, 10)                2570      \n",
            "=================================================================\n",
            "Total params: 538,890\n",
            "Trainable params: 537,354\n",
            "Non-trainable params: 1,536\n",
            "_________________________________________________________________\n"
          ],
          "name": "stdout"
        }
      ]
    },
    {
      "cell_type": "markdown",
      "metadata": {
        "id": "-pswULv6kbdX"
      },
      "source": [
        "### 2) Model Compile\n",
        "\n",
        "- 학습방법 설정"
      ]
    },
    {
      "cell_type": "code",
      "metadata": {
        "id": "F9fAoJKhkX2x"
      },
      "source": [
        "mnist.compile(loss = 'categorical_crossentropy', optimizer='rmsprop', metrics=['accuracy'])"
      ],
      "execution_count": 13,
      "outputs": []
    },
    {
      "cell_type": "markdown",
      "metadata": {
        "id": "eTV4NrlVk59O"
      },
      "source": [
        "### 3)Model Fit"
      ]
    },
    {
      "cell_type": "code",
      "metadata": {
        "colab": {
          "base_uri": "https://localhost:8080/"
        },
        "id": "Lsi2FE9tk4Tu",
        "outputId": "2335378e-0866-429b-b646-7bd8f5f91f37"
      },
      "source": [
        "%time\n",
        "\n",
        "Hist_mnist = mnist.fit(X_train,y_train,\n",
        "                       epochs=100,\n",
        "                       batch_size = 128,\n",
        "                       validation_split = 0.2)"
      ],
      "execution_count": 14,
      "outputs": [
        {
          "output_type": "stream",
          "text": [
            "CPU times: user 3 µs, sys: 0 ns, total: 3 µs\n",
            "Wall time: 7.87 µs\n",
            "Epoch 1/100\n",
            "375/375 [==============================] - 3s 5ms/step - loss: 0.1836 - accuracy: 0.9454 - val_loss: 0.1029 - val_accuracy: 0.9684\n",
            "Epoch 2/100\n",
            "375/375 [==============================] - 2s 5ms/step - loss: 0.0732 - accuracy: 0.9776 - val_loss: 0.1002 - val_accuracy: 0.9708\n",
            "Epoch 3/100\n",
            "375/375 [==============================] - 2s 4ms/step - loss: 0.0467 - accuracy: 0.9850 - val_loss: 0.0825 - val_accuracy: 0.9747\n",
            "Epoch 4/100\n",
            "375/375 [==============================] - 2s 4ms/step - loss: 0.0320 - accuracy: 0.9896 - val_loss: 0.0831 - val_accuracy: 0.9775\n",
            "Epoch 5/100\n",
            "375/375 [==============================] - 2s 4ms/step - loss: 0.0234 - accuracy: 0.9925 - val_loss: 0.0938 - val_accuracy: 0.9763\n",
            "Epoch 6/100\n",
            "375/375 [==============================] - 2s 4ms/step - loss: 0.0166 - accuracy: 0.9945 - val_loss: 0.0818 - val_accuracy: 0.9793\n",
            "Epoch 7/100\n",
            "375/375 [==============================] - 2s 4ms/step - loss: 0.0152 - accuracy: 0.9950 - val_loss: 0.0916 - val_accuracy: 0.9771\n",
            "Epoch 8/100\n",
            "375/375 [==============================] - 2s 5ms/step - loss: 0.0121 - accuracy: 0.9959 - val_loss: 0.0869 - val_accuracy: 0.9783\n",
            "Epoch 9/100\n",
            "375/375 [==============================] - 2s 4ms/step - loss: 0.0109 - accuracy: 0.9964 - val_loss: 0.0854 - val_accuracy: 0.9808\n",
            "Epoch 10/100\n",
            "375/375 [==============================] - 2s 5ms/step - loss: 0.0096 - accuracy: 0.9969 - val_loss: 0.0903 - val_accuracy: 0.9812\n",
            "Epoch 11/100\n",
            "375/375 [==============================] - 2s 4ms/step - loss: 0.0081 - accuracy: 0.9973 - val_loss: 0.1250 - val_accuracy: 0.9775\n",
            "Epoch 12/100\n",
            "375/375 [==============================] - 2s 5ms/step - loss: 0.0074 - accuracy: 0.9976 - val_loss: 0.0960 - val_accuracy: 0.9791\n",
            "Epoch 13/100\n",
            "375/375 [==============================] - 2s 4ms/step - loss: 0.0060 - accuracy: 0.9980 - val_loss: 0.1395 - val_accuracy: 0.9751\n",
            "Epoch 14/100\n",
            "375/375 [==============================] - 2s 5ms/step - loss: 0.0057 - accuracy: 0.9980 - val_loss: 0.1028 - val_accuracy: 0.9797\n",
            "Epoch 15/100\n",
            "375/375 [==============================] - 2s 5ms/step - loss: 0.0054 - accuracy: 0.9980 - val_loss: 0.0989 - val_accuracy: 0.9804\n",
            "Epoch 16/100\n",
            "375/375 [==============================] - 2s 5ms/step - loss: 0.0054 - accuracy: 0.9981 - val_loss: 0.1076 - val_accuracy: 0.9806\n",
            "Epoch 17/100\n",
            "375/375 [==============================] - 2s 5ms/step - loss: 0.0044 - accuracy: 0.9986 - val_loss: 0.1333 - val_accuracy: 0.9770\n",
            "Epoch 18/100\n",
            "375/375 [==============================] - 2s 5ms/step - loss: 0.0044 - accuracy: 0.9987 - val_loss: 0.1140 - val_accuracy: 0.9800\n",
            "Epoch 19/100\n",
            "375/375 [==============================] - 2s 4ms/step - loss: 0.0033 - accuracy: 0.9990 - val_loss: 0.1149 - val_accuracy: 0.9798\n",
            "Epoch 20/100\n",
            "375/375 [==============================] - 2s 4ms/step - loss: 0.0040 - accuracy: 0.9985 - val_loss: 0.1155 - val_accuracy: 0.9788\n",
            "Epoch 21/100\n",
            "375/375 [==============================] - 2s 4ms/step - loss: 0.0032 - accuracy: 0.9989 - val_loss: 0.1159 - val_accuracy: 0.9804\n",
            "Epoch 22/100\n",
            "375/375 [==============================] - 2s 5ms/step - loss: 0.0031 - accuracy: 0.9990 - val_loss: 0.1253 - val_accuracy: 0.9804\n",
            "Epoch 23/100\n",
            "375/375 [==============================] - 2s 4ms/step - loss: 0.0028 - accuracy: 0.9991 - val_loss: 0.1122 - val_accuracy: 0.9817\n",
            "Epoch 24/100\n",
            "375/375 [==============================] - 2s 4ms/step - loss: 0.0038 - accuracy: 0.9986 - val_loss: 0.1334 - val_accuracy: 0.9784\n",
            "Epoch 25/100\n",
            "375/375 [==============================] - 2s 5ms/step - loss: 0.0030 - accuracy: 0.9989 - val_loss: 0.1215 - val_accuracy: 0.9799\n",
            "Epoch 26/100\n",
            "375/375 [==============================] - 2s 5ms/step - loss: 0.0025 - accuracy: 0.9992 - val_loss: 0.1461 - val_accuracy: 0.9792\n",
            "Epoch 27/100\n",
            "375/375 [==============================] - 2s 4ms/step - loss: 0.0028 - accuracy: 0.9991 - val_loss: 0.1279 - val_accuracy: 0.9806\n",
            "Epoch 28/100\n",
            "375/375 [==============================] - 2s 4ms/step - loss: 0.0033 - accuracy: 0.9989 - val_loss: 0.1218 - val_accuracy: 0.9808\n",
            "Epoch 29/100\n",
            "375/375 [==============================] - 2s 5ms/step - loss: 0.0027 - accuracy: 0.9992 - val_loss: 0.1211 - val_accuracy: 0.9819\n",
            "Epoch 30/100\n",
            "375/375 [==============================] - 2s 4ms/step - loss: 0.0020 - accuracy: 0.9995 - val_loss: 0.1284 - val_accuracy: 0.9823\n",
            "Epoch 31/100\n",
            "375/375 [==============================] - 2s 5ms/step - loss: 0.0014 - accuracy: 0.9995 - val_loss: 0.1316 - val_accuracy: 0.9802\n",
            "Epoch 32/100\n",
            "375/375 [==============================] - 2s 5ms/step - loss: 0.0022 - accuracy: 0.9992 - val_loss: 0.1358 - val_accuracy: 0.9804\n",
            "Epoch 33/100\n",
            "375/375 [==============================] - 2s 5ms/step - loss: 0.0019 - accuracy: 0.9993 - val_loss: 0.1281 - val_accuracy: 0.9818\n",
            "Epoch 34/100\n",
            "375/375 [==============================] - 2s 5ms/step - loss: 0.0022 - accuracy: 0.9992 - val_loss: 0.1380 - val_accuracy: 0.9812\n",
            "Epoch 35/100\n",
            "375/375 [==============================] - 2s 4ms/step - loss: 0.0016 - accuracy: 0.9994 - val_loss: 0.1352 - val_accuracy: 0.9803\n",
            "Epoch 36/100\n",
            "375/375 [==============================] - 2s 4ms/step - loss: 0.0021 - accuracy: 0.9993 - val_loss: 0.1226 - val_accuracy: 0.9817\n",
            "Epoch 37/100\n",
            "375/375 [==============================] - 2s 4ms/step - loss: 0.0020 - accuracy: 0.9994 - val_loss: 0.1178 - val_accuracy: 0.9812\n",
            "Epoch 38/100\n",
            "375/375 [==============================] - 2s 5ms/step - loss: 0.0017 - accuracy: 0.9995 - val_loss: 0.1327 - val_accuracy: 0.9803\n",
            "Epoch 39/100\n",
            "375/375 [==============================] - 2s 4ms/step - loss: 0.0018 - accuracy: 0.9995 - val_loss: 0.1321 - val_accuracy: 0.9815\n",
            "Epoch 40/100\n",
            "375/375 [==============================] - 2s 4ms/step - loss: 0.0023 - accuracy: 0.9993 - val_loss: 0.1340 - val_accuracy: 0.9818\n",
            "Epoch 41/100\n",
            "375/375 [==============================] - 2s 4ms/step - loss: 0.0015 - accuracy: 0.9995 - val_loss: 0.1360 - val_accuracy: 0.9818\n",
            "Epoch 42/100\n",
            "375/375 [==============================] - 2s 4ms/step - loss: 0.0015 - accuracy: 0.9995 - val_loss: 0.1424 - val_accuracy: 0.9803\n",
            "Epoch 43/100\n",
            "375/375 [==============================] - 2s 5ms/step - loss: 0.0013 - accuracy: 0.9996 - val_loss: 0.1246 - val_accuracy: 0.9823\n",
            "Epoch 44/100\n",
            "375/375 [==============================] - 2s 4ms/step - loss: 0.0017 - accuracy: 0.9994 - val_loss: 0.1261 - val_accuracy: 0.9827\n",
            "Epoch 45/100\n",
            "375/375 [==============================] - 2s 4ms/step - loss: 0.0013 - accuracy: 0.9996 - val_loss: 0.1314 - val_accuracy: 0.9812\n",
            "Epoch 46/100\n",
            "375/375 [==============================] - 2s 4ms/step - loss: 0.0016 - accuracy: 0.9995 - val_loss: 0.1474 - val_accuracy: 0.9803\n",
            "Epoch 47/100\n",
            "375/375 [==============================] - 2s 4ms/step - loss: 0.0020 - accuracy: 0.9995 - val_loss: 0.1386 - val_accuracy: 0.9821\n",
            "Epoch 48/100\n",
            "375/375 [==============================] - 2s 4ms/step - loss: 0.0015 - accuracy: 0.9995 - val_loss: 0.1323 - val_accuracy: 0.9819\n",
            "Epoch 49/100\n",
            "375/375 [==============================] - 2s 5ms/step - loss: 0.0011 - accuracy: 0.9996 - val_loss: 0.1270 - val_accuracy: 0.9822\n",
            "Epoch 50/100\n",
            "375/375 [==============================] - 2s 4ms/step - loss: 8.8567e-04 - accuracy: 0.9996 - val_loss: 0.1398 - val_accuracy: 0.9812\n",
            "Epoch 51/100\n",
            "375/375 [==============================] - 2s 4ms/step - loss: 0.0011 - accuracy: 0.9997 - val_loss: 0.1502 - val_accuracy: 0.9817\n",
            "Epoch 52/100\n",
            "375/375 [==============================] - 2s 4ms/step - loss: 0.0013 - accuracy: 0.9997 - val_loss: 0.1487 - val_accuracy: 0.9806\n",
            "Epoch 53/100\n",
            "375/375 [==============================] - 2s 4ms/step - loss: 0.0013 - accuracy: 0.9994 - val_loss: 0.1577 - val_accuracy: 0.9816\n",
            "Epoch 54/100\n",
            "375/375 [==============================] - 2s 4ms/step - loss: 7.5361e-04 - accuracy: 0.9998 - val_loss: 0.1480 - val_accuracy: 0.9808\n",
            "Epoch 55/100\n",
            "375/375 [==============================] - 2s 4ms/step - loss: 0.0014 - accuracy: 0.9995 - val_loss: 0.1486 - val_accuracy: 0.9821\n",
            "Epoch 56/100\n",
            "375/375 [==============================] - 2s 4ms/step - loss: 0.0011 - accuracy: 0.9997 - val_loss: 0.1463 - val_accuracy: 0.9824\n",
            "Epoch 57/100\n",
            "375/375 [==============================] - 2s 4ms/step - loss: 0.0011 - accuracy: 0.9996 - val_loss: 0.1600 - val_accuracy: 0.9808\n",
            "Epoch 58/100\n",
            "375/375 [==============================] - 2s 4ms/step - loss: 5.4470e-04 - accuracy: 0.9998 - val_loss: 0.1427 - val_accuracy: 0.9827\n",
            "Epoch 59/100\n",
            "375/375 [==============================] - 2s 4ms/step - loss: 0.0012 - accuracy: 0.9997 - val_loss: 0.1566 - val_accuracy: 0.9825\n",
            "Epoch 60/100\n",
            "375/375 [==============================] - 2s 4ms/step - loss: 7.4012e-04 - accuracy: 0.9998 - val_loss: 0.1589 - val_accuracy: 0.9807\n",
            "Epoch 61/100\n",
            "375/375 [==============================] - 2s 4ms/step - loss: 0.0011 - accuracy: 0.9997 - val_loss: 0.1589 - val_accuracy: 0.9817\n",
            "Epoch 62/100\n",
            "375/375 [==============================] - 2s 4ms/step - loss: 9.5085e-04 - accuracy: 0.9997 - val_loss: 0.1679 - val_accuracy: 0.9810\n",
            "Epoch 63/100\n",
            "375/375 [==============================] - 2s 4ms/step - loss: 0.0011 - accuracy: 0.9997 - val_loss: 0.1688 - val_accuracy: 0.9821\n",
            "Epoch 64/100\n",
            "375/375 [==============================] - 2s 4ms/step - loss: 8.7080e-04 - accuracy: 0.9997 - val_loss: 0.1595 - val_accuracy: 0.9818\n",
            "Epoch 65/100\n",
            "375/375 [==============================] - 2s 4ms/step - loss: 0.0010 - accuracy: 0.9996 - val_loss: 0.1751 - val_accuracy: 0.9812\n",
            "Epoch 66/100\n",
            "375/375 [==============================] - 2s 4ms/step - loss: 9.1648e-04 - accuracy: 0.9998 - val_loss: 0.1591 - val_accuracy: 0.9819\n",
            "Epoch 67/100\n",
            "375/375 [==============================] - 2s 4ms/step - loss: 7.8406e-04 - accuracy: 0.9998 - val_loss: 0.1554 - val_accuracy: 0.9833\n",
            "Epoch 68/100\n",
            "375/375 [==============================] - 2s 4ms/step - loss: 0.0010 - accuracy: 0.9997 - val_loss: 0.1660 - val_accuracy: 0.9807\n",
            "Epoch 69/100\n",
            "375/375 [==============================] - 2s 4ms/step - loss: 9.6883e-04 - accuracy: 0.9997 - val_loss: 0.1608 - val_accuracy: 0.9822\n",
            "Epoch 70/100\n",
            "375/375 [==============================] - 1s 4ms/step - loss: 3.6701e-04 - accuracy: 0.9999 - val_loss: 0.1646 - val_accuracy: 0.9819\n",
            "Epoch 71/100\n",
            "375/375 [==============================] - 2s 5ms/step - loss: 6.5250e-04 - accuracy: 0.9996 - val_loss: 0.1676 - val_accuracy: 0.9829\n",
            "Epoch 72/100\n",
            "375/375 [==============================] - 2s 4ms/step - loss: 0.0010 - accuracy: 0.9998 - val_loss: 0.1649 - val_accuracy: 0.9822\n",
            "Epoch 73/100\n",
            "375/375 [==============================] - 2s 5ms/step - loss: 3.7437e-04 - accuracy: 0.9998 - val_loss: 0.1622 - val_accuracy: 0.9831\n",
            "Epoch 74/100\n",
            "375/375 [==============================] - 2s 4ms/step - loss: 5.9951e-04 - accuracy: 0.9999 - val_loss: 0.1802 - val_accuracy: 0.9818\n",
            "Epoch 75/100\n",
            "375/375 [==============================] - 2s 4ms/step - loss: 7.1196e-04 - accuracy: 0.9998 - val_loss: 0.1712 - val_accuracy: 0.9822\n",
            "Epoch 76/100\n",
            "375/375 [==============================] - 2s 4ms/step - loss: 6.7842e-04 - accuracy: 0.9998 - val_loss: 0.1926 - val_accuracy: 0.9819\n",
            "Epoch 77/100\n",
            "375/375 [==============================] - 2s 5ms/step - loss: 9.3021e-04 - accuracy: 0.9996 - val_loss: 0.2178 - val_accuracy: 0.9788\n",
            "Epoch 78/100\n",
            "375/375 [==============================] - 2s 4ms/step - loss: 5.8585e-04 - accuracy: 0.9998 - val_loss: 0.2021 - val_accuracy: 0.9800\n",
            "Epoch 79/100\n",
            "375/375 [==============================] - 2s 5ms/step - loss: 5.2884e-04 - accuracy: 0.9998 - val_loss: 0.1850 - val_accuracy: 0.9825\n",
            "Epoch 80/100\n",
            "375/375 [==============================] - 2s 5ms/step - loss: 1.8835e-04 - accuracy: 0.9999 - val_loss: 0.1816 - val_accuracy: 0.9819\n",
            "Epoch 81/100\n",
            "375/375 [==============================] - 2s 5ms/step - loss: 5.1170e-04 - accuracy: 0.9999 - val_loss: 0.1877 - val_accuracy: 0.9817\n",
            "Epoch 82/100\n",
            "375/375 [==============================] - 2s 5ms/step - loss: 5.7222e-04 - accuracy: 0.9998 - val_loss: 0.1923 - val_accuracy: 0.9814\n",
            "Epoch 83/100\n",
            "375/375 [==============================] - 2s 4ms/step - loss: 4.1988e-04 - accuracy: 0.9999 - val_loss: 0.1780 - val_accuracy: 0.9829\n",
            "Epoch 84/100\n",
            "375/375 [==============================] - 2s 4ms/step - loss: 3.1179e-04 - accuracy: 0.9999 - val_loss: 0.1737 - val_accuracy: 0.9827\n",
            "Epoch 85/100\n",
            "375/375 [==============================] - 2s 4ms/step - loss: 7.9888e-04 - accuracy: 0.9998 - val_loss: 0.1798 - val_accuracy: 0.9820\n",
            "Epoch 86/100\n",
            "375/375 [==============================] - 2s 4ms/step - loss: 5.0622e-04 - accuracy: 0.9998 - val_loss: 0.2018 - val_accuracy: 0.9815\n",
            "Epoch 87/100\n",
            "375/375 [==============================] - 2s 4ms/step - loss: 9.5114e-04 - accuracy: 0.9998 - val_loss: 0.1864 - val_accuracy: 0.9814\n",
            "Epoch 88/100\n",
            "375/375 [==============================] - 2s 4ms/step - loss: 4.0461e-04 - accuracy: 0.9999 - val_loss: 0.1979 - val_accuracy: 0.9804\n",
            "Epoch 89/100\n",
            "375/375 [==============================] - 2s 4ms/step - loss: 3.3601e-04 - accuracy: 0.9999 - val_loss: 0.1843 - val_accuracy: 0.9819\n",
            "Epoch 90/100\n",
            "375/375 [==============================] - 2s 4ms/step - loss: 8.1161e-04 - accuracy: 0.9996 - val_loss: 0.1975 - val_accuracy: 0.9818\n",
            "Epoch 91/100\n",
            "375/375 [==============================] - 2s 4ms/step - loss: 4.1780e-04 - accuracy: 0.9999 - val_loss: 0.1996 - val_accuracy: 0.9824\n",
            "Epoch 92/100\n",
            "375/375 [==============================] - 2s 4ms/step - loss: 7.2139e-04 - accuracy: 0.9997 - val_loss: 0.1863 - val_accuracy: 0.9822\n",
            "Epoch 93/100\n",
            "375/375 [==============================] - 2s 4ms/step - loss: 5.4107e-04 - accuracy: 0.9999 - val_loss: 0.1899 - val_accuracy: 0.9827\n",
            "Epoch 94/100\n",
            "375/375 [==============================] - 2s 4ms/step - loss: 8.6523e-04 - accuracy: 0.9998 - val_loss: 0.1851 - val_accuracy: 0.9824\n",
            "Epoch 95/100\n",
            "375/375 [==============================] - 2s 4ms/step - loss: 3.6297e-04 - accuracy: 0.9999 - val_loss: 0.1911 - val_accuracy: 0.9823\n",
            "Epoch 96/100\n",
            "375/375 [==============================] - 2s 4ms/step - loss: 6.6503e-04 - accuracy: 0.9998 - val_loss: 0.1867 - val_accuracy: 0.9833\n",
            "Epoch 97/100\n",
            "375/375 [==============================] - 2s 4ms/step - loss: 7.3888e-04 - accuracy: 0.9999 - val_loss: 0.1990 - val_accuracy: 0.9814\n",
            "Epoch 98/100\n",
            "375/375 [==============================] - 2s 4ms/step - loss: 5.2145e-04 - accuracy: 0.9999 - val_loss: 0.2024 - val_accuracy: 0.9812\n",
            "Epoch 99/100\n",
            "375/375 [==============================] - 2s 4ms/step - loss: 7.7980e-04 - accuracy: 0.9998 - val_loss: 0.1837 - val_accuracy: 0.9830\n",
            "Epoch 100/100\n",
            "375/375 [==============================] - 2s 4ms/step - loss: 7.0997e-04 - accuracy: 0.9998 - val_loss: 0.1930 - val_accuracy: 0.9818\n"
          ],
          "name": "stdout"
        }
      ]
    },
    {
      "cell_type": "markdown",
      "metadata": {
        "id": "7qYQE-xdlOOe"
      },
      "source": [
        "### 4) 학습결과 시각화 - Overfitting\n",
        "\n",
        "\n",
        "1. Loss"
      ]
    },
    {
      "cell_type": "code",
      "metadata": {
        "colab": {
          "base_uri": "https://localhost:8080/",
          "height": 404
        },
        "id": "c1bxUUIglMNR",
        "outputId": "37177a61-296d-42af-b811-1c0511d7e91c"
      },
      "source": [
        "import matplotlib.pyplot as plt\n",
        "\n",
        "epochs = range(1, len(Hist_mnist.history['loss']) + 1)\n",
        "\n",
        "plt.figure(figsize = (8,6))\n",
        "plt.plot(epochs, Hist_mnist.history['loss'])\n",
        "plt.plot(epochs, Hist_mnist.history['val_loss'])\n",
        "plt.ylim(0,0.25)\n",
        "plt.title('Training & Validation Loss')\n",
        "plt.xlabel('Epochs')\n",
        "plt.ylabel('Loss')\n",
        "plt.legend(['Training Loss', 'Validation Loss'])\n",
        "plt.grid()\n",
        "plt.show()"
      ],
      "execution_count": 20,
      "outputs": [
        {
          "output_type": "display_data",
          "data": {
            "image/png": "[encoded data removed]",
            "text/plain": [
              "<Figure size 576x432 with 1 Axes>"
            ]
          },
          "metadata": {
            "tags": [],
            "needs_background": "light"
          }
        }
      ]
    },
    {
      "cell_type": "markdown",
      "metadata": {
        "id": "qbzbpm1Bz65r"
      },
      "source": [
        "## 5) Model Evaluate"
      ]
    },
    {
      "cell_type": "code",
      "metadata": {
        "colab": {
          "base_uri": "https://localhost:8080/"
        },
        "id": "EuCa2JK30BE0",
        "outputId": "7cdde46f-4ab3-42fd-f163-de9ff10b10d1"
      },
      "source": [
        "loss, accuracy = mnist.evaluate(X_test, y_test)\n",
        "\n",
        "print('Loss : ', loss)\n",
        "print('accuracy : ', accuracy)"
      ],
      "execution_count": 17,
      "outputs": [
        {
          "output_type": "stream",
          "text": [
            "313/313 [==============================] - 1s 2ms/step - loss: 0.1669 - accuracy: 0.9834\n",
            "Loss :  0.1669163852930069\n",
            "accuracy :  0.9833999872207642\n"
          ],
          "name": "stdout"
        }
      ]
    },
    {
      "cell_type": "code",
      "metadata": {
        "colab": {
          "base_uri": "https://localhost:8080/"
        },
        "id": "yqt3sjRdsFM2",
        "outputId": "73c15fb9-e9fb-4cb7-fa11-7348ff2269d4"
      },
      "source": [
        "np.set_printoptions(suppress = True, precision = 9)\n",
        "print(mnist.predict(X_test[:1,:]))\n"
      ],
      "execution_count": 21,
      "outputs": [
        {
          "output_type": "stream",
          "text": [
            "[[0. 0. 0. 0. 0. 0. 0. 1. 0. 0.]]\n"
          ],
          "name": "stdout"
        }
      ]
    }
  ]
}