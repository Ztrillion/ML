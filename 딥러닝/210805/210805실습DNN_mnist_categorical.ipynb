{
  "nbformat": 4,
  "nbformat_minor": 0,
  "metadata": {
    "colab": {
      "name": "210805실습DNN_mnist-categorical.ipynb",
      "provenance": [],
      "collapsed_sections": []
    },
    "kernelspec": {
      "name": "python3",
      "display_name": "Python 3"
    },
    "language_info": {
      "name": "python"
    },
    "accelerator": "GPU"
  },
  "cells": [
    {
      "cell_type": "markdown",
      "metadata": {
        "id": "ZsGaay6leBNn"
      },
      "source": [
        "# MNIST - Categorical Classfication\n",
        "\n",
        "  Overfitting Issue\n",
        "\n",
        "## Import Tensorflow"
      ]
    },
    {
      "cell_type": "code",
      "metadata": {
        "colab": {
          "base_uri": "https://localhost:8080/",
          "height": 35
        },
        "id": "Rs0XUlbpeQcr",
        "outputId": "de077b11-2d32-4ba0-b2e2-b4d8ff3f0355"
      },
      "source": [
        "import warnings\n",
        "warnings.filterwarnings('ignore')\n",
        "\n",
        "import tensorflow as tf\n",
        "tf.__version__"
      ],
      "execution_count": 1,
      "outputs": [
        {
          "output_type": "execute_result",
          "data": {
            "application/vnd.google.colaboratory.intrinsic+json": {
              "type": "string"
            },
            "text/plain": [
              "'2.5.0'"
            ]
          },
          "metadata": {
            "tags": []
          },
          "execution_count": 1
        }
      ]
    },
    {
      "cell_type": "code",
      "metadata": {
        "colab": {
          "base_uri": "https://localhost:8080/",
          "height": 35
        },
        "id": "H-p4saYmeaRi",
        "outputId": "21e0cfd5-e96c-431b-fbd2-02684e33bfb2"
      },
      "source": [
        "tf.test.gpu_device_name()"
      ],
      "execution_count": 2,
      "outputs": [
        {
          "output_type": "execute_result",
          "data": {
            "application/vnd.google.colaboratory.intrinsic+json": {
              "type": "string"
            },
            "text/plain": [
              "'/device:GPU:0'"
            ]
          },
          "metadata": {
            "tags": []
          },
          "execution_count": 2
        }
      ]
    },
    {
      "cell_type": "markdown",
      "metadata": {
        "id": "__0ZUl6-ex0B"
      },
      "source": [
        "## 1. MNIST Data_Set Load & Review\n",
        "\n",
        "### 1) Load MNIST Data_Set"
      ]
    },
    {
      "cell_type": "code",
      "metadata": {
        "id": "pJ5xaQ4neu5M"
      },
      "source": [
        "from tensorflow.keras.datasets import mnist\n",
        "\n",
        "(X_train,y_train),(X_test,y_test) = mnist.load_data()"
      ],
      "execution_count": 3,
      "outputs": []
    },
    {
      "cell_type": "code",
      "metadata": {
        "colab": {
          "base_uri": "https://localhost:8080/"
        },
        "id": "n2csvlwLfNL6",
        "outputId": "95532298-47be-4061-b5e7-6b468dc9f5ed"
      },
      "source": [
        "print(len(X_train),X_train.shape)\n",
        "print(len(y_train),y_train[:5])\n",
        "print(len(X_test),X_test.shape)\n",
        "print(len(y_test),y_test[:5])"
      ],
      "execution_count": 4,
      "outputs": [
        {
          "output_type": "stream",
          "text": [
            "60000 (60000, 28, 28)\n",
            "60000 [5 0 4 1 9]\n",
            "10000 (10000, 28, 28)\n",
            "10000 [7 2 1 0 4]\n"
          ],
          "name": "stdout"
        }
      ]
    },
    {
      "cell_type": "markdown",
      "metadata": {
        "id": "btLPM86BgCFu"
      },
      "source": [
        "### 2) Visualization"
      ]
    },
    {
      "cell_type": "code",
      "metadata": {
        "colab": {
          "base_uri": "https://localhost:8080/",
          "height": 265
        },
        "id": "6987uNBdfSjM",
        "outputId": "52da15e5-cbc1-4c72-b0b7-1380ac3f38aa"
      },
      "source": [
        "import matplotlib.pyplot as plt\n",
        "\n",
        "digit = X_train[4]\n",
        "plt.imshow(digit,cmap='gray')\n",
        "plt.show()"
      ],
      "execution_count": 5,
      "outputs": [
        {
          "output_type": "display_data",
          "data": {
            "image/png": "[encoded data removed]",
            "text/plain": [
              "<Figure size 432x288 with 1 Axes>"
            ]
          },
          "metadata": {
            "tags": [],
            "needs_background": "light"
          }
        }
      ]
    },
    {
      "cell_type": "code",
      "metadata": {
        "colab": {
          "base_uri": "https://localhost:8080/"
        },
        "id": "AbPobGyBgRpz",
        "outputId": "ff122d0d-4482-4f97-de10-03580890f62e"
      },
      "source": [
        "import numpy as np\n",
        "\n",
        "np.set_printoptions(linewidth=150)\n",
        "print(X_train[4])"
      ],
      "execution_count": 6,
      "outputs": [
        {
          "output_type": "stream",
          "text": [
            "[[  0   0   0   0   0   0   0   0   0   0   0   0   0   0   0   0   0   0   0   0   0   0   0   0   0   0   0   0]\n",
            " [  0   0   0   0   0   0   0   0   0   0   0   0   0   0   0   0   0   0   0   0   0   0   0   0   0   0   0   0]\n",
            " [  0   0   0   0   0   0   0   0   0   0   0   0   0   0   0   0   0   0   0   0   0   0   0   0   0   0   0   0]\n",
            " [  0   0   0   0   0   0   0   0   0   0   0   0   0   0   0   0   0   0   0   0   0   0   0   0   0   0   0   0]\n",
            " [  0   0   0   0   0   0   0   0   0   0   0   0   0   0   0   0   0   0   0   0   0   0   0   0   0   0   0   0]\n",
            " [  0   0   0   0   0   0   0   0   0   0   0   0   0   0   0   0   0   0   0   0   0   0   0   0   0   0   0   0]\n",
            " [  0   0   0   0   0   0   0   0   0   0   0   0   0   0   0   0   0   0   0   0   0   0   0   0   0   0   0   0]\n",
            " [  0   0   0   0   0   0   0   0   0   0   0   0  55 148 210 253 253 113  87 148  55   0   0   0   0   0   0   0]\n",
            " [  0   0   0   0   0   0   0   0   0   0   0  87 232 252 253 189 210 252 252 253 168   0   0   0   0   0   0   0]\n",
            " [  0   0   0   0   0   0   0   0   0   4  57 242 252 190  65   5  12 182 252 253 116   0   0   0   0   0   0   0]\n",
            " [  0   0   0   0   0   0   0   0   0  96 252 252 183  14   0   0  92 252 252 225  21   0   0   0   0   0   0   0]\n",
            " [  0   0   0   0   0   0   0   0 132 253 252 146  14   0   0   0 215 252 252  79   0   0   0   0   0   0   0   0]\n",
            " [  0   0   0   0   0   0   0 126 253 247 176   9   0   0   8  78 245 253 129   0   0   0   0   0   0   0   0   0]\n",
            " [  0   0   0   0   0   0  16 232 252 176   0   0   0  36 201 252 252 169  11   0   0   0   0   0   0   0   0   0]\n",
            " [  0   0   0   0   0   0  22 252 252  30  22 119 197 241 253 252 251  77   0   0   0   0   0   0   0   0   0   0]\n",
            " [  0   0   0   0   0   0  16 231 252 253 252 252 252 226 227 252 231   0   0   0   0   0   0   0   0   0   0   0]\n",
            " [  0   0   0   0   0   0   0  55 235 253 217 138  42  24 192 252 143   0   0   0   0   0   0   0   0   0   0   0]\n",
            " [  0   0   0   0   0   0   0   0   0   0   0   0   0  62 255 253 109   0   0   0   0   0   0   0   0   0   0   0]\n",
            " [  0   0   0   0   0   0   0   0   0   0   0   0   0  71 253 252  21   0   0   0   0   0   0   0   0   0   0   0]\n",
            " [  0   0   0   0   0   0   0   0   0   0   0   0   0   0 253 252  21   0   0   0   0   0   0   0   0   0   0   0]\n",
            " [  0   0   0   0   0   0   0   0   0   0   0   0   0  71 253 252  21   0   0   0   0   0   0   0   0   0   0   0]\n",
            " [  0   0   0   0   0   0   0   0   0   0   0   0   0 106 253 252  21   0   0   0   0   0   0   0   0   0   0   0]\n",
            " [  0   0   0   0   0   0   0   0   0   0   0   0   0  45 255 253  21   0   0   0   0   0   0   0   0   0   0   0]\n",
            " [  0   0   0   0   0   0   0   0   0   0   0   0   0   0 218 252  56   0   0   0   0   0   0   0   0   0   0   0]\n",
            " [  0   0   0   0   0   0   0   0   0   0   0   0   0   0  96 252 189  42   0   0   0   0   0   0   0   0   0   0]\n",
            " [  0   0   0   0   0   0   0   0   0   0   0   0   0   0  14 184 252 170  11   0   0   0   0   0   0   0   0   0]\n",
            " [  0   0   0   0   0   0   0   0   0   0   0   0   0   0   0  14 147 252  42   0   0   0   0   0   0   0   0   0]\n",
            " [  0   0   0   0   0   0   0   0   0   0   0   0   0   0   0   0   0   0   0   0   0   0   0   0   0   0   0   0]]\n"
          ],
          "name": "stdout"
        }
      ]
    },
    {
      "cell_type": "markdown",
      "metadata": {
        "id": "c2qGjp-3gos_"
      },
      "source": [
        "## Data Preprocessing\n",
        "\n",
        "### 1) Reshape and Encoding\n",
        "\n",
        "- reshape X_train(60000, 28, 28) -> (60000,784), X_test(10000, 28, 28) -> (10000,784)\n",
        "          "
      ]
    },
    {
      "cell_type": "code",
      "metadata": {
        "colab": {
          "base_uri": "https://localhost:8080/"
        },
        "id": "OlMVBOCZgjka",
        "outputId": "363c4678-c09d-4ec6-e7fd-2511bd73c704"
      },
      "source": [
        "X_train = X_train.reshape(60000,28*28)\n",
        "X_test = X_test.reshape(10000,28*28)\n",
        "X_train.shape, X_test.shape"
      ],
      "execution_count": 7,
      "outputs": [
        {
          "output_type": "execute_result",
          "data": {
            "text/plain": [
              "((60000, 784), (10000, 784))"
            ]
          },
          "metadata": {
            "tags": []
          },
          "execution_count": 7
        }
      ]
    },
    {
      "cell_type": "markdown",
      "metadata": {
        "id": "NGCj6qNphbpv"
      },
      "source": [
        "\n",
        "- Nomalization 0~1사이 값으로 변환"
      ]
    },
    {
      "cell_type": "code",
      "metadata": {
        "colab": {
          "base_uri": "https://localhost:8080/"
        },
        "id": "ma6I34njhP2L",
        "outputId": "f20ccce7-15d6-4ae3-c864-3eb92ab04af1"
      },
      "source": [
        "X_train = X_train.astype(float)/255\n",
        "X_test = X_test.astype(float)/255\n",
        "print(X_train[4])"
      ],
      "execution_count": 8,
      "outputs": [
        {
          "output_type": "stream",
          "text": [
            "[0.         0.         0.         0.         0.         0.         0.         0.         0.         0.         0.         0.         0.\n",
            " 0.         0.         0.         0.         0.         0.         0.         0.         0.         0.         0.         0.         0.\n",
            " 0.         0.         0.         0.         0.         0.         0.         0.         0.         0.         0.         0.         0.\n",
            " 0.         0.         0.         0.         0.         0.         0.         0.         0.         0.         0.         0.         0.\n",
            " 0.         0.         0.         0.         0.         0.         0.         0.         0.         0.         0.         0.         0.\n",
            " 0.         0.         0.         0.         0.         0.         0.         0.         0.         0.         0.         0.         0.\n",
            " 0.         0.         0.         0.         0.         0.         0.         0.         0.         0.         0.         0.         0.\n",
            " 0.         0.         0.         0.         0.         0.         0.         0.         0.         0.         0.         0.         0.\n",
            " 0.         0.         0.         0.         0.         0.         0.         0.         0.         0.         0.         0.         0.\n",
            " 0.         0.         0.         0.         0.         0.         0.         0.         0.         0.         0.         0.         0.\n",
            " 0.         0.         0.         0.         0.         0.         0.         0.         0.         0.         0.         0.         0.\n",
            " 0.         0.         0.         0.         0.         0.         0.         0.         0.         0.         0.         0.         0.\n",
            " 0.         0.         0.         0.         0.         0.         0.         0.         0.         0.         0.         0.         0.\n",
            " 0.         0.         0.         0.         0.         0.         0.         0.         0.         0.         0.         0.         0.\n",
            " 0.         0.         0.         0.         0.         0.         0.         0.         0.         0.         0.         0.         0.\n",
            " 0.         0.         0.         0.         0.         0.         0.         0.         0.         0.         0.         0.         0.\n",
            " 0.21568627 0.58039216 0.82352941 0.99215686 0.99215686 0.44313725 0.34117647 0.58039216 0.21568627 0.         0.         0.         0.\n",
            " 0.         0.         0.         0.         0.         0.         0.         0.         0.         0.         0.         0.         0.\n",
            " 0.         0.34117647 0.90980392 0.98823529 0.99215686 0.74117647 0.82352941 0.98823529 0.98823529 0.99215686 0.65882353 0.         0.\n",
            " 0.         0.         0.         0.         0.         0.         0.         0.         0.         0.         0.         0.         0.\n",
            " 0.         0.01568627 0.22352941 0.94901961 0.98823529 0.74509804 0.25490196 0.01960784 0.04705882 0.71372549 0.98823529 0.99215686 0.45490196\n",
            " 0.         0.         0.         0.         0.         0.         0.         0.         0.         0.         0.         0.         0.\n",
            " 0.         0.         0.         0.37647059 0.98823529 0.98823529 0.71764706 0.05490196 0.         0.         0.36078431 0.98823529 0.98823529\n",
            " 0.88235294 0.08235294 0.         0.         0.         0.         0.         0.         0.         0.         0.         0.         0.\n",
            " 0.         0.         0.         0.         0.51764706 0.99215686 0.98823529 0.57254902 0.05490196 0.         0.         0.         0.84313725\n",
            " 0.98823529 0.98823529 0.30980392 0.         0.         0.         0.         0.         0.         0.         0.         0.         0.\n",
            " 0.         0.         0.         0.         0.         0.49411765 0.99215686 0.96862745 0.69019608 0.03529412 0.         0.         0.03137255\n",
            " 0.30588235 0.96078431 0.99215686 0.50588235 0.         0.         0.         0.         0.         0.         0.         0.         0.\n",
            " 0.         0.         0.         0.         0.         0.         0.0627451  0.90980392 0.98823529 0.69019608 0.         0.         0.\n",
            " 0.14117647 0.78823529 0.98823529 0.98823529 0.6627451  0.04313725 0.         0.         0.         0.         0.         0.         0.\n",
            " 0.         0.         0.         0.         0.         0.         0.         0.         0.08627451 0.98823529 0.98823529 0.11764706 0.08627451\n",
            " 0.46666667 0.77254902 0.94509804 0.99215686 0.98823529 0.98431373 0.30196078 0.         0.         0.         0.         0.         0.\n",
            " 0.         0.         0.         0.         0.         0.         0.         0.         0.         0.         0.0627451  0.90588235 0.98823529\n",
            " 0.99215686 0.98823529 0.98823529 0.98823529 0.88627451 0.89019608 0.98823529 0.90588235 0.         0.         0.         0.         0.\n",
            " 0.         0.         0.         0.         0.         0.         0.         0.         0.         0.         0.         0.         0.\n",
            " 0.21568627 0.92156863 0.99215686 0.85098039 0.54117647 0.16470588 0.09411765 0.75294118 0.98823529 0.56078431 0.         0.         0.\n",
            " 0.         0.         0.         0.         0.         0.         0.         0.         0.         0.         0.         0.         0.\n",
            " 0.         0.         0.         0.         0.         0.         0.         0.         0.24313725 1.         0.99215686 0.42745098 0.\n",
            " 0.         0.         0.         0.         0.         0.         0.         0.         0.         0.         0.         0.         0.\n",
            " 0.         0.         0.         0.         0.         0.         0.         0.         0.         0.         0.27843137 0.99215686 0.98823529\n",
            " 0.08235294 0.         0.         0.         0.         0.         0.         0.         0.         0.         0.         0.         0.\n",
            " 0.         0.         0.         0.         0.         0.         0.         0.         0.         0.         0.         0.         0.\n",
            " 0.99215686 0.98823529 0.08235294 0.         0.         0.         0.         0.         0.         0.         0.         0.         0.\n",
            " 0.         0.         0.         0.         0.         0.         0.         0.         0.         0.         0.         0.         0.\n",
            " 0.         0.27843137 0.99215686 0.98823529 0.08235294 0.         0.         0.         0.         0.         0.         0.         0.\n",
            " 0.         0.         0.         0.         0.         0.         0.         0.         0.         0.         0.         0.         0.\n",
            " 0.         0.         0.         0.41568627 0.99215686 0.98823529 0.08235294 0.         0.         0.         0.         0.         0.\n",
            " 0.         0.         0.         0.         0.         0.         0.         0.         0.         0.         0.         0.         0.\n",
            " 0.         0.         0.         0.         0.         0.17647059 1.         0.99215686 0.08235294 0.         0.         0.         0.\n",
            " 0.         0.         0.         0.         0.         0.         0.         0.         0.         0.         0.         0.         0.\n",
            " 0.         0.         0.         0.         0.         0.         0.         0.         0.85490196 0.98823529 0.21960784 0.         0.\n",
            " 0.         0.         0.         0.         0.         0.         0.         0.         0.         0.         0.         0.         0.\n",
            " 0.         0.         0.         0.         0.         0.         0.         0.         0.         0.         0.37647059 0.98823529 0.74117647\n",
            " 0.16470588 0.         0.         0.         0.         0.         0.         0.         0.         0.         0.         0.         0.\n",
            " 0.         0.         0.         0.         0.         0.         0.         0.         0.         0.         0.         0.         0.05490196\n",
            " 0.72156863 0.98823529 0.66666667 0.04313725 0.         0.         0.         0.         0.         0.         0.         0.         0.\n",
            " 0.         0.         0.         0.         0.         0.         0.         0.         0.         0.         0.         0.         0.\n",
            " 0.         0.         0.05490196 0.57647059 0.98823529 0.16470588 0.         0.         0.         0.         0.         0.         0.\n",
            " 0.         0.         0.         0.         0.         0.         0.         0.         0.         0.         0.         0.         0.\n",
            " 0.         0.         0.         0.         0.         0.         0.         0.         0.         0.         0.         0.         0.\n",
            " 0.         0.         0.         0.        ]\n"
          ],
          "name": "stdout"
        }
      ]
    },
    {
      "cell_type": "markdown",
      "metadata": {
        "id": "cRIx5O2MhxXs"
      },
      "source": [
        "- One-Hot Encoding"
      ]
    },
    {
      "cell_type": "code",
      "metadata": {
        "colab": {
          "base_uri": "https://localhost:8080/"
        },
        "id": "a-JGlwUshtuy",
        "outputId": "2c5cc031-889c-43bc-b728-14c4f5efde01"
      },
      "source": [
        "from tensorflow.keras.utils import to_categorical\n",
        "\n",
        "y_train = to_categorical(y_train)\n",
        "y_test = to_categorical(y_test)\n",
        "print(y_train[:5])"
      ],
      "execution_count": 9,
      "outputs": [
        {
          "output_type": "stream",
          "text": [
            "[[0. 0. 0. 0. 0. 1. 0. 0. 0. 0.]\n",
            " [1. 0. 0. 0. 0. 0. 0. 0. 0. 0.]\n",
            " [0. 0. 0. 0. 1. 0. 0. 0. 0. 0.]\n",
            " [0. 1. 0. 0. 0. 0. 0. 0. 0. 0.]\n",
            " [0. 0. 0. 0. 0. 0. 0. 0. 0. 1.]]\n"
          ],
          "name": "stdout"
        }
      ]
    },
    {
      "cell_type": "markdown",
      "metadata": {
        "id": "DkFz5kF0jdG9"
      },
      "source": [
        "## 3.MNIST Keras Modeling\n",
        "\n",
        "### 1) Model Define\n",
        "\n",
        "    - 모델 신경망 구조 정의\n",
        "      - 2개의 Hidden Layers & 768개의 Nodes\n",
        "      - 복잡한 Model Capacity로 인한 Overfitting"
      ]
    },
    {
      "cell_type": "code",
      "metadata": {
        "id": "PR7qVfcJiHzD"
      },
      "source": [
        "from tensorflow.keras import models\n",
        "from tensorflow.keras import layers\n",
        "\n",
        "mnist = models.Sequential()\n",
        "mnist.add(layers.Dense(512, activation='relu', input_shape=(28 * 28,)))\n",
        "mnist.add(layers.Dense(256, activation='relu'))\n",
        "mnist.add(layers.Dense(10, activation='softmax'))"
      ],
      "execution_count": 10,
      "outputs": []
    },
    {
      "cell_type": "code",
      "metadata": {
        "colab": {
          "base_uri": "https://localhost:8080/"
        },
        "id": "N9oJ2YyzkVgv",
        "outputId": "f102b91e-a2b8-4601-de69-b3ce01e71a55"
      },
      "source": [
        "mnist.summary()"
      ],
      "execution_count": 11,
      "outputs": [
        {
          "output_type": "stream",
          "text": [
            "Model: \"sequential\"\n",
            "_________________________________________________________________\n",
            "Layer (type)                 Output Shape              Param #   \n",
            "=================================================================\n",
            "dense (Dense)                (None, 512)               401920    \n",
            "_________________________________________________________________\n",
            "dense_1 (Dense)              (None, 256)               131328    \n",
            "_________________________________________________________________\n",
            "dense_2 (Dense)              (None, 10)                2570      \n",
            "=================================================================\n",
            "Total params: 535,818\n",
            "Trainable params: 535,818\n",
            "Non-trainable params: 0\n",
            "_________________________________________________________________\n"
          ],
          "name": "stdout"
        }
      ]
    },
    {
      "cell_type": "markdown",
      "metadata": {
        "id": "-pswULv6kbdX"
      },
      "source": [
        "### 2) Model Compile\n",
        "\n",
        "- 학습방법 설정"
      ]
    },
    {
      "cell_type": "code",
      "metadata": {
        "id": "F9fAoJKhkX2x"
      },
      "source": [
        "mnist.compile(loss = 'categorical_crossentropy', optimizer='rmsprop', metrics=['accuracy'])"
      ],
      "execution_count": 12,
      "outputs": []
    },
    {
      "cell_type": "markdown",
      "metadata": {
        "id": "eTV4NrlVk59O"
      },
      "source": [
        "### 3)Model Fit"
      ]
    },
    {
      "cell_type": "code",
      "metadata": {
        "colab": {
          "base_uri": "https://localhost:8080/"
        },
        "id": "Lsi2FE9tk4Tu",
        "outputId": "8191b34b-50ff-47f8-a281-48f34b2cdd00"
      },
      "source": [
        "%time\n",
        "\n",
        "Hist_mnist = mnist.fit(X_train,y_train,\n",
        "                       epochs=100,\n",
        "                       batch_size = 128,\n",
        "                       validation_split = 0.2)"
      ],
      "execution_count": 13,
      "outputs": [
        {
          "output_type": "stream",
          "text": [
            "CPU times: user 3 µs, sys: 0 ns, total: 3 µs\n",
            "Wall time: 7.39 µs\n",
            "Epoch 1/100\n",
            "375/375 [==============================] - 2s 4ms/step - loss: 0.2500 - accuracy: 0.9226 - val_loss: 0.1241 - val_accuracy: 0.9622\n",
            "Epoch 2/100\n",
            "375/375 [==============================] - 1s 3ms/step - loss: 0.0922 - accuracy: 0.9719 - val_loss: 0.1066 - val_accuracy: 0.9683\n",
            "Epoch 3/100\n",
            "375/375 [==============================] - 1s 3ms/step - loss: 0.0592 - accuracy: 0.9819 - val_loss: 0.0923 - val_accuracy: 0.9737\n",
            "Epoch 4/100\n",
            "375/375 [==============================] - 1s 3ms/step - loss: 0.0418 - accuracy: 0.9868 - val_loss: 0.0979 - val_accuracy: 0.9746\n",
            "Epoch 5/100\n",
            "375/375 [==============================] - 1s 3ms/step - loss: 0.0302 - accuracy: 0.9905 - val_loss: 0.0868 - val_accuracy: 0.9782\n",
            "Epoch 6/100\n",
            "375/375 [==============================] - 1s 3ms/step - loss: 0.0238 - accuracy: 0.9923 - val_loss: 0.0969 - val_accuracy: 0.9783\n",
            "Epoch 7/100\n",
            "375/375 [==============================] - 1s 3ms/step - loss: 0.0176 - accuracy: 0.9945 - val_loss: 0.1165 - val_accuracy: 0.9758\n",
            "Epoch 8/100\n",
            "375/375 [==============================] - 1s 3ms/step - loss: 0.0147 - accuracy: 0.9957 - val_loss: 0.1214 - val_accuracy: 0.9779\n",
            "Epoch 9/100\n",
            "375/375 [==============================] - 1s 3ms/step - loss: 0.0108 - accuracy: 0.9964 - val_loss: 0.1170 - val_accuracy: 0.9793\n",
            "Epoch 10/100\n",
            "375/375 [==============================] - 1s 3ms/step - loss: 0.0095 - accuracy: 0.9970 - val_loss: 0.1256 - val_accuracy: 0.9796\n",
            "Epoch 11/100\n",
            "375/375 [==============================] - 1s 3ms/step - loss: 0.0075 - accuracy: 0.9974 - val_loss: 0.1446 - val_accuracy: 0.9771\n",
            "Epoch 12/100\n",
            "375/375 [==============================] - 1s 3ms/step - loss: 0.0084 - accuracy: 0.9973 - val_loss: 0.1361 - val_accuracy: 0.9789\n",
            "Epoch 13/100\n",
            "375/375 [==============================] - 1s 3ms/step - loss: 0.0057 - accuracy: 0.9981 - val_loss: 0.1424 - val_accuracy: 0.9797\n",
            "Epoch 14/100\n",
            "375/375 [==============================] - 1s 3ms/step - loss: 0.0060 - accuracy: 0.9978 - val_loss: 0.1417 - val_accuracy: 0.9799\n",
            "Epoch 15/100\n",
            "375/375 [==============================] - 1s 3ms/step - loss: 0.0058 - accuracy: 0.9983 - val_loss: 0.1456 - val_accuracy: 0.9802\n",
            "Epoch 16/100\n",
            "375/375 [==============================] - 1s 4ms/step - loss: 0.0045 - accuracy: 0.9986 - val_loss: 0.1582 - val_accuracy: 0.9791\n",
            "Epoch 17/100\n",
            "375/375 [==============================] - 1s 3ms/step - loss: 0.0044 - accuracy: 0.9987 - val_loss: 0.1830 - val_accuracy: 0.9805\n",
            "Epoch 18/100\n",
            "375/375 [==============================] - 1s 3ms/step - loss: 0.0036 - accuracy: 0.9987 - val_loss: 0.1815 - val_accuracy: 0.9798\n",
            "Epoch 19/100\n",
            "375/375 [==============================] - 1s 3ms/step - loss: 0.0047 - accuracy: 0.9986 - val_loss: 0.1957 - val_accuracy: 0.9795\n",
            "Epoch 20/100\n",
            "375/375 [==============================] - 1s 4ms/step - loss: 0.0034 - accuracy: 0.9991 - val_loss: 0.1967 - val_accuracy: 0.9801\n",
            "Epoch 21/100\n",
            "375/375 [==============================] - 1s 3ms/step - loss: 0.0037 - accuracy: 0.9987 - val_loss: 0.1975 - val_accuracy: 0.9807\n",
            "Epoch 22/100\n",
            "375/375 [==============================] - 1s 4ms/step - loss: 0.0037 - accuracy: 0.9990 - val_loss: 0.1805 - val_accuracy: 0.9813\n",
            "Epoch 23/100\n",
            "375/375 [==============================] - 1s 3ms/step - loss: 0.0027 - accuracy: 0.9993 - val_loss: 0.2239 - val_accuracy: 0.9778\n",
            "Epoch 24/100\n",
            "375/375 [==============================] - 1s 4ms/step - loss: 0.0027 - accuracy: 0.9992 - val_loss: 0.2214 - val_accuracy: 0.9778\n",
            "Epoch 25/100\n",
            "375/375 [==============================] - 1s 3ms/step - loss: 0.0034 - accuracy: 0.9990 - val_loss: 0.2431 - val_accuracy: 0.9768\n",
            "Epoch 26/100\n",
            "375/375 [==============================] - 1s 3ms/step - loss: 0.0024 - accuracy: 0.9993 - val_loss: 0.1927 - val_accuracy: 0.9818\n",
            "Epoch 27/100\n",
            "375/375 [==============================] - 1s 4ms/step - loss: 0.0028 - accuracy: 0.9993 - val_loss: 0.2023 - val_accuracy: 0.9815\n",
            "Epoch 28/100\n",
            "375/375 [==============================] - 1s 4ms/step - loss: 0.0036 - accuracy: 0.9992 - val_loss: 0.2274 - val_accuracy: 0.9804\n",
            "Epoch 29/100\n",
            "375/375 [==============================] - 1s 3ms/step - loss: 0.0029 - accuracy: 0.9992 - val_loss: 0.2205 - val_accuracy: 0.9810\n",
            "Epoch 30/100\n",
            "375/375 [==============================] - 1s 3ms/step - loss: 0.0022 - accuracy: 0.9995 - val_loss: 0.2602 - val_accuracy: 0.9792\n",
            "Epoch 31/100\n",
            "375/375 [==============================] - 1s 3ms/step - loss: 0.0019 - accuracy: 0.9994 - val_loss: 0.2454 - val_accuracy: 0.9801\n",
            "Epoch 32/100\n",
            "375/375 [==============================] - 1s 3ms/step - loss: 0.0016 - accuracy: 0.9996 - val_loss: 0.2432 - val_accuracy: 0.9810\n",
            "Epoch 33/100\n",
            "375/375 [==============================] - 1s 4ms/step - loss: 0.0036 - accuracy: 0.9993 - val_loss: 0.2714 - val_accuracy: 0.9803\n",
            "Epoch 34/100\n",
            "375/375 [==============================] - 1s 4ms/step - loss: 0.0021 - accuracy: 0.9994 - val_loss: 0.2955 - val_accuracy: 0.9782\n",
            "Epoch 35/100\n",
            "375/375 [==============================] - 1s 3ms/step - loss: 0.0024 - accuracy: 0.9995 - val_loss: 0.2550 - val_accuracy: 0.9810\n",
            "Epoch 36/100\n",
            "375/375 [==============================] - 1s 4ms/step - loss: 0.0016 - accuracy: 0.9996 - val_loss: 0.2852 - val_accuracy: 0.9784\n",
            "Epoch 37/100\n",
            "375/375 [==============================] - 1s 3ms/step - loss: 0.0022 - accuracy: 0.9994 - val_loss: 0.2584 - val_accuracy: 0.9812\n",
            "Epoch 38/100\n",
            "375/375 [==============================] - 1s 4ms/step - loss: 0.0024 - accuracy: 0.9996 - val_loss: 0.2641 - val_accuracy: 0.9809\n",
            "Epoch 39/100\n",
            "375/375 [==============================] - 1s 3ms/step - loss: 0.0015 - accuracy: 0.9996 - val_loss: 0.2798 - val_accuracy: 0.9803\n",
            "Epoch 40/100\n",
            "375/375 [==============================] - 1s 4ms/step - loss: 0.0024 - accuracy: 0.9994 - val_loss: 0.2729 - val_accuracy: 0.9813\n",
            "Epoch 41/100\n",
            "375/375 [==============================] - 1s 3ms/step - loss: 0.0017 - accuracy: 0.9996 - val_loss: 0.3238 - val_accuracy: 0.9799\n",
            "Epoch 42/100\n",
            "375/375 [==============================] - 1s 3ms/step - loss: 0.0040 - accuracy: 0.9994 - val_loss: 0.3047 - val_accuracy: 0.9808\n",
            "Epoch 43/100\n",
            "375/375 [==============================] - 1s 4ms/step - loss: 0.0030 - accuracy: 0.9993 - val_loss: 0.2738 - val_accuracy: 0.9816\n",
            "Epoch 44/100\n",
            "375/375 [==============================] - 1s 3ms/step - loss: 0.0019 - accuracy: 0.9997 - val_loss: 0.2820 - val_accuracy: 0.9807\n",
            "Epoch 45/100\n",
            "375/375 [==============================] - 1s 3ms/step - loss: 0.0013 - accuracy: 0.9997 - val_loss: 0.3028 - val_accuracy: 0.9795\n",
            "Epoch 46/100\n",
            "375/375 [==============================] - 1s 3ms/step - loss: 0.0013 - accuracy: 0.9996 - val_loss: 0.3103 - val_accuracy: 0.9801\n",
            "Epoch 47/100\n",
            "375/375 [==============================] - 1s 3ms/step - loss: 9.5321e-04 - accuracy: 0.9996 - val_loss: 0.3583 - val_accuracy: 0.9762\n",
            "Epoch 48/100\n",
            "375/375 [==============================] - 1s 3ms/step - loss: 9.0266e-04 - accuracy: 0.9997 - val_loss: 0.3003 - val_accuracy: 0.9806\n",
            "Epoch 49/100\n",
            "375/375 [==============================] - 1s 3ms/step - loss: 9.9006e-04 - accuracy: 0.9998 - val_loss: 0.3182 - val_accuracy: 0.9808\n",
            "Epoch 50/100\n",
            "375/375 [==============================] - 1s 4ms/step - loss: 0.0010 - accuracy: 0.9998 - val_loss: 0.2989 - val_accuracy: 0.9820\n",
            "Epoch 51/100\n",
            "375/375 [==============================] - 1s 3ms/step - loss: 8.3909e-04 - accuracy: 0.9998 - val_loss: 0.3113 - val_accuracy: 0.9802\n",
            "Epoch 52/100\n",
            "375/375 [==============================] - 1s 3ms/step - loss: 0.0012 - accuracy: 0.9998 - val_loss: 0.3345 - val_accuracy: 0.9783\n",
            "Epoch 53/100\n",
            "375/375 [==============================] - 1s 3ms/step - loss: 0.0019 - accuracy: 0.9996 - val_loss: 0.2922 - val_accuracy: 0.9820\n",
            "Epoch 54/100\n",
            "375/375 [==============================] - 1s 3ms/step - loss: 0.0013 - accuracy: 0.9997 - val_loss: 0.3039 - val_accuracy: 0.9822\n",
            "Epoch 55/100\n",
            "375/375 [==============================] - 1s 3ms/step - loss: 0.0011 - accuracy: 0.9997 - val_loss: 0.3844 - val_accuracy: 0.9777\n",
            "Epoch 56/100\n",
            "375/375 [==============================] - 1s 4ms/step - loss: 0.0022 - accuracy: 0.9995 - val_loss: 0.3216 - val_accuracy: 0.9801\n",
            "Epoch 57/100\n",
            "375/375 [==============================] - 1s 3ms/step - loss: 6.9995e-04 - accuracy: 0.9998 - val_loss: 0.3064 - val_accuracy: 0.9820\n",
            "Epoch 58/100\n",
            "375/375 [==============================] - 1s 3ms/step - loss: 5.3424e-04 - accuracy: 0.9999 - val_loss: 0.4115 - val_accuracy: 0.9774\n",
            "Epoch 59/100\n",
            "375/375 [==============================] - 1s 3ms/step - loss: 0.0012 - accuracy: 0.9998 - val_loss: 0.3599 - val_accuracy: 0.9805\n",
            "Epoch 60/100\n",
            "375/375 [==============================] - 1s 3ms/step - loss: 0.0014 - accuracy: 0.9998 - val_loss: 0.3546 - val_accuracy: 0.9819\n",
            "Epoch 61/100\n",
            "375/375 [==============================] - 1s 3ms/step - loss: 0.0013 - accuracy: 0.9998 - val_loss: 0.3218 - val_accuracy: 0.9824\n",
            "Epoch 62/100\n",
            "375/375 [==============================] - 1s 3ms/step - loss: 0.0016 - accuracy: 0.9996 - val_loss: 0.3473 - val_accuracy: 0.9802\n",
            "Epoch 63/100\n",
            "375/375 [==============================] - 1s 3ms/step - loss: 6.6385e-04 - accuracy: 0.9998 - val_loss: 0.3443 - val_accuracy: 0.9810\n",
            "Epoch 64/100\n",
            "375/375 [==============================] - 1s 3ms/step - loss: 0.0016 - accuracy: 0.9997 - val_loss: 0.3282 - val_accuracy: 0.9801\n",
            "Epoch 65/100\n",
            "375/375 [==============================] - 1s 3ms/step - loss: 0.0016 - accuracy: 0.9998 - val_loss: 0.3498 - val_accuracy: 0.9799\n",
            "Epoch 66/100\n",
            "375/375 [==============================] - 1s 3ms/step - loss: 0.0019 - accuracy: 0.9995 - val_loss: 0.4031 - val_accuracy: 0.9777\n",
            "Epoch 67/100\n",
            "375/375 [==============================] - 1s 3ms/step - loss: 8.4823e-04 - accuracy: 0.9998 - val_loss: 0.4212 - val_accuracy: 0.9791\n",
            "Epoch 68/100\n",
            "375/375 [==============================] - 1s 3ms/step - loss: 0.0017 - accuracy: 0.9997 - val_loss: 0.3689 - val_accuracy: 0.9818\n",
            "Epoch 69/100\n",
            "375/375 [==============================] - 1s 4ms/step - loss: 0.0011 - accuracy: 0.9997 - val_loss: 0.3564 - val_accuracy: 0.9793\n",
            "Epoch 70/100\n",
            "375/375 [==============================] - 1s 3ms/step - loss: 0.0012 - accuracy: 0.9998 - val_loss: 0.3307 - val_accuracy: 0.9813\n",
            "Epoch 71/100\n",
            "375/375 [==============================] - 1s 4ms/step - loss: 0.0013 - accuracy: 0.9998 - val_loss: 0.3607 - val_accuracy: 0.9815\n",
            "Epoch 72/100\n",
            "375/375 [==============================] - 1s 3ms/step - loss: 9.3341e-04 - accuracy: 0.9998 - val_loss: 0.3443 - val_accuracy: 0.9807\n",
            "Epoch 73/100\n",
            "375/375 [==============================] - 1s 3ms/step - loss: 0.0011 - accuracy: 0.9999 - val_loss: 0.4002 - val_accuracy: 0.9787\n",
            "Epoch 74/100\n",
            "375/375 [==============================] - 1s 3ms/step - loss: 8.0964e-04 - accuracy: 0.9999 - val_loss: 0.3522 - val_accuracy: 0.9812\n",
            "Epoch 75/100\n",
            "375/375 [==============================] - 1s 3ms/step - loss: 6.7343e-04 - accuracy: 0.9999 - val_loss: 0.3711 - val_accuracy: 0.9819\n",
            "Epoch 76/100\n",
            "375/375 [==============================] - 1s 4ms/step - loss: 6.7823e-04 - accuracy: 0.9998 - val_loss: 0.3787 - val_accuracy: 0.9792\n",
            "Epoch 77/100\n",
            "375/375 [==============================] - 1s 3ms/step - loss: 2.6707e-04 - accuracy: 0.9999 - val_loss: 0.3668 - val_accuracy: 0.9817\n",
            "Epoch 78/100\n",
            "375/375 [==============================] - 1s 4ms/step - loss: 5.5436e-04 - accuracy: 0.9999 - val_loss: 0.3444 - val_accuracy: 0.9827\n",
            "Epoch 79/100\n",
            "375/375 [==============================] - 1s 4ms/step - loss: 1.5108e-04 - accuracy: 1.0000 - val_loss: 0.3609 - val_accuracy: 0.9821\n",
            "Epoch 80/100\n",
            "375/375 [==============================] - 1s 3ms/step - loss: 3.5757e-04 - accuracy: 0.9999 - val_loss: 0.3645 - val_accuracy: 0.9822\n",
            "Epoch 81/100\n",
            "375/375 [==============================] - 1s 3ms/step - loss: 1.5867e-04 - accuracy: 0.9999 - val_loss: 0.3655 - val_accuracy: 0.9809\n",
            "Epoch 82/100\n",
            "375/375 [==============================] - 1s 3ms/step - loss: 2.0199e-04 - accuracy: 1.0000 - val_loss: 0.3551 - val_accuracy: 0.9825\n",
            "Epoch 83/100\n",
            "375/375 [==============================] - 1s 4ms/step - loss: 1.0728e-04 - accuracy: 1.0000 - val_loss: 0.4056 - val_accuracy: 0.9811\n",
            "Epoch 84/100\n",
            "375/375 [==============================] - 1s 4ms/step - loss: 5.5489e-04 - accuracy: 0.9999 - val_loss: 0.3613 - val_accuracy: 0.9818\n",
            "Epoch 85/100\n",
            "375/375 [==============================] - 1s 4ms/step - loss: 3.1034e-04 - accuracy: 0.9999 - val_loss: 0.3916 - val_accuracy: 0.9818\n",
            "Epoch 86/100\n",
            "375/375 [==============================] - 1s 3ms/step - loss: 6.3810e-05 - accuracy: 1.0000 - val_loss: 0.3922 - val_accuracy: 0.9812\n",
            "Epoch 87/100\n",
            "375/375 [==============================] - 1s 3ms/step - loss: 1.7890e-04 - accuracy: 1.0000 - val_loss: 0.3749 - val_accuracy: 0.9816\n",
            "Epoch 88/100\n",
            "375/375 [==============================] - 1s 4ms/step - loss: 3.5064e-05 - accuracy: 1.0000 - val_loss: 0.3851 - val_accuracy: 0.9811\n",
            "Epoch 89/100\n",
            "375/375 [==============================] - 1s 3ms/step - loss: 1.0852e-04 - accuracy: 1.0000 - val_loss: 0.3785 - val_accuracy: 0.9804\n",
            "Epoch 90/100\n",
            "375/375 [==============================] - 1s 3ms/step - loss: 3.5542e-06 - accuracy: 1.0000 - val_loss: 0.4023 - val_accuracy: 0.9815\n",
            "Epoch 91/100\n",
            "375/375 [==============================] - 1s 3ms/step - loss: 4.2726e-04 - accuracy: 0.9999 - val_loss: 0.3794 - val_accuracy: 0.9809\n",
            "Epoch 92/100\n",
            "375/375 [==============================] - 1s 3ms/step - loss: 6.5193e-05 - accuracy: 1.0000 - val_loss: 0.3829 - val_accuracy: 0.9814\n",
            "Epoch 93/100\n",
            "375/375 [==============================] - 1s 3ms/step - loss: 1.7180e-07 - accuracy: 1.0000 - val_loss: 0.3850 - val_accuracy: 0.9815\n",
            "Epoch 94/100\n",
            "375/375 [==============================] - 1s 3ms/step - loss: 4.1745e-09 - accuracy: 1.0000 - val_loss: 0.3761 - val_accuracy: 0.9818\n",
            "Epoch 95/100\n",
            "375/375 [==============================] - 1s 3ms/step - loss: 3.9736e-11 - accuracy: 1.0000 - val_loss: 0.3751 - val_accuracy: 0.9818\n",
            "Epoch 96/100\n",
            "375/375 [==============================] - 1s 3ms/step - loss: 7.4506e-12 - accuracy: 1.0000 - val_loss: 0.3749 - val_accuracy: 0.9818\n",
            "Epoch 97/100\n",
            "375/375 [==============================] - 1s 3ms/step - loss: 4.9671e-12 - accuracy: 1.0000 - val_loss: 0.3748 - val_accuracy: 0.9818\n",
            "Epoch 98/100\n",
            "375/375 [==============================] - 1s 3ms/step - loss: 2.4835e-12 - accuracy: 1.0000 - val_loss: 0.3748 - val_accuracy: 0.9818\n",
            "Epoch 99/100\n",
            "375/375 [==============================] - 1s 3ms/step - loss: 0.0000e+00 - accuracy: 1.0000 - val_loss: 0.3747 - val_accuracy: 0.9818\n",
            "Epoch 100/100\n",
            "375/375 [==============================] - 1s 3ms/step - loss: 0.0000e+00 - accuracy: 1.0000 - val_loss: 0.3747 - val_accuracy: 0.9818\n"
          ],
          "name": "stdout"
        }
      ]
    },
    {
      "cell_type": "markdown",
      "metadata": {
        "id": "7qYQE-xdlOOe"
      },
      "source": [
        "### 4) 학습결과 시각화 - Overfitting\n",
        "\n",
        "\n",
        "1. Loss"
      ]
    },
    {
      "cell_type": "code",
      "metadata": {
        "colab": {
          "base_uri": "https://localhost:8080/",
          "height": 404
        },
        "id": "c1bxUUIglMNR",
        "outputId": "6f2fa6c0-4c00-4c97-8e02-42f534bde4d3"
      },
      "source": [
        "import matplotlib.pyplot as plt\n",
        "\n",
        "epochs = range(1, len(Hist_mnist.history['loss']) + 1)\n",
        "\n",
        "plt.figure(figsize = (9, 6))\n",
        "plt.plot(epochs, Hist_mnist.history['loss'])\n",
        "plt.plot(epochs, Hist_mnist.history['val_loss'])\n",
        "# plt.ylim(0, 0.25)\n",
        "plt.title('Training & Validation Loss')\n",
        "plt.xlabel('Epochs')\n",
        "plt.ylabel('Loss')\n",
        "plt.legend(['Training Loss', 'Validation Loss'])\n",
        "plt.grid()\n",
        "plt.show()"
      ],
      "execution_count": 14,
      "outputs": [
        {
          "output_type": "display_data",
          "data": {
            "image/png": "[encoded data removed]",
            "text/plain": [
              "<Figure size 648x432 with 1 Axes>"
            ]
          },
          "metadata": {
            "tags": [],
            "needs_background": "light"
          }
        }
      ]
    },
    {
      "cell_type": "markdown",
      "metadata": {
        "id": "qbzbpm1Bz65r"
      },
      "source": [
        "## 5) Model Evaluate"
      ]
    },
    {
      "cell_type": "code",
      "metadata": {
        "colab": {
          "base_uri": "https://localhost:8080/"
        },
        "id": "EuCa2JK30BE0",
        "outputId": "31dc3607-2907-4bcc-8a34-82bd130fbe70"
      },
      "source": [
        "loss, accuracy = mnist.evaluate(X_test, y_test)\n",
        "\n",
        "print('Loss : ', loss)\n",
        "print('accuracy : ', accuracy)"
      ],
      "execution_count": 15,
      "outputs": [
        {
          "output_type": "stream",
          "text": [
            "313/313 [==============================] - 1s 2ms/step - loss: 0.3060 - accuracy: 0.9831\n",
            "Loss :  0.30604758858680725\n",
            "accuracy :  0.9830999970436096\n"
          ],
          "name": "stdout"
        }
      ]
    },
    {
      "cell_type": "code",
      "metadata": {
        "colab": {
          "base_uri": "https://localhost:8080/"
        },
        "id": "yqt3sjRdsFM2",
        "outputId": "889b8348-d884-4f28-8b8c-fa238e11cf7a"
      },
      "source": [
        "np.set_printoptions(suppress = True, precision = 9)\n",
        "print(mnist.predict(X_test[:1,:]))\n"
      ],
      "execution_count": 16,
      "outputs": [
        {
          "output_type": "stream",
          "text": [
            "[[0. 0. 0. 0. 0. 0. 0. 1. 0. 0.]]\n"
          ],
          "name": "stdout"
        }
      ]
    }
  ]
}