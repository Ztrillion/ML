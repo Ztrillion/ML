{
  "nbformat": 4,
  "nbformat_minor": 0,
  "metadata": {
    "colab": {
      "name": "0805신용카드사기검출keras.ipynb",
      "provenance": []
    },
    "kernelspec": {
      "name": "python3",
      "display_name": "Python 3"
    },
    "language_info": {
      "name": "python"
    }
  },
  "cells": [
    {
      "cell_type": "markdown",
      "metadata": {
        "id": "bbI99bpx8KyB"
      },
      "source": [
        "# Kaggle 신용카드 사기 검출(Google Drive Mount)\n",
        "\n",
        "- creditcard.csv(284,807*31)\n",
        "- Class : 0(정상), 1(사기)\n",
        "- 사기 검출(Fraud Detection), 이상탐지(Anomaly Detection)"
      ]
    },
    {
      "cell_type": "code",
      "metadata": {
        "id": "NDanAUCe8Rzl"
      },
      "source": [
        "import warnings\n",
        "warnings.filterwarnings('ignore')"
      ],
      "execution_count": 1,
      "outputs": []
    },
    {
      "cell_type": "code",
      "metadata": {
        "colab": {
          "base_uri": "https://localhost:8080/"
        },
        "id": "cSIyTM6m8quF",
        "outputId": "8305798c-a4da-4e44-c4b4-a8bfa6b80819"
      },
      "source": [
        "from google.colab import drive\n",
        "drive.mount('/content/drive')"
      ],
      "execution_count": 2,
      "outputs": [
        {
          "output_type": "stream",
          "text": [
            "Mounted at /content/drive\n"
          ],
          "name": "stdout"
        }
      ]
    },
    {
      "cell_type": "code",
      "metadata": {
        "colab": {
          "base_uri": "https://localhost:8080/"
        },
        "id": "VwQjTUgh8wjP",
        "outputId": "45ed9727-4ebd-4ce9-afe8-362b2d24e6fc"
      },
      "source": [
        "!ls -l '/content/drive/My Drive/Colab Notebooks/datasets/creditCardFraud.zip'"
      ],
      "execution_count": 3,
      "outputs": [
        {
          "output_type": "stream",
          "text": [
            "-rw------- 1 root root 69155672 Aug  4 07:16 '/content/drive/My Drive/Colab Notebooks/datasets/creditCardFraud.zip'\n"
          ],
          "name": "stdout"
        }
      ]
    },
    {
      "cell_type": "markdown",
      "metadata": {
        "id": "5-Whzd188_kD"
      },
      "source": [
        "# 1. Data Preprocessing"
      ]
    },
    {
      "cell_type": "code",
      "metadata": {
        "colab": {
          "base_uri": "https://localhost:8080/"
        },
        "id": "7wRtnZQV89nu",
        "outputId": "b1b953a3-eb56-46fd-c99e-8938a7d21339"
      },
      "source": [
        "!unzip /content/drive/My\\ Drive/Colab\\ Notebooks/datasets/creditCardFraud.zip\n",
        "!ls -l"
      ],
      "execution_count": 4,
      "outputs": [
        {
          "output_type": "stream",
          "text": [
            "Archive:  /content/drive/My Drive/Colab Notebooks/datasets/creditCardFraud.zip\n",
            "  inflating: creditcard.csv          \n",
            "total 147304\n",
            "-rw-r--r-- 1 root root 150828752 Sep 20  2019 creditcard.csv\n",
            "drwx------ 5 root root      4096 Aug  5 01:35 drive\n",
            "drwxr-xr-x 1 root root      4096 Jul 16 13:20 sample_data\n"
          ],
          "name": "stdout"
        }
      ]
    },
    {
      "cell_type": "markdown",
      "metadata": {
        "id": "-wzgAkK-9IyB"
      },
      "source": [
        ""
      ]
    },
    {
      "cell_type": "code",
      "metadata": {
        "id": "8RGXYpeL9GrO"
      },
      "source": [
        "# 2. 데이터 읽어오기"
      ],
      "execution_count": 5,
      "outputs": []
    },
    {
      "cell_type": "code",
      "metadata": {
        "colab": {
          "base_uri": "https://localhost:8080/"
        },
        "id": "SMVGKeaP9ODp",
        "outputId": "8ccda3a8-0de4-4f95-c491-3a808fb75d02"
      },
      "source": [
        "import pandas as pd\n",
        "\n",
        "df =  pd.read_csv('creditcard.csv')\n",
        "df.info()"
      ],
      "execution_count": 6,
      "outputs": [
        {
          "output_type": "stream",
          "text": [
            "<class 'pandas.core.frame.DataFrame'>\n",
            "RangeIndex: 284807 entries, 0 to 284806\n",
            "Data columns (total 31 columns):\n",
            " #   Column  Non-Null Count   Dtype  \n",
            "---  ------  --------------   -----  \n",
            " 0   Time    284807 non-null  float64\n",
            " 1   V1      284807 non-null  float64\n",
            " 2   V2      284807 non-null  float64\n",
            " 3   V3      284807 non-null  float64\n",
            " 4   V4      284807 non-null  float64\n",
            " 5   V5      284807 non-null  float64\n",
            " 6   V6      284807 non-null  float64\n",
            " 7   V7      284807 non-null  float64\n",
            " 8   V8      284807 non-null  float64\n",
            " 9   V9      284807 non-null  float64\n",
            " 10  V10     284807 non-null  float64\n",
            " 11  V11     284807 non-null  float64\n",
            " 12  V12     284807 non-null  float64\n",
            " 13  V13     284807 non-null  float64\n",
            " 14  V14     284807 non-null  float64\n",
            " 15  V15     284807 non-null  float64\n",
            " 16  V16     284807 non-null  float64\n",
            " 17  V17     284807 non-null  float64\n",
            " 18  V18     284807 non-null  float64\n",
            " 19  V19     284807 non-null  float64\n",
            " 20  V20     284807 non-null  float64\n",
            " 21  V21     284807 non-null  float64\n",
            " 22  V22     284807 non-null  float64\n",
            " 23  V23     284807 non-null  float64\n",
            " 24  V24     284807 non-null  float64\n",
            " 25  V25     284807 non-null  float64\n",
            " 26  V26     284807 non-null  float64\n",
            " 27  V27     284807 non-null  float64\n",
            " 28  V28     284807 non-null  float64\n",
            " 29  Amount  284807 non-null  float64\n",
            " 30  Class   284807 non-null  int64  \n",
            "dtypes: float64(30), int64(1)\n",
            "memory usage: 67.4 MB\n"
          ],
          "name": "stdout"
        }
      ]
    },
    {
      "cell_type": "code",
      "metadata": {
        "colab": {
          "base_uri": "https://localhost:8080/",
          "height": 162
        },
        "id": "IXUzJ3qt9U22",
        "outputId": "8aa74b4d-3838-4c2e-e6f5-4821840d6566"
      },
      "source": [
        "df.head(3)"
      ],
      "execution_count": 7,
      "outputs": [
        {
          "output_type": "execute_result",
          "data": {
            "text/html": [
              "<div>\n",
              "<style scoped>\n",
              "    .dataframe tbody tr th:only-of-type {\n",
              "        vertical-align: middle;\n",
              "    }\n",
              "\n",
              "    .dataframe tbody tr th {\n",
              "        vertical-align: top;\n",
              "    }\n",
              "\n",
              "    .dataframe thead th {\n",
              "        text-align: right;\n",
              "    }\n",
              "</style>\n",
              "<table border=\"1\" class=\"dataframe\">\n",
              "  <thead>\n",
              "    <tr style=\"text-align: right;\">\n",
              "      <th></th>\n",
              "      <th>Time</th>\n",
              "      <th>V1</th>\n",
              "      <th>V2</th>\n",
              "      <th>V3</th>\n",
              "      <th>V4</th>\n",
              "      <th>V5</th>\n",
              "      <th>V6</th>\n",
              "      <th>V7</th>\n",
              "      <th>V8</th>\n",
              "      <th>V9</th>\n",
              "      <th>V10</th>\n",
              "      <th>V11</th>\n",
              "      <th>V12</th>\n",
              "      <th>V13</th>\n",
              "      <th>V14</th>\n",
              "      <th>V15</th>\n",
              "      <th>V16</th>\n",
              "      <th>V17</th>\n",
              "      <th>V18</th>\n",
              "      <th>V19</th>\n",
              "      <th>V20</th>\n",
              "      <th>V21</th>\n",
              "      <th>V22</th>\n",
              "      <th>V23</th>\n",
              "      <th>V24</th>\n",
              "      <th>V25</th>\n",
              "      <th>V26</th>\n",
              "      <th>V27</th>\n",
              "      <th>V28</th>\n",
              "      <th>Amount</th>\n",
              "      <th>Class</th>\n",
              "    </tr>\n",
              "  </thead>\n",
              "  <tbody>\n",
              "    <tr>\n",
              "      <th>0</th>\n",
              "      <td>0.0</td>\n",
              "      <td>-1.359807</td>\n",
              "      <td>-0.072781</td>\n",
              "      <td>2.536347</td>\n",
              "      <td>1.378155</td>\n",
              "      <td>-0.338321</td>\n",
              "      <td>0.462388</td>\n",
              "      <td>0.239599</td>\n",
              "      <td>0.098698</td>\n",
              "      <td>0.363787</td>\n",
              "      <td>0.090794</td>\n",
              "      <td>-0.551600</td>\n",
              "      <td>-0.617801</td>\n",
              "      <td>-0.991390</td>\n",
              "      <td>-0.311169</td>\n",
              "      <td>1.468177</td>\n",
              "      <td>-0.470401</td>\n",
              "      <td>0.207971</td>\n",
              "      <td>0.025791</td>\n",
              "      <td>0.403993</td>\n",
              "      <td>0.251412</td>\n",
              "      <td>-0.018307</td>\n",
              "      <td>0.277838</td>\n",
              "      <td>-0.110474</td>\n",
              "      <td>0.066928</td>\n",
              "      <td>0.128539</td>\n",
              "      <td>-0.189115</td>\n",
              "      <td>0.133558</td>\n",
              "      <td>-0.021053</td>\n",
              "      <td>149.62</td>\n",
              "      <td>0</td>\n",
              "    </tr>\n",
              "    <tr>\n",
              "      <th>1</th>\n",
              "      <td>0.0</td>\n",
              "      <td>1.191857</td>\n",
              "      <td>0.266151</td>\n",
              "      <td>0.166480</td>\n",
              "      <td>0.448154</td>\n",
              "      <td>0.060018</td>\n",
              "      <td>-0.082361</td>\n",
              "      <td>-0.078803</td>\n",
              "      <td>0.085102</td>\n",
              "      <td>-0.255425</td>\n",
              "      <td>-0.166974</td>\n",
              "      <td>1.612727</td>\n",
              "      <td>1.065235</td>\n",
              "      <td>0.489095</td>\n",
              "      <td>-0.143772</td>\n",
              "      <td>0.635558</td>\n",
              "      <td>0.463917</td>\n",
              "      <td>-0.114805</td>\n",
              "      <td>-0.183361</td>\n",
              "      <td>-0.145783</td>\n",
              "      <td>-0.069083</td>\n",
              "      <td>-0.225775</td>\n",
              "      <td>-0.638672</td>\n",
              "      <td>0.101288</td>\n",
              "      <td>-0.339846</td>\n",
              "      <td>0.167170</td>\n",
              "      <td>0.125895</td>\n",
              "      <td>-0.008983</td>\n",
              "      <td>0.014724</td>\n",
              "      <td>2.69</td>\n",
              "      <td>0</td>\n",
              "    </tr>\n",
              "    <tr>\n",
              "      <th>2</th>\n",
              "      <td>1.0</td>\n",
              "      <td>-1.358354</td>\n",
              "      <td>-1.340163</td>\n",
              "      <td>1.773209</td>\n",
              "      <td>0.379780</td>\n",
              "      <td>-0.503198</td>\n",
              "      <td>1.800499</td>\n",
              "      <td>0.791461</td>\n",
              "      <td>0.247676</td>\n",
              "      <td>-1.514654</td>\n",
              "      <td>0.207643</td>\n",
              "      <td>0.624501</td>\n",
              "      <td>0.066084</td>\n",
              "      <td>0.717293</td>\n",
              "      <td>-0.165946</td>\n",
              "      <td>2.345865</td>\n",
              "      <td>-2.890083</td>\n",
              "      <td>1.109969</td>\n",
              "      <td>-0.121359</td>\n",
              "      <td>-2.261857</td>\n",
              "      <td>0.524980</td>\n",
              "      <td>0.247998</td>\n",
              "      <td>0.771679</td>\n",
              "      <td>0.909412</td>\n",
              "      <td>-0.689281</td>\n",
              "      <td>-0.327642</td>\n",
              "      <td>-0.139097</td>\n",
              "      <td>-0.055353</td>\n",
              "      <td>-0.059752</td>\n",
              "      <td>378.66</td>\n",
              "      <td>0</td>\n",
              "    </tr>\n",
              "  </tbody>\n",
              "</table>\n",
              "</div>"
            ],
            "text/plain": [
              "   Time        V1        V2        V3  ...       V27       V28  Amount  Class\n",
              "0   0.0 -1.359807 -0.072781  2.536347  ...  0.133558 -0.021053  149.62      0\n",
              "1   0.0  1.191857  0.266151  0.166480  ... -0.008983  0.014724    2.69      0\n",
              "2   1.0 -1.358354 -1.340163  1.773209  ... -0.055353 -0.059752  378.66      0\n",
              "\n",
              "[3 rows x 31 columns]"
            ]
          },
          "metadata": {
            "tags": []
          },
          "execution_count": 7
        }
      ]
    },
    {
      "cell_type": "code",
      "metadata": {
        "colab": {
          "base_uri": "https://localhost:8080/"
        },
        "id": "T0uH4f-h9Xfu",
        "outputId": "63b64509-9723-4dfd-c1f9-a05536bcd1ff"
      },
      "source": [
        "print('#정상(0) 사기(1) 갯수:',df.Class.value_counts())\n",
        "print('# 정상(0) 사기(1) 비율 : ',(df.Class.value_counts()/df.shape[0]) * 100)"
      ],
      "execution_count": 39,
      "outputs": [
        {
          "output_type": "stream",
          "text": [
            "#정상(0) 사기(1) 갯수: 0    284315\n",
            "1       492\n",
            "Name: Class, dtype: int64\n",
            "# 정상(0) 사기(1) 비율 :  0    99.827251\n",
            "1     0.172749\n",
            "Name: Class, dtype: float64\n"
          ],
          "name": "stdout"
        }
      ]
    },
    {
      "cell_type": "code",
      "metadata": {
        "id": "hiIGsjRt9u1O"
      },
      "source": [
        "df.drop('Time', axis=1,inplace=True)"
      ],
      "execution_count": 11,
      "outputs": []
    },
    {
      "cell_type": "code",
      "metadata": {
        "colab": {
          "base_uri": "https://localhost:8080/"
        },
        "id": "dBU_b-yx90Vm",
        "outputId": "7278274b-a51f-4707-ce76-bb197d06e102"
      },
      "source": [
        "X = df.iloc[:,:-1]\n",
        "y = df.iloc[:,-1]\n",
        "\n",
        "X.shape, y.shape"
      ],
      "execution_count": 12,
      "outputs": [
        {
          "output_type": "execute_result",
          "data": {
            "text/plain": [
              "((284807, 29), (284807,))"
            ]
          },
          "metadata": {
            "tags": []
          },
          "execution_count": 12
        }
      ]
    },
    {
      "cell_type": "code",
      "metadata": {
        "id": "L3ywjoSn-AiO"
      },
      "source": [
        "from sklearn.model_selection import train_test_split\n",
        "X_train,X_test,y_train,y_test=train_test_split(X,y,test_size = 0.3, random_state=2045, stratify=y)"
      ],
      "execution_count": 15,
      "outputs": []
    },
    {
      "cell_type": "code",
      "metadata": {
        "colab": {
          "base_uri": "https://localhost:8080/"
        },
        "id": "ZKODbRPf-SrN",
        "outputId": "ec52e39b-5041-496c-c24b-e008197b764e"
      },
      "source": [
        "# Train_data와 Test_data의 부정 비율 균형\n",
        "print('Train_Data :','\\n', (y_train.value_counts() / y_train.shape[0]) * 100)\n",
        "print('Test_Data :','\\n', (y_test.value_counts() / y_test.shape[0]) * 100)"
      ],
      "execution_count": 16,
      "outputs": [
        {
          "output_type": "stream",
          "text": [
            "Train_Data : \n",
            " 0    99.827451\n",
            "1     0.172549\n",
            "Name: Class, dtype: float64\n",
            "Test_Data : \n",
            " 0    99.826785\n",
            "1     0.173215\n",
            "Name: Class, dtype: float64\n"
          ],
          "name": "stdout"
        }
      ]
    },
    {
      "cell_type": "markdown",
      "metadata": {
        "id": "wujGlF0U-un7"
      },
      "source": [
        "# Keras Modeling"
      ]
    },
    {
      "cell_type": "code",
      "metadata": {
        "colab": {
          "base_uri": "https://localhost:8080/",
          "height": 35
        },
        "id": "BCTJn4sA-n3H",
        "outputId": "463aed66-16fa-428e-b28c-b798caa53f14"
      },
      "source": [
        "import tensorflow\n",
        "tensorflow.__version__"
      ],
      "execution_count": 17,
      "outputs": [
        {
          "output_type": "execute_result",
          "data": {
            "application/vnd.google.colaboratory.intrinsic+json": {
              "type": "string"
            },
            "text/plain": [
              "'2.5.0'"
            ]
          },
          "metadata": {
            "tags": []
          },
          "execution_count": 17
        }
      ]
    },
    {
      "cell_type": "code",
      "metadata": {
        "id": "O3diXbAL-2F2"
      },
      "source": [
        "from tensorflow.keras import models\n",
        "from tensorflow.keras import layers\n",
        "\n",
        "ccfd = models.Sequential()\n",
        "ccfd.add(layers.Dense(128, activation = 'relu', input_shape=(29,)))\n",
        "ccfd.add(layers.Dense(64, activation = 'relu'))\n",
        "ccfd.add(layers.Dense(32, activation = 'relu'))\n",
        "ccfd.add(layers.Dense(1, activation = 'sigmoid'))"
      ],
      "execution_count": 19,
      "outputs": []
    },
    {
      "cell_type": "code",
      "metadata": {
        "colab": {
          "base_uri": "https://localhost:8080/"
        },
        "id": "lMT4O07p_eBc",
        "outputId": "ef3d83a8-619e-4489-a7ee-049a3cc380af"
      },
      "source": [
        "ccfd.summary()"
      ],
      "execution_count": 20,
      "outputs": [
        {
          "output_type": "stream",
          "text": [
            "Model: \"sequential_1\"\n",
            "_________________________________________________________________\n",
            "Layer (type)                 Output Shape              Param #   \n",
            "=================================================================\n",
            "dense_3 (Dense)              (None, 128)               3840      \n",
            "_________________________________________________________________\n",
            "dense_4 (Dense)              (None, 64)                8256      \n",
            "_________________________________________________________________\n",
            "dense_5 (Dense)              (None, 32)                2080      \n",
            "_________________________________________________________________\n",
            "dense_6 (Dense)              (None, 1)                 33        \n",
            "=================================================================\n",
            "Total params: 14,209\n",
            "Trainable params: 14,209\n",
            "Non-trainable params: 0\n",
            "_________________________________________________________________\n"
          ],
          "name": "stdout"
        }
      ]
    },
    {
      "cell_type": "markdown",
      "metadata": {
        "id": "2FZT1f5s_vov"
      },
      "source": [
        "# ModelCompile"
      ]
    },
    {
      "cell_type": "code",
      "metadata": {
        "id": "vrjwK_Hd_s9l"
      },
      "source": [
        "ccfd.compile(loss = 'binary_crossentropy',\n",
        "             optimizer='adam',\n",
        "             metrics = ['Recall'])\n"
      ],
      "execution_count": 21,
      "outputs": []
    },
    {
      "cell_type": "markdown",
      "metadata": {
        "id": "hmUszOne_-BI"
      },
      "source": [
        "# Model Fit"
      ]
    },
    {
      "cell_type": "code",
      "metadata": {
        "colab": {
          "base_uri": "https://localhost:8080/"
        },
        "id": "Tl5ZE4XZ_8mM",
        "outputId": "1fade8ce-2db9-4105-af3f-d1d3f009c967"
      },
      "source": [
        "%time\n",
        "\n",
        "hist_ccfd = ccfd.fit(X_train,y_train,\n",
        "                     epochs = 50,\n",
        "                     batch_size = 1024,\n",
        "                     validation_data = (X_test,y_test))"
      ],
      "execution_count": 22,
      "outputs": [
        {
          "output_type": "stream",
          "text": [
            "CPU times: user 3 µs, sys: 0 ns, total: 3 µs\n",
            "Wall time: 5.72 µs\n",
            "Epoch 1/50\n",
            "195/195 [==============================] - 3s 9ms/step - loss: 0.3147 - recall: 0.2820 - val_loss: 0.0046 - val_recall: 0.7973\n",
            "Epoch 2/50\n",
            "195/195 [==============================] - 1s 7ms/step - loss: 0.0180 - recall: 0.6715 - val_loss: 0.0057 - val_recall: 0.8378\n",
            "Epoch 3/50\n",
            "195/195 [==============================] - 2s 8ms/step - loss: 0.0044 - recall: 0.7587 - val_loss: 0.0035 - val_recall: 0.8446\n",
            "Epoch 4/50\n",
            "195/195 [==============================] - 1s 7ms/step - loss: 0.0050 - recall: 0.7762 - val_loss: 0.0031 - val_recall: 0.8514\n",
            "Epoch 5/50\n",
            "195/195 [==============================] - 1s 8ms/step - loss: 0.0041 - recall: 0.7558 - val_loss: 0.0030 - val_recall: 0.8446\n",
            "Epoch 6/50\n",
            "195/195 [==============================] - 2s 8ms/step - loss: 0.0039 - recall: 0.7674 - val_loss: 0.0038 - val_recall: 0.8378\n",
            "Epoch 7/50\n",
            "195/195 [==============================] - 1s 7ms/step - loss: 0.0036 - recall: 0.7791 - val_loss: 0.0027 - val_recall: 0.8446\n",
            "Epoch 8/50\n",
            "195/195 [==============================] - 2s 8ms/step - loss: 0.0093 - recall: 0.7297 - val_loss: 0.0029 - val_recall: 0.8243\n",
            "Epoch 9/50\n",
            "195/195 [==============================] - 1s 7ms/step - loss: 0.0034 - recall: 0.8052 - val_loss: 0.0031 - val_recall: 0.8311\n",
            "Epoch 10/50\n",
            "195/195 [==============================] - 1s 7ms/step - loss: 0.0033 - recall: 0.7791 - val_loss: 0.0031 - val_recall: 0.8176\n",
            "Epoch 11/50\n",
            "195/195 [==============================] - 1s 7ms/step - loss: 0.0034 - recall: 0.7820 - val_loss: 0.0029 - val_recall: 0.7297\n",
            "Epoch 12/50\n",
            "195/195 [==============================] - 2s 8ms/step - loss: 0.0036 - recall: 0.7791 - val_loss: 0.0034 - val_recall: 0.7838\n",
            "Epoch 13/50\n",
            "195/195 [==============================] - 1s 7ms/step - loss: 0.0817 - recall: 0.5930 - val_loss: 0.0308 - val_recall: 0.7365\n",
            "Epoch 14/50\n",
            "195/195 [==============================] - 1s 7ms/step - loss: 0.0417 - recall: 0.7180 - val_loss: 0.0049 - val_recall: 0.8446\n",
            "Epoch 15/50\n",
            "195/195 [==============================] - 1s 7ms/step - loss: 0.0051 - recall: 0.7907 - val_loss: 0.0044 - val_recall: 0.8514\n",
            "Epoch 16/50\n",
            "195/195 [==============================] - 1s 8ms/step - loss: 0.0044 - recall: 0.8023 - val_loss: 0.0044 - val_recall: 0.8716\n",
            "Epoch 17/50\n",
            "195/195 [==============================] - 1s 6ms/step - loss: 0.0041 - recall: 0.8169 - val_loss: 0.0039 - val_recall: 0.8514\n",
            "Epoch 18/50\n",
            "195/195 [==============================] - 1s 7ms/step - loss: 0.0070 - recall: 0.7849 - val_loss: 0.0041 - val_recall: 0.8176\n",
            "Epoch 19/50\n",
            "195/195 [==============================] - 1s 7ms/step - loss: 0.0315 - recall: 0.7674 - val_loss: 0.0672 - val_recall: 0.6622\n",
            "Epoch 20/50\n",
            "195/195 [==============================] - 1s 7ms/step - loss: 0.0531 - recall: 0.7355 - val_loss: 0.0128 - val_recall: 0.8446\n",
            "Epoch 21/50\n",
            "195/195 [==============================] - 2s 8ms/step - loss: 0.0063 - recall: 0.7878 - val_loss: 0.0052 - val_recall: 0.8446\n",
            "Epoch 22/50\n",
            "195/195 [==============================] - 1s 7ms/step - loss: 0.0037 - recall: 0.8256 - val_loss: 0.0047 - val_recall: 0.8716\n",
            "Epoch 23/50\n",
            "195/195 [==============================] - 1s 7ms/step - loss: 0.0034 - recall: 0.8401 - val_loss: 0.0046 - val_recall: 0.8446\n",
            "Epoch 24/50\n",
            "195/195 [==============================] - 1s 7ms/step - loss: 0.0033 - recall: 0.8314 - val_loss: 0.0044 - val_recall: 0.8716\n",
            "Epoch 25/50\n",
            "195/195 [==============================] - 1s 7ms/step - loss: 0.0033 - recall: 0.8343 - val_loss: 0.0038 - val_recall: 0.8716\n",
            "Epoch 26/50\n",
            "195/195 [==============================] - 1s 7ms/step - loss: 0.0032 - recall: 0.8314 - val_loss: 0.0041 - val_recall: 0.7905\n",
            "Epoch 27/50\n",
            "195/195 [==============================] - 1s 7ms/step - loss: 0.0029 - recall: 0.8430 - val_loss: 0.0036 - val_recall: 0.8378\n",
            "Epoch 28/50\n",
            "195/195 [==============================] - 1s 7ms/step - loss: 0.0042 - recall: 0.8372 - val_loss: 0.0233 - val_recall: 0.6757\n",
            "Epoch 29/50\n",
            "195/195 [==============================] - 1s 7ms/step - loss: 0.0108 - recall: 0.7936 - val_loss: 0.0042 - val_recall: 0.8649\n",
            "Epoch 30/50\n",
            "195/195 [==============================] - 2s 8ms/step - loss: 0.0030 - recall: 0.8459 - val_loss: 0.0057 - val_recall: 0.8716\n",
            "Epoch 31/50\n",
            "195/195 [==============================] - 1s 7ms/step - loss: 0.0125 - recall: 0.8023 - val_loss: 0.0040 - val_recall: 0.8649\n",
            "Epoch 32/50\n",
            "195/195 [==============================] - 2s 8ms/step - loss: 0.0052 - recall: 0.8401 - val_loss: 0.0100 - val_recall: 0.8176\n",
            "Epoch 33/50\n",
            "195/195 [==============================] - 1s 6ms/step - loss: 0.0062 - recall: 0.8227 - val_loss: 0.0037 - val_recall: 0.8176\n",
            "Epoch 34/50\n",
            "195/195 [==============================] - 1s 7ms/step - loss: 0.0023 - recall: 0.8459 - val_loss: 0.0034 - val_recall: 0.8716\n",
            "Epoch 35/50\n",
            "195/195 [==============================] - 1s 7ms/step - loss: 0.0021 - recall: 0.8488 - val_loss: 0.0033 - val_recall: 0.8311\n",
            "Epoch 36/50\n",
            "195/195 [==============================] - 1s 6ms/step - loss: 0.0024 - recall: 0.8314 - val_loss: 0.0036 - val_recall: 0.7432\n",
            "Epoch 37/50\n",
            "195/195 [==============================] - 1s 7ms/step - loss: 0.0020 - recall: 0.8488 - val_loss: 0.0055 - val_recall: 0.7770\n",
            "Epoch 38/50\n",
            "195/195 [==============================] - 1s 6ms/step - loss: 0.0020 - recall: 0.8459 - val_loss: 0.0036 - val_recall: 0.8378\n",
            "Epoch 39/50\n",
            "195/195 [==============================] - 1s 7ms/step - loss: 0.0019 - recall: 0.8459 - val_loss: 0.0034 - val_recall: 0.8378\n",
            "Epoch 40/50\n",
            "195/195 [==============================] - 1s 7ms/step - loss: 0.0017 - recall: 0.8576 - val_loss: 0.0033 - val_recall: 0.8446\n",
            "Epoch 41/50\n",
            "195/195 [==============================] - 2s 8ms/step - loss: 0.0021 - recall: 0.8517 - val_loss: 0.0037 - val_recall: 0.8378\n",
            "Epoch 42/50\n",
            "195/195 [==============================] - 1s 7ms/step - loss: 0.0062 - recall: 0.8401 - val_loss: 0.0043 - val_recall: 0.8176\n",
            "Epoch 43/50\n",
            "195/195 [==============================] - 1s 7ms/step - loss: 0.0031 - recall: 0.8517 - val_loss: 0.0052 - val_recall: 0.7905\n",
            "Epoch 44/50\n",
            "195/195 [==============================] - 1s 7ms/step - loss: 0.0027 - recall: 0.8692 - val_loss: 0.0045 - val_recall: 0.8446\n",
            "Epoch 45/50\n",
            "195/195 [==============================] - 2s 8ms/step - loss: 0.0020 - recall: 0.8663 - val_loss: 0.0040 - val_recall: 0.8041\n",
            "Epoch 46/50\n",
            "195/195 [==============================] - 1s 7ms/step - loss: 0.0019 - recall: 0.8605 - val_loss: 0.0041 - val_recall: 0.7635\n",
            "Epoch 47/50\n",
            "195/195 [==============================] - 2s 8ms/step - loss: 0.0023 - recall: 0.8547 - val_loss: 0.0043 - val_recall: 0.8176\n",
            "Epoch 48/50\n",
            "195/195 [==============================] - 1s 6ms/step - loss: 0.0020 - recall: 0.8663 - val_loss: 0.0038 - val_recall: 0.8649\n",
            "Epoch 49/50\n",
            "195/195 [==============================] - 1s 7ms/step - loss: 0.0028 - recall: 0.8314 - val_loss: 0.0106 - val_recall: 0.8243\n",
            "Epoch 50/50\n",
            "195/195 [==============================] - 1s 7ms/step - loss: 0.0121 - recall: 0.8227 - val_loss: 0.0071 - val_recall: 0.8581\n"
          ],
          "name": "stdout"
        }
      ]
    },
    {
      "cell_type": "markdown",
      "metadata": {
        "id": "7asUsO8mASOW"
      },
      "source": [
        "# 학습 결과 시각화"
      ]
    },
    {
      "cell_type": "code",
      "metadata": {
        "colab": {
          "base_uri": "https://localhost:8080/",
          "height": 404
        },
        "id": "gmLQfcKYANLe",
        "outputId": "a9ef68a9-9dd4-4d55-c658-291718601961"
      },
      "source": [
        "import matplotlib.pyplot as plt\n",
        "epochs = range(1, len(hist_ccfd.history['loss']) + 1)\n",
        "plt.figure(figsize = (9, 6))\n",
        "plt.plot(epochs, hist_ccfd.history['loss'])\n",
        "plt.plot(epochs, hist_ccfd.history['val_loss'])\n",
        "plt.title('Training & Validation Loss')\n",
        "plt.xlabel('Epochs')\n",
        "plt.ylabel('Loss')\n",
        "plt.legend(['Training Loss', 'Validation Loss'])\n",
        "plt.grid()\n",
        "plt.show()"
      ],
      "execution_count": 27,
      "outputs": [
        {
          "output_type": "display_data",
          "data": {
            "image/png": "[encoded data removed]",
            "text/plain": [
              "<Figure size 648x432 with 1 Axes>"
            ]
          },
          "metadata": {
            "tags": [],
            "needs_background": "light"
          }
        }
      ]
    },
    {
      "cell_type": "markdown",
      "metadata": {
        "id": "YEn2GxlIAW8y"
      },
      "source": [
        "# Recall Visualization"
      ]
    },
    {
      "cell_type": "code",
      "metadata": {
        "colab": {
          "base_uri": "https://localhost:8080/",
          "height": 404
        },
        "id": "-NwgGbQaAUPE",
        "outputId": "bdf62ee5-95d7-410f-b4d3-93d83d98d71f"
      },
      "source": [
        "import matplotlib.pyplot as plt\n",
        "epochs = range(1,len(hist_ccfd.history['recall'])+1)\n",
        "\n",
        "plt.figure(figsize=(9,6))\n",
        "plt.plot(epochs, hist_ccfd.history['recall'])\n",
        "plt.plot(epochs, hist_ccfd.history['val_recall'])\n",
        "plt.title('Training & Validation Recall')\n",
        "plt.xlabel('Epochs')\n",
        "plt.ylabel('Recall')\n",
        "plt.legend(['Training Recall', 'Validation Recall'])\n",
        "plt.grid()\n",
        "plt.show()"
      ],
      "execution_count": 29,
      "outputs": [
        {
          "output_type": "display_data",
          "data": {
            "image/png": "[encoded data removed]",
            "text/plain": [
              "<Figure size 648x432 with 1 Axes>"
            ]
          },
          "metadata": {
            "tags": [],
            "needs_background": "light"
          }
        }
      ]
    },
    {
      "cell_type": "markdown",
      "metadata": {
        "id": "C7NKS4LQBbtz"
      },
      "source": [
        "# Model Evaluation"
      ]
    },
    {
      "cell_type": "code",
      "metadata": {
        "colab": {
          "base_uri": "https://localhost:8080/"
        },
        "id": "6ouWjmRhA6vN",
        "outputId": "19a94a96-79ac-417d-de0b-b45ffeff8466"
      },
      "source": [
        "loss,recall = ccfd.evaluate(X_test,y_test)\n",
        "print('Loss :{:.4f}'.format(loss))\n",
        "print('recall :{:.4f}'.format(recall))"
      ],
      "execution_count": 30,
      "outputs": [
        {
          "output_type": "stream",
          "text": [
            "2671/2671 [==============================] - 3s 1ms/step - loss: 0.0071 - recall: 0.8581\n",
            "Loss :0.0071\n",
            "recall :0.8581\n"
          ],
          "name": "stdout"
        }
      ]
    },
    {
      "cell_type": "markdown",
      "metadata": {
        "id": "PPusSDPZB-6R"
      },
      "source": [
        "# Model predict"
      ]
    },
    {
      "cell_type": "code",
      "metadata": {
        "colab": {
          "base_uri": "https://localhost:8080/"
        },
        "id": "kbfkYLYZB4d7",
        "outputId": "f2130ccb-3e25-4362-a81e-34662b13cbb2"
      },
      "source": [
        "from sklearn.metrics import confusion_matrix,accuracy_score, precision_score, recall_score\n",
        "y_hat = ccfd.predict_classes(X_test)\n",
        "\n",
        "confusion_matrix(y_test, y_hat)"
      ],
      "execution_count": 33,
      "outputs": [
        {
          "output_type": "execute_result",
          "data": {
            "text/plain": [
              "array([[85273,    22],\n",
              "       [   21,   127]])"
            ]
          },
          "metadata": {
            "tags": []
          },
          "execution_count": 33
        }
      ]
    },
    {
      "cell_type": "markdown",
      "metadata": {
        "id": "2ecahpXgDTGN"
      },
      "source": [
        ""
      ]
    },
    {
      "cell_type": "code",
      "metadata": {
        "colab": {
          "base_uri": "https://localhost:8080/"
        },
        "id": "GP57wtxeDTYG",
        "outputId": "5432f1ea-4039-42cb-b994-69995e071fa5"
      },
      "source": [
        "print(accuracy_score(y_test, y_hat))\n",
        "print(precision_score(y_test, y_hat, pos_label = 1))\n",
        "print(recall_score(y_test, y_hat, pos_label = 1))"
      ],
      "execution_count": 35,
      "outputs": [
        {
          "output_type": "stream",
          "text": [
            "0.9994967405170698\n",
            "0.8523489932885906\n",
            "0.8581081081081081\n"
          ],
          "name": "stdout"
        }
      ]
    },
    {
      "cell_type": "code",
      "metadata": {
        "id": "rlFcfY7_DCO0"
      },
      "source": [
        ""
      ],
      "execution_count": null,
      "outputs": []
    }
  ]
}