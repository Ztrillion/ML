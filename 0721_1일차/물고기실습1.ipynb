{
 "cells": [
  {
   "cell_type": "markdown",
   "id": "112a4fae",
   "metadata": {
    "ExecuteTime": {
     "end_time": "2021-07-21T08:33:35.269686Z",
     "start_time": "2021-07-21T08:33:35.261704Z"
    }
   },
   "source": [
    "# 실습"
   ]
  },
  {
   "cell_type": "markdown",
   "id": "8e05ef94",
   "metadata": {},
   "source": [
    "## 마켓과 머신러닝\n",
    "\n",
    "- 마켓에 들어온 생선(도미, 빙어) 크기 정보를 입력하면 자동으로 생선이름 알림"
   ]
  },
  {
   "cell_type": "code",
   "execution_count": 1,
   "id": "a2fcbb89",
   "metadata": {
    "ExecuteTime": {
     "end_time": "2021-07-21T08:44:52.170421Z",
     "start_time": "2021-07-21T08:44:52.161455Z"
    }
   },
   "outputs": [],
   "source": [
    "# 도미 데이터 준비\n",
    "domi_length = [25.4, 26.3, 26.5, 29.0, 29.0, 29.7, 29.7, 30.0, 30.0, 30.7,\n",
    "                31.0, 31.0, 31.5, 32.0, 32.0, 32.0, 33.0, 33.0, 33.5, 33.5,\n",
    "                34.0, 34.0, 34.5, 35.0, 35.0, 35.0, 35.0, 36.0, 36.0, 37.0,\n",
    "                38.5, 38.5, 39.5, 41.0, 41.0]\n",
    "domi_weight = [242.0, 290.0, 340.0, 363.0, 430.0, 450.0, 500.0, 390.0, 450.0,\n",
    "                500.0, 475.0, 500.0, 500.0, 340.0, 600.0, 600.0, 700.0, 700.0,\n",
    "                610.0, 650.0, 575.0, 685.0, 620.0, 680.0, 700.0, 725.0, 720.0,\n",
    "                714.0, 850.0, 1000.0, 920.0, 955.0, 925.0, 975.0, 950.0]"
   ]
  },
  {
   "cell_type": "markdown",
   "id": "22d58003",
   "metadata": {},
   "source": [
    "- 도미의 길이, 무게는 특징을 나타내는 특성(feature) = 통계학에서는 변수\n",
    "\n",
    "- 도미의 길이와 무게에 대한 산점도 시각화"
   ]
  },
  {
   "cell_type": "code",
   "execution_count": 2,
   "id": "d478c460",
   "metadata": {
    "ExecuteTime": {
     "end_time": "2021-07-21T08:44:53.553226Z",
     "start_time": "2021-07-21T08:44:53.195128Z"
    }
   },
   "outputs": [
    {
     "data": {
      "image/png": "[encoded data removed]",
      "text/plain": [
       "<Figure size 432x288 with 1 Axes>"
      ]
     },
     "metadata": {
      "needs_background": "light"
     },
     "output_type": "display_data"
    }
   ],
   "source": [
    "import matplotlib.pyplot as plt\n",
    "\n",
    "plt.scatter(domi_length,domi_weight)\n",
    "plt.xlabel('length')\n",
    "plt.ylabel('weight')\n",
    "plt.show()"
   ]
  },
  {
   "cell_type": "markdown",
   "id": "c1b654e0",
   "metadata": {},
   "source": [
    "- 생선의 길이가 길수록 무게가 많이 나가는 선형적 관계"
   ]
  },
  {
   "cell_type": "code",
   "execution_count": 3,
   "id": "a30c00cd",
   "metadata": {
    "ExecuteTime": {
     "end_time": "2021-07-21T08:44:54.683952Z",
     "start_time": "2021-07-21T08:44:54.666004Z"
    }
   },
   "outputs": [],
   "source": [
    "# 빙어 데이터 준비\n",
    "bing_length = [9.8, 10.5, 10.6, 11.0, 11.2, 11.3, 11.8, 11.8, 12.0, 12.2,12.4, 13.0, 14.3, 15.0]\n",
    "bing_weight = [6.7, 7.5, 7.0, 9.7, 9.8, 8.7, 10.0, 9.9, 9.8, 12.2,13.4, 12.2, 19.7, 19.9]"
   ]
  },
  {
   "cell_type": "code",
   "execution_count": 4,
   "id": "35b09413",
   "metadata": {
    "ExecuteTime": {
     "end_time": "2021-07-21T08:44:55.362208Z",
     "start_time": "2021-07-21T08:44:55.251505Z"
    }
   },
   "outputs": [
    {
     "data": {
      "image/png": "[encoded data removed]",
      "text/plain": [
       "<Figure size 432x288 with 1 Axes>"
      ]
     },
     "metadata": {
      "needs_background": "light"
     },
     "output_type": "display_data"
    }
   ],
   "source": [
    "# 빙어 길이와 무게 산점도 시각화\n",
    "plt.scatter(bing_length,bing_weight )\n",
    "plt.xlabel('length')\n",
    "plt.ylabel('weight')\n",
    "plt.show()"
   ]
  },
  {
   "cell_type": "code",
   "execution_count": 7,
   "id": "42548453",
   "metadata": {
    "ExecuteTime": {
     "end_time": "2021-07-21T08:47:36.917755Z",
     "start_time": "2021-07-21T08:47:36.905788Z"
    }
   },
   "outputs": [
    {
     "data": {
      "text/plain": [
       "[[25.4, 242.0],\n",
       " [26.3, 290.0],\n",
       " [26.5, 340.0],\n",
       " [29.0, 363.0],\n",
       " [29.0, 430.0],\n",
       " [29.7, 450.0],\n",
       " [29.7, 500.0],\n",
       " [30.0, 390.0],\n",
       " [30.0, 450.0],\n",
       " [30.7, 500.0],\n",
       " [31.0, 475.0],\n",
       " [31.0, 500.0],\n",
       " [31.5, 500.0],\n",
       " [32.0, 340.0],\n",
       " [32.0, 600.0],\n",
       " [32.0, 600.0],\n",
       " [33.0, 700.0],\n",
       " [33.0, 700.0],\n",
       " [33.5, 610.0],\n",
       " [33.5, 650.0],\n",
       " [34.0, 575.0],\n",
       " [34.0, 685.0],\n",
       " [34.5, 620.0],\n",
       " [35.0, 680.0],\n",
       " [35.0, 700.0],\n",
       " [35.0, 725.0],\n",
       " [35.0, 720.0],\n",
       " [36.0, 714.0],\n",
       " [36.0, 850.0],\n",
       " [37.0, 1000.0],\n",
       " [38.5, 920.0],\n",
       " [38.5, 955.0],\n",
       " [39.5, 925.0],\n",
       " [41.0, 975.0],\n",
       " [41.0, 950.0],\n",
       " [9.8, 6.7],\n",
       " [10.5, 7.5],\n",
       " [10.6, 7.0],\n",
       " [11.0, 9.7],\n",
       " [11.2, 9.8],\n",
       " [11.3, 8.7],\n",
       " [11.8, 10.0],\n",
       " [11.8, 9.9],\n",
       " [12.0, 9.8],\n",
       " [12.2, 12.2],\n",
       " [12.4, 13.4],\n",
       " [13.0, 12.2],\n",
       " [14.3, 19.7],\n",
       " [15.0, 19.9]]"
      ]
     },
     "execution_count": 7,
     "metadata": {},
     "output_type": "execute_result"
    }
   ],
   "source": [
    "# 두 리스트 합치기\n",
    "length = domi_length + bing_length\n",
    "weight = domi_weight + bing_weight\n",
    "\n",
    "#2차원 리스트로 변환\n",
    "\n",
    "fish_data = [[l,w] for l,w in zip(length,weight)]\n",
    "fish_data"
   ]
  },
  {
   "cell_type": "markdown",
   "id": "b208d88f",
   "metadata": {},
   "source": [
    "- 타겟(레이블) 생성"
   ]
  },
  {
   "cell_type": "code",
   "execution_count": 9,
   "id": "2c3139fb",
   "metadata": {
    "ExecuteTime": {
     "end_time": "2021-07-21T08:48:59.550807Z",
     "start_time": "2021-07-21T08:48:59.546818Z"
    }
   },
   "outputs": [
    {
     "name": "stdout",
     "output_type": "stream",
     "text": [
      "[1, 1, 1, 1, 1, 1, 1, 1, 1, 1, 1, 1, 1, 1, 1, 1, 1, 1, 1, 1, 1, 1, 1, 1, 1, 1, 1, 1, 1, 1, 1, 1, 1, 1, 1, 0, 0, 0, 0, 0, 0, 0, 0, 0, 0, 0, 0, 0, 0]\n"
     ]
    }
   ],
   "source": [
    "fish_target = [1]*35 + [0]*14\n",
    "print(fish_target)"
   ]
  },
  {
   "cell_type": "markdown",
   "id": "dfc798e1",
   "metadata": {},
   "source": [
    "## K-최근접 이웃(K-Nearest Neighbor) 알고리즘을 이용한 분류\n",
    "\n",
    "### K-NN 알고리즘\n",
    "\n",
    "- 테스트 데이터와 K개 훈련데이터의 y 값들을 비교\n",
    "\n",
    "- 분류와 회귀 모두 활용\n",
    "\n",
    "- 분류 : k개 최근접 이웃들의 class들 중 다수결로 class 예측\n",
    "\n",
    "- 회귀 : k개 최근접 이웃들이 가지고 있는 값의 평균을 결과값으로 예측\n",
    "\n",
    "- 비모수 방식이며 instance-based 알고리즘\n",
    "\n",
    "- train과 test 세트로 데이터 분리하지만 실제 train은 존재하지 않는 게으름 알고리즘\n",
    "\n",
    "- 구체적인 데이터를 가지고 예측을 요청할 때, k개 가장 가까운 사례를 train data set 에서 찾아 해당하는 y값을 기반으로 예측결과 제시\n",
    "\n",
    "- k값 : 동점을 막기 위해 대개 홀수로 정함\n",
    "    - k가 작으면 이상치 등 노이즈에 민감하게 반응 -> 과대적합\n",
    "        - k=1인 경우 가장 가까운 이웃과 같은 클래스 할당\n",
    "    - k가 크면 자료의 패턴을 파악할 수 없음 -> 과소적합\n",
    "        - k=n인 경우 전체 평균 개념\n",
    "        \n",
    "- 가깝다는 기준 : 거리"
   ]
  },
  {
   "cell_type": "code",
   "execution_count": 10,
   "id": "94680ff7",
   "metadata": {
    "ExecuteTime": {
     "end_time": "2021-07-21T11:08:06.507402Z",
     "start_time": "2021-07-21T11:08:06.498456Z"
    }
   },
   "outputs": [
    {
     "data": {
      "text/plain": [
       "1.0"
      ]
     },
     "execution_count": 10,
     "metadata": {},
     "output_type": "execute_result"
    }
   ],
   "source": [
    "from sklearn.neighbors import KNeighborsClassifier\n",
    "\n",
    "## KNeighborSClass 객체생성\n",
    "kn = KNeighborsClassifier()\n",
    "## traning : fit(feature,label)\n",
    "kn.fit(fish_data,fish_target)\n",
    "# 모델평가 : score()메서드 => 정확도\n",
    "kn.score(fish_data, fish_target)"
   ]
  },
  {
   "cell_type": "markdown",
   "id": "3dbfba75",
   "metadata": {},
   "source": [
    "- 정확도(accurancy)\n",
    "\n",
    "    - 정확한 답을 몇개 맞추었는지 백분율로 나타냄\n",
    "\n",
    "    - 정확히 맞춘 갯수/ 전체 데이터수"
   ]
  },
  {
   "cell_type": "markdown",
   "id": "9bb17a31",
   "metadata": {
    "ExecuteTime": {
     "end_time": "2021-07-21T11:11:12.656005Z",
     "start_time": "2021-07-21T11:11:12.640083Z"
    }
   },
   "source": [
    "## K-최근접 알고리즘을 이용한 새로운 데이터 분류"
   ]
  },
  {
   "cell_type": "code",
   "execution_count": 12,
   "id": "43cd6ee6",
   "metadata": {
    "ExecuteTime": {
     "end_time": "2021-07-21T11:20:10.403873Z",
     "start_time": "2021-07-21T11:20:10.274700Z"
    }
   },
   "outputs": [
    {
     "data": {
      "image/png": "[encoded data removed]",
      "text/plain": [
       "<Figure size 432x288 with 1 Axes>"
      ]
     },
     "metadata": {
      "needs_background": "light"
     },
     "output_type": "display_data"
    }
   ],
   "source": [
    "plt.scatter(domi_length,domi_weight)\n",
    "plt.scatter(bing_length,bing_weight)\n",
    "plt.scatter(30,600,marker='^')\n",
    "plt.xlabel('length')\n",
    "plt.ylabel('weight')\n",
    "plt.show()"
   ]
  },
  {
   "cell_type": "code",
   "execution_count": 13,
   "id": "507f7405",
   "metadata": {
    "ExecuteTime": {
     "end_time": "2021-07-21T11:21:10.034818Z",
     "start_time": "2021-07-21T11:21:10.019858Z"
    }
   },
   "outputs": [
    {
     "data": {
      "text/plain": [
       "array([1, 1, 0])"
      ]
     },
     "execution_count": 13,
     "metadata": {},
     "output_type": "execute_result"
    }
   ],
   "source": [
    "kn.predict([[30,600],[50,800],[5,20]])"
   ]
  },
  {
   "cell_type": "code",
   "execution_count": 16,
   "id": "4598cb38",
   "metadata": {
    "ExecuteTime": {
     "end_time": "2021-07-21T11:23:15.628342Z",
     "start_time": "2021-07-21T11:23:15.619366Z"
    }
   },
   "outputs": [
    {
     "name": "stdout",
     "output_type": "stream",
     "text": [
      "[[  25.4  242. ]\n",
      " [  26.3  290. ]\n",
      " [  26.5  340. ]\n",
      " [  29.   363. ]\n",
      " [  29.   430. ]\n",
      " [  29.7  450. ]\n",
      " [  29.7  500. ]\n",
      " [  30.   390. ]\n",
      " [  30.   450. ]\n",
      " [  30.7  500. ]\n",
      " [  31.   475. ]\n",
      " [  31.   500. ]\n",
      " [  31.5  500. ]\n",
      " [  32.   340. ]\n",
      " [  32.   600. ]\n",
      " [  32.   600. ]\n",
      " [  33.   700. ]\n",
      " [  33.   700. ]\n",
      " [  33.5  610. ]\n",
      " [  33.5  650. ]\n",
      " [  34.   575. ]\n",
      " [  34.   685. ]\n",
      " [  34.5  620. ]\n",
      " [  35.   680. ]\n",
      " [  35.   700. ]\n",
      " [  35.   725. ]\n",
      " [  35.   720. ]\n",
      " [  36.   714. ]\n",
      " [  36.   850. ]\n",
      " [  37.  1000. ]\n",
      " [  38.5  920. ]\n",
      " [  38.5  955. ]\n",
      " [  39.5  925. ]\n",
      " [  41.   975. ]\n",
      " [  41.   950. ]\n",
      " [   9.8    6.7]\n",
      " [  10.5    7.5]\n",
      " [  10.6    7. ]\n",
      " [  11.     9.7]\n",
      " [  11.2    9.8]\n",
      " [  11.3    8.7]\n",
      " [  11.8   10. ]\n",
      " [  11.8    9.9]\n",
      " [  12.     9.8]\n",
      " [  12.2   12.2]\n",
      " [  12.4   13.4]\n",
      " [  13.    12.2]\n",
      " [  14.3   19.7]\n",
      " [  15.    19.9]]\n",
      "[1 1 1 1 1 1 1 1 1 1 1 1 1 1 1 1 1 1 1 1 1 1 1 1 1 1 1 1 1 1 1 1 1 1 1 0 0\n",
      " 0 0 0 0 0 0 0 0 0 0 0 0]\n"
     ]
    }
   ],
   "source": [
    "# fit_x 속성 : fish_data를 가지고 있음\n",
    "print(kn._fit_X)\n",
    "\n",
    "#_y 속성 : fish_target을 가지고 있음\n",
    "print(kn._y)"
   ]
  },
  {
   "cell_type": "markdown",
   "id": "f8ec45d8",
   "metadata": {},
   "source": [
    "- KNeighborsClassfier(n_neighbors=) : 모델 성능 크기 지정"
   ]
  },
  {
   "cell_type": "code",
   "execution_count": 20,
   "id": "73a7372d",
   "metadata": {
    "ExecuteTime": {
     "end_time": "2021-07-21T11:33:55.886715Z",
     "start_time": "2021-07-21T11:33:55.874748Z"
    }
   },
   "outputs": [],
   "source": [
    "kn49 = KNeighborsClassifier(n_neighbors=49)"
   ]
  },
  {
   "cell_type": "code",
   "execution_count": 21,
   "id": "e10e66c0",
   "metadata": {
    "ExecuteTime": {
     "end_time": "2021-07-21T11:33:56.748655Z",
     "start_time": "2021-07-21T11:33:56.738683Z"
    }
   },
   "outputs": [
    {
     "data": {
      "text/plain": [
       "KNeighborsClassifier(n_neighbors=49)"
      ]
     },
     "execution_count": 21,
     "metadata": {},
     "output_type": "execute_result"
    }
   ],
   "source": [
    "# k=49인 경우 모델 훈련\n",
    "kn49.fit(fish_data, fish_target)"
   ]
  },
  {
   "cell_type": "code",
   "execution_count": 27,
   "id": "56c894fc",
   "metadata": {
    "ExecuteTime": {
     "end_time": "2021-07-21T11:36:19.864301Z",
     "start_time": "2021-07-21T11:36:19.857320Z"
    }
   },
   "outputs": [
    {
     "name": "stdout",
     "output_type": "stream",
     "text": [
      "0.7142857142857143 0.7142857142857143\n"
     ]
    }
   ],
   "source": [
    "# 성능\n",
    "# 49개 중 35개가 도미 이므로 어떤 데이터를 넣어도 무조건 도미로 예측\n",
    "print(kn49.score(fish_data,fish_target),35/49)"
   ]
  },
  {
   "cell_type": "code",
   "execution_count": 29,
   "id": "056a93cf",
   "metadata": {
    "ExecuteTime": {
     "end_time": "2021-07-21T11:39:37.343100Z",
     "start_time": "2021-07-21T11:39:37.297197Z"
    }
   },
   "outputs": [
    {
     "name": "stdout",
     "output_type": "stream",
     "text": [
      "18 0.9795918367346939\n"
     ]
    }
   ],
   "source": [
    "kn = KNeighborsClassifier()\n",
    "kn.fit(fish_data, fish_target)\n",
    "\n",
    "for k in range(5,50):\n",
    "    # 최근접 이웃 개수 설정\n",
    "    kn.n_neighbors = k\n",
    "    #점수계산\n",
    "    score = kn.score(fish_data, fish_target)\n",
    "    if score < 1:\n",
    "        print(k,score)\n",
    "        break"
   ]
  },
  {
   "cell_type": "markdown",
   "id": "7d69d461",
   "metadata": {
    "ExecuteTime": {
     "end_time": "2021-07-21T11:40:57.354426Z",
     "start_time": "2021-07-21T11:40:57.337474Z"
    }
   },
   "source": [
    "[마무리]\n",
    "\n",
    "- 특성\n",
    "    - k-최근접 이웃 알고리즘\n",
    "    - 정확도\n",
    "    \n",
    "- 핵심 패키지와 함수\n",
    "    - scikit-learn\n",
    "- KNeighborsClassfier()\n",
    "- fit()\n",
    "- predict()\n",
    "- score()"
   ]
  },
  {
   "cell_type": "markdown",
   "id": "4838ce80",
   "metadata": {},
   "source": []
  },
  {
   "cell_type": "code",
   "execution_count": null,
   "id": "574fcea8",
   "metadata": {},
   "outputs": [],
   "source": []
  }
 ],
 "metadata": {
  "hide_input": false,
  "kernelspec": {
   "display_name": "Python 3",
   "language": "python",
   "name": "python3"
  },
  "language_info": {
   "codemirror_mode": {
    "name": "ipython",
    "version": 3
   },
   "file_extension": ".py",
   "mimetype": "text/x-python",
   "name": "python",
   "nbconvert_exporter": "python",
   "pygments_lexer": "ipython3",
   "version": "3.8.8"
  },
  "toc": {
   "base_numbering": 1,
   "nav_menu": {},
   "number_sections": true,
   "sideBar": true,
   "skip_h1_title": false,
   "title_cell": "Table of Contents",
   "title_sidebar": "Contents",
   "toc_cell": false,
   "toc_position": {},
   "toc_section_display": true,
   "toc_window_display": false
  },
  "varInspector": {
   "cols": {
    "lenName": 16,
    "lenType": 16,
    "lenVar": 40
   },
   "kernels_config": {
    "python": {
     "delete_cmd_postfix": "",
     "delete_cmd_prefix": "del ",
     "library": "var_list.py",
     "varRefreshCmd": "print(var_dic_list())"
    },
    "r": {
     "delete_cmd_postfix": ") ",
     "delete_cmd_prefix": "rm(",
     "library": "var_list.r",
     "varRefreshCmd": "cat(var_dic_list()) "
    }
   },
   "types_to_exclude": [
    "module",
    "function",
    "builtin_function_or_method",
    "instance",
    "_Feature"
   ],
   "window_display": false
  }
 },
 "nbformat": 4,
 "nbformat_minor": 5
}
