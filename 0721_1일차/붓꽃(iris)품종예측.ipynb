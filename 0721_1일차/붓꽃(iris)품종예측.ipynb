{
 "cells": [
  {
   "cell_type": "markdown",
   "id": "8da7bc05",
   "metadata": {},
   "source": [
    "# 사이킷런으로 붓꽃 데이터 품종 예측\n",
    "\n",
    "# 분류를 위한 학습 및 예측 프로세스\n",
    "\n",
    "- 0단계 : DataSet 준비(로딩, 데이터프레임 변환 등)\n",
    "- 1단계 : DataSet 분리(train과 test 데이터로 분리)\n",
    "- 2단계 : 모델학습(train 데이터 기반으로 ML 알고리즘 적용)\n",
    "- 3단계 : 예측수행(학습된 ML 모델을 이용해 테스트 데이터 예측)\n",
    "- 4단계 : 모델 성능 및 평가(예측된 결과값과 테스트 데이터 실제 값 비교로 ML성능 평가)\n",
    "\n",
    "### iris data \n",
    "\n",
    "- feature_names : \n",
    "    - 꽃받침 길이 : Sepal length\n",
    "    - 꽃받침 넓이 : Sepal width\n",
    "    - 꽃잎의 길이 : Petal length\n",
    "    - 꽃잎의 넓이 : Petal width\n",
    "\n",
    "\n",
    "- label : 품종\n",
    "    - target_names : Setosa, Vesicolor,Virginica\n",
    "    - target(숫자) : 0,1,2"
   ]
  },
  {
   "cell_type": "code",
   "execution_count": 1,
   "id": "8e02c270",
   "metadata": {
    "ExecuteTime": {
     "end_time": "2021-07-23T12:45:19.020193Z",
     "start_time": "2021-07-23T12:45:17.710038Z"
    }
   },
   "outputs": [
    {
     "name": "stdout",
     "output_type": "stream",
     "text": [
      "[0 0 0 0 0 0 0 0 0 0 0 0 0 0 0 0 0 0 0 0 0 0 0 0 0 0 0 0 0 0 0 0 0 0 0 0 0\n",
      " 0 0 0 0 0 0 0 0 0 0 0 0 0 1 1 1 1 1 1 1 1 1 1 1 1 1 1 1 1 1 1 1 1 1 1 1 1\n",
      " 1 1 1 1 1 1 1 1 1 1 1 1 1 1 1 1 1 1 1 1 1 1 1 1 1 1 2 2 2 2 2 2 2 2 2 2 2\n",
      " 2 2 2 2 2 2 2 2 2 2 2 2 2 2 2 2 2 2 2 2 2 2 2 2 2 2 2 2 2 2 2 2 2 2 2 2 2\n",
      " 2 2]\n",
      "['setosa' 'versicolor' 'virginica']\n",
      "['sepal length (cm)', 'sepal width (cm)', 'petal length (cm)', 'petal width (cm)']\n"
     ]
    },
    {
     "data": {
      "text/html": [
       "<div>\n",
       "<style scoped>\n",
       "    .dataframe tbody tr th:only-of-type {\n",
       "        vertical-align: middle;\n",
       "    }\n",
       "\n",
       "    .dataframe tbody tr th {\n",
       "        vertical-align: top;\n",
       "    }\n",
       "\n",
       "    .dataframe thead th {\n",
       "        text-align: right;\n",
       "    }\n",
       "</style>\n",
       "<table border=\"1\" class=\"dataframe\">\n",
       "  <thead>\n",
       "    <tr style=\"text-align: right;\">\n",
       "      <th></th>\n",
       "      <th>sepal length (cm)</th>\n",
       "      <th>sepal width (cm)</th>\n",
       "      <th>petal length (cm)</th>\n",
       "      <th>petal width (cm)</th>\n",
       "      <th>label</th>\n",
       "    </tr>\n",
       "  </thead>\n",
       "  <tbody>\n",
       "    <tr>\n",
       "      <th>0</th>\n",
       "      <td>5.1</td>\n",
       "      <td>3.5</td>\n",
       "      <td>1.4</td>\n",
       "      <td>0.2</td>\n",
       "      <td>0</td>\n",
       "    </tr>\n",
       "  </tbody>\n",
       "</table>\n",
       "</div>"
      ],
      "text/plain": [
       "   sepal length (cm)  sepal width (cm)  petal length (cm)  petal width (cm)  \\\n",
       "0                5.1               3.5                1.4               0.2   \n",
       "\n",
       "   label  \n",
       "0      0  "
      ]
     },
     "execution_count": 1,
     "metadata": {},
     "output_type": "execute_result"
    }
   ],
   "source": [
    "from sklearn.datasets import load_iris\n",
    "from sklearn.tree import DecisionTreeClassifier\n",
    "from sklearn.model_selection import train_test_split\n",
    "import pandas as pd\n",
    "\n",
    "# 붓꽃 데이터 세트 로딩\n",
    "iris = load_iris()\n",
    "\n",
    "#iris.data는 iris 데이터 세트에서 feature 만으로 된 데이터를 numpy로 가지고 있음\n",
    "iris_data = iris.data\n",
    "\n",
    "# iris.target은 붓꽃 데이터 세트에서 레이블 데이터를 numpy로 가지고 있음\n",
    "iris_label= iris.target\n",
    "\n",
    "print(iris_label)\n",
    "print(iris.target_names)\n",
    "print(iris.feature_names)\n",
    "\n",
    "# DataFrame으로 변환\n",
    "iris_df = pd.DataFrame(iris_data, columns=iris.feature_names)\n",
    "iris_df['label'] = iris.target\n",
    "iris_df.head(1)"
   ]
  },
  {
   "cell_type": "code",
   "execution_count": 2,
   "id": "81cdf6e7",
   "metadata": {
    "ExecuteTime": {
     "end_time": "2021-07-23T12:45:20.046860Z",
     "start_time": "2021-07-23T12:45:20.029823Z"
    }
   },
   "outputs": [],
   "source": [
    "## iris_data는 건들지 말고 data2를 만들어서 라벨분류 해보기\n",
    "# iris_df2 = iris_df\n",
    "\n",
    "# def label_name(label):\n",
    "#     if label == 0:\n",
    "#         name = 'satosa'\n",
    "#     elif label == 1:\n",
    "#         name = 'versicolor'\n",
    "#     else :\n",
    "#         name = 'virginica'\n",
    "#     return name\n",
    "\n",
    "# iris_df2['label'] = iris_df2.apply(lambda x:label_name(x['label']),axis=1)\n",
    "# iris_df2.head(1)"
   ]
  },
  {
   "cell_type": "markdown",
   "id": "f23e77cb",
   "metadata": {},
   "source": [
    "### train_test_split(feature_dataset, label_dataset, test_size, train_size, random_state, shuffle, stratify)\n",
    "\n",
    "- test_size = 미 지정 시 0.25\n",
    "- random_state = 세트를 shuffle 할때 지정 int 값 만큼 shuffle, 0~4 가장많이 쓰임\n",
    "- shuffle : 분할하기 전 shuffle 할 지 지정\n",
    "    - default = True\n",
    "- stratify : 지정된 레이블의 클래스 비율에 맞게 분할\n",
    "    - default = None\n",
    "    - classification을 다룰 때 매우 중요\n",
    "    - stratify 값을 target으로 지정해주면 각각의 class 비율(ratio)을 \n",
    "      train/ validation에 유지해 줌(한쪽에 쏠려서 분배되는 것 방지)\n",
    "    - classification 문제를 다룰 때 미지정하면 성능의 차이가 많이 남"
   ]
  },
  {
   "cell_type": "code",
   "execution_count": 5,
   "id": "95bc73a0",
   "metadata": {
    "ExecuteTime": {
     "end_time": "2021-07-23T14:05:53.765592Z",
     "start_time": "2021-07-23T14:05:53.747642Z"
    }
   },
   "outputs": [
    {
     "name": "stdout",
     "output_type": "stream",
     "text": [
      "예측 정확도 : 0.9556\n"
     ]
    }
   ],
   "source": [
    "#학습 데이터와 테스트 데이터 분리 : train_test_split\n",
    "X_train,X_test,y_train,y_test=train_test_split(iris_data,iris_label,test_size=0.3,random_state=121)\n",
    "\n",
    "# 의사결정 트리 클래스 DecisionTreeClassifier 객체 생성\n",
    "dt_clf=DecisionTreeClassifier()\n",
    "# 학습\n",
    "dt_clf.fit(X_train,y_train)\n",
    "# 예측\n",
    "pred = dt_clf.predict(X_test)\n",
    "# 정확도 평가\n",
    "\n",
    "from sklearn.metrics import accuracy_score\n",
    "accuracy = accuracy_score(y_test,pred)\n",
    "print('예측 정확도 : {0:.4f}'.format(accuracy))"
   ]
  }
 ],
 "metadata": {
  "hide_input": false,
  "kernelspec": {
   "display_name": "Python 3",
   "language": "python",
   "name": "python3"
  },
  "language_info": {
   "codemirror_mode": {
    "name": "ipython",
    "version": 3
   },
   "file_extension": ".py",
   "mimetype": "text/x-python",
   "name": "python",
   "nbconvert_exporter": "python",
   "pygments_lexer": "ipython3",
   "version": "3.8.8"
  },
  "toc": {
   "base_numbering": 1,
   "nav_menu": {},
   "number_sections": true,
   "sideBar": true,
   "skip_h1_title": false,
   "title_cell": "Table of Contents",
   "title_sidebar": "Contents",
   "toc_cell": false,
   "toc_position": {},
   "toc_section_display": true,
   "toc_window_display": false
  },
  "varInspector": {
   "cols": {
    "lenName": 16,
    "lenType": 16,
    "lenVar": 40
   },
   "kernels_config": {
    "python": {
     "delete_cmd_postfix": "",
     "delete_cmd_prefix": "del ",
     "library": "var_list.py",
     "varRefreshCmd": "print(var_dic_list())"
    },
    "r": {
     "delete_cmd_postfix": ") ",
     "delete_cmd_prefix": "rm(",
     "library": "var_list.r",
     "varRefreshCmd": "cat(var_dic_list()) "
    }
   },
   "types_to_exclude": [
    "module",
    "function",
    "builtin_function_or_method",
    "instance",
    "_Feature"
   ],
   "window_display": false
  }
 },
 "nbformat": 4,
 "nbformat_minor": 5
}
