{
 "cells": [
  {
   "cell_type": "markdown",
   "id": "ec6de8ce",
   "metadata": {},
   "source": [
    "# 데이터 전처리\n",
    "\n",
    "## 인코딩(Encoding) \n",
    "\n",
    " - Null,NaN값 처리\n",
    " \n",
    " - 문자형 -> 숫자형변환\n",
    " \n",
    "###  label 인코딩, One Hot 인코딩\n",
    "\n",
    "- label 인코딩 : 카테고리 피처 -> 코드형 숫자값 변환\n",
    "    - LabelEncoder(),fit(),transform() 호출\n",
    "\n",
    "- OneHot 인코딩 : : 피처값의 유형에 새로운 피처를 추가 해 고유값 컬럼에만 1 표시\n",
    "                    나머지 컬럼에는 0표시\n",
    "    - OneHotEncoder()\n",
    "    - 주의할 점 : 1. 변환 전 모든 문자열 값이 숫자형 값으로 변환 되어야함\n",
    "                  2. 입력값으로 2차원 데이터가 필요"
   ]
  },
  {
   "cell_type": "code",
   "execution_count": 4,
   "id": "2668cac4",
   "metadata": {
    "ExecuteTime": {
     "end_time": "2021-07-24T12:52:51.801113Z",
     "start_time": "2021-07-24T12:52:51.783149Z"
    }
   },
   "outputs": [
    {
     "name": "stdout",
     "output_type": "stream",
     "text": [
      "인코딩 값: [2 0 5 6 3 4 1]\n",
      "인코딩 클래스 :  ['TV' '냉장고' '노트북' '모니터' '에어컨' '탭' '휴대폰']\n"
     ]
    }
   ],
   "source": [
    "from sklearn.preprocessing import LabelEncoder\n",
    "\n",
    "##라벨인코딩\n",
    "\n",
    "items=['노트북','TV','탭','휴대폰','모니터','에어컨','냉장고']\n",
    "\n",
    "#LabelEncoder 객체 생성후 fit, transform\n",
    "\n",
    "encoder = LabelEncoder()\n",
    "encoder.fit(items)\n",
    "label_en = encoder.transform(items)\n",
    "print('인코딩 변환값:',label_en)\n",
    "\n",
    "# 문자열 값 보기\n",
    "print('인코딩 클래스 : ',encoder.classes_)\n",
    "# 디코딩 원본값 보기 : encoder.inverse_transform([])"
   ]
  },
  {
   "cell_type": "code",
   "execution_count": 11,
   "id": "e8b4aa50",
   "metadata": {
    "ExecuteTime": {
     "end_time": "2021-07-24T13:00:42.873961Z",
     "start_time": "2021-07-24T13:00:42.853187Z"
    }
   },
   "outputs": [
    {
     "name": "stdout",
     "output_type": "stream",
     "text": [
      "원핫 인코딩:\n",
      " [[0. 0. 1. 0. 0. 0. 0.]\n",
      " [1. 0. 0. 0. 0. 0. 0.]\n",
      " [0. 0. 0. 0. 0. 1. 0.]\n",
      " [0. 0. 0. 0. 0. 0. 1.]\n",
      " [0. 0. 0. 1. 0. 0. 0.]\n",
      " [0. 0. 0. 0. 1. 0. 0.]\n",
      " [0. 1. 0. 0. 0. 0. 0.]]\n",
      "원핫 인코딩 데이터 차원: (7, 7)\n"
     ]
    }
   ],
   "source": [
    "#One-Hot 인코딩\n",
    "\n",
    "from sklearn.preprocessing import LabelEncoder,OneHotEncoder\n",
    "import numpy as np\n",
    "\n",
    "# 숫자값 변환을 위해 라벨인코딩 \n",
    "items=['노트북','TV','탭','휴대폰','모니터','에어컨','냉장고']\n",
    "\n",
    "lencoder = LabelEncoder()\n",
    "lencoder.fit(items)\n",
    "labels=lencoder.transform(items)\n",
    "\n",
    "# 2차원 데이터로 변환\n",
    "label = labels.reshape(-1,1)\n",
    "\n",
    "#원-핫 인코딩 적용\n",
    "oh_encoder = OneHotEncoder()\n",
    "oh_encoder.fit(label)\n",
    "onehot = oh_encoder.transform(label)\n",
    "\n",
    "print('원핫 인코딩:\\n',onehot.toarray())\n",
    "print('원핫 인코딩 데이터 차원:',onehot.shape)"
   ]
  },
  {
   "cell_type": "markdown",
   "id": "c060e62f",
   "metadata": {},
   "source": [
    "pandas API를 활용해 원-핫 인코딩 더 쉽게 하기\n",
    "\n",
    "- get dummies() 활용\n"
   ]
  },
  {
   "cell_type": "code",
   "execution_count": 12,
   "id": "73207fcf",
   "metadata": {
    "ExecuteTime": {
     "end_time": "2021-07-24T13:02:52.798745Z",
     "start_time": "2021-07-24T13:02:52.483552Z"
    }
   },
   "outputs": [
    {
     "data": {
      "text/html": [
       "<div>\n",
       "<style scoped>\n",
       "    .dataframe tbody tr th:only-of-type {\n",
       "        vertical-align: middle;\n",
       "    }\n",
       "\n",
       "    .dataframe tbody tr th {\n",
       "        vertical-align: top;\n",
       "    }\n",
       "\n",
       "    .dataframe thead th {\n",
       "        text-align: right;\n",
       "    }\n",
       "</style>\n",
       "<table border=\"1\" class=\"dataframe\">\n",
       "  <thead>\n",
       "    <tr style=\"text-align: right;\">\n",
       "      <th></th>\n",
       "      <th>item_TV</th>\n",
       "      <th>item_냉장고</th>\n",
       "      <th>item_믹서</th>\n",
       "      <th>item_선풍기</th>\n",
       "      <th>item_전자렌지</th>\n",
       "      <th>item_컴퓨터</th>\n",
       "    </tr>\n",
       "  </thead>\n",
       "  <tbody>\n",
       "    <tr>\n",
       "      <th>0</th>\n",
       "      <td>1</td>\n",
       "      <td>0</td>\n",
       "      <td>0</td>\n",
       "      <td>0</td>\n",
       "      <td>0</td>\n",
       "      <td>0</td>\n",
       "    </tr>\n",
       "    <tr>\n",
       "      <th>1</th>\n",
       "      <td>0</td>\n",
       "      <td>1</td>\n",
       "      <td>0</td>\n",
       "      <td>0</td>\n",
       "      <td>0</td>\n",
       "      <td>0</td>\n",
       "    </tr>\n",
       "    <tr>\n",
       "      <th>2</th>\n",
       "      <td>0</td>\n",
       "      <td>0</td>\n",
       "      <td>0</td>\n",
       "      <td>0</td>\n",
       "      <td>1</td>\n",
       "      <td>0</td>\n",
       "    </tr>\n",
       "    <tr>\n",
       "      <th>3</th>\n",
       "      <td>0</td>\n",
       "      <td>0</td>\n",
       "      <td>0</td>\n",
       "      <td>0</td>\n",
       "      <td>0</td>\n",
       "      <td>1</td>\n",
       "    </tr>\n",
       "    <tr>\n",
       "      <th>4</th>\n",
       "      <td>0</td>\n",
       "      <td>0</td>\n",
       "      <td>0</td>\n",
       "      <td>1</td>\n",
       "      <td>0</td>\n",
       "      <td>0</td>\n",
       "    </tr>\n",
       "    <tr>\n",
       "      <th>5</th>\n",
       "      <td>0</td>\n",
       "      <td>0</td>\n",
       "      <td>0</td>\n",
       "      <td>1</td>\n",
       "      <td>0</td>\n",
       "      <td>0</td>\n",
       "    </tr>\n",
       "    <tr>\n",
       "      <th>6</th>\n",
       "      <td>0</td>\n",
       "      <td>0</td>\n",
       "      <td>1</td>\n",
       "      <td>0</td>\n",
       "      <td>0</td>\n",
       "      <td>0</td>\n",
       "    </tr>\n",
       "    <tr>\n",
       "      <th>7</th>\n",
       "      <td>0</td>\n",
       "      <td>0</td>\n",
       "      <td>1</td>\n",
       "      <td>0</td>\n",
       "      <td>0</td>\n",
       "      <td>0</td>\n",
       "    </tr>\n",
       "  </tbody>\n",
       "</table>\n",
       "</div>"
      ],
      "text/plain": [
       "   item_TV  item_냉장고  item_믹서  item_선풍기  item_전자렌지  item_컴퓨터\n",
       "0        1         0        0         0          0         0\n",
       "1        0         1        0         0          0         0\n",
       "2        0         0        0         0          1         0\n",
       "3        0         0        0         0          0         1\n",
       "4        0         0        0         1          0         0\n",
       "5        0         0        0         1          0         0\n",
       "6        0         0        1         0          0         0\n",
       "7        0         0        1         0          0         0"
      ]
     },
     "execution_count": 12,
     "metadata": {},
     "output_type": "execute_result"
    }
   ],
   "source": [
    "import pandas as pd\n",
    "\n",
    "df = pd.DataFrame({'item':['TV','냉장고','전자렌지','컴퓨터','선풍기','선풍기','믹서','믹서']})\n",
    "pd.get_dummies(df)"
   ]
  },
  {
   "cell_type": "markdown",
   "id": "f19ca4ba",
   "metadata": {},
   "source": [
    "## 정규화와 표준화\n",
    "\n",
    "### 표준화(Standardization) : Z - score\n",
    "\n",
    "- 평균 0 분산1로 변환\n",
    "\n",
    "xi_new = xi-mean(x)/std(x)\n",
    "\n",
    "### 정규화(Normalization) : MinMaxScaler\n",
    "\n",
    "- 데이터를 0과 1사이의 값으로 변환\n",
    "\n",
    "xi_new = xi-min(x)/max(x)-min(x)"
   ]
  },
  {
   "cell_type": "code",
   "execution_count": 17,
   "id": "87607750",
   "metadata": {
    "ExecuteTime": {
     "end_time": "2021-07-24T13:33:22.313312Z",
     "start_time": "2021-07-24T13:33:22.289603Z"
    }
   },
   "outputs": [
    {
     "name": "stdout",
     "output_type": "stream",
     "text": [
      "feature 들의 평균값:\n",
      " sepal length (cm)    5.843333\n",
      "sepal width (cm)     3.057333\n",
      "petal length (cm)    3.758000\n",
      "petal width (cm)     1.199333\n",
      "dtype: float64\n",
      "feature 들의 분산값:\n",
      " sepal length (cm)    0.685694\n",
      "sepal width (cm)     0.189979\n",
      "petal length (cm)    3.116278\n",
      "petal width (cm)     0.581006\n",
      "dtype: float64\n"
     ]
    }
   ],
   "source": [
    "# 표준화\n",
    "\n",
    "from sklearn.datasets import load_iris\n",
    "import pandas as pd\n",
    "\n",
    "#붓꽃데이터 로드 후 dataframe으로 변환\n",
    "\n",
    "iris = load_iris()\n",
    "iris_data = iris.data\n",
    "iris_df = pd.DataFrame(data = iris_data, columns = iris.feature_names)\n",
    "\n",
    "print('feature 들의 평균값:\\n',iris_df.mean())\n",
    "print('feature 들의 분산값:\\n',iris_df.var())"
   ]
  },
  {
   "cell_type": "code",
   "execution_count": 20,
   "id": "f869c157",
   "metadata": {
    "ExecuteTime": {
     "end_time": "2021-07-24T13:39:06.101660Z",
     "start_time": "2021-07-24T13:39:06.080143Z"
    }
   },
   "outputs": [
    {
     "name": "stdout",
     "output_type": "stream",
     "text": [
      "피쳐들의 평균값:\n",
      " sepal length (cm)   -1.690315e-15\n",
      "sepal width (cm)    -1.842970e-15\n",
      "petal length (cm)   -1.698641e-15\n",
      "petal width (cm)    -1.409243e-15\n",
      "dtype: float64\n",
      "피쳐들의 분산값:\n",
      " sepal length (cm)    1.006711\n",
      "sepal width (cm)     1.006711\n",
      "petal length (cm)    1.006711\n",
      "petal width (cm)     1.006711\n",
      "dtype: float64\n"
     ]
    }
   ],
   "source": [
    "#StandardScaler 로 피쳐들을 한번에 표준화\n",
    "\n",
    "from sklearn.preprocessing import StandardScaler\n",
    "\n",
    "#StandardScaler 객체생성\n",
    "scaler = StandardScaler()\n",
    "\n",
    "# fit(), transform()호출\n",
    "scaler.fit(iris_df)\n",
    "iris_scaler=scaler.transform(iris_df)\n",
    "\n",
    "# transform 시 스케일 변환된 데이터세트가 Numpy ndarray로 반환\n",
    "# 이를 다시 dataframe으로 변환해야함\n",
    "iris_df_scaler =pd.DataFrame(data=iris_scaler, columns=iris.feature_names) \n",
    "print('피쳐들의 평균값:\\n',iris_df_scaler.mean())\n",
    "print('피쳐들의 분산값:\\n',iris_df_scaler.var())"
   ]
  },
  {
   "cell_type": "code",
   "execution_count": 21,
   "id": "1b4ea50f",
   "metadata": {
    "ExecuteTime": {
     "end_time": "2021-07-24T13:43:04.280492Z",
     "start_time": "2021-07-24T13:43:04.255579Z"
    }
   },
   "outputs": [
    {
     "name": "stdout",
     "output_type": "stream",
     "text": [
      "feature의 최솟값 : sepal length (cm)    0.0\n",
      "sepal width (cm)     0.0\n",
      "petal length (cm)    0.0\n",
      "petal width (cm)     0.0\n",
      "dtype: float64\n",
      "feature의 최댓값 : sepal length (cm)    1.0\n",
      "sepal width (cm)     1.0\n",
      "petal length (cm)    1.0\n",
      "petal width (cm)     1.0\n",
      "dtype: float64\n"
     ]
    }
   ],
   "source": [
    "# 표준화 MinMaxScaler\n",
    "\n",
    "from sklearn.preprocessing import MinMaxScaler\n",
    "\n",
    "minmax = MinMaxScaler()\n",
    "minmax.fit(iris_df)\n",
    "scale = minmax.transform(iris_df)\n",
    "\n",
    "# transform으로 numpy ndarray로 변환된 데이터 \n",
    "# dataFrame으로 변환하기\n",
    "\n",
    "minmax_iris = pd.DataFrame(data=scale, columns=iris.feature_names)\n",
    "\n",
    "print('feature의 최솟값 :',minmax_iris.min())\n",
    "print('feature의 최댓값 :',minmax_iris.max())"
   ]
  },
  {
   "cell_type": "markdown",
   "id": "2de8fdce",
   "metadata": {
    "ExecuteTime": {
     "end_time": "2021-07-24T13:50:42.622564Z",
     "start_time": "2021-07-24T13:50:42.615601Z"
    }
   },
   "source": [
    "학습 데이터와 테스트 데이터의 스케일링 변환 시 유의점\n",
    "* 학습 데이터와 테스트 데이터의 스케일링 기준 정보 달라지지 않게 주의\n",
    "* 머신러닝 모델은 학습 데이터를 기반으로 학습되기 때문에\n",
    "* 반드시 테스트 데이터는 학습 데이터의 스케일러 기준에 따라야 함\n",
    "* Scaler 객체를 이용해 학습 데이터 세트로 fit()과 transform()을 적용하면\n",
    "* 테스트 데이터에 다시 fit()을 적용해서는 안 되며 \n",
    "* 학습 데이터로 이미 fit()이 적용된 Scaler객체를 이용해 transform()으로 변환해야 함"
   ]
  },
  {
   "cell_type": "code",
   "execution_count": null,
   "id": "270bfd57",
   "metadata": {},
   "outputs": [],
   "source": []
  }
 ],
 "metadata": {
  "hide_input": false,
  "kernelspec": {
   "display_name": "Python 3",
   "language": "python",
   "name": "python3"
  },
  "language_info": {
   "codemirror_mode": {
    "name": "ipython",
    "version": 3
   },
   "file_extension": ".py",
   "mimetype": "text/x-python",
   "name": "python",
   "nbconvert_exporter": "python",
   "pygments_lexer": "ipython3",
   "version": "3.8.8"
  },
  "toc": {
   "base_numbering": 1,
   "nav_menu": {},
   "number_sections": true,
   "sideBar": true,
   "skip_h1_title": false,
   "title_cell": "Table of Contents",
   "title_sidebar": "Contents",
   "toc_cell": false,
   "toc_position": {},
   "toc_section_display": true,
   "toc_window_display": false
  },
  "varInspector": {
   "cols": {
    "lenName": 16,
    "lenType": 16,
    "lenVar": 40
   },
   "kernels_config": {
    "python": {
     "delete_cmd_postfix": "",
     "delete_cmd_prefix": "del ",
     "library": "var_list.py",
     "varRefreshCmd": "print(var_dic_list())"
    },
    "r": {
     "delete_cmd_postfix": ") ",
     "delete_cmd_prefix": "rm(",
     "library": "var_list.r",
     "varRefreshCmd": "cat(var_dic_list()) "
    }
   },
   "types_to_exclude": [
    "module",
    "function",
    "builtin_function_or_method",
    "instance",
    "_Feature"
   ],
   "window_display": false
  }
 },
 "nbformat": 4,
 "nbformat_minor": 5
}
