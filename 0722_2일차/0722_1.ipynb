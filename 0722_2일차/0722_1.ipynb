{
 "cells": [
  {
   "cell_type": "markdown",
   "id": "edabbb94",
   "metadata": {},
   "source": [
    "# Model Selection 모듈 소개\n",
    "\n",
    "## 학습/데이터 분리 - train_test_split()\n",
    "\n",
    "### 사이킷런 model_selection 모듈의 주요 기능\n",
    "\n",
    "- 학습데이터와 테스트 데이터 분리\n",
    "\n",
    "- 교차 검증 분할 및 평가\n",
    "\n",
    "- Estimator의 하이퍼 파라미터 튜닝\n",
    "\n",
    "#### 학습 데이터와 테스트 데이터 분리 : \n",
    "#### train_test_split(feature_dataset, label_dataset, test_size, train_size, radom_state, shuffle, stratify)\n",
    "\n",
    "- test_size : 전체DB에서 Test DB 크기를 몇으로 샘플링 할 것인가\n",
    "    - 0-1사이, train_size 둘중 하나만 쓰면 됨\n",
    "    - 디폴트는 0.25 = 25%\n",
    "    - train_size는 잘 안씀 test_size를 많이 씀\n",
    "    \n",
    "    \n",
    "- shuffle : 데이터 분할 전 섞을지 결정. 디폴트=True(보통은 default값으로)\n",
    "\n",
    "\n",
    "- random_state : 호출할 때마다 동일 학습/테스트용 데이터 세트를 생성하기 위해 주어지는 난수 값\n",
    "    - train_test_split()은 무작위로 데이터 분리, random_state를 지정하지 않으면 다른 학습/테스트용 데이터 생성\n",
    "\n",
    "\n",
    "- stratify : 지정된 label의 클래스 비율에 맞게 분할 ``classification 다룰 때 중요``\n",
    "    - default = None\n",
    "    - stratify 값을 target으로 지정해주면 각가의 class 비율(ratio)을 train/validation에 유지\n",
    "\n",
    "\n",
    "- train_test_split() 반환값 : \n",
    "    - X_train : 학습용 데이터 feature\n",
    "    - X_test : 테스트용 데이터 feature\n",
    "    - y_train : 학습용 데이터 target\n",
    "    - y_test : 테스트용 데이터 target\n",
    "    - feature : 대문자 X, target : 소문자 y"
   ]
  },
  {
   "cell_type": "code",
   "execution_count": 1,
   "id": "185900a4",
   "metadata": {
    "ExecuteTime": {
     "end_time": "2021-07-22T02:30:20.315299Z",
     "start_time": "2021-07-22T02:30:19.237960Z"
    }
   },
   "outputs": [
    {
     "name": "stdout",
     "output_type": "stream",
     "text": [
      "예측 정확도:  1.0\n"
     ]
    }
   ],
   "source": [
    "# 테스트 데이터 셋 이용 하지 않고 예측\n",
    "# 학습 데이터 세트만 이용했기 때문에 정확도 100%\n",
    "from sklearn.datasets import load_iris\n",
    "from sklearn.tree import DecisionTreeClassifier\n",
    "from sklearn.metrics import accuracy_score\n",
    "\n",
    "iris_data = load_iris()\n",
    "dt_clf = DecisionTreeClassifier()\n",
    "\n",
    "train_data = iris_data.data\n",
    "train_label = iris_data.target\n",
    "\n",
    "#학습 : fit()\n",
    "dt_clf.fit(train_data,train_label)\n",
    "\n",
    "#예측 predict()\n",
    "pred = dt_clf.predict(train_data)\n",
    "print(\"예측 정확도: \", accuracy_score(train_label,pred) )"
   ]
  },
  {
   "cell_type": "code",
   "execution_count": 2,
   "id": "38b718fe",
   "metadata": {
    "ExecuteTime": {
     "end_time": "2021-07-22T02:30:20.391240Z",
     "start_time": "2021-07-22T02:30:20.377277Z"
    }
   },
   "outputs": [
    {
     "name": "stdout",
     "output_type": "stream",
     "text": [
      "[0 0 0 1 0 1 0 1 2 1 1 0 0 2 0 0 0 0 0 1 1 0 2 1 0 0 2 1 0 2 1 2 0 2 0 0 1\n",
      " 2 1 1 0 2 1 0 2 1 1 2 1 2 1 2 2 0 0 2 2 0 1 2 1 1 2 1 2 0 2 2 0 0 1 2 0 0\n",
      " 1 2 0 0 1 2 2 0 2 1 0 1 2 1 0 2 2 1 1 2 2 2 1 2 1 1 2 2 0 0 1]\n"
     ]
    }
   ],
   "source": [
    "from sklearn.datasets import load_iris\n",
    "from sklearn.tree import DecisionTreeClassifier\n",
    "from sklearn.metrics import accuracy_score\n",
    "from sklearn.model_selection import train_test_split\n",
    "\n",
    "iris_data = load_iris()\n",
    "dt_clf = DecisionTreeClassifier()\n",
    "\n",
    "#학습/테스트 분리\n",
    "\n",
    "X_train,X_test,y_train,y_test=train_test_split(iris_data.data, iris_data.target, test_size=0.3, random_state=21)\n",
    "\n",
    "print(y_train)"
   ]
  },
  {
   "cell_type": "code",
   "execution_count": 3,
   "id": "2296e6f4",
   "metadata": {
    "ExecuteTime": {
     "end_time": "2021-07-22T02:30:20.527272Z",
     "start_time": "2021-07-22T02:30:20.513425Z"
    }
   },
   "outputs": [
    {
     "name": "stdout",
     "output_type": "stream",
     "text": [
      "예측정확도 :  0.9333333333333333\n"
     ]
    }
   ],
   "source": [
    "#학습수행\n",
    "dt_clf.fit(X_train,y_train)\n",
    "#예측수행\n",
    "pred = dt_clf.predict(X_test)\n",
    "print(\"예측정확도 : \", accuracy_score(y_test,pred))"
   ]
  },
  {
   "cell_type": "code",
   "execution_count": 4,
   "id": "90d8e8bb",
   "metadata": {
    "ExecuteTime": {
     "end_time": "2021-07-22T02:30:20.980779Z",
     "start_time": "2021-07-22T02:30:20.649498Z"
    }
   },
   "outputs": [
    {
     "data": {
      "text/html": [
       "<div>\n",
       "<style scoped>\n",
       "    .dataframe tbody tr th:only-of-type {\n",
       "        vertical-align: middle;\n",
       "    }\n",
       "\n",
       "    .dataframe tbody tr th {\n",
       "        vertical-align: top;\n",
       "    }\n",
       "\n",
       "    .dataframe thead th {\n",
       "        text-align: right;\n",
       "    }\n",
       "</style>\n",
       "<table border=\"1\" class=\"dataframe\">\n",
       "  <thead>\n",
       "    <tr style=\"text-align: right;\">\n",
       "      <th></th>\n",
       "      <th>sepal length (cm)</th>\n",
       "      <th>sepal width (cm)</th>\n",
       "      <th>petal length (cm)</th>\n",
       "      <th>petal width (cm)</th>\n",
       "      <th>target</th>\n",
       "    </tr>\n",
       "  </thead>\n",
       "  <tbody>\n",
       "    <tr>\n",
       "      <th>0</th>\n",
       "      <td>5.1</td>\n",
       "      <td>3.5</td>\n",
       "      <td>1.4</td>\n",
       "      <td>0.2</td>\n",
       "      <td>0</td>\n",
       "    </tr>\n",
       "    <tr>\n",
       "      <th>1</th>\n",
       "      <td>4.9</td>\n",
       "      <td>3.0</td>\n",
       "      <td>1.4</td>\n",
       "      <td>0.2</td>\n",
       "      <td>0</td>\n",
       "    </tr>\n",
       "    <tr>\n",
       "      <th>2</th>\n",
       "      <td>4.7</td>\n",
       "      <td>3.2</td>\n",
       "      <td>1.3</td>\n",
       "      <td>0.2</td>\n",
       "      <td>0</td>\n",
       "    </tr>\n",
       "    <tr>\n",
       "      <th>3</th>\n",
       "      <td>4.6</td>\n",
       "      <td>3.1</td>\n",
       "      <td>1.5</td>\n",
       "      <td>0.2</td>\n",
       "      <td>0</td>\n",
       "    </tr>\n",
       "    <tr>\n",
       "      <th>4</th>\n",
       "      <td>5.0</td>\n",
       "      <td>3.6</td>\n",
       "      <td>1.4</td>\n",
       "      <td>0.2</td>\n",
       "      <td>0</td>\n",
       "    </tr>\n",
       "  </tbody>\n",
       "</table>\n",
       "</div>"
      ],
      "text/plain": [
       "   sepal length (cm)  sepal width (cm)  petal length (cm)  petal width (cm)  \\\n",
       "0                5.1               3.5                1.4               0.2   \n",
       "1                4.9               3.0                1.4               0.2   \n",
       "2                4.7               3.2                1.3               0.2   \n",
       "3                4.6               3.1                1.5               0.2   \n",
       "4                5.0               3.6                1.4               0.2   \n",
       "\n",
       "   target  \n",
       "0       0  \n",
       "1       0  \n",
       "2       0  \n",
       "3       0  \n",
       "4       0  "
      ]
     },
     "execution_count": 4,
     "metadata": {},
     "output_type": "execute_result"
    }
   ],
   "source": [
    "import pandas as pd\n",
    "iris_df=pd.DataFrame(iris_data.data, columns=iris_data.feature_names)\n",
    "iris_df['target']=iris_data.target\n",
    "iris_df.head()"
   ]
  },
  {
   "cell_type": "code",
   "execution_count": 5,
   "id": "eac0a420",
   "metadata": {
    "ExecuteTime": {
     "end_time": "2021-07-22T02:30:21.115881Z",
     "start_time": "2021-07-22T02:30:21.101731Z"
    }
   },
   "outputs": [],
   "source": [
    "# 피처 데이터 프레임 반환 : 마지막 열 전까지\n",
    "feature_df = iris_df.iloc[:,:-1]\n",
    "# 타겟 데이터 프레임 반환\n",
    "target_df = iris_df.iloc[:,-1]\n",
    "#학습/테스트 데이터 분할\n",
    "X_train,X_test,y_train,y_test=train_test_split(feature_df, target_df, test_size=0.3, random_state=13)"
   ]
  },
  {
   "cell_type": "code",
   "execution_count": 6,
   "id": "992d26ed",
   "metadata": {
    "ExecuteTime": {
     "end_time": "2021-07-22T02:30:21.295980Z",
     "start_time": "2021-07-22T02:30:21.282017Z"
    }
   },
   "outputs": [
    {
     "data": {
      "text/plain": [
       "pandas.core.frame.DataFrame"
      ]
     },
     "execution_count": 6,
     "metadata": {},
     "output_type": "execute_result"
    }
   ],
   "source": [
    "type(X_train)"
   ]
  },
  {
   "cell_type": "code",
   "execution_count": 7,
   "id": "af037c94",
   "metadata": {
    "ExecuteTime": {
     "end_time": "2021-07-22T02:30:22.246555Z",
     "start_time": "2021-07-22T02:30:21.947878Z"
    }
   },
   "outputs": [
    {
     "ename": "NameError",
     "evalue": "name 'dt_clt' is not defined",
     "output_type": "error",
     "traceback": [
      "\u001b[1;31m---------------------------------------------------------------------------\u001b[0m",
      "\u001b[1;31mNameError\u001b[0m                                 Traceback (most recent call last)",
      "\u001b[1;32m<ipython-input-7-71dc69bcb9c9>\u001b[0m in \u001b[0;36m<module>\u001b[1;34m\u001b[0m\n\u001b[1;32m----> 1\u001b[1;33m \u001b[0mdt_clt\u001b[0m\u001b[1;33m.\u001b[0m\u001b[0mfit\u001b[0m\u001b[1;33m(\u001b[0m\u001b[0mX_train\u001b[0m\u001b[1;33m,\u001b[0m \u001b[0my_train\u001b[0m\u001b[1;33m)\u001b[0m\u001b[1;33m\u001b[0m\u001b[1;33m\u001b[0m\u001b[0m\n\u001b[0m\u001b[0;32m      2\u001b[0m \u001b[1;31m# 테스트데이터로 예측\u001b[0m\u001b[1;33m\u001b[0m\u001b[1;33m\u001b[0m\u001b[1;33m\u001b[0m\u001b[0m\n\u001b[0;32m      3\u001b[0m \u001b[0mpred\u001b[0m \u001b[1;33m=\u001b[0m \u001b[0mdt_clt\u001b[0m\u001b[1;33m.\u001b[0m\u001b[0mpredict\u001b[0m\u001b[1;33m(\u001b[0m\u001b[0mX_test\u001b[0m\u001b[1;33m)\u001b[0m\u001b[1;33m\u001b[0m\u001b[1;33m\u001b[0m\u001b[0m\n\u001b[0;32m      4\u001b[0m \u001b[0mprint\u001b[0m\u001b[1;33m(\u001b[0m\u001b[1;34m'예측정확도: '\u001b[0m\u001b[1;33m,\u001b[0m \u001b[0maccuracy_score\u001b[0m\u001b[1;33m(\u001b[0m\u001b[0my_test\u001b[0m\u001b[1;33m,\u001b[0m\u001b[0mpred\u001b[0m\u001b[1;33m)\u001b[0m\u001b[1;33m)\u001b[0m\u001b[1;33m\u001b[0m\u001b[1;33m\u001b[0m\u001b[0m\n",
      "\u001b[1;31mNameError\u001b[0m: name 'dt_clt' is not defined"
     ]
    }
   ],
   "source": [
    "\n",
    "dt_clt.fit(X_train, y_train)\n",
    "# 테스트데이터로 예측\n",
    "pred = dt_clt.predict(X_test)\n",
    "print('예측정확도: ', accuracy_score(y_test,pred))"
   ]
  },
  {
   "cell_type": "markdown",
   "id": "246e8997",
   "metadata": {},
   "source": [
    "# data split과 모델 검증\n",
    "\n",
    "- 홀드아웃, 교차검증을 많이 이용, 필요에 따라Stratified Sampling\n",
    "\n",
    "## 홀드아웃 방식\n",
    "- 트레인과 테스트 세트로 나누어서 7:3~ 9:1로 사용함\n",
    "\n",
    "- 학습/테스트 데이터 분리 시 문제\n",
    "    - 과적합(Overfitting) 문제 발생\n",
    "    - 부적합한 데이터 선별로 알고리즘 성능 저하\n",
    "    \n",
    "- 과적합 문제 발생\n",
    "    - 고정된 학습 데이터와 테스트 데이터에만 최적의 성능을 발휘할 수 있도록\n",
    "\n",
    "- 문제 개선 => 교차검증(Cross Validation,CV)\n",
    "\n",
    "## 교차검증(Cross Validation,CV)\n",
    "\n",
    "- 교차검증 방법\n",
    "\n",
    "    - K 폴드 교차검증\n",
    "    - Stratified K 폴드 교차 검증\n",
    "    \n",
    "- K폴드 교차검증\n",
    "\n",
    "    - K개의 데이터 폴드 세트를 만듬\n",
    "    - K번 만큼 각 폴드 세트에 학습과 검증 평가를 반복 수행\n",
    "    - 가장 보편적인 교차검증 기법\n",
    "    \n",
    "### K폴드 사이킷런 클래스\n",
    "\n",
    "- KFold 클래스 : kfold = KFold(n_splits=5)\n",
    "\n",
    "- split()메소드 : "
   ]
  },
  {
   "cell_type": "code",
   "execution_count": 21,
   "id": "7f569a39",
   "metadata": {
    "ExecuteTime": {
     "end_time": "2021-07-22T04:03:44.231127Z",
     "start_time": "2021-07-22T04:03:44.217165Z"
    }
   },
   "outputs": [
    {
     "data": {
      "text/plain": [
       "(150, 4)"
      ]
     },
     "execution_count": 21,
     "metadata": {},
     "output_type": "execute_result"
    }
   ],
   "source": [
    "from sklearn.tree import DecisionTreeClassifier\n",
    "from sklearn.metrics import accuracy_score\n",
    "from sklearn.model_selection import KFold\n",
    "\n",
    "iris = load_iris()\n",
    "features = iris.data\n",
    "label = iris.target\n",
    "\n",
    "features.shape"
   ]
  },
  {
   "cell_type": "code",
   "execution_count": 22,
   "id": "543ee8fc",
   "metadata": {
    "ExecuteTime": {
     "end_time": "2021-07-22T04:03:46.637259Z",
     "start_time": "2021-07-22T04:03:46.631249Z"
    }
   },
   "outputs": [],
   "source": [
    "# DecisionTreeClassifier 객체 생성\n",
    "dct = DecisionTreeClassifier(random_state=156)\n",
    "\n",
    "#5개의 폴드 세트로 분리하는 kfold 객체 생성\n",
    "kfold = KFold(n_splits=5)\n",
    "\n",
    "# 폴드 세트별 정확도를 담을 리스트 객체 생성\n",
    "cv_accuracy = []\n"
   ]
  },
  {
   "cell_type": "code",
   "execution_count": 23,
   "id": "4149711c",
   "metadata": {
    "ExecuteTime": {
     "end_time": "2021-07-22T04:03:47.454907Z",
     "start_time": "2021-07-22T04:03:47.447927Z"
    }
   },
   "outputs": [
    {
     "name": "stdout",
     "output_type": "stream",
     "text": [
      "[ 30  31  32  33  34  35  36  37  38  39  40  41  42  43  44  45  46  47\n",
      "  48  49  50  51  52  53  54  55  56  57  58  59  60  61  62  63  64  65\n",
      "  66  67  68  69  70  71  72  73  74  75  76  77  78  79  80  81  82  83\n",
      "  84  85  86  87  88  89  90  91  92  93  94  95  96  97  98  99 100 101\n",
      " 102 103 104 105 106 107 108 109 110 111 112 113 114 115 116 117 118 119\n",
      " 120 121 122 123 124 125 126 127 128 129 130 131 132 133 134 135 136 137\n",
      " 138 139 140 141 142 143 144 145 146 147 148 149] [ 0  1  2  3  4  5  6  7  8  9 10 11 12 13 14 15 16 17 18 19 20 21 22 23\n",
      " 24 25 26 27 28 29]\n",
      "[  0   1   2   3   4   5   6   7   8   9  10  11  12  13  14  15  16  17\n",
      "  18  19  20  21  22  23  24  25  26  27  28  29  60  61  62  63  64  65\n",
      "  66  67  68  69  70  71  72  73  74  75  76  77  78  79  80  81  82  83\n",
      "  84  85  86  87  88  89  90  91  92  93  94  95  96  97  98  99 100 101\n",
      " 102 103 104 105 106 107 108 109 110 111 112 113 114 115 116 117 118 119\n",
      " 120 121 122 123 124 125 126 127 128 129 130 131 132 133 134 135 136 137\n",
      " 138 139 140 141 142 143 144 145 146 147 148 149] [30 31 32 33 34 35 36 37 38 39 40 41 42 43 44 45 46 47 48 49 50 51 52 53\n",
      " 54 55 56 57 58 59]\n",
      "[  0   1   2   3   4   5   6   7   8   9  10  11  12  13  14  15  16  17\n",
      "  18  19  20  21  22  23  24  25  26  27  28  29  30  31  32  33  34  35\n",
      "  36  37  38  39  40  41  42  43  44  45  46  47  48  49  50  51  52  53\n",
      "  54  55  56  57  58  59  90  91  92  93  94  95  96  97  98  99 100 101\n",
      " 102 103 104 105 106 107 108 109 110 111 112 113 114 115 116 117 118 119\n",
      " 120 121 122 123 124 125 126 127 128 129 130 131 132 133 134 135 136 137\n",
      " 138 139 140 141 142 143 144 145 146 147 148 149] [60 61 62 63 64 65 66 67 68 69 70 71 72 73 74 75 76 77 78 79 80 81 82 83\n",
      " 84 85 86 87 88 89]\n",
      "[  0   1   2   3   4   5   6   7   8   9  10  11  12  13  14  15  16  17\n",
      "  18  19  20  21  22  23  24  25  26  27  28  29  30  31  32  33  34  35\n",
      "  36  37  38  39  40  41  42  43  44  45  46  47  48  49  50  51  52  53\n",
      "  54  55  56  57  58  59  60  61  62  63  64  65  66  67  68  69  70  71\n",
      "  72  73  74  75  76  77  78  79  80  81  82  83  84  85  86  87  88  89\n",
      " 120 121 122 123 124 125 126 127 128 129 130 131 132 133 134 135 136 137\n",
      " 138 139 140 141 142 143 144 145 146 147 148 149] [ 90  91  92  93  94  95  96  97  98  99 100 101 102 103 104 105 106 107\n",
      " 108 109 110 111 112 113 114 115 116 117 118 119]\n",
      "[  0   1   2   3   4   5   6   7   8   9  10  11  12  13  14  15  16  17\n",
      "  18  19  20  21  22  23  24  25  26  27  28  29  30  31  32  33  34  35\n",
      "  36  37  38  39  40  41  42  43  44  45  46  47  48  49  50  51  52  53\n",
      "  54  55  56  57  58  59  60  61  62  63  64  65  66  67  68  69  70  71\n",
      "  72  73  74  75  76  77  78  79  80  81  82  83  84  85  86  87  88  89\n",
      "  90  91  92  93  94  95  96  97  98  99 100 101 102 103 104 105 106 107\n",
      " 108 109 110 111 112 113 114 115 116 117 118 119] [120 121 122 123 124 125 126 127 128 129 130 131 132 133 134 135 136 137\n",
      " 138 139 140 141 142 143 144 145 146 147 148 149]\n"
     ]
    }
   ],
   "source": [
    "#폴드 별 학습용 , 검증용 데이터 세트의 행 인덱스 확인\n",
    "for train_index, test_index in kfold.split(features):\n",
    "    print(train_index, test_index)"
   ]
  },
  {
   "cell_type": "code",
   "execution_count": 24,
   "id": "50938564",
   "metadata": {
    "ExecuteTime": {
     "end_time": "2021-07-22T04:03:47.936870Z",
     "start_time": "2021-07-22T04:03:47.926897Z"
    }
   },
   "outputs": [
    {
     "name": "stdout",
     "output_type": "stream",
     "text": [
      "정확도: 1.000000 ,학습데이터 크기 : 120, 검증데이터 크기 : 30\n",
      "정확도: 0.967000 ,학습데이터 크기 : 120, 검증데이터 크기 : 30\n",
      "정확도: 0.867000 ,학습데이터 크기 : 120, 검증데이터 크기 : 30\n",
      "정확도: 0.933000 ,학습데이터 크기 : 120, 검증데이터 크기 : 30\n",
      "정확도: 0.733000 ,학습데이터 크기 : 120, 검증데이터 크기 : 30\n",
      "평균 검증 정확도: 0.9\n"
     ]
    }
   ],
   "source": [
    "import numpy as np\n",
    "for train_index, test_index in kfold.split(features):\n",
    "    X_train, X_test = features[train_index], features[test_index]\n",
    "    y_train = label[train_index]\n",
    "    y_test = label[test_index]\n",
    "    \n",
    "    dct.fit(X_train, y_train)\n",
    "    pred = dct.predict(X_test)\n",
    "   \n",
    "    # 라운드 함수를 써서 정확도 확인 시 소수점 3자리까지 출력\n",
    "    acc = np.round(accuracy_score(y_test,pred),3)\n",
    "    train_size = X_train.shape[0]\n",
    "    test_size = X_test.shape[0]\n",
    "    \n",
    "    print('정확도: %f ,학습데이터 크기 : %d, 검증데이터 크기 : %d' %(acc, train_size, test_size))\n",
    "    cv_accuracy.append(acc)\n",
    "    \n",
    "print('평균 검증 정확도:', np.mean(cv_accuracy))"
   ]
  },
  {
   "cell_type": "markdown",
   "id": "4911dbd8",
   "metadata": {},
   "source": [
    "### Stratified K 폴드 교차검증\n",
    "\n",
    "- 불균형한 분포도를 가진 레이블 데이터집합을 위한 K 폴드 방식"
   ]
  },
  {
   "cell_type": "markdown",
   "id": "ea80249b",
   "metadata": {
    "ExecuteTime": {
     "end_time": "2021-07-22T02:03:37.198919Z",
     "start_time": "2021-07-22T02:03:37.193957Z"
    }
   },
   "source": [
    "#### 불균형 데이터(imbalanced data)\n",
    "\n",
    "- 관심 대상 데이터가 상대적으로 매우 적은 비율로 나타나는 데이터 문제\n",
    "\n",
    "- 분류 문제인 경우 : 클래스들이 균일하게 분포하지 않은 문제를 의미\n",
    "    - ex) 불량률이 1%인 생산라인에서 양품과 불량품을 예측\n",
    "    - 사기감지탐지, 이상거래감지, 의료진단 등에서 자주 나타남\n",
    "\n",
    "- 회귀 문제인 경우 : 극단값이 포함되어 있는 치우친 데이터 사례\n",
    "    - ex)산불에 의한 피해 면적 예측\n",
    "\n",
    "극복하는 방법\n",
    "- 데이터 추가 확보\n",
    "- Re-Sampling\n",
    "    - 과소표집(Under-Sampling)\n",
    "        - 다른 클래스에 비해 상대적으로 많이 나타나는 클래스 개수를 줄임\n",
    "        - 균형은 유지할 수 있느나 유용한 정보의 손실\n",
    "    - 과대표집(Over-Sampling)\n",
    "        - 상대적으로 적게 나타나는 클래스의 데이터를 복제해 데이터 갯수를 늘림\n",
    "        - 정보 손실은 없으나 과적합 위험\n",
    "        - 이를 회피하기 위해 SMOTE 같이 임의의 값을 생성 후 추가\n",
    "        "
   ]
  },
  {
   "cell_type": "code",
   "execution_count": 25,
   "id": "06ea17bf",
   "metadata": {
    "ExecuteTime": {
     "end_time": "2021-07-22T04:03:49.148430Z",
     "start_time": "2021-07-22T04:03:49.135465Z"
    }
   },
   "outputs": [
    {
     "data": {
      "text/html": [
       "<div>\n",
       "<style scoped>\n",
       "    .dataframe tbody tr th:only-of-type {\n",
       "        vertical-align: middle;\n",
       "    }\n",
       "\n",
       "    .dataframe tbody tr th {\n",
       "        vertical-align: top;\n",
       "    }\n",
       "\n",
       "    .dataframe thead th {\n",
       "        text-align: right;\n",
       "    }\n",
       "</style>\n",
       "<table border=\"1\" class=\"dataframe\">\n",
       "  <thead>\n",
       "    <tr style=\"text-align: right;\">\n",
       "      <th></th>\n",
       "      <th>sepal length (cm)</th>\n",
       "      <th>sepal width (cm)</th>\n",
       "      <th>petal length (cm)</th>\n",
       "      <th>petal width (cm)</th>\n",
       "      <th>label</th>\n",
       "    </tr>\n",
       "  </thead>\n",
       "  <tbody>\n",
       "    <tr>\n",
       "      <th>0</th>\n",
       "      <td>NaN</td>\n",
       "      <td>NaN</td>\n",
       "      <td>NaN</td>\n",
       "      <td>NaN</td>\n",
       "      <td>0</td>\n",
       "    </tr>\n",
       "    <tr>\n",
       "      <th>1</th>\n",
       "      <td>NaN</td>\n",
       "      <td>NaN</td>\n",
       "      <td>NaN</td>\n",
       "      <td>NaN</td>\n",
       "      <td>0</td>\n",
       "    </tr>\n",
       "    <tr>\n",
       "      <th>2</th>\n",
       "      <td>NaN</td>\n",
       "      <td>NaN</td>\n",
       "      <td>NaN</td>\n",
       "      <td>NaN</td>\n",
       "      <td>0</td>\n",
       "    </tr>\n",
       "    <tr>\n",
       "      <th>3</th>\n",
       "      <td>NaN</td>\n",
       "      <td>NaN</td>\n",
       "      <td>NaN</td>\n",
       "      <td>NaN</td>\n",
       "      <td>0</td>\n",
       "    </tr>\n",
       "    <tr>\n",
       "      <th>4</th>\n",
       "      <td>NaN</td>\n",
       "      <td>NaN</td>\n",
       "      <td>NaN</td>\n",
       "      <td>NaN</td>\n",
       "      <td>0</td>\n",
       "    </tr>\n",
       "  </tbody>\n",
       "</table>\n",
       "</div>"
      ],
      "text/plain": [
       "  sepal length (cm) sepal width (cm) petal length (cm) petal width (cm)  label\n",
       "0               NaN              NaN               NaN              NaN      0\n",
       "1               NaN              NaN               NaN              NaN      0\n",
       "2               NaN              NaN               NaN              NaN      0\n",
       "3               NaN              NaN               NaN              NaN      0\n",
       "4               NaN              NaN               NaN              NaN      0"
      ]
     },
     "execution_count": 25,
     "metadata": {},
     "output_type": "execute_result"
    }
   ],
   "source": [
    "import pandas as pd\n",
    "iris_df=pd.DataFrame(data = iris_data, columns=iris_data.feature_names)\n",
    "iris_df['label']=iris_data.target\n",
    "iris_df.head()"
   ]
  },
  {
   "cell_type": "code",
   "execution_count": 26,
   "id": "73d377c9",
   "metadata": {
    "ExecuteTime": {
     "end_time": "2021-07-22T04:03:49.509909Z",
     "start_time": "2021-07-22T04:03:49.494444Z"
    }
   },
   "outputs": [
    {
     "data": {
      "text/plain": [
       "0    50\n",
       "1    50\n",
       "2    50\n",
       "Name: label, dtype: int64"
      ]
     },
     "execution_count": 26,
     "metadata": {},
     "output_type": "execute_result"
    }
   ],
   "source": [
    "# 빈수도 확인\n",
    "iris_df['label'].value_counts()\n",
    "# 0 : satosa, 1: versicolor, 2: virginica"
   ]
  },
  {
   "cell_type": "code",
   "execution_count": 27,
   "id": "dfd83998",
   "metadata": {
    "ExecuteTime": {
     "end_time": "2021-07-22T04:03:49.901032Z",
     "start_time": "2021-07-22T04:03:49.879090Z"
    }
   },
   "outputs": [
    {
     "name": "stdout",
     "output_type": "stream",
     "text": [
      "[교차검증 : 1]\n",
      "학습용 :  1    50\n",
      "2    50\n",
      "Name: label, dtype: int64\n",
      "검증용 :  0    50\n",
      "Name: label, dtype: int64\n",
      "[교차검증 : 2]\n",
      "학습용 :  0    50\n",
      "2    50\n",
      "Name: label, dtype: int64\n",
      "검증용 :  1    50\n",
      "Name: label, dtype: int64\n",
      "[교차검증 : 3]\n",
      "학습용 :  0    50\n",
      "1    50\n",
      "Name: label, dtype: int64\n",
      "검증용 :  2    50\n",
      "Name: label, dtype: int64\n"
     ]
    }
   ],
   "source": [
    "# 3개의 폴드 구성\n",
    "kfold = KFold(n_splits=3)\n",
    "n=0\n",
    "for train_index, test_index in kfold.split(iris_df):\n",
    "    n+=1\n",
    "    label_train = iris_df['label'].iloc[train_index]\n",
    "    label_test = iris_df['label'].iloc[test_index]\n",
    "    print('[교차검증 : %d]'%(n))\n",
    "    print('학습용 : ', label_train.value_counts())\n",
    "    print('검증용 : ', label_test.value_counts())"
   ]
  },
  {
   "cell_type": "code",
   "execution_count": 28,
   "id": "590f4103",
   "metadata": {
    "ExecuteTime": {
     "end_time": "2021-07-22T04:03:50.292583Z",
     "start_time": "2021-07-22T04:03:50.278621Z"
    }
   },
   "outputs": [
    {
     "name": "stdout",
     "output_type": "stream",
     "text": [
      "1 \n",
      "정확도: 0.000000 ,학습데이터 크기 : 100, 검증데이터 크기 : 50\n",
      "2 \n",
      "정확도: 0.000000 ,학습데이터 크기 : 100, 검증데이터 크기 : 50\n",
      "3 \n",
      "정확도: 0.000000 ,학습데이터 크기 : 100, 검증데이터 크기 : 50\n",
      "평균 검증 정확도: 0.0\n"
     ]
    }
   ],
   "source": [
    "dct = DecisionTreeClassifier(random_state=156)\n",
    "kfold = KFold(n_splits=3)\n",
    "cv_accuracy = []\n",
    "n=0\n",
    "for train_index, test_index in kfold.split(features):\n",
    "    X_train, X_test = features[train_index], features[test_index]\n",
    "    y_train = label[train_index]\n",
    "    y_test = label[test_index]\n",
    "    \n",
    "    # 학습 및 예측\n",
    "    dct.fit(X_train, y_train)\n",
    "    pred = dct.predict(X_test)\n",
    "    n+=1\n",
    "    # 라운드 함수를 써서 정확도 확인 시 소수점 3자리까지 출력\n",
    "    acc = np.round(accuracy_score(y_test,pred),3)\n",
    "    train_size = X_train.shape[0]\n",
    "    test_size = X_test.shape[0]\n",
    "    \n",
    "    print('%d \\n정확도: %f ,학습데이터 크기 : %d, 검증데이터 크기 : %d' %(n,acc, train_size, test_size))\n",
    "    cv_accuracy.append(acc)\n",
    "print('평균 검증 정확도:', np.mean(cv_accuracy))"
   ]
  },
  {
   "cell_type": "code",
   "execution_count": 29,
   "id": "73836c2f",
   "metadata": {
    "ExecuteTime": {
     "end_time": "2021-07-22T04:03:50.849069Z",
     "start_time": "2021-07-22T04:03:50.839095Z"
    }
   },
   "outputs": [
    {
     "name": "stdout",
     "output_type": "stream",
     "text": [
      "[교차검증 : 1]\n",
      "학습용 레이블 분포 : \n",
      " 2    34\n",
      "0    33\n",
      "1    33\n",
      "Name: label, dtype: int64\n",
      "테스트 레이블 분포 : \n",
      " 0    17\n",
      "1    17\n",
      "2    16\n",
      "Name: label, dtype: int64\n",
      "[교차검증 : 2]\n",
      "학습용 레이블 분포 : \n",
      " 1    34\n",
      "0    33\n",
      "2    33\n",
      "Name: label, dtype: int64\n",
      "테스트 레이블 분포 : \n",
      " 0    17\n",
      "2    17\n",
      "1    16\n",
      "Name: label, dtype: int64\n",
      "[교차검증 : 3]\n",
      "학습용 레이블 분포 : \n",
      " 0    34\n",
      "1    33\n",
      "2    33\n",
      "Name: label, dtype: int64\n",
      "테스트 레이블 분포 : \n",
      " 1    17\n",
      "2    17\n",
      "0    16\n",
      "Name: label, dtype: int64\n"
     ]
    }
   ],
   "source": [
    "from sklearn.model_selection import StratifiedKFold\n",
    "skf = StratifiedKFold(n_splits = 3)\n",
    "n=0\n",
    "\n",
    "for train_index, test_index in skf.split(iris_df, iris_df['label']):\n",
    "    n=n+1\n",
    "    label_train = iris_df['label'].iloc[train_index]\n",
    "    label_test = iris_df['label'].iloc[test_index]\n",
    "    print('[교차검증 : %d]'%(n))\n",
    "    print('학습용 레이블 분포 : \\n', label_train.value_counts())\n",
    "    print('테스트 레이블 분포 : \\n', label_test.value_counts())\n",
    "    "
   ]
  },
  {
   "cell_type": "markdown",
   "id": "4623c386",
   "metadata": {},
   "source": [
    "StratifiedKFold\n",
    "- 분류문제에서는 k폴드가 아닌 StratifiedKFold를 활용\n",
    "- 회기 문제는 k폴드"
   ]
  },
  {
   "cell_type": "code",
   "execution_count": 30,
   "id": "99fae7dd",
   "metadata": {
    "ExecuteTime": {
     "end_time": "2021-07-22T04:03:51.710108Z",
     "start_time": "2021-07-22T04:03:51.695149Z"
    }
   },
   "outputs": [
    {
     "name": "stdout",
     "output_type": "stream",
     "text": [
      "1 \n",
      "정확도: 0.980000 ,학습데이터 크기 : 100, 검증데이터 크기 : 50\n",
      "2 \n",
      "정확도: 0.940000 ,학습데이터 크기 : 100, 검증데이터 크기 : 50\n",
      "3 \n",
      "정확도: 0.980000 ,학습데이터 크기 : 100, 검증데이터 크기 : 50\n",
      "평균 검증 정확도: 0.9666666666666667\n"
     ]
    }
   ],
   "source": [
    "dct = DecisionTreeClassifier(random_state=156)\n",
    "# 3개의 폴드 세트로 분리하는 stratifiedKFold 객체 생성\n",
    "skfold = StratifiedKFold(n_splits=3)\n",
    "\n",
    "cv_accuracy = []\n",
    "n=0\n",
    "for train_index, test_index in skfold.split(features, label):\n",
    "    X_train, X_test = features[train_index], features[test_index]\n",
    "    y_train,y_test = label[train_index],label[test_index]\n",
    "    \n",
    "    # 학습 및 예측\n",
    "    dct.fit(X_train, y_train)\n",
    "    pred = dct.predict(X_test)\n",
    "    \n",
    "    # 반복 할 때마다 정확도 측적\n",
    "    n+=1\n",
    "    \n",
    "    # 라운드 함수를 써서 정확도 확인 시 소수점 3자리까지 출력\n",
    "    acc = np.round(accuracy_score(y_test,pred),3)\n",
    "    train_size = X_train.shape[0]\n",
    "    test_size = X_test.shape[0]\n",
    "    \n",
    "    print('%d \\n정확도: %f ,학습데이터 크기 : %d, 검증데이터 크기 : %d' %(n,acc, train_size, test_size))\n",
    "    cv_accuracy.append(acc)\n",
    "    \n",
    "print('평균 검증 정확도:', np.mean(cv_accuracy))"
   ]
  },
  {
   "cell_type": "markdown",
   "id": "243b247d",
   "metadata": {},
   "source": [
    "# 교차검증을 보다 간편하게\n",
    "\n",
    "## cross_val_score() 함수\n",
    "\n",
    "- Estimator를 학습(fit), 예측(predict),평가(evaluation) 를 해줌으로 간단하게 교차검증 가능\n",
    "\n",
    "- cross_val_score(estimator, X,y=None, scoring=None, cv=None)"
   ]
  },
  {
   "cell_type": "code",
   "execution_count": 37,
   "id": "9da9e2cd",
   "metadata": {
    "ExecuteTime": {
     "end_time": "2021-07-22T04:10:29.588062Z",
     "start_time": "2021-07-22T04:10:29.575096Z"
    }
   },
   "outputs": [
    {
     "name": "stdout",
     "output_type": "stream",
     "text": [
      "교차 검증별 정확도 : [0.98 0.94 0.98]\n",
      "평균 검증 정확도 : 0.9667\n"
     ]
    }
   ],
   "source": [
    "from sklearn.tree import DecisionTreeClassifier\n",
    "from sklearn.model_selection import cross_val_score, cross_validate\n",
    "from sklearn.datasets import load_iris\n",
    "import numpy as np\n",
    "\n",
    "iris_data = load_iris()\n",
    "dt_clt = DecisionTreeClassifier(random_state=156)\n",
    "\n",
    "features = iris.data\n",
    "label = iris.target\n",
    "# cv = 폴드를 몇개로 나눌것이냐\n",
    "scores = cross_val_score(dt_clt, features, label, scoring='accuracy', cv = 3)\n",
    "print('교차 검증별 정확도 :',scores)\n",
    "print('평균 검증 정확도 :', np.round(np.mean(scores),4))"
   ]
  },
  {
   "cell_type": "markdown",
   "id": "7bcbd20a",
   "metadata": {},
   "source": [
    "- cross_val_score()는  cv로 지정된 횟수만큼 scoring 파라미터로 지정된 평가 지표로 평가 결과값을 배열로 반환\n",
    "- 일반적으로 평가 결과값 평균을 평가 수치로 사용\n",
    "\n",
    "## 교차검증과 최적의 하이퍼 파라미터 튜닝을 한번에\n",
    "\n",
    " 하이퍼파라미터\n",
    "    - 머신러닝 알고리즘을 구성하는 요소\n",
    "    - 이 값들을 조정해 알고리즘의 예측성능 개선\n",
    "    \n",
    "### 사이킷 런의 GridSearchCV클래스\n",
    "- 알고리즘의 하이퍼 파라미터를 순차적으로 변경하면서 최고 성능을 가지는 파라미터를 찾고자 한다면 파라미터의 집합을 만들어 순차적으로 적용하여 최적화\n",
    "\n",
    "- estimator : classfier, regressor, peipeline\n",
    "- param_gid : key + 리스트 값을 가지는 딕셔너리(estimator 튜닝을 위한 파라미터)\n",
    "    - key : 파라미터 명, 리스트값 : 파라미터 값\n",
    "\n",
    "- scoring : 예측성능 측정할 평가방법\n",
    "\n",
    "- cv : 교차검증을 위해 분할되는 학습/ 테스트 세트의 개수\n",
    "\n"
   ]
  },
  {
   "cell_type": "code",
   "execution_count": 53,
   "id": "3220ba18",
   "metadata": {
    "ExecuteTime": {
     "end_time": "2021-07-22T04:32:47.991114Z",
     "start_time": "2021-07-22T04:32:47.980143Z"
    }
   },
   "outputs": [],
   "source": [
    "# GridSearchCV \n",
    "\n",
    "from sklearn.datasets import load_iris\n",
    "from sklearn.tree import DecisionTreeClassifier\n",
    "from sklearn.model_selection import GridSearchCV, train_test_split\n",
    "from sklearn.metrics import accuracy_score\n",
    "\n",
    "#: 데이터셋 분리\n",
    "iris = load_iris()\n",
    "X_train, X_test, y_train, y_test = train_test_split(iris.data,iris.target,test_size=0.2,random_state=121)\n",
    "\n",
    "dt_clf = DecisionTreeClassifier()\n",
    "\n",
    "# 하이퍼파라미터는 딕셔너리 형식 지정\n",
    "# key : 결정트리의 하이퍼파라미터\n",
    "#value : 하이퍼파라미터의 값\n",
    "parameters = {'max_depth':[1,2,3], 'min_samples_split':[2,3]}"
   ]
  },
  {
   "cell_type": "code",
   "execution_count": 64,
   "id": "e795c60c",
   "metadata": {
    "ExecuteTime": {
     "end_time": "2021-07-22T04:55:09.960286Z",
     "start_time": "2021-07-22T04:55:09.914409Z"
    },
    "code_folding": []
   },
   "outputs": [
    {
     "data": {
      "text/html": [
       "<div>\n",
       "<style scoped>\n",
       "    .dataframe tbody tr th:only-of-type {\n",
       "        vertical-align: middle;\n",
       "    }\n",
       "\n",
       "    .dataframe tbody tr th {\n",
       "        vertical-align: top;\n",
       "    }\n",
       "\n",
       "    .dataframe thead th {\n",
       "        text-align: right;\n",
       "    }\n",
       "</style>\n",
       "<table border=\"1\" class=\"dataframe\">\n",
       "  <thead>\n",
       "    <tr style=\"text-align: right;\">\n",
       "      <th></th>\n",
       "      <th>mean_fit_time</th>\n",
       "      <th>std_fit_time</th>\n",
       "      <th>mean_score_time</th>\n",
       "      <th>std_score_time</th>\n",
       "      <th>param_max_depth</th>\n",
       "      <th>param_min_samples_split</th>\n",
       "      <th>params</th>\n",
       "      <th>split0_test_score</th>\n",
       "      <th>split1_test_score</th>\n",
       "      <th>split2_test_score</th>\n",
       "      <th>mean_test_score</th>\n",
       "      <th>std_test_score</th>\n",
       "      <th>rank_test_score</th>\n",
       "      <th>split0_train_score</th>\n",
       "      <th>split1_train_score</th>\n",
       "      <th>split2_train_score</th>\n",
       "      <th>mean_train_score</th>\n",
       "      <th>std_train_score</th>\n",
       "    </tr>\n",
       "  </thead>\n",
       "  <tbody>\n",
       "    <tr>\n",
       "      <th>0</th>\n",
       "      <td>0.000665</td>\n",
       "      <td>0.00047</td>\n",
       "      <td>0.0</td>\n",
       "      <td>0.0</td>\n",
       "      <td>1</td>\n",
       "      <td>2</td>\n",
       "      <td>{'max_depth': 1, 'min_samples_split': 2}</td>\n",
       "      <td>0.700</td>\n",
       "      <td>0.7</td>\n",
       "      <td>0.70</td>\n",
       "      <td>0.700000</td>\n",
       "      <td>1.110223e-16</td>\n",
       "      <td>5</td>\n",
       "      <td>0.700</td>\n",
       "      <td>0.7000</td>\n",
       "      <td>0.7000</td>\n",
       "      <td>0.700000</td>\n",
       "      <td>1.110223e-16</td>\n",
       "    </tr>\n",
       "    <tr>\n",
       "      <th>1</th>\n",
       "      <td>0.000665</td>\n",
       "      <td>0.00047</td>\n",
       "      <td>0.0</td>\n",
       "      <td>0.0</td>\n",
       "      <td>1</td>\n",
       "      <td>3</td>\n",
       "      <td>{'max_depth': 1, 'min_samples_split': 3}</td>\n",
       "      <td>0.700</td>\n",
       "      <td>0.7</td>\n",
       "      <td>0.70</td>\n",
       "      <td>0.700000</td>\n",
       "      <td>1.110223e-16</td>\n",
       "      <td>5</td>\n",
       "      <td>0.700</td>\n",
       "      <td>0.7000</td>\n",
       "      <td>0.7000</td>\n",
       "      <td>0.700000</td>\n",
       "      <td>1.110223e-16</td>\n",
       "    </tr>\n",
       "    <tr>\n",
       "      <th>2</th>\n",
       "      <td>0.000665</td>\n",
       "      <td>0.00047</td>\n",
       "      <td>0.0</td>\n",
       "      <td>0.0</td>\n",
       "      <td>2</td>\n",
       "      <td>2</td>\n",
       "      <td>{'max_depth': 2, 'min_samples_split': 2}</td>\n",
       "      <td>0.925</td>\n",
       "      <td>1.0</td>\n",
       "      <td>0.95</td>\n",
       "      <td>0.958333</td>\n",
       "      <td>3.118048e-02</td>\n",
       "      <td>3</td>\n",
       "      <td>0.975</td>\n",
       "      <td>0.9375</td>\n",
       "      <td>0.9625</td>\n",
       "      <td>0.958333</td>\n",
       "      <td>1.559024e-02</td>\n",
       "    </tr>\n",
       "  </tbody>\n",
       "</table>\n",
       "</div>"
      ],
      "text/plain": [
       "   mean_fit_time  std_fit_time  mean_score_time  std_score_time  \\\n",
       "0       0.000665       0.00047              0.0             0.0   \n",
       "1       0.000665       0.00047              0.0             0.0   \n",
       "2       0.000665       0.00047              0.0             0.0   \n",
       "\n",
       "  param_max_depth param_min_samples_split  \\\n",
       "0               1                       2   \n",
       "1               1                       3   \n",
       "2               2                       2   \n",
       "\n",
       "                                     params  split0_test_score  \\\n",
       "0  {'max_depth': 1, 'min_samples_split': 2}              0.700   \n",
       "1  {'max_depth': 1, 'min_samples_split': 3}              0.700   \n",
       "2  {'max_depth': 2, 'min_samples_split': 2}              0.925   \n",
       "\n",
       "   split1_test_score  split2_test_score  mean_test_score  std_test_score  \\\n",
       "0                0.7               0.70         0.700000    1.110223e-16   \n",
       "1                0.7               0.70         0.700000    1.110223e-16   \n",
       "2                1.0               0.95         0.958333    3.118048e-02   \n",
       "\n",
       "   rank_test_score  split0_train_score  split1_train_score  \\\n",
       "0                5               0.700              0.7000   \n",
       "1                5               0.700              0.7000   \n",
       "2                3               0.975              0.9375   \n",
       "\n",
       "   split2_train_score  mean_train_score  std_train_score  \n",
       "0              0.7000          0.700000     1.110223e-16  \n",
       "1              0.7000          0.700000     1.110223e-16  \n",
       "2              0.9625          0.958333     1.559024e-02  "
      ]
     },
     "execution_count": 64,
     "metadata": {},
     "output_type": "execute_result"
    }
   ],
   "source": [
    "grid_tree=GridSearchCV(dt_clt, param_grid=parameters, cv=3, refit=True,return_train_score=True)\n",
    "#param_grid 의 하이퍼 파라미터를 순차적으로 학습/평가\n",
    "grid_tree.fit(X_train, y_train)\n",
    "# gridsearchcv 결과를 추출해 dataframe으로 변환\n",
    "scores_df = pd.DataFrame(grid_tree.cv_results_)\n",
    "\n",
    "scores_df.head(3)"
   ]
  },
  {
   "cell_type": "code",
   "execution_count": 65,
   "id": "8eb828b3",
   "metadata": {
    "ExecuteTime": {
     "end_time": "2021-07-22T04:55:11.102563Z",
     "start_time": "2021-07-22T04:55:11.089598Z"
    },
    "scrolled": true
   },
   "outputs": [
    {
     "data": {
      "text/html": [
       "<div>\n",
       "<style scoped>\n",
       "    .dataframe tbody tr th:only-of-type {\n",
       "        vertical-align: middle;\n",
       "    }\n",
       "\n",
       "    .dataframe tbody tr th {\n",
       "        vertical-align: top;\n",
       "    }\n",
       "\n",
       "    .dataframe thead th {\n",
       "        text-align: right;\n",
       "    }\n",
       "</style>\n",
       "<table border=\"1\" class=\"dataframe\">\n",
       "  <thead>\n",
       "    <tr style=\"text-align: right;\">\n",
       "      <th></th>\n",
       "      <th>params</th>\n",
       "      <th>mean_test_score</th>\n",
       "      <th>rank_test_score</th>\n",
       "    </tr>\n",
       "  </thead>\n",
       "  <tbody>\n",
       "    <tr>\n",
       "      <th>0</th>\n",
       "      <td>{'max_depth': 1, 'min_samples_split': 2}</td>\n",
       "      <td>0.700000</td>\n",
       "      <td>5</td>\n",
       "    </tr>\n",
       "    <tr>\n",
       "      <th>1</th>\n",
       "      <td>{'max_depth': 1, 'min_samples_split': 3}</td>\n",
       "      <td>0.700000</td>\n",
       "      <td>5</td>\n",
       "    </tr>\n",
       "    <tr>\n",
       "      <th>2</th>\n",
       "      <td>{'max_depth': 2, 'min_samples_split': 2}</td>\n",
       "      <td>0.958333</td>\n",
       "      <td>3</td>\n",
       "    </tr>\n",
       "    <tr>\n",
       "      <th>3</th>\n",
       "      <td>{'max_depth': 2, 'min_samples_split': 3}</td>\n",
       "      <td>0.958333</td>\n",
       "      <td>3</td>\n",
       "    </tr>\n",
       "    <tr>\n",
       "      <th>4</th>\n",
       "      <td>{'max_depth': 3, 'min_samples_split': 2}</td>\n",
       "      <td>0.975000</td>\n",
       "      <td>1</td>\n",
       "    </tr>\n",
       "    <tr>\n",
       "      <th>5</th>\n",
       "      <td>{'max_depth': 3, 'min_samples_split': 3}</td>\n",
       "      <td>0.975000</td>\n",
       "      <td>1</td>\n",
       "    </tr>\n",
       "  </tbody>\n",
       "</table>\n",
       "</div>"
      ],
      "text/plain": [
       "                                     params  mean_test_score  rank_test_score\n",
       "0  {'max_depth': 1, 'min_samples_split': 2}         0.700000                5\n",
       "1  {'max_depth': 1, 'min_samples_split': 3}         0.700000                5\n",
       "2  {'max_depth': 2, 'min_samples_split': 2}         0.958333                3\n",
       "3  {'max_depth': 2, 'min_samples_split': 3}         0.958333                3\n",
       "4  {'max_depth': 3, 'min_samples_split': 2}         0.975000                1\n",
       "5  {'max_depth': 3, 'min_samples_split': 3}         0.975000                1"
      ]
     },
     "execution_count": 65,
     "metadata": {},
     "output_type": "execute_result"
    }
   ],
   "source": [
    "scores_df[['params','mean_test_score','rank_test_score']]"
   ]
  },
  {
   "cell_type": "code",
   "execution_count": 66,
   "id": "ca333d90",
   "metadata": {
    "ExecuteTime": {
     "end_time": "2021-07-22T04:55:11.778040Z",
     "start_time": "2021-07-22T04:55:11.762082Z"
    }
   },
   "outputs": [
    {
     "name": "stdout",
     "output_type": "stream",
     "text": [
      "최적의 파라미터: {'max_depth': 3, 'min_samples_split': 2}\n",
      "최고의 적확도: 0.975\n"
     ]
    }
   ],
   "source": [
    "#최고성능을 가지는 파라미터 조합 및 예측성능 1위값 출력\n",
    "# best_params_\n",
    "print('최적의 파라미터:',grid_tree.best_params_)\n",
    "print('최고의 적확도:',grid_tree.best_score_)"
   ]
  },
  {
   "cell_type": "code",
   "execution_count": 67,
   "id": "8cfcc6bb",
   "metadata": {
    "ExecuteTime": {
     "end_time": "2021-07-22T04:55:13.289508Z",
     "start_time": "2021-07-22T04:55:13.273241Z"
    }
   },
   "outputs": [
    {
     "data": {
      "text/plain": [
       "0.9666666666666667"
      ]
     },
     "execution_count": 67,
     "metadata": {},
     "output_type": "execute_result"
    }
   ],
   "source": [
    "best_dt = grid_tree.best_estimator_\n",
    "\n",
    "# GridSearchCV의 best_estimator_는 이미 최적학습이 됬으므로 fit으로 별도 학습 안해도됨\n",
    "pred = best_dt.predict(X_test)\n",
    "\n",
    "accuracy_score(y_test,pred)"
   ]
  },
  {
   "cell_type": "markdown",
   "id": "a3ff4c79",
   "metadata": {},
   "source": [
    "# 데이터 전처리\n",
    "\n",
    "- 데이터 정제 : 결측치, 이상치, 잡음\n",
    "\n",
    "- 데이터 결합\n",
    "\n",
    "- 데이터 변환 : Normalization, scaling\n",
    "\n",
    "- 차원 축소 \n",
    "    - Feature selection\n",
    "        - filter, wrapper, embedded\n",
    "    - Feature extraction\n",
    "        - PCA, SVD, FA, NMF"
   ]
  },
  {
   "cell_type": "markdown",
   "id": "3cab1e48",
   "metadata": {},
   "source": [
    "## 데이터 인코딩 : 문자열을 숫자형으로 변환\n",
    "\n",
    "- 인코딩 방식 : Label encoding, Onehot encoding\n",
    "    \n",
    "    - label encoding\n",
    "        - LabelEncoding 객체 생성\n",
    "        - fit() : 레이블 인코더를 맞춤\n",
    "        - transform() : 인코딩된 레이블 반환"
   ]
  },
  {
   "cell_type": "code",
   "execution_count": 107,
   "id": "bafe5a8d",
   "metadata": {
    "ExecuteTime": {
     "end_time": "2021-07-22T07:03:04.332837Z",
     "start_time": "2021-07-22T07:03:04.313713Z"
    }
   },
   "outputs": [
    {
     "name": "stdout",
     "output_type": "stream",
     "text": [
      "인코더 반환값 :  [0 1 4 5 2 2 3 3]\n",
      "인코딩 전 값 :  ['TV' '냉장고' '선풍기' '아이패드' '전자레인지' '컴퓨터']\n",
      "3,0,2,1의 디코딩 값 :  ['아이패드' 'TV' '선풍기' '냉장고']\n"
     ]
    }
   ],
   "source": [
    "from sklearn.preprocessing import LabelEncoder\n",
    "items = ['TV','냉장고','전자레인지','컴퓨터','선풍기','선풍기','아이패드','아이패드']\n",
    "\n",
    "\n",
    "encoder = LabelEncoder()\n",
    "encoder.fit(items)\n",
    "labels = encoder.transform(items)\n",
    "print('인코더 반환값 : ',labels)\n",
    "\n",
    "# 인코딩 전 원래의 값 확인 : encoder.classes_\n",
    "print('인코딩 전 값 : ',encoder.classes_)\n",
    "\n",
    "# 인코딩 -> 디코딩 : encoder.inverse_transform\n",
    "print('3,0,2,1의 디코딩 값 : ',encoder.inverse_transform([3,0,2,1]))"
   ]
  },
  {
   "cell_type": "markdown",
   "id": "b42332c7",
   "metadata": {},
   "source": [
    "## 원 - 핫 인코딩 : 회기분석 해야 할 경우 많이 이용함\n",
    "\n",
    "- 1. 수치형으로 바꾼다 : LabelEncoding\n",
    "- 2. 2차원 데이터 변환 reshape\n",
    "- 3. 원-핫 인코딩 적용"
   ]
  },
  {
   "cell_type": "code",
   "execution_count": 113,
   "id": "ffc02632",
   "metadata": {
    "ExecuteTime": {
     "end_time": "2021-07-22T07:05:58.996201Z",
     "start_time": "2021-07-22T07:05:58.985260Z"
    }
   },
   "outputs": [
    {
     "name": "stdout",
     "output_type": "stream",
     "text": [
      "label encoding: [0 1 4 5 2 2 3 3]\n",
      "reshape을 통해 2차원 변환:\n",
      " [[0]\n",
      " [1]\n",
      " [4]\n",
      " [5]\n",
      " [2]\n",
      " [2]\n",
      " [3]\n",
      " [3]]\n",
      "원 핫 인코딩 : \n",
      "   (0, 0)\t1.0\n",
      "  (1, 1)\t1.0\n",
      "  (2, 4)\t1.0\n",
      "  (3, 5)\t1.0\n",
      "  (4, 2)\t1.0\n",
      "  (5, 2)\t1.0\n",
      "  (6, 3)\t1.0\n",
      "  (7, 3)\t1.0\n",
      "toarray() : 2차원데이터로 출력 : \n",
      " [[1. 0. 0. 0. 0. 0.]\n",
      " [0. 1. 0. 0. 0. 0.]\n",
      " [0. 0. 0. 0. 1. 0.]\n",
      " [0. 0. 0. 0. 0. 1.]\n",
      " [0. 0. 1. 0. 0. 0.]\n",
      " [0. 0. 1. 0. 0. 0.]\n",
      " [0. 0. 0. 1. 0. 0.]\n",
      " [0. 0. 0. 1. 0. 0.]]\n"
     ]
    }
   ],
   "source": [
    "from sklearn.preprocessing import OneHotEncoder,LabelEncoder\n",
    "import numpy as np\n",
    "\n",
    "# 1. 숫자값 반환을 위해 LabelEncoder로 변환\n",
    "items = ['TV','냉장고','전자레인지','컴퓨터','선풍기','선풍기','아이패드','아이패드']\n",
    "encoder = LabelEncoder()\n",
    "encoder.fit(items)\n",
    "labels = encoder.transform(items)\n",
    "print('label encoding:',labels)\n",
    "\n",
    "# 2차원 데이터로 변환 : reshape\n",
    "labels = labels.reshape(-1,1)\n",
    "print('reshape을 통해 2차원 변환:\\n',labels)\n",
    "\n",
    "# 원-핫 인코딩\n",
    "\n",
    "onehot = OneHotEncoder()\n",
    "onehot.fit(labels)\n",
    "onehot_labels = onehot.transform(labels)\n",
    "print('원 핫 인코딩 : \\n',onehot_labels)\n",
    "\n",
    "\n",
    "#2차원 데이터로 출력\n",
    "print('toarray() : 2차원데이터로 출력 : \\n',onehot_labels.toarray())"
   ]
  },
  {
   "cell_type": "markdown",
   "id": "32001679",
   "metadata": {},
   "source": [
    "## Pandas API 사용 원-핫 인코딩 수행\n",
    "\n",
    "- get - dummies() 메서드 사용\n",
    "\n",
    "- 숫자형으로 변환없이 바로 변환"
   ]
  },
  {
   "cell_type": "code",
   "execution_count": 87,
   "id": "f48de64d",
   "metadata": {
    "ExecuteTime": {
     "end_time": "2021-07-22T06:15:36.912959Z",
     "start_time": "2021-07-22T06:15:36.887028Z"
    }
   },
   "outputs": [
    {
     "data": {
      "text/html": [
       "<div>\n",
       "<style scoped>\n",
       "    .dataframe tbody tr th:only-of-type {\n",
       "        vertical-align: middle;\n",
       "    }\n",
       "\n",
       "    .dataframe tbody tr th {\n",
       "        vertical-align: top;\n",
       "    }\n",
       "\n",
       "    .dataframe thead th {\n",
       "        text-align: right;\n",
       "    }\n",
       "</style>\n",
       "<table border=\"1\" class=\"dataframe\">\n",
       "  <thead>\n",
       "    <tr style=\"text-align: right;\">\n",
       "      <th></th>\n",
       "      <th>item_TV</th>\n",
       "      <th>item_냉장고</th>\n",
       "      <th>item_선풍기</th>\n",
       "      <th>item_아이패드</th>\n",
       "      <th>item_전자레인지</th>\n",
       "      <th>item_컴퓨터</th>\n",
       "    </tr>\n",
       "  </thead>\n",
       "  <tbody>\n",
       "    <tr>\n",
       "      <th>0</th>\n",
       "      <td>1</td>\n",
       "      <td>0</td>\n",
       "      <td>0</td>\n",
       "      <td>0</td>\n",
       "      <td>0</td>\n",
       "      <td>0</td>\n",
       "    </tr>\n",
       "    <tr>\n",
       "      <th>1</th>\n",
       "      <td>0</td>\n",
       "      <td>1</td>\n",
       "      <td>0</td>\n",
       "      <td>0</td>\n",
       "      <td>0</td>\n",
       "      <td>0</td>\n",
       "    </tr>\n",
       "    <tr>\n",
       "      <th>2</th>\n",
       "      <td>0</td>\n",
       "      <td>0</td>\n",
       "      <td>0</td>\n",
       "      <td>0</td>\n",
       "      <td>1</td>\n",
       "      <td>0</td>\n",
       "    </tr>\n",
       "    <tr>\n",
       "      <th>3</th>\n",
       "      <td>0</td>\n",
       "      <td>0</td>\n",
       "      <td>0</td>\n",
       "      <td>0</td>\n",
       "      <td>0</td>\n",
       "      <td>1</td>\n",
       "    </tr>\n",
       "    <tr>\n",
       "      <th>4</th>\n",
       "      <td>0</td>\n",
       "      <td>0</td>\n",
       "      <td>1</td>\n",
       "      <td>0</td>\n",
       "      <td>0</td>\n",
       "      <td>0</td>\n",
       "    </tr>\n",
       "    <tr>\n",
       "      <th>5</th>\n",
       "      <td>0</td>\n",
       "      <td>0</td>\n",
       "      <td>1</td>\n",
       "      <td>0</td>\n",
       "      <td>0</td>\n",
       "      <td>0</td>\n",
       "    </tr>\n",
       "    <tr>\n",
       "      <th>6</th>\n",
       "      <td>0</td>\n",
       "      <td>0</td>\n",
       "      <td>0</td>\n",
       "      <td>1</td>\n",
       "      <td>0</td>\n",
       "      <td>0</td>\n",
       "    </tr>\n",
       "    <tr>\n",
       "      <th>7</th>\n",
       "      <td>0</td>\n",
       "      <td>0</td>\n",
       "      <td>0</td>\n",
       "      <td>1</td>\n",
       "      <td>0</td>\n",
       "      <td>0</td>\n",
       "    </tr>\n",
       "  </tbody>\n",
       "</table>\n",
       "</div>"
      ],
      "text/plain": [
       "   item_TV  item_냉장고  item_선풍기  item_아이패드  item_전자레인지  item_컴퓨터\n",
       "0        1         0         0          0           0         0\n",
       "1        0         1         0          0           0         0\n",
       "2        0         0         0          0           1         0\n",
       "3        0         0         0          0           0         1\n",
       "4        0         0         1          0           0         0\n",
       "5        0         0         1          0           0         0\n",
       "6        0         0         0          1           0         0\n",
       "7        0         0         0          1           0         0"
      ]
     },
     "execution_count": 87,
     "metadata": {},
     "output_type": "execute_result"
    }
   ],
   "source": [
    "import pandas as pd\n",
    "\n",
    "df = pd.DataFrame({'item':['TV','냉장고','전자레인지','컴퓨터','선풍기','선풍기','아이패드','아이패드']})\n",
    "pd.get_dummies(df)"
   ]
  },
  {
   "cell_type": "code",
   "execution_count": 88,
   "id": "902d95bd",
   "metadata": {
    "ExecuteTime": {
     "end_time": "2021-07-22T06:16:23.825853Z",
     "start_time": "2021-07-22T06:16:23.805905Z"
    }
   },
   "outputs": [
    {
     "data": {
      "text/plain": [
       "array([[1, 0, 0, 0, 0, 0],\n",
       "       [0, 1, 0, 0, 0, 0],\n",
       "       [0, 0, 0, 0, 1, 0],\n",
       "       [0, 0, 0, 0, 0, 1],\n",
       "       [0, 0, 1, 0, 0, 0],\n",
       "       [0, 0, 1, 0, 0, 0],\n",
       "       [0, 0, 0, 1, 0, 0],\n",
       "       [0, 0, 0, 1, 0, 0]], dtype=uint8)"
      ]
     },
     "execution_count": 88,
     "metadata": {},
     "output_type": "execute_result"
    }
   ],
   "source": [
    "# Pandas 데이터프레임을 Numpy 배열로 변환\n",
    "pd.get_dummies(df).to_numpy()"
   ]
  },
  {
   "cell_type": "markdown",
   "id": "58bdface",
   "metadata": {},
   "source": [
    "## 피쳐 스케일링과 정규화\n",
    "- feature scaling\n",
    "    - 서로 다른 변수의 값 범위를 일정한 수준으로 맞춤\n",
    "\n",
    "- 방식\n",
    "    - 표준화(Standardization) : Z-score\n",
    "        - 표준화(standardization) : 평균0, 분산1\n",
    "        - sklearn.preprocessing 의 StandardScaler 모듈\n",
    "    \n",
    "    - 정규화(Normalization) : Min-Max\n",
    "        - 0~1로 변환\n",
    "        - sklearn.preprocessing의 MinMaxScaler 모듈"
   ]
  },
  {
   "cell_type": "code",
   "execution_count": 96,
   "id": "4289c01c",
   "metadata": {
    "ExecuteTime": {
     "end_time": "2021-07-22T06:31:14.949804Z",
     "start_time": "2021-07-22T06:31:14.932849Z"
    }
   },
   "outputs": [
    {
     "name": "stdout",
     "output_type": "stream",
     "text": [
      "feature 들의 평균값 : \n",
      " sepal length (cm)    5.843333\n",
      "sepal width (cm)     3.057333\n",
      "petal length (cm)    3.758000\n",
      "petal width (cm)     1.199333\n",
      "dtype: float64\n",
      "feature 들의 표준편차 : \n",
      " sepal length (cm)    0.828066\n",
      "sepal width (cm)     0.435866\n",
      "petal length (cm)    1.765298\n",
      "petal width (cm)     0.762238\n",
      "dtype: float64\n"
     ]
    }
   ],
   "source": [
    "# standard scaler\n",
    "from sklearn.datasets import load_iris\n",
    "import pandas as pd\n",
    "\n",
    "iris = load_iris()\n",
    "iris_data = iris.data\n",
    "iris_df = pd.DataFrame(data = iris_data, columns = iris.feature_names)\n",
    "print('feature 들의 평균값 : \\n',iris_df.mean())\n",
    "print('feature 들의 표준편차 : \\n',iris_df.std())"
   ]
  },
  {
   "cell_type": "code",
   "execution_count": 101,
   "id": "bc1106d1",
   "metadata": {
    "ExecuteTime": {
     "end_time": "2021-07-22T06:35:05.206366Z",
     "start_time": "2021-07-22T06:35:05.197389Z"
    }
   },
   "outputs": [
    {
     "name": "stdout",
     "output_type": "stream",
     "text": [
      "sepal length (cm)   -1.690315e-15\n",
      "sepal width (cm)    -1.842970e-15\n",
      "petal length (cm)   -1.698641e-15\n",
      "petal width (cm)    -1.409243e-15\n",
      "dtype: float64\n",
      "sepal length (cm)    1.00335\n",
      "sepal width (cm)     1.00335\n",
      "petal length (cm)    1.00335\n",
      "petal width (cm)     1.00335\n",
      "dtype: float64\n"
     ]
    }
   ],
   "source": [
    "from sklearn.preprocessing import StandardScaler\n",
    "\n",
    "scaler = StandardScaler()\n",
    "scaler.fit(iris_df)\n",
    "iris_scaled = scaler.transform(iris_df)\n",
    "# print(iris_scaled)\n",
    "\n",
    "iris_scaled_df = pd.DataFrame(data=iris_scaled, columns = iris.feature_names)\n",
    "print(iris_scaled_df.mean())\n",
    "print(iris_scaled_df.std())"
   ]
  },
  {
   "cell_type": "markdown",
   "id": "20f0a7c9",
   "metadata": {},
   "source": [
    "## MinMaxScaler\n",
    "- 1. MinMaxScaler 객체 생성\n",
    "- 2. fit()\n",
    "- 3. fransform()"
   ]
  },
  {
   "cell_type": "code",
   "execution_count": 106,
   "id": "5ad68819",
   "metadata": {
    "ExecuteTime": {
     "end_time": "2021-07-22T06:41:00.773507Z",
     "start_time": "2021-07-22T06:41:00.747549Z"
    }
   },
   "outputs": [
    {
     "data": {
      "text/plain": [
       "array([[0.22222222, 0.625     , 0.06779661, 0.04166667],\n",
       "       [0.16666667, 0.41666667, 0.06779661, 0.04166667],\n",
       "       [0.11111111, 0.5       , 0.05084746, 0.04166667],\n",
       "       [0.08333333, 0.45833333, 0.08474576, 0.04166667],\n",
       "       [0.19444444, 0.66666667, 0.06779661, 0.04166667],\n",
       "       [0.30555556, 0.79166667, 0.11864407, 0.125     ],\n",
       "       [0.08333333, 0.58333333, 0.06779661, 0.08333333],\n",
       "       [0.19444444, 0.58333333, 0.08474576, 0.04166667],\n",
       "       [0.02777778, 0.375     , 0.06779661, 0.04166667],\n",
       "       [0.16666667, 0.45833333, 0.08474576, 0.        ],\n",
       "       [0.30555556, 0.70833333, 0.08474576, 0.04166667],\n",
       "       [0.13888889, 0.58333333, 0.10169492, 0.04166667],\n",
       "       [0.13888889, 0.41666667, 0.06779661, 0.        ],\n",
       "       [0.        , 0.41666667, 0.01694915, 0.        ],\n",
       "       [0.41666667, 0.83333333, 0.03389831, 0.04166667],\n",
       "       [0.38888889, 1.        , 0.08474576, 0.125     ],\n",
       "       [0.30555556, 0.79166667, 0.05084746, 0.125     ],\n",
       "       [0.22222222, 0.625     , 0.06779661, 0.08333333],\n",
       "       [0.38888889, 0.75      , 0.11864407, 0.08333333],\n",
       "       [0.22222222, 0.75      , 0.08474576, 0.08333333],\n",
       "       [0.30555556, 0.58333333, 0.11864407, 0.04166667],\n",
       "       [0.22222222, 0.70833333, 0.08474576, 0.125     ],\n",
       "       [0.08333333, 0.66666667, 0.        , 0.04166667],\n",
       "       [0.22222222, 0.54166667, 0.11864407, 0.16666667],\n",
       "       [0.13888889, 0.58333333, 0.15254237, 0.04166667],\n",
       "       [0.19444444, 0.41666667, 0.10169492, 0.04166667],\n",
       "       [0.19444444, 0.58333333, 0.10169492, 0.125     ],\n",
       "       [0.25      , 0.625     , 0.08474576, 0.04166667],\n",
       "       [0.25      , 0.58333333, 0.06779661, 0.04166667],\n",
       "       [0.11111111, 0.5       , 0.10169492, 0.04166667],\n",
       "       [0.13888889, 0.45833333, 0.10169492, 0.04166667],\n",
       "       [0.30555556, 0.58333333, 0.08474576, 0.125     ],\n",
       "       [0.25      , 0.875     , 0.08474576, 0.        ],\n",
       "       [0.33333333, 0.91666667, 0.06779661, 0.04166667],\n",
       "       [0.16666667, 0.45833333, 0.08474576, 0.04166667],\n",
       "       [0.19444444, 0.5       , 0.03389831, 0.04166667],\n",
       "       [0.33333333, 0.625     , 0.05084746, 0.04166667],\n",
       "       [0.16666667, 0.66666667, 0.06779661, 0.        ],\n",
       "       [0.02777778, 0.41666667, 0.05084746, 0.04166667],\n",
       "       [0.22222222, 0.58333333, 0.08474576, 0.04166667],\n",
       "       [0.19444444, 0.625     , 0.05084746, 0.08333333],\n",
       "       [0.05555556, 0.125     , 0.05084746, 0.08333333],\n",
       "       [0.02777778, 0.5       , 0.05084746, 0.04166667],\n",
       "       [0.19444444, 0.625     , 0.10169492, 0.20833333],\n",
       "       [0.22222222, 0.75      , 0.15254237, 0.125     ],\n",
       "       [0.13888889, 0.41666667, 0.06779661, 0.08333333],\n",
       "       [0.22222222, 0.75      , 0.10169492, 0.04166667],\n",
       "       [0.08333333, 0.5       , 0.06779661, 0.04166667],\n",
       "       [0.27777778, 0.70833333, 0.08474576, 0.04166667],\n",
       "       [0.19444444, 0.54166667, 0.06779661, 0.04166667],\n",
       "       [0.75      , 0.5       , 0.62711864, 0.54166667],\n",
       "       [0.58333333, 0.5       , 0.59322034, 0.58333333],\n",
       "       [0.72222222, 0.45833333, 0.66101695, 0.58333333],\n",
       "       [0.33333333, 0.125     , 0.50847458, 0.5       ],\n",
       "       [0.61111111, 0.33333333, 0.61016949, 0.58333333],\n",
       "       [0.38888889, 0.33333333, 0.59322034, 0.5       ],\n",
       "       [0.55555556, 0.54166667, 0.62711864, 0.625     ],\n",
       "       [0.16666667, 0.16666667, 0.38983051, 0.375     ],\n",
       "       [0.63888889, 0.375     , 0.61016949, 0.5       ],\n",
       "       [0.25      , 0.29166667, 0.49152542, 0.54166667],\n",
       "       [0.19444444, 0.        , 0.42372881, 0.375     ],\n",
       "       [0.44444444, 0.41666667, 0.54237288, 0.58333333],\n",
       "       [0.47222222, 0.08333333, 0.50847458, 0.375     ],\n",
       "       [0.5       , 0.375     , 0.62711864, 0.54166667],\n",
       "       [0.36111111, 0.375     , 0.44067797, 0.5       ],\n",
       "       [0.66666667, 0.45833333, 0.57627119, 0.54166667],\n",
       "       [0.36111111, 0.41666667, 0.59322034, 0.58333333],\n",
       "       [0.41666667, 0.29166667, 0.52542373, 0.375     ],\n",
       "       [0.52777778, 0.08333333, 0.59322034, 0.58333333],\n",
       "       [0.36111111, 0.20833333, 0.49152542, 0.41666667],\n",
       "       [0.44444444, 0.5       , 0.6440678 , 0.70833333],\n",
       "       [0.5       , 0.33333333, 0.50847458, 0.5       ],\n",
       "       [0.55555556, 0.20833333, 0.66101695, 0.58333333],\n",
       "       [0.5       , 0.33333333, 0.62711864, 0.45833333],\n",
       "       [0.58333333, 0.375     , 0.55932203, 0.5       ],\n",
       "       [0.63888889, 0.41666667, 0.57627119, 0.54166667],\n",
       "       [0.69444444, 0.33333333, 0.6440678 , 0.54166667],\n",
       "       [0.66666667, 0.41666667, 0.6779661 , 0.66666667],\n",
       "       [0.47222222, 0.375     , 0.59322034, 0.58333333],\n",
       "       [0.38888889, 0.25      , 0.42372881, 0.375     ],\n",
       "       [0.33333333, 0.16666667, 0.47457627, 0.41666667],\n",
       "       [0.33333333, 0.16666667, 0.45762712, 0.375     ],\n",
       "       [0.41666667, 0.29166667, 0.49152542, 0.45833333],\n",
       "       [0.47222222, 0.29166667, 0.69491525, 0.625     ],\n",
       "       [0.30555556, 0.41666667, 0.59322034, 0.58333333],\n",
       "       [0.47222222, 0.58333333, 0.59322034, 0.625     ],\n",
       "       [0.66666667, 0.45833333, 0.62711864, 0.58333333],\n",
       "       [0.55555556, 0.125     , 0.57627119, 0.5       ],\n",
       "       [0.36111111, 0.41666667, 0.52542373, 0.5       ],\n",
       "       [0.33333333, 0.20833333, 0.50847458, 0.5       ],\n",
       "       [0.33333333, 0.25      , 0.57627119, 0.45833333],\n",
       "       [0.5       , 0.41666667, 0.61016949, 0.54166667],\n",
       "       [0.41666667, 0.25      , 0.50847458, 0.45833333],\n",
       "       [0.19444444, 0.125     , 0.38983051, 0.375     ],\n",
       "       [0.36111111, 0.29166667, 0.54237288, 0.5       ],\n",
       "       [0.38888889, 0.41666667, 0.54237288, 0.45833333],\n",
       "       [0.38888889, 0.375     , 0.54237288, 0.5       ],\n",
       "       [0.52777778, 0.375     , 0.55932203, 0.5       ],\n",
       "       [0.22222222, 0.20833333, 0.33898305, 0.41666667],\n",
       "       [0.38888889, 0.33333333, 0.52542373, 0.5       ],\n",
       "       [0.55555556, 0.54166667, 0.84745763, 1.        ],\n",
       "       [0.41666667, 0.29166667, 0.69491525, 0.75      ],\n",
       "       [0.77777778, 0.41666667, 0.83050847, 0.83333333],\n",
       "       [0.55555556, 0.375     , 0.77966102, 0.70833333],\n",
       "       [0.61111111, 0.41666667, 0.81355932, 0.875     ],\n",
       "       [0.91666667, 0.41666667, 0.94915254, 0.83333333],\n",
       "       [0.16666667, 0.20833333, 0.59322034, 0.66666667],\n",
       "       [0.83333333, 0.375     , 0.89830508, 0.70833333],\n",
       "       [0.66666667, 0.20833333, 0.81355932, 0.70833333],\n",
       "       [0.80555556, 0.66666667, 0.86440678, 1.        ],\n",
       "       [0.61111111, 0.5       , 0.69491525, 0.79166667],\n",
       "       [0.58333333, 0.29166667, 0.72881356, 0.75      ],\n",
       "       [0.69444444, 0.41666667, 0.76271186, 0.83333333],\n",
       "       [0.38888889, 0.20833333, 0.6779661 , 0.79166667],\n",
       "       [0.41666667, 0.33333333, 0.69491525, 0.95833333],\n",
       "       [0.58333333, 0.5       , 0.72881356, 0.91666667],\n",
       "       [0.61111111, 0.41666667, 0.76271186, 0.70833333],\n",
       "       [0.94444444, 0.75      , 0.96610169, 0.875     ],\n",
       "       [0.94444444, 0.25      , 1.        , 0.91666667],\n",
       "       [0.47222222, 0.08333333, 0.6779661 , 0.58333333],\n",
       "       [0.72222222, 0.5       , 0.79661017, 0.91666667],\n",
       "       [0.36111111, 0.33333333, 0.66101695, 0.79166667],\n",
       "       [0.94444444, 0.33333333, 0.96610169, 0.79166667],\n",
       "       [0.55555556, 0.29166667, 0.66101695, 0.70833333],\n",
       "       [0.66666667, 0.54166667, 0.79661017, 0.83333333],\n",
       "       [0.80555556, 0.5       , 0.84745763, 0.70833333],\n",
       "       [0.52777778, 0.33333333, 0.6440678 , 0.70833333],\n",
       "       [0.5       , 0.41666667, 0.66101695, 0.70833333],\n",
       "       [0.58333333, 0.33333333, 0.77966102, 0.83333333],\n",
       "       [0.80555556, 0.41666667, 0.81355932, 0.625     ],\n",
       "       [0.86111111, 0.33333333, 0.86440678, 0.75      ],\n",
       "       [1.        , 0.75      , 0.91525424, 0.79166667],\n",
       "       [0.58333333, 0.33333333, 0.77966102, 0.875     ],\n",
       "       [0.55555556, 0.33333333, 0.69491525, 0.58333333],\n",
       "       [0.5       , 0.25      , 0.77966102, 0.54166667],\n",
       "       [0.94444444, 0.41666667, 0.86440678, 0.91666667],\n",
       "       [0.55555556, 0.58333333, 0.77966102, 0.95833333],\n",
       "       [0.58333333, 0.45833333, 0.76271186, 0.70833333],\n",
       "       [0.47222222, 0.41666667, 0.6440678 , 0.70833333],\n",
       "       [0.72222222, 0.45833333, 0.74576271, 0.83333333],\n",
       "       [0.66666667, 0.45833333, 0.77966102, 0.95833333],\n",
       "       [0.72222222, 0.45833333, 0.69491525, 0.91666667],\n",
       "       [0.41666667, 0.29166667, 0.69491525, 0.75      ],\n",
       "       [0.69444444, 0.5       , 0.83050847, 0.91666667],\n",
       "       [0.66666667, 0.54166667, 0.79661017, 1.        ],\n",
       "       [0.66666667, 0.41666667, 0.71186441, 0.91666667],\n",
       "       [0.55555556, 0.20833333, 0.6779661 , 0.75      ],\n",
       "       [0.61111111, 0.41666667, 0.71186441, 0.79166667],\n",
       "       [0.52777778, 0.58333333, 0.74576271, 0.91666667],\n",
       "       [0.44444444, 0.41666667, 0.69491525, 0.70833333]])"
      ]
     },
     "execution_count": 106,
     "metadata": {},
     "output_type": "execute_result"
    }
   ],
   "source": [
    "from sklearn.preprocessing import MinMaxScaler\n",
    "\n",
    "scaler = MinMaxScaler()\n",
    "scaler.fit(iris_df)\n",
    "iris_scaled = scaler.transform(iris_df)\n",
    "iris_scaled\n"
   ]
  },
  {
   "cell_type": "markdown",
   "id": "63d329dd",
   "metadata": {},
   "source": [
    "## 모양변환\n",
    "\n",
    "- Pivot : 행,열 별 요약된 값으로 정렬해서 분석을 하고자 할 때\n",
    "\n",
    "- Unpivot : 컬럼 형태로 되어있는 것을 행 형태로 바꿀때 사용\n",
    "\n",
    "## 데이터 분포의 변환\n",
    "\n",
    "- 정규분포를 가정하는 분석 기법을 사용할 때 입력데이터가 정규를 따르지 않는 경우, 정규분포에 가깝게 변환하는 기법\n",
    "\n"
   ]
  },
  {
   "cell_type": "markdown",
   "id": "a892ecfd",
   "metadata": {},
   "source": [
    "# 사이킷런으로 수행하는 타이타닉 생존자 예측"
   ]
  },
  {
   "cell_type": "code",
   "execution_count": null,
   "id": "00c99a60",
   "metadata": {},
   "outputs": [],
   "source": []
  }
 ],
 "metadata": {
  "hide_input": false,
  "kernelspec": {
   "display_name": "Python 3",
   "language": "python",
   "name": "python3"
  },
  "language_info": {
   "codemirror_mode": {
    "name": "ipython",
    "version": 3
   },
   "file_extension": ".py",
   "mimetype": "text/x-python",
   "name": "python",
   "nbconvert_exporter": "python",
   "pygments_lexer": "ipython3",
   "version": "3.8.8"
  },
  "toc": {
   "base_numbering": 1,
   "nav_menu": {},
   "number_sections": true,
   "sideBar": true,
   "skip_h1_title": false,
   "title_cell": "Table of Contents",
   "title_sidebar": "Contents",
   "toc_cell": false,
   "toc_position": {},
   "toc_section_display": true,
   "toc_window_display": false
  },
  "varInspector": {
   "cols": {
    "lenName": 16,
    "lenType": 16,
    "lenVar": 40
   },
   "kernels_config": {
    "python": {
     "delete_cmd_postfix": "",
     "delete_cmd_prefix": "del ",
     "library": "var_list.py",
     "varRefreshCmd": "print(var_dic_list())"
    },
    "r": {
     "delete_cmd_postfix": ") ",
     "delete_cmd_prefix": "rm(",
     "library": "var_list.r",
     "varRefreshCmd": "cat(var_dic_list()) "
    }
   },
   "types_to_exclude": [
    "module",
    "function",
    "builtin_function_or_method",
    "instance",
    "_Feature"
   ],
   "window_display": false
  }
 },
 "nbformat": 4,
 "nbformat_minor": 5
}
