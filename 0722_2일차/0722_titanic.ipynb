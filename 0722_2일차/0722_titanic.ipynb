{
 "cells": [
  {
   "cell_type": "markdown",
   "id": "53c8542f",
   "metadata": {},
   "source": [
    "# 사이킷런으로 수행하는 타이타닉 생존자"
   ]
  },
  {
   "cell_type": "code",
   "execution_count": 5,
   "id": "93fd867e",
   "metadata": {
    "ExecuteTime": {
     "end_time": "2021-07-22T07:12:05.658526Z",
     "start_time": "2021-07-22T07:12:05.623621Z"
    }
   },
   "outputs": [
    {
     "data": {
      "text/html": [
       "<div>\n",
       "<style scoped>\n",
       "    .dataframe tbody tr th:only-of-type {\n",
       "        vertical-align: middle;\n",
       "    }\n",
       "\n",
       "    .dataframe tbody tr th {\n",
       "        vertical-align: top;\n",
       "    }\n",
       "\n",
       "    .dataframe thead th {\n",
       "        text-align: right;\n",
       "    }\n",
       "</style>\n",
       "<table border=\"1\" class=\"dataframe\">\n",
       "  <thead>\n",
       "    <tr style=\"text-align: right;\">\n",
       "      <th></th>\n",
       "      <th>PassengerId</th>\n",
       "      <th>Survived</th>\n",
       "      <th>Pclass</th>\n",
       "      <th>Name</th>\n",
       "      <th>Sex</th>\n",
       "      <th>Age</th>\n",
       "      <th>SibSp</th>\n",
       "      <th>Parch</th>\n",
       "      <th>Ticket</th>\n",
       "      <th>Fare</th>\n",
       "      <th>Cabin</th>\n",
       "      <th>Embarked</th>\n",
       "    </tr>\n",
       "  </thead>\n",
       "  <tbody>\n",
       "    <tr>\n",
       "      <th>0</th>\n",
       "      <td>1</td>\n",
       "      <td>0</td>\n",
       "      <td>3</td>\n",
       "      <td>Braund, Mr. Owen Harris</td>\n",
       "      <td>male</td>\n",
       "      <td>22.0</td>\n",
       "      <td>1</td>\n",
       "      <td>0</td>\n",
       "      <td>A/5 21171</td>\n",
       "      <td>7.2500</td>\n",
       "      <td>NaN</td>\n",
       "      <td>S</td>\n",
       "    </tr>\n",
       "    <tr>\n",
       "      <th>1</th>\n",
       "      <td>2</td>\n",
       "      <td>1</td>\n",
       "      <td>1</td>\n",
       "      <td>Cumings, Mrs. John Bradley (Florence Briggs Th...</td>\n",
       "      <td>female</td>\n",
       "      <td>38.0</td>\n",
       "      <td>1</td>\n",
       "      <td>0</td>\n",
       "      <td>PC 17599</td>\n",
       "      <td>71.2833</td>\n",
       "      <td>C85</td>\n",
       "      <td>C</td>\n",
       "    </tr>\n",
       "    <tr>\n",
       "      <th>2</th>\n",
       "      <td>3</td>\n",
       "      <td>1</td>\n",
       "      <td>3</td>\n",
       "      <td>Heikkinen, Miss. Laina</td>\n",
       "      <td>female</td>\n",
       "      <td>26.0</td>\n",
       "      <td>0</td>\n",
       "      <td>0</td>\n",
       "      <td>STON/O2. 3101282</td>\n",
       "      <td>7.9250</td>\n",
       "      <td>NaN</td>\n",
       "      <td>S</td>\n",
       "    </tr>\n",
       "  </tbody>\n",
       "</table>\n",
       "</div>"
      ],
      "text/plain": [
       "   PassengerId  Survived  Pclass  \\\n",
       "0            1         0       3   \n",
       "1            2         1       1   \n",
       "2            3         1       3   \n",
       "\n",
       "                                                Name     Sex   Age  SibSp  \\\n",
       "0                            Braund, Mr. Owen Harris    male  22.0      1   \n",
       "1  Cumings, Mrs. John Bradley (Florence Briggs Th...  female  38.0      1   \n",
       "2                             Heikkinen, Miss. Laina  female  26.0      0   \n",
       "\n",
       "   Parch            Ticket     Fare Cabin Embarked  \n",
       "0      0         A/5 21171   7.2500   NaN        S  \n",
       "1      0          PC 17599  71.2833   C85        C  \n",
       "2      0  STON/O2. 3101282   7.9250   NaN        S  "
      ]
     },
     "execution_count": 5,
     "metadata": {},
     "output_type": "execute_result"
    }
   ],
   "source": [
    "#변수별 정보\n",
    "\n",
    "import numpy as np\n",
    "import pandas as pd\n",
    "import matplotlib.pyplot as plt\n",
    "import seaborn as sns\n",
    "%matplotlib inline\n",
    "\n",
    "titanic_df = pd.read_csv('titanic_train.csv')\n",
    "titanic_df.head(3)"
   ]
  },
  {
   "cell_type": "markdown",
   "id": "a3e6b600",
   "metadata": {},
   "source": [
    "- passengerid : 탑승자 데이터 일련번호\n",
    "- survived : 생존여부 0=사망, 1=생존\n",
    "- Pclass : 티켓 등급 1=일등석,2=이등석,3=삼등석\n",
    "- sex : 성별\n",
    "- name : 이름\n",
    "- sibsp : 함께 탑승한 형제자매 or 배우자 인원수\n",
    "- parch : 함께 탑승한 부모님 or 어린이 인원수 \n",
    "- ticket : 티켓 번호\n",
    "- fare : 요금\n",
    "- cabin : 선실 번호\n",
    "- embarked : 중간 정착 항구 C=Cherbourg, Q= Queenstown, S=Southampton"
   ]
  },
  {
   "cell_type": "code",
   "execution_count": 6,
   "id": "321255eb",
   "metadata": {
    "ExecuteTime": {
     "end_time": "2021-07-22T07:15:41.691963Z",
     "start_time": "2021-07-22T07:15:41.666057Z"
    }
   },
   "outputs": [
    {
     "name": "stdout",
     "output_type": "stream",
     "text": [
      "<class 'pandas.core.frame.DataFrame'>\n",
      "RangeIndex: 891 entries, 0 to 890\n",
      "Data columns (total 12 columns):\n",
      " #   Column       Non-Null Count  Dtype  \n",
      "---  ------       --------------  -----  \n",
      " 0   PassengerId  891 non-null    int64  \n",
      " 1   Survived     891 non-null    int64  \n",
      " 2   Pclass       891 non-null    int64  \n",
      " 3   Name         891 non-null    object \n",
      " 4   Sex          891 non-null    object \n",
      " 5   Age          714 non-null    float64\n",
      " 6   SibSp        891 non-null    int64  \n",
      " 7   Parch        891 non-null    int64  \n",
      " 8   Ticket       891 non-null    object \n",
      " 9   Fare         891 non-null    float64\n",
      " 10  Cabin        204 non-null    object \n",
      " 11  Embarked     889 non-null    object \n",
      "dtypes: float64(2), int64(5), object(5)\n",
      "memory usage: 83.7+ KB\n"
     ]
    }
   ],
   "source": [
    "titanic_df.info()"
   ]
  },
  {
   "cell_type": "markdown",
   "id": "017c8b31",
   "metadata": {},
   "source": [
    "# Null 값 제거 및 데이터 준비"
   ]
  },
  {
   "cell_type": "code",
   "execution_count": 8,
   "id": "6b8feec5",
   "metadata": {
    "ExecuteTime": {
     "end_time": "2021-07-22T07:17:30.218834Z",
     "start_time": "2021-07-22T07:17:30.205869Z"
    }
   },
   "outputs": [
    {
     "data": {
      "text/plain": [
       "PassengerId      0\n",
       "Survived         0\n",
       "Pclass           0\n",
       "Name             0\n",
       "Sex              0\n",
       "Age            177\n",
       "SibSp            0\n",
       "Parch            0\n",
       "Ticket           0\n",
       "Fare             0\n",
       "Cabin          687\n",
       "Embarked         2\n",
       "dtype: int64"
      ]
     },
     "execution_count": 8,
     "metadata": {},
     "output_type": "execute_result"
    }
   ],
   "source": [
    "# Null값 개수 확인\n",
    "titanic_df.isnull().sum()"
   ]
  },
  {
   "cell_type": "code",
   "execution_count": 15,
   "id": "b17212b2",
   "metadata": {
    "ExecuteTime": {
     "end_time": "2021-07-22T07:26:34.258293Z",
     "start_time": "2021-07-22T07:26:34.236351Z"
    }
   },
   "outputs": [
    {
     "data": {
      "text/plain": [
       "PassengerId    0\n",
       "Survived       0\n",
       "Pclass         0\n",
       "Name           0\n",
       "Sex            0\n",
       "Age            0\n",
       "SibSp          0\n",
       "Parch          0\n",
       "Ticket         0\n",
       "Fare           0\n",
       "Cabin          0\n",
       "Embarked       0\n",
       "dtype: int64"
      ]
     },
     "execution_count": 15,
     "metadata": {},
     "output_type": "execute_result"
    }
   ],
   "source": [
    "## 데이터 전처리 : 결측치 처리\n",
    "\n",
    "#Null값 처리\n",
    "\n",
    "titanic_df['Age'].fillna(titanic_df['Age'].mean, inplace=True)\n",
    "titanic_df['Cabin'].fillna(\"N\",inplace=True)\n",
    "titanic_df['Embarked'].fillna(\"N\",inplace=True)\n",
    "\n",
    "titanic_df.isnull().sum()"
   ]
  },
  {
   "cell_type": "code",
   "execution_count": 16,
   "id": "06a3514f",
   "metadata": {
    "ExecuteTime": {
     "end_time": "2021-07-22T07:26:39.172572Z",
     "start_time": "2021-07-22T07:26:39.157626Z"
    }
   },
   "outputs": [
    {
     "name": "stdout",
     "output_type": "stream",
     "text": [
      "Sex분포 : \n",
      " male      577\n",
      "female    314\n",
      "Name: Sex, dtype: int64\n",
      "cabin분포 : \n",
      " N              687\n",
      "C23 C25 C27      4\n",
      "G6               4\n",
      "B96 B98          4\n",
      "F2               3\n",
      "              ... \n",
      "B71              1\n",
      "C70              1\n",
      "C50              1\n",
      "C101             1\n",
      "A16              1\n",
      "Name: Cabin, Length: 148, dtype: int64\n",
      "embarked분포 : \n",
      " S    644\n",
      "C    168\n",
      "Q     77\n",
      "N      2\n",
      "Name: Embarked, dtype: int64\n"
     ]
    }
   ],
   "source": [
    "# 문자열 변수(피쳐) 빈도 분포 확인 : value_counts()\n",
    "# sex, cabin, embarked\n",
    "print('Sex분포 : \\n', titanic_df['Sex'].value_counts())\n",
    "print('cabin분포 : \\n', titanic_df['Cabin'].value_counts())\n",
    "print('embarked분포 : \\n', titanic_df['Embarked'].value_counts())"
   ]
  },
  {
   "cell_type": "code",
   "execution_count": 21,
   "id": "a0aef403",
   "metadata": {
    "ExecuteTime": {
     "end_time": "2021-07-22T07:28:52.168268Z",
     "start_time": "2021-07-22T07:28:52.157295Z"
    }
   },
   "outputs": [
    {
     "data": {
      "text/plain": [
       "N    687\n",
       "C     59\n",
       "B     47\n",
       "D     33\n",
       "E     32\n",
       "A     15\n",
       "F     13\n",
       "G      4\n",
       "T      1\n",
       "Name: Cabin, dtype: int64"
      ]
     },
     "execution_count": 21,
     "metadata": {},
     "output_type": "execute_result"
    }
   ],
   "source": [
    "# cabin value를 선실 등급만으로 표기\n",
    "titanic_df['Cabin']=titanic_df['Cabin'].str[:1]\n",
    "\n",
    "# 선실등급 별 개수 확인\n",
    "titanic_df['Cabin'].value_counts()"
   ]
  },
  {
   "cell_type": "markdown",
   "id": "58151b04",
   "metadata": {
    "ExecuteTime": {
     "end_time": "2021-07-22T07:30:00.753731Z",
     "start_time": "2021-07-22T07:30:00.741790Z"
    }
   },
   "source": [
    "## 성별에 따른 생존자 수 분포"
   ]
  },
  {
   "cell_type": "code",
   "execution_count": 29,
   "id": "1efc35b2",
   "metadata": {
    "ExecuteTime": {
     "end_time": "2021-07-22T07:35:16.024787Z",
     "start_time": "2021-07-22T07:35:16.004865Z"
    }
   },
   "outputs": [
    {
     "data": {
      "text/plain": [
       "Sex     Survived\n",
       "female  0            81\n",
       "        1           233\n",
       "male    0           468\n",
       "        1           109\n",
       "Name: Survived, dtype: int64"
      ]
     },
     "execution_count": 29,
     "metadata": {},
     "output_type": "execute_result"
    }
   ],
   "source": [
    "# 성별에 따른 생존자 수 분포 : groupby 로 묶어서 보기\n",
    "titanic_df.groupby(['Sex','Survived'])['Survived'].count()"
   ]
  },
  {
   "cell_type": "markdown",
   "id": "e6dd3d7a",
   "metadata": {},
   "source": [
    "### 성별에 따른 생존자 수 분포 막대그래프 시각화"
   ]
  },
  {
   "cell_type": "code",
   "execution_count": 30,
   "id": "64571122",
   "metadata": {
    "ExecuteTime": {
     "end_time": "2021-07-22T07:36:17.991180Z",
     "start_time": "2021-07-22T07:36:17.763796Z"
    }
   },
   "outputs": [
    {
     "data": {
      "text/plain": [
       "<AxesSubplot:xlabel='Sex', ylabel='Survived'>"
      ]
     },
     "execution_count": 30,
     "metadata": {},
     "output_type": "execute_result"
    },
    {
     "data": {
      "image/png": "[encoded data removed]",
      "text/plain": [
       "<Figure size 432x288 with 1 Axes>"
      ]
     },
     "metadata": {
      "needs_background": "light"
     },
     "output_type": "display_data"
    }
   ],
   "source": [
    "sns.barplot(x='Sex',y='Survived',data = titanic_df)"
   ]
  },
  {
   "cell_type": "markdown",
   "id": "d551691a",
   "metadata": {},
   "source": [
    "### 부자와 가난한 사람 간의 생존 확률\n",
    "\n",
    "- 부의 측정 기준 : 객실등급\n",
    "- 객실 등급별 성별에 따른 생존확률"
   ]
  },
  {
   "cell_type": "code",
   "execution_count": 34,
   "id": "a8a3b464",
   "metadata": {
    "ExecuteTime": {
     "end_time": "2021-07-22T08:04:02.710714Z",
     "start_time": "2021-07-22T08:04:02.441422Z"
    }
   },
   "outputs": [
    {
     "data": {
      "text/plain": [
       "<AxesSubplot:xlabel='Pclass', ylabel='Survived'>"
      ]
     },
     "execution_count": 34,
     "metadata": {},
     "output_type": "execute_result"
    },
    {
     "data": {
      "image/png": "[encoded data removed]",
      "text/plain": [
       "<Figure size 432x288 with 1 Axes>"
      ]
     },
     "metadata": {
      "needs_background": "light"
     },
     "output_type": "display_data"
    }
   ],
   "source": [
    "sns.barplot(x='Pclass', y='Survived', hue='Sex', data=titanic_df)"
   ]
  },
  {
   "cell_type": "markdown",
   "id": "30f89e77",
   "metadata": {},
   "source": [
    "- 여성은 1,2등실에 대한 생존확률차가 크지 않으나 3등실의 경우 생존확률이 상대적으로 낮다\n",
    "- 남성의 경우 1등실의 생존활률이 이,삼등실보다 상대적으로 높다"
   ]
  },
  {
   "cell_type": "markdown",
   "id": "4ecf2e6c",
   "metadata": {},
   "source": [
    "### Age에 따른 생존확률  : 연령 -> 범주로 나누기"
   ]
  },
  {
   "cell_type": "code",
   "execution_count": 35,
   "id": "91bc076a",
   "metadata": {
    "ExecuteTime": {
     "end_time": "2021-07-22T08:06:21.187816Z",
     "start_time": "2021-07-22T08:06:20.648633Z"
    }
   },
   "outputs": [
    {
     "data": {
      "image/png": "[encoded data removed]",
      "text/plain": [
       "<Figure size 720x432 with 1 Axes>"
      ]
     },
     "metadata": {
      "needs_background": "light"
     },
     "output_type": "display_data"
    }
   ],
   "source": [
    "def get_category(age):\n",
    "    cat = ''\n",
    "    if age <= -1:cat = 'Unknown'\n",
    "    elif age <= 5:cat = 'Baby'\n",
    "    elif age <= 12:cat = 'Child'\n",
    "    elif age <= 18:cat = 'Teenager'\n",
    "    elif age <= 25:cat = 'Student'\n",
    "    elif age <= 35:cat = 'Yoeng Adult'\n",
    "    elif age <= 60:cat = 'Adult'\n",
    "    else : cat = 'Elderly'\n",
    "    return cat\n",
    "\n",
    "# 막대 그래프의 크기 figure 조정\n",
    "plt.figure(figsize=(10,6))\n",
    "\n",
    "# x축의 값을 순차적으로 표시\n",
    "group_names = ['Unknown','Baby','Child','Teenager','Student','Yoeng Adult','Adult','Elderly']\n",
    "\n",
    "#lambda 식으로 위에서 생성한 get_category 함수를 반환값 지정\n",
    "#get_category(x)는 입력값으로''Age' 칼럼 값을 받아서 해당cat 반환\n",
    "titanic_df['Age_cat'] = titanic_df['Age'].apply(lambda x:get_category(x))\n",
    "sns.barplot(x='Age_cat',y='Survived',hue='Sex',data=titanic_df,order=group_names)\n",
    "titanic_df.drop('Age_cat',axis=1,inplace=True)"
   ]
  },
  {
   "cell_type": "markdown",
   "id": "f1d3b4f5",
   "metadata": {},
   "source": [
    "## Encoding"
   ]
  },
  {
   "cell_type": "code",
   "execution_count": null,
   "id": "3a30708e",
   "metadata": {},
   "outputs": [],
   "source": []
  }
 ],
 "metadata": {
  "hide_input": false,
  "kernelspec": {
   "display_name": "Python 3",
   "language": "python",
   "name": "python3"
  },
  "language_info": {
   "codemirror_mode": {
    "name": "ipython",
    "version": 3
   },
   "file_extension": ".py",
   "mimetype": "text/x-python",
   "name": "python",
   "nbconvert_exporter": "python",
   "pygments_lexer": "ipython3",
   "version": "3.8.8"
  },
  "toc": {
   "base_numbering": 1,
   "nav_menu": {},
   "number_sections": true,
   "sideBar": true,
   "skip_h1_title": false,
   "title_cell": "Table of Contents",
   "title_sidebar": "Contents",
   "toc_cell": false,
   "toc_position": {},
   "toc_section_display": true,
   "toc_window_display": false
  },
  "varInspector": {
   "cols": {
    "lenName": 16,
    "lenType": 16,
    "lenVar": 40
   },
   "kernels_config": {
    "python": {
     "delete_cmd_postfix": "",
     "delete_cmd_prefix": "del ",
     "library": "var_list.py",
     "varRefreshCmd": "print(var_dic_list())"
    },
    "r": {
     "delete_cmd_postfix": ") ",
     "delete_cmd_prefix": "rm(",
     "library": "var_list.r",
     "varRefreshCmd": "cat(var_dic_list()) "
    }
   },
   "types_to_exclude": [
    "module",
    "function",
    "builtin_function_or_method",
    "instance",
    "_Feature"
   ],
   "window_display": false
  }
 },
 "nbformat": 4,
 "nbformat_minor": 5
}
