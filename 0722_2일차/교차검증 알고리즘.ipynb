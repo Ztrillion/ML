{
 "cells": [
  {
   "cell_type": "markdown",
   "id": "edabbb94",
   "metadata": {},
   "source": [
    "## 교차검증(Cross Validation,CV)\n",
    "\n",
    "- 모델에 적절한 HyperParameter를 찾기 위해\n",
    "- 과적합(Overfitting)예방 : 모델이 train 데이터에만 과도하게 최적화되어, \n",
    "  실제예측을 다른 데이터로 수행할 경우 예측성능이 과도하게 떨어지는 것\n",
    "\n",
    "### KFold 교차검증 :  K개의 데이터 폴드 세트 생성 후 K번 만큼 학습과 검증평가를 반복 수행\n",
    "\n",
    "1) KFold클래스 : 폴드 세트로 분리하는 객체 생성\n",
    "    - kfold = KFold(n_splits=5)\n",
    "    \n",
    "2) split()메소드 : 폴드 데이터 세트로 분리\n",
    "    - kfold.split(features)\n",
    "    - 각 폴드마다 학습, 검증용 데이터로 분할할 수 있는 인덱스 반환\n",
    "    - 학습,검증용 데이터 추출은 인덱스를 기반으로 개발코드에서 직접 수행"
   ]
  },
  {
   "cell_type": "code",
   "execution_count": 10,
   "id": "185900a4",
   "metadata": {
    "ExecuteTime": {
     "end_time": "2021-07-23T14:48:00.270120Z",
     "start_time": "2021-07-23T14:48:00.253166Z"
    }
   },
   "outputs": [
    {
     "name": "stdout",
     "output_type": "stream",
     "text": [
      "붓꽃 데이터 세트 크기 : (150, 4)\n"
     ]
    }
   ],
   "source": [
    "from sklearn.datasets import load_iris\n",
    "from sklearn.tree import DecisionTreeClassifier\n",
    "from sklearn.metrics import accuracy_score\n",
    "from sklearn.model_selection import KFold\n",
    "import numpy as np\n",
    "\n",
    "iris = load_iris()\n",
    "features = iris.data\n",
    "label = iris.target\n",
    "\n",
    "# DecisionTreeClassfier 객체 생성\n",
    "dt_clf = DecisionTreeClassifier(random_state=156)\n",
    "# 5개의 폴드 세트로 분리\n",
    "kfold = KFold(n_splits=5)\n",
    "# 폴드 세트별 정확도 담을 리스트 생성\n",
    "cv_accuracy = []\n",
    "\n",
    "print('붓꽃 데이터 세트 크기 :', features.shape)\n",
    "n_iter=0\n"
   ]
  },
  {
   "cell_type": "code",
   "execution_count": null,
   "id": "00c99a60",
   "metadata": {},
   "outputs": [],
   "source": []
  }
 ],
 "metadata": {
  "hide_input": false,
  "kernelspec": {
   "display_name": "Python 3",
   "language": "python",
   "name": "python3"
  },
  "language_info": {
   "codemirror_mode": {
    "name": "ipython",
    "version": 3
   },
   "file_extension": ".py",
   "mimetype": "text/x-python",
   "name": "python",
   "nbconvert_exporter": "python",
   "pygments_lexer": "ipython3",
   "version": "3.8.8"
  },
  "toc": {
   "base_numbering": 1,
   "nav_menu": {},
   "number_sections": true,
   "sideBar": true,
   "skip_h1_title": false,
   "title_cell": "Table of Contents",
   "title_sidebar": "Contents",
   "toc_cell": false,
   "toc_position": {},
   "toc_section_display": true,
   "toc_window_display": false
  },
  "varInspector": {
   "cols": {
    "lenName": 16,
    "lenType": 16,
    "lenVar": 40
   },
   "kernels_config": {
    "python": {
     "delete_cmd_postfix": "",
     "delete_cmd_prefix": "del ",
     "library": "var_list.py",
     "varRefreshCmd": "print(var_dic_list())"
    },
    "r": {
     "delete_cmd_postfix": ") ",
     "delete_cmd_prefix": "rm(",
     "library": "var_list.r",
     "varRefreshCmd": "cat(var_dic_list()) "
    }
   },
   "types_to_exclude": [
    "module",
    "function",
    "builtin_function_or_method",
    "instance",
    "_Feature"
   ],
   "window_display": false
  }
 },
 "nbformat": 4,
 "nbformat_minor": 5
}
