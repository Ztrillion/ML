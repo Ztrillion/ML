{
 "cells": [
  {
   "cell_type": "markdown",
   "id": "edabbb94",
   "metadata": {},
   "source": [
    "# 교차검증(Cross Validation,CV)\n",
    "\n",
    "- 모델에 적절한 HyperParameter를 찾기 위해\n",
    "- 과적합(Overfitting)예방 : 모델이 train 데이터에만 과도하게 최적화되어, \n",
    "  실제예측을 다른 데이터로 수행할 경우 예측성능이 과도하게 떨어지는 것\n",
    "\n",
    "## KFold 교차검증 :  K개의 데이터 폴드 세트 생성 후 K번 만큼 학습과 검증평가를 반복 수행\n",
    "\n",
    "1) KFold클래스 : 폴드 세트로 분리하는 객체 생성\n",
    "    - kfold = KFold(n_splits=5)\n",
    "    \n",
    "2) split()메소드 : 폴드 데이터 세트로 분리\n",
    "    - kfold.split(features)\n",
    "    - 각 폴드마다 학습, 검증용 데이터로 분할할 수 있는 인덱스 반환\n",
    "    - 학습,검증용 데이터 추출은 인덱스를 기반으로 개발코드에서 직접 수행\n",
    "    \n",
    "###  교차검증 과정\n",
    "\n",
    "1) 폴드 세트 설정\n",
    "2) for 반복문으로 학습 및 데이터 인덱스 추출\n",
    "3) 반복적으로 학습과 예측 수행, 예측성능 평가"
   ]
  },
  {
   "cell_type": "code",
   "execution_count": 1,
   "id": "185900a4",
   "metadata": {
    "ExecuteTime": {
     "end_time": "2021-07-24T12:12:28.508473Z",
     "start_time": "2021-07-24T12:12:27.484460Z"
    }
   },
   "outputs": [
    {
     "name": "stdout",
     "output_type": "stream",
     "text": [
      "붓꽃 데이터 세트 크기 : (150, 4)\n"
     ]
    }
   ],
   "source": [
    "from sklearn.datasets import load_iris\n",
    "from sklearn.tree import DecisionTreeClassifier\n",
    "from sklearn.metrics import accuracy_score\n",
    "from sklearn.model_selection import KFold\n",
    "import numpy as np\n",
    "\n",
    "iris = load_iris()\n",
    "features = iris.data\n",
    "label = iris.target\n",
    "\n",
    "# DecisionTreeClassfier 객체 생성\n",
    "dt_clf = DecisionTreeClassifier(random_state=156)\n",
    "# 5개의 폴드 세트로 분리\n",
    "kfold = KFold(n_splits=5)\n",
    "# 폴드 세트별 정확도 담을 리스트 생성\n",
    "cv_accuracy = []\n",
    "\n",
    "print('붓꽃 데이터 세트 크기 :', features.shape)\n"
   ]
  },
  {
   "cell_type": "markdown",
   "id": "f396efc9",
   "metadata": {},
   "source": [
    "KFold 객체의 split()을 호출해 교차검증 수행시마다 학습,검증을 반복해 예측 정확도 측정\n",
    "- split이 실제 반환하는 값 확인을 위해 검증데이터 세트의 인덱스 추출"
   ]
  },
  {
   "cell_type": "code",
   "execution_count": 2,
   "id": "1cd9a91f",
   "metadata": {
    "ExecuteTime": {
     "end_time": "2021-07-24T12:12:29.639419Z",
     "start_time": "2021-07-24T12:12:29.620456Z"
    }
   },
   "outputs": [
    {
     "name": "stdout",
     "output_type": "stream",
     "text": [
      "\n",
      " # 1 교차검증 정확도:1.0, 학습 데이터 크기 :120, 검증 데이터 크기:30\n",
      "# 1 검증 세트 인덱스 :[ 0  1  2  3  4  5  6  7  8  9 10 11 12 13 14 15 16 17 18 19 20 21 22 23\n",
      " 24 25 26 27 28 29]\n",
      "\n",
      " # 2 교차검증 정확도:0.9667, 학습 데이터 크기 :120, 검증 데이터 크기:30\n",
      "# 2 검증 세트 인덱스 :[30 31 32 33 34 35 36 37 38 39 40 41 42 43 44 45 46 47 48 49 50 51 52 53\n",
      " 54 55 56 57 58 59]\n",
      "\n",
      " # 3 교차검증 정확도:0.8667, 학습 데이터 크기 :120, 검증 데이터 크기:30\n",
      "# 3 검증 세트 인덱스 :[60 61 62 63 64 65 66 67 68 69 70 71 72 73 74 75 76 77 78 79 80 81 82 83\n",
      " 84 85 86 87 88 89]\n",
      "\n",
      " # 4 교차검증 정확도:0.9333, 학습 데이터 크기 :120, 검증 데이터 크기:30\n",
      "# 4 검증 세트 인덱스 :[ 90  91  92  93  94  95  96  97  98  99 100 101 102 103 104 105 106 107\n",
      " 108 109 110 111 112 113 114 115 116 117 118 119]\n",
      "\n",
      " # 5 교차검증 정확도:0.7333, 학습 데이터 크기 :120, 검증 데이터 크기:30\n",
      "# 5 검증 세트 인덱스 :[120 121 122 123 124 125 126 127 128 129 130 131 132 133 134 135 136 137\n",
      " 138 139 140 141 142 143 144 145 146 147 148 149]\n",
      "\n",
      " ## 평균 검증 정확도: 0.9\n"
     ]
    }
   ],
   "source": [
    "n_iter=0\n",
    "\n",
    "# KFold 객체의 split()을 호출하면 폴드별 학습, 검증용 테스트의 로우인덱스 array로 반환\n",
    "\n",
    "for train_index, test_index in kfold.split(features):\n",
    "    # kfold.split()으로 반환된 인덱스를 이용해 학습, 검증용 테스트 데이터 추출\n",
    "    X_train, X_test = features[train_index], features[test_index]\n",
    "    y_train, y_test = label[train_index], label[test_index]\n",
    "    # 학습 \n",
    "    dt_clf.fit(X_train,y_train)\n",
    "    #예측\n",
    "    pred = dt_clf.predict(X_test)\n",
    "    n_iter += 1\n",
    "    \n",
    "    #반복 시마다 정확도 측정\n",
    "    accuracy = np.round(accuracy_score(y_test,pred),4)\n",
    "    train_size = X_train.shape[0]\n",
    "    test_size = X_test.shape[0]\n",
    "    \n",
    "    print('\\n # {0} 교차검증 정확도:{1}, 학습 데이터 크기 :{2}, 검증 데이터 크기:{3}'.format(n_iter,accuracy,train_size,test_size))\n",
    "    print('# {0} 검증 세트 인덱스 :{1}'.format(n_iter,test_index))\n",
    "    cv_accuracy.append(accuracy)\n",
    "    \n",
    "print('\\n ## 평균 검증 정확도:',np.mean(cv_accuracy))"
   ]
  },
  {
   "cell_type": "markdown",
   "id": "79464950",
   "metadata": {},
   "source": [
    "## Stratified K 폴드 \n",
    "\n",
    "- 불균형한 분포도를 가진 레이블 데이터 집합을 위한 K폴드 방식\n",
    "    \n",
    "    - 불균형한 레이블 집합 : 특정 레이블 값이 특이하게 많거나 적어 값이 한쪽으로 치우치는 것"
   ]
  },
  {
   "cell_type": "markdown",
   "id": "42dd96de",
   "metadata": {},
   "source": [
    "1 먼저 kfold를 활용해 레이블 분포 확인"
   ]
  },
  {
   "cell_type": "code",
   "execution_count": 3,
   "id": "880a2d20",
   "metadata": {
    "ExecuteTime": {
     "end_time": "2021-07-24T12:12:31.430983Z",
     "start_time": "2021-07-24T12:12:31.123464Z"
    }
   },
   "outputs": [
    {
     "data": {
      "text/plain": [
       "0    50\n",
       "1    50\n",
       "2    50\n",
       "Name: label, dtype: int64"
      ]
     },
     "execution_count": 3,
     "metadata": {},
     "output_type": "execute_result"
    }
   ],
   "source": [
    "import pandas as pd\n",
    "iris = load_iris()\n",
    "iris_df = pd.DataFrame(data=iris.data, columns = iris.feature_names)\n",
    "iris_df['label'] = iris.target\n",
    "iris_df['label'].value_counts()"
   ]
  },
  {
   "cell_type": "code",
   "execution_count": 4,
   "id": "adf459d1",
   "metadata": {
    "ExecuteTime": {
     "end_time": "2021-07-24T12:12:31.747079Z",
     "start_time": "2021-07-24T12:12:31.732881Z"
    }
   },
   "outputs": [
    {
     "name": "stdout",
     "output_type": "stream",
     "text": [
      "## 교차검증 :  1\n",
      "학습 레이블 분포 :\n",
      " 1    50\n",
      "2    50\n",
      "Name: label, dtype: int64\n",
      "검증 레이블 분포 : 0    50\n",
      "Name: label, dtype: int64\n",
      "## 교차검증 :  2\n",
      "학습 레이블 분포 :\n",
      " 0    50\n",
      "2    50\n",
      "Name: label, dtype: int64\n",
      "검증 레이블 분포 : 1    50\n",
      "Name: label, dtype: int64\n",
      "## 교차검증 :  3\n",
      "학습 레이블 분포 :\n",
      " 0    50\n",
      "1    50\n",
      "Name: label, dtype: int64\n",
      "검증 레이블 분포 : 2    50\n",
      "Name: label, dtype: int64\n"
     ]
    }
   ],
   "source": [
    "kfold = KFold(n_splits=3)\n",
    "n_iter = 0\n",
    "\n",
    "for train_index, test_index in kfold.split(iris_df):\n",
    "    n_iter += 1\n",
    "    label_train = iris_df['label'].iloc[train_index]\n",
    "    label_test = iris_df['label'].iloc[test_index]\n",
    "    print('## 교차검증 : ',n_iter)\n",
    "    print('학습 레이블 분포 :\\n',label_train.value_counts())\n",
    "    print('검증 레이블 분포 :',label_test.value_counts())"
   ]
  },
  {
   "cell_type": "code",
   "execution_count": 5,
   "id": "810af9e0",
   "metadata": {
    "ExecuteTime": {
     "end_time": "2021-07-24T12:12:32.454378Z",
     "start_time": "2021-07-24T12:12:32.436452Z"
    }
   },
   "outputs": [
    {
     "name": "stdout",
     "output_type": "stream",
     "text": [
      "## 교차검증 :1\n",
      "학습 데이터 분포 : 2    34\n",
      "0    33\n",
      "1    33\n",
      "Name: label, dtype: int64\n",
      "검증데이터 분포 : 0    17\n",
      "1    17\n",
      "2    16\n",
      "Name: label, dtype: int64\n",
      "## 교차검증 :2\n",
      "학습 데이터 분포 : 1    34\n",
      "0    33\n",
      "2    33\n",
      "Name: label, dtype: int64\n",
      "검증데이터 분포 : 0    17\n",
      "2    17\n",
      "1    16\n",
      "Name: label, dtype: int64\n",
      "## 교차검증 :3\n",
      "학습 데이터 분포 : 0    34\n",
      "1    33\n",
      "2    33\n",
      "Name: label, dtype: int64\n",
      "검증데이터 분포 : 1    17\n",
      "2    17\n",
      "0    16\n",
      "Name: label, dtype: int64\n"
     ]
    }
   ],
   "source": [
    "from sklearn.model_selection import StratifiedKFold\n",
    "\n",
    "skf = StratifiedKFold(n_splits=3)\n",
    "n_iter=0\n",
    "\n",
    "for train_index, test_index in skf.split(iris_df,iris_df['label']):\n",
    "    n_iter += 1\n",
    "    label_train = iris_df['label'].iloc[train_index]\n",
    "    label_test = iris_df['label'].iloc[test_index]\n",
    "    print('## 교차검증 :{0}'.format(n_iter))\n",
    "    print('학습 데이터 분포 :',label_train.value_counts())\n",
    "    print('검증데이터 분포 :',label_test.value_counts())\n"
   ]
  },
  {
   "cell_type": "markdown",
   "id": "c6b3ca13",
   "metadata": {},
   "source": [
    "kfold는 학습레이블 이외 검증레이블은 전혀 학습을 하지 못함.\n",
    "- StratifiedKFold는 이렇게 분할된 레이블 데이터세트가 전체 레이블 값의 \n",
    "  분포도를 반영하지 못하는 문제를 해결"
   ]
  },
  {
   "cell_type": "code",
   "execution_count": 6,
   "id": "261945bb",
   "metadata": {
    "ExecuteTime": {
     "end_time": "2021-07-24T12:12:33.406462Z",
     "start_time": "2021-07-24T12:12:33.387454Z"
    }
   },
   "outputs": [
    {
     "name": "stdout",
     "output_type": "stream",
     "text": [
      "\n",
      " ## 1교차검증 정확도:0.98, 학습용데이터 크기:100, 검증 데이터 크기:50\n",
      "\n",
      " ## 2교차검증 정확도:0.94, 학습용데이터 크기:100, 검증 데이터 크기:50\n",
      "\n",
      " ## 3교차검증 정확도:0.98, 학습용데이터 크기:100, 검증 데이터 크기:50\n",
      "\n",
      "##교차검증별 정확도 : [0.98 0.94 0.98]\n",
      "##평균 정확도 :  0.9666666666666667\n"
     ]
    }
   ],
   "source": [
    "\n",
    "dt_clf = DecisionTreeClassifier(random_state=156)\n",
    "\n",
    "skf = StratifiedKFold(n_splits=3)\n",
    "n_iter = 0\n",
    "cv_accuracy=[]\n",
    "\n",
    "#Stratifiedkfold 의 split() 호출시 반드시 레이블 데이터 세트도 추가\n",
    "for train_index, test_index in skf.split(features,label):\n",
    "    \n",
    "    # 학습용, 검증용 테스트 데이터 추출\n",
    "    X_train, X_test = features[train_index],features[test_index]\n",
    "    y_train, y_test = label[train_index], label[test_index]\n",
    "    \n",
    "    #학습 및 예측\n",
    "    dt_clf.fit(X_train,y_train)\n",
    "    pred = dt_clf.predict(X_test)\n",
    "    \n",
    "    # 반복 시 마다 정확도 측정\n",
    "    n_iter += 1\n",
    "    accuracy = np.round(accuracy_score(y_test,pred),4)\n",
    "    train_size = X_train.shape[0]\n",
    "    test_size = X_test.shape[0]\n",
    "    \n",
    " \n",
    "    print('\\n ## {0}교차검증 정확도:{1}, 학습용데이터 크기:{2}, 검증 데이터 크기:{3}'.format(n_iter,accuracy,train_size,test_size))\n",
    "\n",
    "    # 교차 \n",
    "    cv_accuracy.append(accuracy)\n",
    "print('\\n##교차검증별 정확도 :',np.round(cv_accuracy,4))\n",
    "print('##평균 정확도 : ',np.mean(cv_accuracy))\n",
    "    "
   ]
  },
  {
   "cell_type": "markdown",
   "id": "a9331bd1",
   "metadata": {},
   "source": [
    "## cross_val_score() 함수로 교차검증을 간편하게\n",
    "\n",
    "- 폴드 세트 설정, for 반복문, 폴드 세트별 예측 성능 평균으로 최종 성능 평가까지\n",
    "  한번에 수행\n",
    "  \n",
    "- 내부 Estimator를 학습:fit, 예측:predict, 평가:evaluation 시켜줌"
   ]
  },
  {
   "cell_type": "code",
   "execution_count": 7,
   "id": "132ad4e3",
   "metadata": {
    "ExecuteTime": {
     "end_time": "2021-07-24T12:12:34.431937Z",
     "start_time": "2021-07-24T12:12:34.410966Z"
    }
   },
   "outputs": [
    {
     "name": "stdout",
     "output_type": "stream",
     "text": [
      "교차 검증별 정확도: [0.98 0.94 0.98]\n",
      "평균 검증 정확도:  0.9667\n"
     ]
    }
   ],
   "source": [
    "from sklearn.tree import DecisionTreeClassifier\n",
    "from sklearn.model_selection import cross_val_score, cross_validate\n",
    "from sklearn.datasets import load_iris\n",
    "\n",
    "iris = load_iris()\n",
    "dt_clf = DecisionTreeClassifier(random_state=156)\n",
    "\n",
    "feature = iris.data\n",
    "target = iris.target\n",
    "\n",
    "# 성능 지표는 정확도accuracy, 교차검증 세트는 3개\n",
    "\n",
    "scores = cross_val_score(dt_clf,feature,target,scoring='accuracy', cv=3)\n",
    "print('교차 검증별 정확도:',np.round(scores,4))\n",
    "print('평균 검증 정확도: ',np.round(np.mean(scores),4))\n"
   ]
  },
  {
   "cell_type": "markdown",
   "id": "328949ec",
   "metadata": {},
   "source": [
    "## GridSearchCV 교차 검증과 최적 하이퍼 파라미터 튜닝을 한번에\n",
    "\n",
    "- Grid는 격자라는 의미 : 촘촘하게 파라미터를 입력하면서 테스트 하는 방식\n",
    "- 파라미터의 집합을 만들고 순차적으로 적용해 최적화 수행\n",
    "    - 순차적으로 최고성능을 가지는 파라미터를 찾을 때 활용\n",
    "    \n",
    "         -GridSearchCV 클래스 생성자의 주요 파라미터\n",
    "          - Estimator : classfier, regressor, pipeline\n",
    "          - param_grid : key + 리스트 값을 가지는 딕셔너리가 주어짐\n",
    "          - scoring : 예측 성능 평가 방법 지정\n",
    "          - cv : 교차 검증을 위해 분할할 학습, 테스트 세트 개수지정\n",
    "          - refit : 디폴트가 True이며 True로 생성시 가장 최적의 하이퍼 파라미터 찾은 뒤 \n",
    "                    입력된 estimator 객체를 해당 하이퍼 파라미터로 재학습\n",
    "                    \n",
    "                    \n",
    " - GridSearchCV  fit(train데이터) 학습\n",
    " - cv에 기술된 폴딩으로 분할\n",
    " - param_grid에 기술된 하이퍼 파라미터를 순차적으로 학습, 수행\n",
    " - 결과를 cv_results 에 기록"
   ]
  },
  {
   "cell_type": "code",
   "execution_count": 22,
   "id": "5611b46d",
   "metadata": {
    "ExecuteTime": {
     "end_time": "2021-07-24T12:17:37.100909Z",
     "start_time": "2021-07-24T12:17:37.081960Z"
    }
   },
   "outputs": [],
   "source": [
    "from sklearn.datasets import load_iris\n",
    "from sklearn.tree import DecisionTreeClassifier\n",
    "from sklearn.model_selection import GridSearchCV, train_test_split\n",
    "from sklearn.metrics import accuracy_score\n",
    "import pandas as pd\n",
    "\n",
    "#데이터 로딩 후 학습데이터, 테스트데이터 분리\n",
    "\n",
    "iris = load_iris()\n",
    "X_train,X_test,y_train,y_test = train_test_split(iris.data, iris.target, test_size=0.2, random_state=121)\n",
    "\n",
    "dt_clf = DecisionTreeClassifier()\n",
    "\n",
    "##파라미터를 딕셔너리 형태로 설정\n",
    "\n",
    "parameters = {'max_depth': [1, 2, 3], 'min_samples_split':[2, 3]}"
   ]
  },
  {
   "cell_type": "code",
   "execution_count": 25,
   "id": "9daff4d3",
   "metadata": {
    "ExecuteTime": {
     "end_time": "2021-07-24T12:17:58.186346Z",
     "start_time": "2021-07-24T12:17:58.139391Z"
    }
   },
   "outputs": [
    {
     "data": {
      "text/html": [
       "<div>\n",
       "<style scoped>\n",
       "    .dataframe tbody tr th:only-of-type {\n",
       "        vertical-align: middle;\n",
       "    }\n",
       "\n",
       "    .dataframe tbody tr th {\n",
       "        vertical-align: top;\n",
       "    }\n",
       "\n",
       "    .dataframe thead th {\n",
       "        text-align: right;\n",
       "    }\n",
       "</style>\n",
       "<table border=\"1\" class=\"dataframe\">\n",
       "  <thead>\n",
       "    <tr style=\"text-align: right;\">\n",
       "      <th></th>\n",
       "      <th>mean_fit_time</th>\n",
       "      <th>std_fit_time</th>\n",
       "      <th>mean_score_time</th>\n",
       "      <th>std_score_time</th>\n",
       "      <th>param_max_depth</th>\n",
       "      <th>param_min_samples_split</th>\n",
       "      <th>params</th>\n",
       "      <th>split0_test_score</th>\n",
       "      <th>split1_test_score</th>\n",
       "      <th>split2_test_score</th>\n",
       "      <th>mean_test_score</th>\n",
       "      <th>std_test_score</th>\n",
       "      <th>rank_test_score</th>\n",
       "      <th>split0_train_score</th>\n",
       "      <th>split1_train_score</th>\n",
       "      <th>split2_train_score</th>\n",
       "      <th>mean_train_score</th>\n",
       "      <th>std_train_score</th>\n",
       "    </tr>\n",
       "  </thead>\n",
       "  <tbody>\n",
       "    <tr>\n",
       "      <th>0</th>\n",
       "      <td>0.000665</td>\n",
       "      <td>4.701341e-04</td>\n",
       "      <td>0.000333</td>\n",
       "      <td>0.000471</td>\n",
       "      <td>1</td>\n",
       "      <td>2</td>\n",
       "      <td>{'max_depth': 1, 'min_samples_split': 2}</td>\n",
       "      <td>0.700</td>\n",
       "      <td>0.7</td>\n",
       "      <td>0.70</td>\n",
       "      <td>0.700000</td>\n",
       "      <td>1.110223e-16</td>\n",
       "      <td>5</td>\n",
       "      <td>0.7000</td>\n",
       "      <td>0.7000</td>\n",
       "      <td>0.7000</td>\n",
       "      <td>0.700000</td>\n",
       "      <td>1.110223e-16</td>\n",
       "    </tr>\n",
       "    <tr>\n",
       "      <th>1</th>\n",
       "      <td>0.000997</td>\n",
       "      <td>3.371748e-07</td>\n",
       "      <td>0.000000</td>\n",
       "      <td>0.000000</td>\n",
       "      <td>1</td>\n",
       "      <td>3</td>\n",
       "      <td>{'max_depth': 1, 'min_samples_split': 3}</td>\n",
       "      <td>0.700</td>\n",
       "      <td>0.7</td>\n",
       "      <td>0.70</td>\n",
       "      <td>0.700000</td>\n",
       "      <td>1.110223e-16</td>\n",
       "      <td>5</td>\n",
       "      <td>0.7000</td>\n",
       "      <td>0.7000</td>\n",
       "      <td>0.7000</td>\n",
       "      <td>0.700000</td>\n",
       "      <td>1.110223e-16</td>\n",
       "    </tr>\n",
       "    <tr>\n",
       "      <th>2</th>\n",
       "      <td>0.000665</td>\n",
       "      <td>4.700779e-04</td>\n",
       "      <td>0.000000</td>\n",
       "      <td>0.000000</td>\n",
       "      <td>2</td>\n",
       "      <td>2</td>\n",
       "      <td>{'max_depth': 2, 'min_samples_split': 2}</td>\n",
       "      <td>0.925</td>\n",
       "      <td>1.0</td>\n",
       "      <td>0.95</td>\n",
       "      <td>0.958333</td>\n",
       "      <td>3.118048e-02</td>\n",
       "      <td>3</td>\n",
       "      <td>0.9750</td>\n",
       "      <td>0.9375</td>\n",
       "      <td>0.9625</td>\n",
       "      <td>0.958333</td>\n",
       "      <td>1.559024e-02</td>\n",
       "    </tr>\n",
       "    <tr>\n",
       "      <th>3</th>\n",
       "      <td>0.000664</td>\n",
       "      <td>4.702758e-04</td>\n",
       "      <td>0.000333</td>\n",
       "      <td>0.000471</td>\n",
       "      <td>2</td>\n",
       "      <td>3</td>\n",
       "      <td>{'max_depth': 2, 'min_samples_split': 3}</td>\n",
       "      <td>0.925</td>\n",
       "      <td>1.0</td>\n",
       "      <td>0.95</td>\n",
       "      <td>0.958333</td>\n",
       "      <td>3.118048e-02</td>\n",
       "      <td>3</td>\n",
       "      <td>0.9750</td>\n",
       "      <td>0.9375</td>\n",
       "      <td>0.9625</td>\n",
       "      <td>0.958333</td>\n",
       "      <td>1.559024e-02</td>\n",
       "    </tr>\n",
       "    <tr>\n",
       "      <th>4</th>\n",
       "      <td>0.001006</td>\n",
       "      <td>1.362722e-05</td>\n",
       "      <td>0.000000</td>\n",
       "      <td>0.000000</td>\n",
       "      <td>3</td>\n",
       "      <td>2</td>\n",
       "      <td>{'max_depth': 3, 'min_samples_split': 2}</td>\n",
       "      <td>0.975</td>\n",
       "      <td>1.0</td>\n",
       "      <td>0.95</td>\n",
       "      <td>0.975000</td>\n",
       "      <td>2.041241e-02</td>\n",
       "      <td>1</td>\n",
       "      <td>0.9875</td>\n",
       "      <td>0.9625</td>\n",
       "      <td>0.9875</td>\n",
       "      <td>0.979167</td>\n",
       "      <td>1.178511e-02</td>\n",
       "    </tr>\n",
       "    <tr>\n",
       "      <th>5</th>\n",
       "      <td>0.000998</td>\n",
       "      <td>9.199649e-07</td>\n",
       "      <td>0.000000</td>\n",
       "      <td>0.000000</td>\n",
       "      <td>3</td>\n",
       "      <td>3</td>\n",
       "      <td>{'max_depth': 3, 'min_samples_split': 3}</td>\n",
       "      <td>0.975</td>\n",
       "      <td>1.0</td>\n",
       "      <td>0.95</td>\n",
       "      <td>0.975000</td>\n",
       "      <td>2.041241e-02</td>\n",
       "      <td>1</td>\n",
       "      <td>0.9875</td>\n",
       "      <td>0.9625</td>\n",
       "      <td>0.9875</td>\n",
       "      <td>0.979167</td>\n",
       "      <td>1.178511e-02</td>\n",
       "    </tr>\n",
       "  </tbody>\n",
       "</table>\n",
       "</div>"
      ],
      "text/plain": [
       "   mean_fit_time  std_fit_time  mean_score_time  std_score_time  \\\n",
       "0       0.000665  4.701341e-04         0.000333        0.000471   \n",
       "1       0.000997  3.371748e-07         0.000000        0.000000   \n",
       "2       0.000665  4.700779e-04         0.000000        0.000000   \n",
       "3       0.000664  4.702758e-04         0.000333        0.000471   \n",
       "4       0.001006  1.362722e-05         0.000000        0.000000   \n",
       "5       0.000998  9.199649e-07         0.000000        0.000000   \n",
       "\n",
       "  param_max_depth param_min_samples_split  \\\n",
       "0               1                       2   \n",
       "1               1                       3   \n",
       "2               2                       2   \n",
       "3               2                       3   \n",
       "4               3                       2   \n",
       "5               3                       3   \n",
       "\n",
       "                                     params  split0_test_score  \\\n",
       "0  {'max_depth': 1, 'min_samples_split': 2}              0.700   \n",
       "1  {'max_depth': 1, 'min_samples_split': 3}              0.700   \n",
       "2  {'max_depth': 2, 'min_samples_split': 2}              0.925   \n",
       "3  {'max_depth': 2, 'min_samples_split': 3}              0.925   \n",
       "4  {'max_depth': 3, 'min_samples_split': 2}              0.975   \n",
       "5  {'max_depth': 3, 'min_samples_split': 3}              0.975   \n",
       "\n",
       "   split1_test_score  split2_test_score  mean_test_score  std_test_score  \\\n",
       "0                0.7               0.70         0.700000    1.110223e-16   \n",
       "1                0.7               0.70         0.700000    1.110223e-16   \n",
       "2                1.0               0.95         0.958333    3.118048e-02   \n",
       "3                1.0               0.95         0.958333    3.118048e-02   \n",
       "4                1.0               0.95         0.975000    2.041241e-02   \n",
       "5                1.0               0.95         0.975000    2.041241e-02   \n",
       "\n",
       "   rank_test_score  split0_train_score  split1_train_score  \\\n",
       "0                5              0.7000              0.7000   \n",
       "1                5              0.7000              0.7000   \n",
       "2                3              0.9750              0.9375   \n",
       "3                3              0.9750              0.9375   \n",
       "4                1              0.9875              0.9625   \n",
       "5                1              0.9875              0.9625   \n",
       "\n",
       "   split2_train_score  mean_train_score  std_train_score  \n",
       "0              0.7000          0.700000     1.110223e-16  \n",
       "1              0.7000          0.700000     1.110223e-16  \n",
       "2              0.9625          0.958333     1.559024e-02  \n",
       "3              0.9625          0.958333     1.559024e-02  \n",
       "4              0.9875          0.979167     1.178511e-02  \n",
       "5              0.9875          0.979167     1.178511e-02  "
      ]
     },
     "execution_count": 25,
     "metadata": {},
     "output_type": "execute_result"
    }
   ],
   "source": [
    "## 하이퍼 파라미터를 3개의 train, test set fold 로 나누어 테스트 수행설정\n",
    "## refit=True가 default, True 면 가장 좋은 파라미터 설정으로 재학습\n",
    "\n",
    "grid_tree = GridSearchCV(dt_clf, param_grid=parameters, cv=3, refit=True, return_train_score=True)\n",
    "\n",
    "#붓꽃 학습 데이터로 param_grid 하이퍼 파라미터 순차적으로 학습/평가\n",
    "grid_tree.fit(X_train, y_train)\n",
    "\n",
    "# GridSearchCV 결과를 추출해 DataFrame 으로 변환\n",
    "scores_df = pd.DataFrame(grid_tree.cv_results_)\n",
    "scores_df\n"
   ]
  },
  {
   "cell_type": "code",
   "execution_count": 28,
   "id": "4756c9a7",
   "metadata": {
    "ExecuteTime": {
     "end_time": "2021-07-24T12:21:52.900157Z",
     "start_time": "2021-07-24T12:21:52.883224Z"
    }
   },
   "outputs": [
    {
     "name": "stdout",
     "output_type": "stream",
     "text": [
      "파라미터 확인: {'mean_fit_time': array([0.00066487, 0.0009973 , 0.00066479, 0.00066439, 0.00100581,\n",
      "       0.00099818]), 'std_fit_time': array([4.70134086e-04, 3.37174788e-07, 4.70077860e-04, 4.70275811e-04,\n",
      "       1.36272203e-05, 9.19964862e-07]), 'mean_score_time': array([0.00033299, 0.        , 0.        , 0.00033275, 0.        ,\n",
      "       0.        ]), 'std_score_time': array([0.00047092, 0.        , 0.        , 0.00047058, 0.        ,\n",
      "       0.        ]), 'param_max_depth': masked_array(data=[1, 1, 2, 2, 3, 3],\n",
      "             mask=[False, False, False, False, False, False],\n",
      "       fill_value='?',\n",
      "            dtype=object), 'param_min_samples_split': masked_array(data=[2, 3, 2, 3, 2, 3],\n",
      "             mask=[False, False, False, False, False, False],\n",
      "       fill_value='?',\n",
      "            dtype=object), 'params': [{'max_depth': 1, 'min_samples_split': 2}, {'max_depth': 1, 'min_samples_split': 3}, {'max_depth': 2, 'min_samples_split': 2}, {'max_depth': 2, 'min_samples_split': 3}, {'max_depth': 3, 'min_samples_split': 2}, {'max_depth': 3, 'min_samples_split': 3}], 'split0_test_score': array([0.7  , 0.7  , 0.925, 0.925, 0.975, 0.975]), 'split1_test_score': array([0.7, 0.7, 1. , 1. , 1. , 1. ]), 'split2_test_score': array([0.7 , 0.7 , 0.95, 0.95, 0.95, 0.95]), 'mean_test_score': array([0.7       , 0.7       , 0.95833333, 0.95833333, 0.975     ,\n",
      "       0.975     ]), 'std_test_score': array([1.11022302e-16, 1.11022302e-16, 3.11804782e-02, 3.11804782e-02,\n",
      "       2.04124145e-02, 2.04124145e-02]), 'rank_test_score': array([5, 5, 3, 3, 1, 1]), 'split0_train_score': array([0.7   , 0.7   , 0.975 , 0.975 , 0.9875, 0.9875]), 'split1_train_score': array([0.7   , 0.7   , 0.9375, 0.9375, 0.9625, 0.9625]), 'split2_train_score': array([0.7   , 0.7   , 0.9625, 0.9625, 0.9875, 0.9875]), 'mean_train_score': array([0.7       , 0.7       , 0.95833333, 0.95833333, 0.97916667,\n",
      "       0.97916667]), 'std_train_score': array([1.11022302e-16, 1.11022302e-16, 1.55902391e-02, 1.55902391e-02,\n",
      "       1.17851130e-02, 1.17851130e-02])}\n",
      "GridSearchCV 최적의 파라미터: {'max_depth': 3, 'min_samples_split': 2}\n",
      "GridSearchCV 최고 정확도: 0.975\n"
     ]
    }
   ],
   "source": [
    "print('파라미터 확인:',grid_tree.cv_results_)\n",
    "print('GridSearchCV 최적의 파라미터:',grid_tree.best_params_)\n",
    "print('GridSearchCV 최고 정확도:',grid_tree.best_score_)"
   ]
  },
  {
   "cell_type": "markdown",
   "id": "96cdf4da",
   "metadata": {},
   "source": [
    "refit=True : GridSearchCV가 최적 성능을 나타내는 하이퍼 파라미터로 Estimator를 학습해 best_estimator로 저장"
   ]
  },
  {
   "cell_type": "code",
   "execution_count": 29,
   "id": "3c3336c0",
   "metadata": {
    "ExecuteTime": {
     "end_time": "2021-07-24T12:26:53.532522Z",
     "start_time": "2021-07-24T12:26:53.522570Z"
    }
   },
   "outputs": [
    {
     "name": "stdout",
     "output_type": "stream",
     "text": [
      "테스트 데이터 세트 정확도 :  0.9667\n"
     ]
    }
   ],
   "source": [
    "# refit()으로 이미 학습된 estimator 반환(별로도 fit()학습 필요없음)\n",
    "estimator = grid_tree.best_estimator_\n",
    "\n",
    "pred = estimator.predict(X_test)\n",
    "accuracy = accuracy_score(y_test,pred)\n",
    "print('테스트 데이터 세트 정확도 : ', np.round(accuracy,4))"
   ]
  },
  {
   "cell_type": "code",
   "execution_count": null,
   "id": "ae3840ec",
   "metadata": {},
   "outputs": [],
   "source": []
  }
 ],
 "metadata": {
  "hide_input": false,
  "kernelspec": {
   "display_name": "Python 3",
   "language": "python",
   "name": "python3"
  },
  "language_info": {
   "codemirror_mode": {
    "name": "ipython",
    "version": 3
   },
   "file_extension": ".py",
   "mimetype": "text/x-python",
   "name": "python",
   "nbconvert_exporter": "python",
   "pygments_lexer": "ipython3",
   "version": "3.8.8"
  },
  "toc": {
   "base_numbering": 1,
   "nav_menu": {},
   "number_sections": true,
   "sideBar": true,
   "skip_h1_title": false,
   "title_cell": "Table of Contents",
   "title_sidebar": "Contents",
   "toc_cell": false,
   "toc_position": {},
   "toc_section_display": true,
   "toc_window_display": false
  },
  "varInspector": {
   "cols": {
    "lenName": 16,
    "lenType": 16,
    "lenVar": 40
   },
   "kernels_config": {
    "python": {
     "delete_cmd_postfix": "",
     "delete_cmd_prefix": "del ",
     "library": "var_list.py",
     "varRefreshCmd": "print(var_dic_list())"
    },
    "r": {
     "delete_cmd_postfix": ") ",
     "delete_cmd_prefix": "rm(",
     "library": "var_list.r",
     "varRefreshCmd": "cat(var_dic_list()) "
    }
   },
   "types_to_exclude": [
    "module",
    "function",
    "builtin_function_or_method",
    "instance",
    "_Feature"
   ],
   "window_display": false
  }
 },
 "nbformat": 4,
 "nbformat_minor": 5
}
