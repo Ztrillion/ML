{
 "cells": [
  {
   "cell_type": "markdown",
   "id": "53c8542f",
   "metadata": {},
   "source": [
    "# 데이터 로드"
   ]
  },
  {
   "cell_type": "code",
   "execution_count": 1,
   "id": "93fd867e",
   "metadata": {
    "ExecuteTime": {
     "end_time": "2021-07-23T02:45:30.105186Z",
     "start_time": "2021-07-23T02:45:29.127500Z"
    }
   },
   "outputs": [
    {
     "data": {
      "text/html": [
       "<div>\n",
       "<style scoped>\n",
       "    .dataframe tbody tr th:only-of-type {\n",
       "        vertical-align: middle;\n",
       "    }\n",
       "\n",
       "    .dataframe tbody tr th {\n",
       "        vertical-align: top;\n",
       "    }\n",
       "\n",
       "    .dataframe thead th {\n",
       "        text-align: right;\n",
       "    }\n",
       "</style>\n",
       "<table border=\"1\" class=\"dataframe\">\n",
       "  <thead>\n",
       "    <tr style=\"text-align: right;\">\n",
       "      <th></th>\n",
       "      <th>PassengerId</th>\n",
       "      <th>Survived</th>\n",
       "      <th>Pclass</th>\n",
       "      <th>Name</th>\n",
       "      <th>Sex</th>\n",
       "      <th>Age</th>\n",
       "      <th>SibSp</th>\n",
       "      <th>Parch</th>\n",
       "      <th>Ticket</th>\n",
       "      <th>Fare</th>\n",
       "      <th>Cabin</th>\n",
       "      <th>Embarked</th>\n",
       "    </tr>\n",
       "  </thead>\n",
       "  <tbody>\n",
       "    <tr>\n",
       "      <th>0</th>\n",
       "      <td>1</td>\n",
       "      <td>0</td>\n",
       "      <td>3</td>\n",
       "      <td>Braund, Mr. Owen Harris</td>\n",
       "      <td>male</td>\n",
       "      <td>22.0</td>\n",
       "      <td>1</td>\n",
       "      <td>0</td>\n",
       "      <td>A/5 21171</td>\n",
       "      <td>7.2500</td>\n",
       "      <td>NaN</td>\n",
       "      <td>S</td>\n",
       "    </tr>\n",
       "    <tr>\n",
       "      <th>1</th>\n",
       "      <td>2</td>\n",
       "      <td>1</td>\n",
       "      <td>1</td>\n",
       "      <td>Cumings, Mrs. John Bradley (Florence Briggs Th...</td>\n",
       "      <td>female</td>\n",
       "      <td>38.0</td>\n",
       "      <td>1</td>\n",
       "      <td>0</td>\n",
       "      <td>PC 17599</td>\n",
       "      <td>71.2833</td>\n",
       "      <td>C85</td>\n",
       "      <td>C</td>\n",
       "    </tr>\n",
       "    <tr>\n",
       "      <th>2</th>\n",
       "      <td>3</td>\n",
       "      <td>1</td>\n",
       "      <td>3</td>\n",
       "      <td>Heikkinen, Miss. Laina</td>\n",
       "      <td>female</td>\n",
       "      <td>26.0</td>\n",
       "      <td>0</td>\n",
       "      <td>0</td>\n",
       "      <td>STON/O2. 3101282</td>\n",
       "      <td>7.9250</td>\n",
       "      <td>NaN</td>\n",
       "      <td>S</td>\n",
       "    </tr>\n",
       "  </tbody>\n",
       "</table>\n",
       "</div>"
      ],
      "text/plain": [
       "   PassengerId  Survived  Pclass  \\\n",
       "0            1         0       3   \n",
       "1            2         1       1   \n",
       "2            3         1       3   \n",
       "\n",
       "                                                Name     Sex   Age  SibSp  \\\n",
       "0                            Braund, Mr. Owen Harris    male  22.0      1   \n",
       "1  Cumings, Mrs. John Bradley (Florence Briggs Th...  female  38.0      1   \n",
       "2                             Heikkinen, Miss. Laina  female  26.0      0   \n",
       "\n",
       "   Parch            Ticket     Fare Cabin Embarked  \n",
       "0      0         A/5 21171   7.2500   NaN        S  \n",
       "1      0          PC 17599  71.2833   C85        C  \n",
       "2      0  STON/O2. 3101282   7.9250   NaN        S  "
      ]
     },
     "execution_count": 1,
     "metadata": {},
     "output_type": "execute_result"
    }
   ],
   "source": [
    "#변수별 정보\n",
    "\n",
    "import numpy as np\n",
    "import pandas as pd\n",
    "import matplotlib.pyplot as plt\n",
    "import seaborn as sns\n",
    "%matplotlib inline\n",
    "\n",
    "titanic_df = pd.read_csv('titanic_train.csv')\n",
    "titanic_df.head(3)"
   ]
  },
  {
   "cell_type": "markdown",
   "id": "a3e6b600",
   "metadata": {},
   "source": [
    "- passengerid : 탑승자 데이터 일련번호\n",
    "- survived : 생존여부 0=사망, 1=생존\n",
    "- Pclass : 티켓 등급 1=일등석,2=이등석,3=삼등석\n",
    "- sex : 성별\n",
    "- name : 이름\n",
    "- sibsp : 함께 탑승한 형제자매 or 배우자 인원수\n",
    "- parch : 함께 탑승한 부모님 or 어린이 인원수 \n",
    "- ticket : 티켓 번호\n",
    "- fare : 요금\n",
    "- cabin : 선실 번호\n",
    "- embarked : 중간 정착 항구 C=Cherbourg, Q= Queenstown, S=Southampton"
   ]
  },
  {
   "cell_type": "code",
   "execution_count": 2,
   "id": "321255eb",
   "metadata": {
    "ExecuteTime": {
     "end_time": "2021-07-23T02:45:30.165074Z",
     "start_time": "2021-07-23T02:45:30.151112Z"
    }
   },
   "outputs": [
    {
     "name": "stdout",
     "output_type": "stream",
     "text": [
      "<class 'pandas.core.frame.DataFrame'>\n",
      "RangeIndex: 891 entries, 0 to 890\n",
      "Data columns (total 12 columns):\n",
      " #   Column       Non-Null Count  Dtype  \n",
      "---  ------       --------------  -----  \n",
      " 0   PassengerId  891 non-null    int64  \n",
      " 1   Survived     891 non-null    int64  \n",
      " 2   Pclass       891 non-null    int64  \n",
      " 3   Name         891 non-null    object \n",
      " 4   Sex          891 non-null    object \n",
      " 5   Age          714 non-null    float64\n",
      " 6   SibSp        891 non-null    int64  \n",
      " 7   Parch        891 non-null    int64  \n",
      " 8   Ticket       891 non-null    object \n",
      " 9   Fare         891 non-null    float64\n",
      " 10  Cabin        204 non-null    object \n",
      " 11  Embarked     889 non-null    object \n",
      "dtypes: float64(2), int64(5), object(5)\n",
      "memory usage: 83.7+ KB\n"
     ]
    }
   ],
   "source": [
    "titanic_df.info()"
   ]
  },
  {
   "cell_type": "markdown",
   "id": "017c8b31",
   "metadata": {},
   "source": [
    "#데이터 전처리"
   ]
  },
  {
   "cell_type": "code",
   "execution_count": 3,
   "id": "6b8feec5",
   "metadata": {
    "ExecuteTime": {
     "end_time": "2021-07-23T02:45:30.936391Z",
     "start_time": "2021-07-23T02:45:30.925420Z"
    }
   },
   "outputs": [
    {
     "data": {
      "text/plain": [
       "PassengerId      0\n",
       "Survived         0\n",
       "Pclass           0\n",
       "Name             0\n",
       "Sex              0\n",
       "Age            177\n",
       "SibSp            0\n",
       "Parch            0\n",
       "Ticket           0\n",
       "Fare             0\n",
       "Cabin          687\n",
       "Embarked         2\n",
       "dtype: int64"
      ]
     },
     "execution_count": 3,
     "metadata": {},
     "output_type": "execute_result"
    }
   ],
   "source": [
    "# Null값 개수 확인\n",
    "titanic_df.isnull().sum()"
   ]
  },
  {
   "cell_type": "code",
   "execution_count": 4,
   "id": "b17212b2",
   "metadata": {
    "ExecuteTime": {
     "end_time": "2021-07-23T02:45:31.389194Z",
     "start_time": "2021-07-23T02:45:31.379714Z"
    }
   },
   "outputs": [
    {
     "data": {
      "text/plain": [
       "PassengerId    0\n",
       "Survived       0\n",
       "Pclass         0\n",
       "Name           0\n",
       "Sex            0\n",
       "Age            0\n",
       "SibSp          0\n",
       "Parch          0\n",
       "Ticket         0\n",
       "Fare           0\n",
       "Cabin          0\n",
       "Embarked       0\n",
       "dtype: int64"
      ]
     },
     "execution_count": 4,
     "metadata": {},
     "output_type": "execute_result"
    }
   ],
   "source": [
    "## 데이터 전처리 : 결측치 처리\n",
    "\n",
    "#Null값 처리\n",
    "\n",
    "titanic_df['Age'].fillna(titanic_df['Age'].mean, inplace=True)\n",
    "titanic_df['Cabin'].fillna(\"N\",inplace=True)\n",
    "titanic_df['Embarked'].fillna(\"N\",inplace=True)\n",
    "\n",
    "titanic_df.isnull().sum()"
   ]
  },
  {
   "cell_type": "code",
   "execution_count": null,
   "id": "06a3514f",
   "metadata": {
    "ExecuteTime": {
     "end_time": "2021-07-23T02:45:32.037349Z",
     "start_time": "2021-07-23T02:45:31.787Z"
    }
   },
   "outputs": [],
   "source": [
    "# 문자열 변수(피쳐) 빈도 분포 확인 : value_counts()\n",
    "# sex, cabin, embarked\n",
    "print('Sex분포 : \\n', titanic_df['Sex'].value_counts())\n",
    "print('cabin분포 : \\n', titanic_df['Cabin'].value_counts())\n",
    "print('embarked분포 : \\n', titanic_df['Embarked'].value_counts())"
   ]
  },
  {
   "cell_type": "code",
   "execution_count": 5,
   "id": "a0aef403",
   "metadata": {
    "ExecuteTime": {
     "end_time": "2021-07-23T02:45:32.277597Z",
     "start_time": "2021-07-23T02:45:32.259646Z"
    }
   },
   "outputs": [
    {
     "data": {
      "text/plain": [
       "N    687\n",
       "C     59\n",
       "B     47\n",
       "D     33\n",
       "E     32\n",
       "A     15\n",
       "F     13\n",
       "G      4\n",
       "T      1\n",
       "Name: Cabin, dtype: int64"
      ]
     },
     "execution_count": 5,
     "metadata": {},
     "output_type": "execute_result"
    }
   ],
   "source": [
    "# cabin value를 선실 등급만으로 표기\n",
    "titanic_df['Cabin']=titanic_df['Cabin'].str[0]\n",
    "\n",
    "# 선실등급 별 개수 확인\n",
    "titanic_df['Cabin'].value_counts()"
   ]
  },
  {
   "cell_type": "markdown",
   "id": "58151b04",
   "metadata": {
    "ExecuteTime": {
     "end_time": "2021-07-22T07:30:00.753731Z",
     "start_time": "2021-07-22T07:30:00.741790Z"
    }
   },
   "source": [
    "## 성별에 따른 생존자 수 분포(EDA)"
   ]
  },
  {
   "cell_type": "code",
   "execution_count": 6,
   "id": "1efc35b2",
   "metadata": {
    "ExecuteTime": {
     "end_time": "2021-07-23T02:45:33.770728Z",
     "start_time": "2021-07-23T02:45:33.757763Z"
    }
   },
   "outputs": [
    {
     "data": {
      "text/plain": [
       "Sex     Survived\n",
       "female  0            81\n",
       "        1           233\n",
       "male    0           468\n",
       "        1           109\n",
       "Name: Survived, dtype: int64"
      ]
     },
     "execution_count": 6,
     "metadata": {},
     "output_type": "execute_result"
    }
   ],
   "source": [
    "# 성별에 따른 생존자 수 분포 : groupby 로 묶어서 보기\n",
    "titanic_df.groupby(['Sex','Survived'])['Survived'].count()"
   ]
  },
  {
   "cell_type": "markdown",
   "id": "e6dd3d7a",
   "metadata": {},
   "source": [
    "### 성별에 따른 생존자 수 분포 막대그래프 시각화"
   ]
  },
  {
   "cell_type": "code",
   "execution_count": 7,
   "id": "64571122",
   "metadata": {
    "ExecuteTime": {
     "end_time": "2021-07-23T02:45:34.828001Z",
     "start_time": "2021-07-23T02:45:34.660572Z"
    }
   },
   "outputs": [
    {
     "data": {
      "text/plain": [
       "<AxesSubplot:xlabel='Sex', ylabel='Survived'>"
      ]
     },
     "execution_count": 7,
     "metadata": {},
     "output_type": "execute_result"
    },
    {
     "data": {
      "image/png": "[encoded data removed]",
      "text/plain": [
       "<Figure size 432x288 with 1 Axes>"
      ]
     },
     "metadata": {
      "needs_background": "light"
     },
     "output_type": "display_data"
    }
   ],
   "source": [
    "sns.barplot(x='Sex',y='Survived',data = titanic_df)"
   ]
  },
  {
   "cell_type": "markdown",
   "id": "d551691a",
   "metadata": {},
   "source": [
    "### 부자와 가난한 사람 간의 생존 확률\n",
    "\n",
    "- 부의 측정 기준 : 객실등급\n",
    "- 객실 등급별 성별에 따른 생존확률"
   ]
  },
  {
   "cell_type": "code",
   "execution_count": 8,
   "id": "a8a3b464",
   "metadata": {
    "ExecuteTime": {
     "end_time": "2021-07-23T02:45:35.818046Z",
     "start_time": "2021-07-23T02:45:35.556126Z"
    }
   },
   "outputs": [
    {
     "data": {
      "text/plain": [
       "<AxesSubplot:xlabel='Pclass', ylabel='Survived'>"
      ]
     },
     "execution_count": 8,
     "metadata": {},
     "output_type": "execute_result"
    },
    {
     "data": {
      "image/png": "[encoded data removed]",
      "text/plain": [
       "<Figure size 432x288 with 1 Axes>"
      ]
     },
     "metadata": {
      "needs_background": "light"
     },
     "output_type": "display_data"
    }
   ],
   "source": [
    "sns.barplot(x='Pclass', y='Survived', hue='Sex', data=titanic_df)"
   ]
  },
  {
   "cell_type": "markdown",
   "id": "30f89e77",
   "metadata": {},
   "source": [
    "- 여성은 1,2등실에 대한 생존확률차가 크지 않으나 3등실의 경우 생존확률이 상대적으로 낮다\n",
    "- 남성의 경우 1등실의 생존활률이 이,삼등실보다 상대적으로 높다"
   ]
  },
  {
   "cell_type": "markdown",
   "id": "4ecf2e6c",
   "metadata": {},
   "source": [
    "### Age에 따른 생존확률  : 수치형 -> 범주형으로 바꾸기"
   ]
  },
  {
   "cell_type": "code",
   "execution_count": 27,
   "id": "91bc076a",
   "metadata": {
    "ExecuteTime": {
     "end_time": "2021-07-23T03:06:24.544018Z",
     "start_time": "2021-07-23T03:06:24.025231Z"
    }
   },
   "outputs": [
    {
     "data": {
      "image/png": "[encoded data removed]",
      "text/plain": [
       "<Figure size 720x432 with 1 Axes>"
      ]
     },
     "metadata": {
      "needs_background": "light"
     },
     "output_type": "display_data"
    }
   ],
   "source": [
    "# 입력 age에 따라 구분값을 반환하는 함수 설정. DataFrame의 apply lambda식에 사용. \n",
    "def get_category(age):\n",
    "    cat = ''\n",
    "    if age <= -1: cat = 'Unknown'\n",
    "    elif age <= 5: cat = 'Baby'\n",
    "    elif age <= 12: cat = 'Child'\n",
    "    elif age <= 18: cat = 'Teenager'\n",
    "    elif age <= 25: cat = 'Student'\n",
    "    elif age <= 35: cat = 'Young Adult'\n",
    "    elif age <= 60: cat = 'Adult'\n",
    "    else : cat = 'Elderly'\n",
    "    \n",
    "    return cat\n",
    "\n",
    "# 막대그래프의 크기 figure를 더 크게 설정 \n",
    "plt.figure(figsize=(10,6))\n",
    "\n",
    "#X축의 값을 순차적으로 표시하기 위한 설정 \n",
    "group_names = ['Unknown', 'Baby', 'Child', 'Teenager', 'Student', 'Young Adult', 'Adult', 'Elderly']\n",
    "\n",
    "# lambda 식에 위에서 생성한 get_category( ) 함수를 반환값으로 지정. \n",
    "# get_category(X)는 입력값으로 'Age' 컬럼값을 받아서 해당하는 cat 반환\n",
    "titanic_df['Age_cat'] = titanic_df['Age'].apply(lambda x : get_category(x))\n",
    "sns.barplot(x='Age_cat', y = 'Survived', hue='Sex', data=titanic_df, order=group_names)\n",
    "titanic_df.drop('Age_cat', axis=1, inplace=True)"
   ]
  },
  {
   "cell_type": "markdown",
   "id": "f1d3b4f5",
   "metadata": {},
   "source": [
    "## Encoding\n",
    "\n",
    "- fit(), transform()"
   ]
  },
  {
   "cell_type": "code",
   "execution_count": 10,
   "id": "3a30708e",
   "metadata": {
    "ExecuteTime": {
     "end_time": "2021-07-23T02:45:58.675345Z",
     "start_time": "2021-07-23T02:45:58.035625Z"
    }
   },
   "outputs": [
    {
     "data": {
      "text/html": [
       "<div>\n",
       "<style scoped>\n",
       "    .dataframe tbody tr th:only-of-type {\n",
       "        vertical-align: middle;\n",
       "    }\n",
       "\n",
       "    .dataframe tbody tr th {\n",
       "        vertical-align: top;\n",
       "    }\n",
       "\n",
       "    .dataframe thead th {\n",
       "        text-align: right;\n",
       "    }\n",
       "</style>\n",
       "<table border=\"1\" class=\"dataframe\">\n",
       "  <thead>\n",
       "    <tr style=\"text-align: right;\">\n",
       "      <th></th>\n",
       "      <th>PassengerId</th>\n",
       "      <th>Survived</th>\n",
       "      <th>Pclass</th>\n",
       "      <th>Name</th>\n",
       "      <th>Sex</th>\n",
       "      <th>Age</th>\n",
       "      <th>SibSp</th>\n",
       "      <th>Parch</th>\n",
       "      <th>Ticket</th>\n",
       "      <th>Fare</th>\n",
       "      <th>Cabin</th>\n",
       "      <th>Embarked</th>\n",
       "    </tr>\n",
       "  </thead>\n",
       "  <tbody>\n",
       "    <tr>\n",
       "      <th>0</th>\n",
       "      <td>1</td>\n",
       "      <td>0</td>\n",
       "      <td>3</td>\n",
       "      <td>Braund, Mr. Owen Harris</td>\n",
       "      <td>1</td>\n",
       "      <td>22.0</td>\n",
       "      <td>1</td>\n",
       "      <td>0</td>\n",
       "      <td>A/5 21171</td>\n",
       "      <td>7.25</td>\n",
       "      <td>7</td>\n",
       "      <td>3</td>\n",
       "    </tr>\n",
       "  </tbody>\n",
       "</table>\n",
       "</div>"
      ],
      "text/plain": [
       "   PassengerId  Survived  Pclass                     Name  Sex   Age  SibSp  \\\n",
       "0            1         0       3  Braund, Mr. Owen Harris    1  22.0      1   \n",
       "\n",
       "   Parch     Ticket  Fare  Cabin  Embarked  \n",
       "0      0  A/5 21171  7.25      7         3  "
      ]
     },
     "execution_count": 10,
     "metadata": {},
     "output_type": "execute_result"
    }
   ],
   "source": [
    "from sklearn import preprocessing\n",
    "\n",
    "def encode_features(dataDF):\n",
    "    features = ['Cabin','Sex','Embarked']\n",
    "    for feature in features:\n",
    "        le = preprocessing.LabelEncoder()\n",
    "        le = le.fit(dataDF[feature])\n",
    "        dataDF[feature] = le.transform(dataDF[feature])\n",
    "        \n",
    "    return dataDF\n",
    "\n",
    "titanic_df = encode_features(titanic_df)\n",
    "titanic_df.head(1)"
   ]
  },
  {
   "cell_type": "code",
   "execution_count": null,
   "id": "23931751",
   "metadata": {
    "ExecuteTime": {
     "end_time": "2021-07-23T00:56:52.594937Z",
     "start_time": "2021-07-23T00:56:52.578010Z"
    }
   },
   "outputs": [],
   "source": []
  },
  {
   "cell_type": "markdown",
   "id": "f61f8660",
   "metadata": {},
   "source": [
    "## 데이터 전처리 : 삭제"
   ]
  },
  {
   "cell_type": "code",
   "execution_count": null,
   "id": "fdbde626",
   "metadata": {
    "ExecuteTime": {
     "end_time": "2021-07-23T00:57:11.205751Z",
     "start_time": "2021-07-23T00:57:11.186824Z"
    }
   },
   "outputs": [],
   "source": []
  },
  {
   "cell_type": "code",
   "execution_count": 11,
   "id": "372fdeeb",
   "metadata": {
    "ExecuteTime": {
     "end_time": "2021-07-23T02:46:03.264715Z",
     "start_time": "2021-07-23T02:46:03.252772Z"
    }
   },
   "outputs": [],
   "source": [
    "def fillna(df):\n",
    "    df['Age'].fillna(df['Age'].mean(),inplace=True)\n",
    "    df['Cabin'].fillna('N', inplace=True)\n",
    "    df['Embarked'].fillna('N',inplace=True)\n",
    "    df['Fare'].fillna(0,inplace=True)\n",
    "    return df\n",
    "\n",
    "#알고리즘 불필요한 속성 제거\n",
    "\n",
    "def drop_features(df):\n",
    "    df.drop(['PassengerId','Name','Ticket'],axis=1,inplace=True)\n",
    "    return df\n",
    "\n",
    "#레이블 인코딩 수행\n",
    "\n",
    "def format_features(df):\n",
    "    df['Cabin'] = df['Cabin'].str[:1] # 첫문자만 추출\n",
    "    features = ['Cabin','Sex','Embarked']\n",
    "    for feature in features : \n",
    "        le = preprocessing.LabelEncoder()\n",
    "        le = le.fit(df[feature])\n",
    "        df[feature] = le.transform(df[feature])\n",
    "    return df\n",
    "\n",
    "# 앞에서 설정한 dataFrame 함수 호출\n",
    "\n",
    "def transform_features(df):\n",
    "    df = fillna(df)\n",
    "    df = drop_features(df)\n",
    "    df = format_features(df)\n",
    "    return df"
   ]
  },
  {
   "cell_type": "markdown",
   "id": "2a2eb78a",
   "metadata": {
    "ExecuteTime": {
     "end_time": "2021-07-23T01:14:06.180345Z",
     "start_time": "2021-07-23T01:14:06.170827Z"
    }
   },
   "source": [
    "데이터 로드"
   ]
  },
  {
   "cell_type": "code",
   "execution_count": 12,
   "id": "5ca93183",
   "metadata": {
    "ExecuteTime": {
     "end_time": "2021-07-23T02:46:04.774535Z",
     "start_time": "2021-07-23T02:46:04.748171Z"
    }
   },
   "outputs": [],
   "source": [
    "titanic_df = pd.read_csv('titanic_train.csv')\n",
    "y_titanic_df = titanic_df['Survived']\n",
    "X_titanic_df = titanic_df.drop('Survived',axis=1)\n",
    "\n",
    "X_titanic_df = transform_features(X_titanic_df)"
   ]
  },
  {
   "cell_type": "code",
   "execution_count": 13,
   "id": "6784bd61",
   "metadata": {
    "ExecuteTime": {
     "end_time": "2021-07-23T02:46:05.439354Z",
     "start_time": "2021-07-23T02:46:05.403444Z"
    }
   },
   "outputs": [],
   "source": [
    "from sklearn.model_selection import train_test_split\n",
    "X_train,X_test,y_train,y_test = train_test_split(X_titanic_df,y_titanic_df,test_size=0.2,random_state=11)"
   ]
  },
  {
   "cell_type": "code",
   "execution_count": 14,
   "id": "333040ee",
   "metadata": {
    "ExecuteTime": {
     "end_time": "2021-07-23T02:46:06.267267Z",
     "start_time": "2021-07-23T02:46:06.003961Z"
    }
   },
   "outputs": [
    {
     "name": "stdout",
     "output_type": "stream",
     "text": [
      "결정트리 정확도 :0.7877\n",
      "랜덤포레스트 정확도 :0.8547\n",
      "로지스틱회기 정확도 :0.8492\n"
     ]
    },
    {
     "name": "stderr",
     "output_type": "stream",
     "text": [
      "C:\\Users\\pc\\anaconda3\\lib\\site-packages\\sklearn\\linear_model\\_logistic.py:763: ConvergenceWarning: lbfgs failed to converge (status=1):\n",
      "STOP: TOTAL NO. of ITERATIONS REACHED LIMIT.\n",
      "\n",
      "Increase the number of iterations (max_iter) or scale the data as shown in:\n",
      "    https://scikit-learn.org/stable/modules/preprocessing.html\n",
      "Please also refer to the documentation for alternative solver options:\n",
      "    https://scikit-learn.org/stable/modules/linear_model.html#logistic-regression\n",
      "  n_iter_i = _check_optimize_result(\n"
     ]
    }
   ],
   "source": [
    "from sklearn.tree import DecisionTreeClassifier\n",
    "from sklearn.ensemble import RandomForestClassifier\n",
    "from sklearn.linear_model import LogisticRegression\n",
    "from sklearn.metrics import accuracy_score\n",
    "\n",
    "#결정트리, 랜덤포레스트, 로지스틱회귀를 위한 객체생성\n",
    "dt_clf = DecisionTreeClassifier(random_state=11)\n",
    "rf_clf = RandomForestClassifier(random_state=11)\n",
    "lr_clf = LogisticRegression()\n",
    "\n",
    "#결정트리 학습\n",
    "dt_clf.fit(X_train,y_train)\n",
    "#예측\n",
    "dt_pred=dt_clf.predict(X_test)\n",
    "#평가\n",
    "print('결정트리 정확도 :{0:.4f}'.format(accuracy_score(y_test,dt_pred)))\n",
    "\n",
    "#랜덤포레스트 학습\n",
    "rf_clf.fit(X_train,y_train)\n",
    "#예측\n",
    "rf_pred=rf_clf.predict(X_test)\n",
    "#평가\n",
    "print('랜덤포레스트 정확도 :{0:.4f}'.format(accuracy_score(y_test,rf_pred)))\n",
    "\n",
    "#로지스틱회기 학습\n",
    "lr_clf.fit(X_train,y_train)\n",
    "#예측\n",
    "lr_pred=lr_clf.predict(X_test)\n",
    "#평가\n",
    "print('로지스틱회기 정확도 :{0:.4f}'.format(accuracy_score(y_test,lr_pred)))"
   ]
  },
  {
   "cell_type": "markdown",
   "id": "b61b54b9",
   "metadata": {},
   "source": [
    "교차검증 결정트리 모델 평가"
   ]
  },
  {
   "cell_type": "code",
   "execution_count": 17,
   "id": "3a27c88a",
   "metadata": {
    "ExecuteTime": {
     "end_time": "2021-07-23T02:47:02.259954Z",
     "start_time": "2021-07-23T02:47:02.237012Z"
    }
   },
   "outputs": [
    {
     "name": "stdout",
     "output_type": "stream",
     "text": [
      "교차검증0정확도 : 0.7542\n",
      "교차검증1정확도 : 0.7809\n",
      "교차검증2정확도 : 0.7865\n",
      "교차검증3정확도 : 0.7697\n",
      "교차검증4정확도 : 0.8202\n",
      "평균정확도 : 0.7823\n"
     ]
    }
   ],
   "source": [
    "from sklearn.model_selection import KFold\n",
    "\n",
    "def exec_kfold(clf,folds=5):\n",
    "    # 폴드 세트를 5개인 kfold 객체 생성, 폴드 수만큼 예측결과 저장을 위한 리스트 객체 생성\n",
    "    kfold = KFold(n_splits=folds)\n",
    "    scores = []\n",
    "    \n",
    "    # KFold 교차검증 수행\n",
    "    for iter_n,(train_index, test_index) in enumerate(kfold.split(X_titanic_df)):\n",
    "        # X_titanic_df 데이터에서 교차 검증별 학습과 검증 데이터를 가리키는 index 생성\n",
    "        X_train, X_test = X_titanic_df.values[train_index],X_titanic_df.values[test_index]\n",
    "        y_train, y_test = y_titanic_df.values[train_index],y_titanic_df.values[test_index]\n",
    "        #Classfier 학습,예측, 정확도 계산\n",
    "        clf.fit(X_train,y_train)\n",
    "        predictions = clf.predict(X_test)\n",
    "        accuracy = accuracy_score(y_test,predictions)\n",
    "        scores.append(accuracy)\n",
    "        print('교차검증{0}정확도 : {1:.4f}'.format(iter_n,accuracy))\n",
    "        \n",
    "        # 5개의 fold 평균 정확도\n",
    "    mean_score = np.mean(scores)\n",
    "    print('평균정확도 : {0:.4f}'.format(mean_score))\n",
    "\n",
    "# exec_kfold 호출\n",
    "exec_kfold(dt_clf,folds=5)"
   ]
  },
  {
   "cell_type": "code",
   "execution_count": 18,
   "id": "2c899163",
   "metadata": {
    "ExecuteTime": {
     "end_time": "2021-07-23T02:47:05.854456Z",
     "start_time": "2021-07-23T02:47:05.812342Z"
    }
   },
   "outputs": [
    {
     "name": "stdout",
     "output_type": "stream",
     "text": [
      "교차검증 0 정확도:0.7430 \n",
      "교차검증 1 정확도:0.7753 \n",
      "교차검증 2 정확도:0.7921 \n",
      "교차검증 3 정확도:0.7865 \n",
      "교차검증 4 정확도:0.8427 \n",
      "평균 정확도:0.7879\n"
     ]
    }
   ],
   "source": [
    "from sklearn.model_selection import cross_val_score\n",
    "scores = cross_val_score(dt_clf,X_titanic_df,y_titanic_df,cv=5)\n",
    "for iter_n,accuracy in enumerate(scores):\n",
    "   print('교차검증 {0} 정확도:{1:.4f} '.format(iter_n,accuracy))\n",
    "\n",
    "print('평균 정확도:{0:.4f}'.format(np.mean(scores)))"
   ]
  },
  {
   "cell_type": "code",
   "execution_count": 19,
   "id": "600fa5db",
   "metadata": {
    "ExecuteTime": {
     "end_time": "2021-07-23T02:47:07.633064Z",
     "start_time": "2021-07-23T02:47:06.883874Z"
    }
   },
   "outputs": [
    {
     "name": "stdout",
     "output_type": "stream",
     "text": [
      "GridSearchCV 최적 하이퍼 파라미터: {'max_depth': 3, 'min_samples_leaf': 5, 'min_samples_split': 2}\n",
      "GridSearchCV 최고 정확도:0.7992\n",
      "테스트 세트에서의 DecisionTreeClassfier 정확도:  0.8715083798882681\n"
     ]
    }
   ],
   "source": [
    "from sklearn.model_selection import GridSearchCV\n",
    "\n",
    "parameters = {'max_depth':[2,3,5,10],\n",
    "             'min_samples_split':[2,3,5],\n",
    "             'min_samples_leaf':[1,5,8]}\n",
    "\n",
    "grid_dclf = GridSearchCV(dt_clf,param_grid=parameters, scoring='accuracy', cv=5)\n",
    "grid_dclf.fit(X_train,y_train)\n",
    "\n",
    "print('GridSearchCV 최적 하이퍼 파라미터:', grid_dclf.best_params_)\n",
    "print('GridSearchCV 최고 정확도:{0:.4f}'.format(grid_dclf.best_score_))\n",
    "\n",
    "best_dclf = grid_dclf.best_estimator_\n",
    "#최적 하이퍼 파라미터로 학습된 Estimator로 예측 및 평가 수행\n",
    "dpredictions = best_dclf.predict(X_test)\n",
    "accuracy = accuracy_score(y_test,dpredictions)\n",
    "\n",
    "print('테스트 세트에서의 DecisionTreeClassfier 정확도: ', accuracy)"
   ]
  },
  {
   "cell_type": "markdown",
   "id": "b813995c",
   "metadata": {
    "ExecuteTime": {
     "end_time": "2021-07-23T02:44:41.702896Z",
     "start_time": "2021-07-23T02:44:41.693919Z"
    }
   },
   "source": []
  },
  {
   "cell_type": "code",
   "execution_count": 28,
   "id": "2c814245",
   "metadata": {
    "ExecuteTime": {
     "end_time": "2021-07-23T04:12:22.473981Z",
     "start_time": "2021-07-23T04:12:22.457027Z"
    }
   },
   "outputs": [],
   "source": [
    "import numpy as np\n",
    "from sklearn.base import BaseEstimator\n",
    "\n",
    "class MyDummyClassifier(BaseEstimator):\n",
    "    # fit( ) 메소드는 아무것도 학습하지 않음. \n",
    "    def fit(self, X , y=None):\n",
    "        pass\n",
    "    \n",
    "    # predict( ) 메소드는 단순히 Sex feature가 1 이면 0 , 그렇지 않으면 1 로 예측함. \n",
    "    def predict(self, X):\n",
    "        pred = np.zeros( ( X.shape[0], 1 ))\n",
    "        for i in range (X.shape[0]) :\n",
    "            if X['Sex'].iloc[i] == 1:\n",
    "                pred[i] = 0\n",
    "            else :\n",
    "                pred[i] = 1\n",
    "        \n",
    "        return pred"
   ]
  },
  {
   "cell_type": "code",
   "execution_count": 30,
   "id": "ff25ff6b",
   "metadata": {
    "ExecuteTime": {
     "end_time": "2021-07-23T04:13:08.297437Z",
     "start_time": "2021-07-23T04:13:08.281510Z"
    }
   },
   "outputs": [],
   "source": [
    "import pandas as pd\n",
    "from sklearn.preprocessing import LabelEncoder\n",
    "\n",
    "# Null 처리 함수\n",
    "def fillna(df):\n",
    "    df['Age'].fillna(df['Age'].mean(),inplace=True)\n",
    "    df['Cabin'].fillna('N',inplace=True)\n",
    "    df['Embarked'].fillna('N',inplace=True)\n",
    "    df['Fare'].fillna(0,inplace=True)\n",
    "    return df\n",
    "\n",
    "# 머신러닝 알고리즘에 불필요한 속성 제거\n",
    "def drop_features(df):\n",
    "    df.drop(['PassengerId','Name','Ticket'],axis=1,inplace=True)\n",
    "    return df\n",
    "\n",
    "# 레이블 인코딩 수행. \n",
    "def format_features(df):\n",
    "    df['Cabin'] = df['Cabin'].str[:1]\n",
    "    features = ['Cabin','Sex','Embarked']\n",
    "    for feature in features:\n",
    "        le = LabelEncoder()\n",
    "        le = le.fit(df[feature])\n",
    "        df[feature] = le.transform(df[feature])\n",
    "    return df\n",
    "\n",
    "# 앞에서 설정한 Data Preprocessing 함수 호출\n",
    "def transform_features(df):\n",
    "    df = fillna(df)\n",
    "    df = drop_features(df)\n",
    "    df = format_features(df)\n",
    "    return df"
   ]
  },
  {
   "cell_type": "code",
   "execution_count": 31,
   "id": "191dda8d",
   "metadata": {
    "ExecuteTime": {
     "end_time": "2021-07-23T04:13:22.704356Z",
     "start_time": "2021-07-23T04:13:22.681387Z"
    }
   },
   "outputs": [
    {
     "name": "stdout",
     "output_type": "stream",
     "text": [
      "Dummy Classifier의 정확도는: 0.7877\n"
     ]
    }
   ],
   "source": [
    "import pandas as pd\n",
    "from sklearn.model_selection import train_test_split\n",
    "from sklearn.metrics import accuracy_score\n",
    "\n",
    "# 원본 데이터를 재로딩, 데이터 가공, 학습데이터/테스트 데이터 분할. \n",
    "titanic_df = pd.read_csv('./titanic_train.csv')\n",
    "y_titanic_df = titanic_df['Survived']\n",
    "X_titanic_df= titanic_df.drop('Survived', axis=1)\n",
    "X_titanic_df = transform_features(X_titanic_df)\n",
    "X_train, X_test, y_train, y_test=train_test_split(X_titanic_df, y_titanic_df, \\\n",
    "                                                  test_size=0.2, random_state=0)\n",
    "\n",
    "# 위에서 생성한 Dummy Classifier를 이용하여 학습/예측/평가 수행. \n",
    "myclf = MyDummyClassifier()\n",
    "myclf.fit(X_train ,y_train)\n",
    "\n",
    "mypredictions = myclf.predict(X_test)\n",
    "print('Dummy Classifier의 정확도는: {0:.4f}'.format(accuracy_score(y_test , mypredictions)))\n"
   ]
  },
  {
   "cell_type": "code",
   "execution_count": 32,
   "id": "d95dd8bc",
   "metadata": {
    "ExecuteTime": {
     "end_time": "2021-07-23T04:13:42.421900Z",
     "start_time": "2021-07-23T04:13:42.264320Z"
    }
   },
   "outputs": [
    {
     "name": "stdout",
     "output_type": "stream",
     "text": [
      "[[ 0.  0.  5. ...  0.  0.  0.]\n",
      " [ 0.  0.  0. ... 10.  0.  0.]\n",
      " [ 0.  0.  0. ... 16.  9.  0.]\n",
      " ...\n",
      " [ 0.  0.  1. ...  6.  0.  0.]\n",
      " [ 0.  0.  2. ... 12.  0.  0.]\n",
      " [ 0.  0. 10. ... 12.  1.  0.]]\n",
      "### digits.data.shape: (1797, 64)\n",
      "[0 1 2 ... 8 9 8]\n",
      "### digits.target.shape: (1797,)\n"
     ]
    }
   ],
   "source": [
    "from sklearn.datasets import load_digits\n",
    "from sklearn.model_selection import train_test_split\n",
    "from sklearn.base import BaseEstimator\n",
    "from sklearn.metrics import accuracy_score\n",
    "import numpy as np\n",
    "import pandas as pd\n",
    "\n",
    "class MyFakeClassifier(BaseEstimator):\n",
    "    def fit(self,X,y):\n",
    "        pass\n",
    "    \n",
    "    # 입력값으로 들어오는 X 데이터 셋의 크기만큼 모두 0값으로 만들어서 반환\n",
    "    def predict(self,X):\n",
    "        return np.zeros( (len(X), 1) , dtype=bool)\n",
    "\n",
    "# 사이킷런의 내장 데이터 셋인 load_digits( )를 이용하여 MNIST 데이터 로딩\n",
    "digits = load_digits()\n",
    "\n",
    "print(digits.data)\n",
    "print(\"### digits.data.shape:\", digits.data.shape)\n",
    "print(digits.target)\n",
    "print(\"### digits.target.shape:\", digits.target.shape)"
   ]
  },
  {
   "cell_type": "code",
   "execution_count": null,
   "id": "01fe44ae",
   "metadata": {},
   "outputs": [],
   "source": []
  },
  {
   "cell_type": "code",
   "execution_count": 38,
   "id": "9c3106d7",
   "metadata": {
    "ExecuteTime": {
     "end_time": "2021-07-23T04:16:51.643097Z",
     "start_time": "2021-07-23T04:16:51.633123Z"
    }
   },
   "outputs": [
    {
     "data": {
      "text/plain": [
       "array([False, False, False, ..., False, False, False])"
      ]
     },
     "execution_count": 38,
     "metadata": {},
     "output_type": "execute_result"
    }
   ],
   "source": [
    "digits.target==7"
   ]
  },
  {
   "cell_type": "code",
   "execution_count": 39,
   "id": "793e650f",
   "metadata": {
    "ExecuteTime": {
     "end_time": "2021-07-23T04:17:04.308789Z",
     "start_time": "2021-07-23T04:17:04.304800Z"
    }
   },
   "outputs": [],
   "source": [
    "y=(digits.target == 7).astype(int)"
   ]
  },
  {
   "cell_type": "code",
   "execution_count": 41,
   "id": "7f552fc4",
   "metadata": {
    "ExecuteTime": {
     "end_time": "2021-07-23T04:18:35.494223Z",
     "start_time": "2021-07-23T04:18:35.480261Z"
    }
   },
   "outputs": [],
   "source": [
    "# test_size를 쓰지 않으면 0.25\n",
    "X_train, X_test, y_train, y_test = train_test_split(digits.data, y, random_state=11)"
   ]
  },
  {
   "cell_type": "code",
   "execution_count": 45,
   "id": "c6c7232a",
   "metadata": {
    "ExecuteTime": {
     "end_time": "2021-07-23T04:21:05.043563Z",
     "start_time": "2021-07-23T04:21:05.032591Z"
    }
   },
   "outputs": [
    {
     "data": {
      "text/plain": [
       "0    405\n",
       "1     45\n",
       "dtype: int64"
      ]
     },
     "execution_count": 45,
     "metadata": {},
     "output_type": "execute_result"
    }
   ],
   "source": [
    "#불균형한 레이블 데이터 분포도 확인.\n",
    "pd.Series(y_test).value_counts()"
   ]
  },
  {
   "cell_type": "code",
   "execution_count": 69,
   "id": "e15d7508",
   "metadata": {
    "ExecuteTime": {
     "end_time": "2021-07-23T05:25:21.978471Z",
     "start_time": "2021-07-23T05:25:21.968494Z"
    }
   },
   "outputs": [
    {
     "name": "stdout",
     "output_type": "stream",
     "text": [
      "정확도 : 0.615\n"
     ]
    }
   ],
   "source": [
    "#Dummy Classifier로 학습/예측/정확도 평가\n",
    "\n",
    "fake_cl = MyFakeClassifier()\n",
    "fake_cl.fit(X_train,y_train)\n",
    "fakePred = fack_cl.predict(X_test)\n",
    "accuracy = accuracy_score(y_test,fakePred)\n",
    "\n",
    "print('정확도 :',np.round((accuracy),3) )"
   ]
  },
  {
   "cell_type": "code",
   "execution_count": 70,
   "id": "60ba16c0",
   "metadata": {
    "ExecuteTime": {
     "end_time": "2021-07-23T05:25:23.491130Z",
     "start_time": "2021-07-23T05:25:23.480159Z"
    }
   },
   "outputs": [
    {
     "data": {
      "text/plain": [
       "array([[110,   0],\n",
       "       [ 69,   0]], dtype=int64)"
      ]
     },
     "execution_count": 70,
     "metadata": {},
     "output_type": "execute_result"
    }
   ],
   "source": [
    "#confusion Matrix\n",
    "from sklearn.metrics import confusion_matrix\n",
    "\n",
    "confusion_matrix(y_test,fakePred)"
   ]
  },
  {
   "cell_type": "code",
   "execution_count": 71,
   "id": "39b289f7",
   "metadata": {
    "ExecuteTime": {
     "end_time": "2021-07-23T05:25:24.232464Z",
     "start_time": "2021-07-23T05:25:24.144652Z"
    }
   },
   "outputs": [],
   "source": [
    "# \n",
    "import numpy as np\n",
    "from sklearn.base import BaseEstimator\n",
    "\n",
    "class MyDummyClassifier(BaseEstimator):\n",
    "    # fit( ) 메소드는 아무것도 학습하지 않음. \n",
    "    def fit(self, X , y=None):\n",
    "        pass\n",
    "    \n",
    "    # predict( ) 메소드는 단순히 Sex feature가 1 이면 0 , 그렇지 않으면 1 로 예측함. \n",
    "    def predict(self, X):\n",
    "        return np.zeros( ( len[X], 1 ),dtype=bool)\n",
    "\n",
    "digits= load_digits()\n",
    "y= (digits.target ==7).astype(int)\n",
    "X_train,X_test,y_train,y_test = train_test_split(digits.data,y,random_state=11)\n",
    "fakeclf = MyFakeClassifier()\n",
    "fakeclf.fit(X_train,y_train)\n",
    "fakepred = fakeclf.predict(X_test)"
   ]
  },
  {
   "cell_type": "code",
   "execution_count": 72,
   "id": "5345db45",
   "metadata": {
    "ExecuteTime": {
     "end_time": "2021-07-23T05:25:24.759109Z",
     "start_time": "2021-07-23T05:25:24.744149Z"
    }
   },
   "outputs": [
    {
     "data": {
      "text/plain": [
       "0"
      ]
     },
     "execution_count": 72,
     "metadata": {},
     "output_type": "execute_result"
    }
   ],
   "source": [
    "fakepred.astype(int).sum()"
   ]
  },
  {
   "cell_type": "code",
   "execution_count": 73,
   "id": "443a98d8",
   "metadata": {
    "ExecuteTime": {
     "end_time": "2021-07-23T05:25:25.303400Z",
     "start_time": "2021-07-23T05:25:25.290434Z"
    }
   },
   "outputs": [],
   "source": [
    "from sklearn.metrics import accuracy_score, precision_score, recall_score, confusion_matrix\n",
    "\n",
    "def get_clf_eval(y_test,pred):\n",
    "    confusion = confusion_matrix(y_test,pred) #오차행렬\n",
    "    accuracy = accuracy_score(y_test,pred) # 정확도\n",
    "    precision = precision_score(y_test,pred) # 정밀도\n",
    "    recall = recall_score(y_test,pred) # 재현율\n",
    "\n",
    "    print('오차행렬 :\\n',confusion)\n",
    "    print('정확도 : {0:.4f}'.format(accuracy))\n",
    "    print('정밀도 :',precision)\n",
    "    print('재현율 :',recall)"
   ]
  },
  {
   "cell_type": "code",
   "execution_count": 74,
   "id": "b1bc66ba",
   "metadata": {
    "ExecuteTime": {
     "end_time": "2021-07-23T05:25:25.954053Z",
     "start_time": "2021-07-23T05:25:25.896444Z"
    }
   },
   "outputs": [
    {
     "name": "stdout",
     "output_type": "stream",
     "text": [
      "오차행렬 :\n",
      " [[92 18]\n",
      " [16 53]]\n",
      "정확도 : 0.8101\n",
      "정밀도 : 0.7464788732394366\n",
      "재현율 : 0.7681159420289855\n"
     ]
    },
    {
     "name": "stderr",
     "output_type": "stream",
     "text": [
      "C:\\Users\\pc\\anaconda3\\lib\\site-packages\\sklearn\\linear_model\\_logistic.py:763: ConvergenceWarning: lbfgs failed to converge (status=1):\n",
      "STOP: TOTAL NO. of ITERATIONS REACHED LIMIT.\n",
      "\n",
      "Increase the number of iterations (max_iter) or scale the data as shown in:\n",
      "    https://scikit-learn.org/stable/modules/preprocessing.html\n",
      "Please also refer to the documentation for alternative solver options:\n",
      "    https://scikit-learn.org/stable/modules/linear_model.html#logistic-regression\n",
      "  n_iter_i = _check_optimize_result(\n"
     ]
    }
   ],
   "source": [
    "import pandas as pd\n",
    "from sklearn.model_selection import train_test_split\n",
    "from sklearn.metrics import accuracy_score\n",
    "\n",
    "# 원본 데이터를 재로딩, 데이터 가공, 학습데이터/테스트 데이터 분할. \n",
    "titanic_df = pd.read_csv('./titanic_train.csv')\n",
    "y_titanic_df = titanic_df['Survived']\n",
    "X_titanic_df= titanic_df.drop('Survived', axis=1)\n",
    "X_titanic_df = transform_features(X_titanic_df)\n",
    "X_train, X_test, y_train, y_test=train_test_split(X_titanic_df, y_titanic_df, \\\n",
    "                                                  test_size=0.2, random_state=0)\n",
    "\n",
    "# 위에서 생성한 Dummy Classifier를 이용하여 학습/예측/평가 수행. \n",
    "lrclf = LogisticRegression()\n",
    "lrclf.fit(X_train,y_train)\n",
    "pred=lrclf.predict(X_test)\n",
    "get_clf_eval(y_test,pred)"
   ]
  },
  {
   "cell_type": "code",
   "execution_count": 75,
   "id": "455f488d",
   "metadata": {
    "ExecuteTime": {
     "end_time": "2021-07-23T05:30:57.382303Z",
     "start_time": "2021-07-23T05:30:57.375322Z"
    }
   },
   "outputs": [
    {
     "data": {
      "text/plain": [
       "array([[0.85127656, 0.14872344],\n",
       "       [0.89229967, 0.10770033],\n",
       "       [0.93311939, 0.06688061],\n",
       "       [0.05349063, 0.94650937],\n",
       "       [0.31332509, 0.68667491],\n",
       "       [0.49059842, 0.50940158],\n",
       "       [0.0822201 , 0.9177799 ],\n",
       "       [0.06469866, 0.93530134],\n",
       "       [0.41255002, 0.58744998],\n",
       "       [0.29149245, 0.70850755]])"
      ]
     },
     "execution_count": 75,
     "metadata": {},
     "output_type": "execute_result"
    }
   ],
   "source": [
    "# predict_proba() :  0, 1 의 확률을 보여줌\n",
    "\n",
    "pred_proba = lrclf.predict_proba(X_test)\n",
    "pred_proba[:10]"
   ]
  },
  {
   "cell_type": "code",
   "execution_count": 77,
   "id": "5e77d266",
   "metadata": {
    "ExecuteTime": {
     "end_time": "2021-07-23T05:35:06.812387Z",
     "start_time": "2021-07-23T05:35:06.807422Z"
    }
   },
   "outputs": [],
   "source": [
    "pred = lr_clf.predict(X_test)"
   ]
  },
  {
   "cell_type": "code",
   "execution_count": 78,
   "id": "fc3dd051",
   "metadata": {
    "ExecuteTime": {
     "end_time": "2021-07-23T05:36:23.019937Z",
     "start_time": "2021-07-23T05:36:22.997942Z"
    }
   },
   "outputs": [
    {
     "name": "stdout",
     "output_type": "stream",
     "text": [
      "두 개의 class 중 더 큰 확률을 클래스 값으로 예측\n",
      "[[0.85127656 0.14872344 0.        ]\n",
      " [0.89229967 0.10770033 0.        ]\n",
      " [0.93311939 0.06688061 0.        ]\n",
      " [0.05349063 0.94650937 1.        ]\n",
      " [0.31332509 0.68667491 1.        ]\n",
      " [0.49059842 0.50940158 1.        ]\n",
      " [0.0822201  0.9177799  1.        ]\n",
      " [0.06469866 0.93530134 1.        ]\n",
      " [0.41255002 0.58744998 1.        ]\n",
      " [0.29149245 0.70850755 1.        ]\n",
      " [0.91284628 0.08715372 0.        ]\n",
      " [0.26908456 0.73091544 1.        ]\n",
      " [0.88018451 0.11981549 0.        ]\n",
      " [0.09166818 0.90833182 1.        ]\n",
      " [0.03353731 0.96646269 1.        ]\n",
      " [0.23062761 0.76937239 1.        ]\n",
      " [0.86101337 0.13898663 0.        ]\n",
      " [0.76364171 0.23635829 0.        ]\n",
      " [0.91228723 0.08771277 0.        ]\n",
      " [0.63771463 0.36228537 0.        ]\n",
      " [0.66798355 0.33201645 0.        ]\n",
      " [0.0532712  0.9467288  1.        ]\n",
      " [0.88018639 0.11981361 0.        ]\n",
      " [0.56675265 0.43324735 0.        ]\n",
      " [0.29665533 0.70334467 1.        ]\n",
      " [0.1037613  0.8962387  1.        ]\n",
      " [0.90140969 0.09859031 0.        ]\n",
      " [0.29727631 0.70272369 1.        ]\n",
      " [0.16926061 0.83073939 1.        ]\n",
      " [0.39591645 0.60408355 1.        ]\n",
      " [0.86932196 0.13067804 0.        ]\n",
      " [0.3623199  0.6376801  1.        ]\n",
      " [0.8847846  0.1152154  0.        ]\n",
      " [0.48881812 0.51118188 1.        ]\n",
      " [0.92266832 0.07733168 0.        ]\n",
      " [0.41097757 0.58902243 1.        ]\n",
      " [0.9363439  0.0636561  0.        ]\n",
      " [0.75600581 0.24399419 0.        ]\n",
      " [0.73070892 0.26929108 0.        ]\n",
      " [0.90421488 0.09578512 0.        ]\n",
      " [0.77598406 0.22401594 0.        ]\n",
      " [0.82530401 0.17469599 0.        ]\n",
      " [0.89134431 0.10865569 0.        ]\n",
      " [0.95442895 0.04557105 0.        ]\n",
      " [0.10584072 0.89415928 1.        ]\n",
      " [0.89225231 0.10774769 0.        ]\n",
      " [0.89225231 0.10774769 0.        ]\n",
      " [0.04730172 0.95269828 1.        ]\n",
      " [0.83212784 0.16787216 0.        ]\n",
      " [0.80869811 0.19130189 0.        ]\n",
      " [0.50612198 0.49387802 1.        ]\n",
      " [0.35461608 0.64538392 1.        ]\n",
      " [0.10945158 0.89054842 1.        ]\n",
      " [0.83935892 0.16064108 0.        ]\n",
      " [0.40217075 0.59782925 1.        ]\n",
      " [0.83985586 0.16014414 0.        ]\n",
      " [0.7954751  0.2045249  0.        ]\n",
      " [0.58761896 0.41238104 0.        ]\n",
      " [0.92856861 0.07143139 0.        ]\n",
      " [0.94049076 0.05950924 0.        ]\n",
      " [0.80589877 0.19410123 0.        ]\n",
      " [0.42851109 0.57148891 1.        ]\n",
      " [0.16695877 0.83304123 1.        ]\n",
      " [0.47412388 0.52587612 1.        ]\n",
      " [0.37639392 0.62360608 1.        ]\n",
      " [0.89024135 0.10975865 0.        ]\n",
      " [0.14404468 0.85595532 1.        ]\n",
      " [0.76339172 0.23660828 0.        ]\n",
      " [0.10095031 0.89904969 1.        ]\n",
      " [0.03909533 0.96090467 1.        ]\n",
      " [0.21209422 0.78790578 1.        ]\n",
      " [0.75278382 0.24721618 0.        ]\n",
      " [0.53909615 0.46090385 0.        ]\n",
      " [0.89223119 0.10776881 0.        ]\n",
      " [0.86875172 0.13124828 0.        ]\n",
      " [0.43565713 0.56434287 1.        ]\n",
      " [0.62197202 0.37802798 0.        ]\n",
      " [0.58823645 0.41176355 0.        ]\n",
      " [0.90896494 0.09103506 0.        ]\n",
      " [0.69795828 0.30204172 0.        ]\n",
      " [0.91411126 0.08588874 0.        ]\n",
      " [0.84267511 0.15732489 0.        ]\n",
      " [0.23980515 0.76019485 1.        ]\n",
      " [0.82120278 0.17879722 0.        ]\n",
      " [0.86801732 0.13198268 0.        ]\n",
      " [0.04472998 0.95527002 1.        ]\n",
      " [0.07691465 0.92308535 1.        ]\n",
      " [0.71130351 0.28869649 0.        ]\n",
      " [0.20153543 0.79846457 1.        ]\n",
      " [0.35007295 0.64992705 1.        ]\n",
      " [0.48611844 0.51388156 1.        ]\n",
      " [0.83935892 0.16064108 0.        ]\n",
      " [0.59306506 0.40693494 0.        ]\n",
      " [0.07920674 0.92079326 1.        ]\n",
      " [0.46972987 0.53027013 1.        ]\n",
      " [0.85257592 0.14742408 0.        ]\n",
      " [0.17580797 0.82419203 1.        ]\n",
      " [0.95802987 0.04197013 0.        ]\n",
      " [0.82907801 0.17092199 0.        ]\n",
      " [0.37326845 0.62673155 1.        ]\n",
      " [0.97063571 0.02936429 0.        ]\n",
      " [0.93226095 0.06773905 0.        ]\n",
      " [0.82215859 0.17784141 0.        ]\n",
      " [0.88865673 0.11134327 0.        ]\n",
      " [0.46066508 0.53933492 1.        ]\n",
      " [0.53693679 0.46306321 0.        ]\n",
      " [0.18016141 0.81983859 1.        ]\n",
      " [0.56821013 0.43178987 0.        ]\n",
      " [0.79799143 0.20200857 0.        ]\n",
      " [0.43392101 0.56607899 1.        ]\n",
      " [0.94792979 0.05207021 0.        ]\n",
      " [0.05459398 0.94540602 1.        ]\n",
      " [0.8950823  0.1049177  0.        ]\n",
      " [0.37066651 0.62933349 1.        ]\n",
      " [0.64194052 0.35805948 0.        ]\n",
      " [0.18008776 0.81991224 1.        ]\n",
      " [0.40331429 0.59668571 1.        ]\n",
      " [0.03134554 0.96865446 1.        ]\n",
      " [0.92806291 0.07193709 0.        ]\n",
      " [0.41669813 0.58330187 1.        ]\n",
      " [0.88541193 0.11458807 0.        ]\n",
      " [0.88007804 0.11992196 0.        ]\n",
      " [0.84493476 0.15506524 0.        ]\n",
      " [0.66151546 0.33848454 0.        ]\n",
      " [0.90507634 0.09492366 0.        ]\n",
      " [0.68140937 0.31859063 0.        ]\n",
      " [0.85257667 0.14742333 0.        ]\n",
      " [0.90937    0.09063    0.        ]\n",
      " [0.77188675 0.22811325 0.        ]\n",
      " [0.89263477 0.10736523 0.        ]\n",
      " [0.26437972 0.73562028 1.        ]\n",
      " [0.85060147 0.14939853 0.        ]\n",
      " [0.87134588 0.12865412 0.        ]\n",
      " [0.36464722 0.63535278 1.        ]\n",
      " [0.85221131 0.14778869 0.        ]\n",
      " [0.85060147 0.14939853 0.        ]\n",
      " [0.91592821 0.08407179 0.        ]\n",
      " [0.57592087 0.42407913 0.        ]\n",
      " [0.89948805 0.10051195 0.        ]\n",
      " [0.71343831 0.28656169 0.        ]\n",
      " [0.75534814 0.24465186 0.        ]\n",
      " [0.0871205  0.9128795  1.        ]\n",
      " [0.89223119 0.10776881 0.        ]\n",
      " [0.24030227 0.75969773 1.        ]\n",
      " [0.18677248 0.81322752 1.        ]\n",
      " [0.31522819 0.68477181 1.        ]\n",
      " [0.77090399 0.22909601 0.        ]\n",
      " [0.36873989 0.63126011 1.        ]\n",
      " [0.07834847 0.92165153 1.        ]\n",
      " [0.89214724 0.10785276 0.        ]\n",
      " [0.71900829 0.28099171 0.        ]\n",
      " [0.37221795 0.62778205 1.        ]\n",
      " [0.44588314 0.55411686 1.        ]\n",
      " [0.88934212 0.11065788 0.        ]\n",
      " [0.08724665 0.91275335 1.        ]\n",
      " [0.73977982 0.26022018 0.        ]\n",
      " [0.45825484 0.54174516 1.        ]\n",
      " [0.93049172 0.06950828 0.        ]\n",
      " [0.34323364 0.65676636 1.        ]\n",
      " [0.21575771 0.78424229 1.        ]\n",
      " [0.89225231 0.10774769 0.        ]\n",
      " [0.79207821 0.20792179 0.        ]\n",
      " [0.2083493  0.7916507  1.        ]\n",
      " [0.68651209 0.31348791 0.        ]\n",
      " [0.83046211 0.16953789 0.        ]\n",
      " [0.85683918 0.14316082 0.        ]\n",
      " [0.95399672 0.04600328 0.        ]\n",
      " [0.85603346 0.14396654 0.        ]\n",
      " [0.86630387 0.13369613 0.        ]\n",
      " [0.82725454 0.17274546 0.        ]\n",
      " [0.95393441 0.04606559 0.        ]\n",
      " [0.08727149 0.91272851 1.        ]\n",
      " [0.89234074 0.10765926 0.        ]\n",
      " [0.89134431 0.10865569 0.        ]\n",
      " [0.16702253 0.83297747 1.        ]\n",
      " [0.89223119 0.10776881 0.        ]\n",
      " [0.06616555 0.93383445 1.        ]\n",
      " [0.86124694 0.13875306 0.        ]\n",
      " [0.83932929 0.16067071 0.        ]]\n"
     ]
    }
   ],
   "source": [
    "pred_proba_result = np.concatenate([pred_proba, pred.reshape(-1,1)], axis=1)\n",
    "\n",
    "print('두 개의 class 중 더 큰 확률을 클래스 값으로 예측')\n",
    "print(pred_proba_result)"
   ]
  },
  {
   "cell_type": "code",
   "execution_count": 85,
   "id": "279ee8cc",
   "metadata": {
    "ExecuteTime": {
     "end_time": "2021-07-23T06:05:38.179066Z",
     "start_time": "2021-07-23T06:05:38.171088Z"
    }
   },
   "outputs": [
    {
     "name": "stdout",
     "output_type": "stream",
     "text": [
      "[[0. 0. 1.]\n",
      " [0. 1. 0.]\n",
      " [0. 0. 1.]]\n"
     ]
    }
   ],
   "source": [
    "from sklearn.preprocessing import Binarizer\n",
    "\n",
    "# Binarizer :  넘파이 ndarray 입력값을 지정된 threeshold 보다 같거나 작으면 0값으로, \n",
    "#높으면 1로 변환해서 반환\n",
    "\n",
    "X=[[3,5,7],\n",
    "  [2,8,4],\n",
    "  [0,1.5,8]]\n",
    "# threshold 기준값보다 작으면 0을 , 높으면 1을 반환\n",
    "binarizer = Binarizer(threshold=5)\n",
    "print(binarizer.fit_transform(X))\n"
   ]
  },
  {
   "cell_type": "code",
   "execution_count": 81,
   "id": "7fd58c9b",
   "metadata": {
    "ExecuteTime": {
     "end_time": "2021-07-23T05:45:33.482640Z",
     "start_time": "2021-07-23T05:45:33.468678Z"
    }
   },
   "outputs": [
    {
     "name": "stdout",
     "output_type": "stream",
     "text": [
      "오차행렬 :\n",
      " [[86 24]\n",
      " [13 56]]\n",
      "정확도 : 0.7933\n",
      "정밀도 : 0.7\n",
      "재현율 : 0.8115942028985508\n"
     ]
    }
   ],
   "source": [
    "from sklearn.preprocessing import Binarizer\n",
    "\n",
    "#binarizer의 threshold 설정값, 분류결정 임계값 = 0.5 로 설정\n",
    "threshold=0.4\n",
    "\n",
    "# predict_proba()반환값([0확률 1확률])의 두번째 컬럼,\n",
    "# 즉 positive 클래스 컬럼 하나만 추출하여 binarizer를 적용\n",
    "pred_proba_1 = pred_proba[:,1].reshape(-1,1)\n",
    "\n",
    "bina = Binarizer(threshold=threshold).fit(pred_proba_1)\n",
    "custom_predict = bina.transform(pred_proba_1)\n",
    "get_clf_eval(y_test, custom_predict)"
   ]
  },
  {
   "cell_type": "code",
   "execution_count": null,
   "id": "57523541",
   "metadata": {},
   "outputs": [],
   "source": []
  },
  {
   "cell_type": "code",
   "execution_count": 95,
   "id": "7e92de90",
   "metadata": {
    "ExecuteTime": {
     "end_time": "2021-07-23T06:28:57.985823Z",
     "start_time": "2021-07-23T06:28:57.968869Z"
    }
   },
   "outputs": [
    {
     "name": "stdout",
     "output_type": "stream",
     "text": [
      "반환되는 인덱스:  [  0  15  30  45  60  75  90 105 120 135 150]\n",
      "임계값 sample :  [0.075 0.107 0.123 0.15  0.21  0.311 0.449 0.587 0.651 0.793 0.917]\n",
      "정밀도 sample :  [0.401 0.42  0.467 0.529 0.59  0.678 0.733 0.817 0.844 1.    1.   ]\n",
      "재현율 sample :  [1.    0.957 0.928 0.928 0.899 0.884 0.797 0.71  0.551 0.435 0.217]\n"
     ]
    }
   ],
   "source": [
    "from sklearn.metrics import precision_recall_curve\n",
    "pred_proba_class1=lr_clf.predict_proba(X_test)[:,1]\n",
    "\n",
    "precisions, recalls, thresholds = precision_recall_curve(y_test,pred_proba_class1)\n",
    "idx=np.arange(0,thresholds.shape[0],15)\n",
    "print('반환되는 인덱스: ',idx)\n",
    "print('임계값 sample : ',np.round(thresholds[idx],3))\n",
    "print('정밀도 sample : ',np.round(precisions[idx],3))\n",
    "print('재현율 sample : ',np.round(recalls[idx],3))"
   ]
  },
  {
   "cell_type": "code",
   "execution_count": 97,
   "id": "1784479f",
   "metadata": {
    "ExecuteTime": {
     "end_time": "2021-07-23T06:36:58.971770Z",
     "start_time": "2021-07-23T06:36:58.799206Z"
    }
   },
   "outputs": [
    {
     "data": {
      "image/png": "[encoded data removed]",
      "text/plain": [
       "<Figure size 576x432 with 1 Axes>"
      ]
     },
     "metadata": {
      "needs_background": "light"
     },
     "output_type": "display_data"
    }
   ],
   "source": [
    "import matplotlib.pyplot as plt\n",
    "import matplotlib.ticker as ticker\n",
    "%matplotlib inline\n",
    "\n",
    "# y_test 실제값 pred proba_c1: 예측 확률 값\n",
    "def precision_recall_curve_plot(y_test,pred_proba_c1):\n",
    "    precisions, recalls, thresholds = precision_recall_curve(y_test, pred_proba_c1)\n",
    "    \n",
    "    plt.figure(figsize=(8,6))\n",
    "    threshold_boundary = thresholds.shape[0]\n",
    "    plt.plot(thresholds, precisions[0:threshold_boundary], linestyle='--', label='precision')\n",
    "    plt.plot(thresholds, recalls[0:threshold_boundary], label='recall')\n",
    "    \n",
    "    start, end = plt.xlim()\n",
    "    plt.xticks(np.round(np.arange(start,end,0.1),2))\n",
    "    \n",
    "    plt.xlabel('Treshold value'); plt.ylabel('Precision and Recall value')\n",
    "    plt.legend(); plt.grid()\n",
    "    plt.show()\n",
    "\n",
    "precision_recall_curve_plot(y_test,lr_clf.predict_proba(X_test)[:,1])"
   ]
  },
  {
   "cell_type": "markdown",
   "id": "8d083dfa",
   "metadata": {},
   "source": [
    "F1 SCORE\n",
    "\n",
    "- 정밀도와 재현율의 조화평균\n",
    "- 정밀도와 재현율이 어느 한쪽으로 치우치지 않는 수치를 나타낼때 상대적으로 높은 값을 가짐\n"
   ]
  },
  {
   "cell_type": "code",
   "execution_count": 100,
   "id": "95fdec28",
   "metadata": {
    "ExecuteTime": {
     "end_time": "2021-07-23T06:50:28.311688Z",
     "start_time": "2021-07-23T06:50:28.293737Z"
    }
   },
   "outputs": [],
   "source": [
    "from sklearn.metrics import accuracy_score, precision_score, recall_score, confusion_matrix, f1_score\n",
    "\n",
    "def get_clf_eval(y_test,pred):\n",
    "    confusion = confusion_matrix(y_test,pred) #오차행렬\n",
    "    accuracy = accuracy_score(y_test,pred) # 정확도\n",
    "    precision = precision_score(y_test,pred) # 정밀도\n",
    "    recall = recall_score(y_test,pred) # 재현율\n",
    "    \n",
    "    #F1스코어 추가\n",
    "    f1 = f1_score(y_test,pred)\n",
    "    print('오차행렬 :\\n',confusion)\n",
    "    print('정확도 : {0:.4f}, 정밀도 :{1:.4f}, 재현율:{2:.4f}, F1:{3:.4f}'.format(accuracy, precision,recall,f1))\n",
    "    "
   ]
  },
  {
   "cell_type": "code",
   "execution_count": 101,
   "id": "3f30d5de",
   "metadata": {
    "ExecuteTime": {
     "end_time": "2021-07-23T06:52:32.587136Z",
     "start_time": "2021-07-23T06:52:32.574647Z"
    }
   },
   "outputs": [
    {
     "ename": "NameError",
     "evalue": "name 'get_eval_by_threshold' is not defined",
     "output_type": "error",
     "traceback": [
      "\u001b[1;31m---------------------------------------------------------------------------\u001b[0m",
      "\u001b[1;31mNameError\u001b[0m                                 Traceback (most recent call last)",
      "\u001b[1;32m<ipython-input-101-2be216d444a6>\u001b[0m in \u001b[0;36m<module>\u001b[1;34m\u001b[0m\n\u001b[0;32m      2\u001b[0m \u001b[0mthresholds\u001b[0m\u001b[1;33m=\u001b[0m\u001b[1;33m[\u001b[0m\u001b[1;36m0.4\u001b[0m\u001b[1;33m,\u001b[0m\u001b[1;36m0.45\u001b[0m\u001b[1;33m,\u001b[0m\u001b[1;36m0.50\u001b[0m\u001b[1;33m,\u001b[0m\u001b[1;36m0.55\u001b[0m\u001b[1;33m,\u001b[0m\u001b[1;36m0.60\u001b[0m\u001b[1;33m]\u001b[0m\u001b[1;33m\u001b[0m\u001b[1;33m\u001b[0m\u001b[0m\n\u001b[0;32m      3\u001b[0m \u001b[0mpred_proba\u001b[0m \u001b[1;33m=\u001b[0m \u001b[0mlr_clf\u001b[0m\u001b[1;33m.\u001b[0m\u001b[0mpredict_proba\u001b[0m\u001b[1;33m(\u001b[0m\u001b[0mX_test\u001b[0m\u001b[1;33m)\u001b[0m\u001b[1;33m\u001b[0m\u001b[1;33m\u001b[0m\u001b[0m\n\u001b[1;32m----> 4\u001b[1;33m \u001b[0mget_eval_by_threshold\u001b[0m\u001b[1;33m(\u001b[0m\u001b[0my_test\u001b[0m\u001b[1;33m,\u001b[0m\u001b[0mpred_proba\u001b[0m\u001b[1;33m[\u001b[0m\u001b[1;33m:\u001b[0m\u001b[1;33m,\u001b[0m\u001b[1;36m1\u001b[0m\u001b[1;33m]\u001b[0m\u001b[1;33m.\u001b[0m\u001b[0mreshape\u001b[0m\u001b[1;33m(\u001b[0m\u001b[1;33m-\u001b[0m\u001b[1;36m1\u001b[0m\u001b[1;33m,\u001b[0m\u001b[1;36m1\u001b[0m\u001b[1;33m)\u001b[0m\u001b[1;33m,\u001b[0m\u001b[0mthresholds\u001b[0m\u001b[1;33m)\u001b[0m\u001b[1;33m\u001b[0m\u001b[1;33m\u001b[0m\u001b[0m\n\u001b[0m",
      "\u001b[1;31mNameError\u001b[0m: name 'get_eval_by_threshold' is not defined"
     ]
    }
   ],
   "source": [
    "# 임계값이 0.4~0.6별로 정확도,정밀도, 재현율, F1 스코어 확인\n",
    "thresholds=[0.4,0.45,0.50,0.55,0.60]\n",
    "pred_proba = lr_clf.predict_proba(X_test)\n",
    "get_eval_by_threshold(y_test,pred_proba[:,1].reshape(-1,1),thresholds)"
   ]
  },
  {
   "cell_type": "code",
   "execution_count": 109,
   "id": "e200b32c",
   "metadata": {
    "ExecuteTime": {
     "end_time": "2021-07-23T08:08:52.442282Z",
     "start_time": "2021-07-23T08:08:52.421337Z"
    }
   },
   "outputs": [
    {
     "ename": "AttributeError",
     "evalue": "module 'numpy' has no attribute 'arnge'",
     "output_type": "error",
     "traceback": [
      "\u001b[1;31m---------------------------------------------------------------------------\u001b[0m",
      "\u001b[1;31mAttributeError\u001b[0m                            Traceback (most recent call last)",
      "\u001b[1;32m<ipython-input-109-82cc9c46ed88>\u001b[0m in \u001b[0;36m<module>\u001b[1;34m\u001b[0m\n\u001b[0;32m      3\u001b[0m \u001b[0mfprs\u001b[0m\u001b[1;33m,\u001b[0m \u001b[0mtprs\u001b[0m\u001b[1;33m,\u001b[0m \u001b[0mthresholds\u001b[0m \u001b[1;33m=\u001b[0m \u001b[0mroc_curve\u001b[0m\u001b[1;33m(\u001b[0m\u001b[0my_test\u001b[0m\u001b[1;33m,\u001b[0m \u001b[0mpred_proba_class1\u001b[0m\u001b[1;33m)\u001b[0m\u001b[1;33m\u001b[0m\u001b[1;33m\u001b[0m\u001b[0m\n\u001b[0;32m      4\u001b[0m \u001b[1;33m\u001b[0m\u001b[0m\n\u001b[1;32m----> 5\u001b[1;33m \u001b[0mthr_index\u001b[0m \u001b[1;33m=\u001b[0m \u001b[0mnp\u001b[0m\u001b[1;33m.\u001b[0m\u001b[0marnge\u001b[0m\u001b[1;33m(\u001b[0m\u001b[1;36m1\u001b[0m\u001b[1;33m,\u001b[0m\u001b[0mthresholds\u001b[0m\u001b[1;33m.\u001b[0m\u001b[0mshape\u001b[0m\u001b[1;33m[\u001b[0m\u001b[1;36m0\u001b[0m\u001b[1;33m]\u001b[0m\u001b[1;33m,\u001b[0m\u001b[1;36m5\u001b[0m\u001b[1;33m)\u001b[0m\u001b[1;33m\u001b[0m\u001b[1;33m\u001b[0m\u001b[0m\n\u001b[0m\u001b[0;32m      6\u001b[0m \u001b[0mprint\u001b[0m\u001b[1;33m(\u001b[0m\u001b[1;34m'샘플 추출을 위한 임곗값 배열의 index'\u001b[0m\u001b[1;33m)\u001b[0m\u001b[1;33m\u001b[0m\u001b[1;33m\u001b[0m\u001b[0m\n",
      "\u001b[1;32m~\\anaconda3\\lib\\site-packages\\numpy\\__init__.py\u001b[0m in \u001b[0;36m__getattr__\u001b[1;34m(attr)\u001b[0m\n\u001b[0;32m    301\u001b[0m                 \u001b[1;32mreturn\u001b[0m \u001b[0mTester\u001b[0m\u001b[1;33m\u001b[0m\u001b[1;33m\u001b[0m\u001b[0m\n\u001b[0;32m    302\u001b[0m \u001b[1;33m\u001b[0m\u001b[0m\n\u001b[1;32m--> 303\u001b[1;33m             raise AttributeError(\"module {!r} has no attribute \"\n\u001b[0m\u001b[0;32m    304\u001b[0m                                  \"{!r}\".format(__name__, attr))\n\u001b[0;32m    305\u001b[0m \u001b[1;33m\u001b[0m\u001b[0m\n",
      "\u001b[1;31mAttributeError\u001b[0m: module 'numpy' has no attribute 'arnge'"
     ]
    }
   ],
   "source": [
    "from sklearn.metrics import roc_curve\n",
    "pred_proba_class1 = lr_clf.predict_proba(X_test)[:,-1]\n",
    "fprs, tprs, thresholds = roc_curve(y_test, pred_proba_class1)\n",
    "\n",
    "thr_index = np.arnge(1,thresholds.shape[0],5)\n",
    "print('샘플 추출을 위한 임곗값 배열의 index')"
   ]
  },
  {
   "cell_type": "code",
   "execution_count": 110,
   "id": "1b320679",
   "metadata": {
    "ExecuteTime": {
     "end_time": "2021-07-23T08:08:53.182897Z",
     "start_time": "2021-07-23T08:08:53.171927Z"
    }
   },
   "outputs": [],
   "source": [
    "from sklearn.metrics import accuracy_score, precision_score, recall_score, confusion_matrix, f1_score, roc_auc_score\n",
    "\n",
    "def get_clf_eval(y_test,pred=None,pred_proba=None):\n",
    "    confusion = confusion_matrix(y_test,pred_proba) #오차행렬\n",
    "    accuracy = accuracy_score(y_test,pred_proba) # 정확도\n",
    "    precision = precision_score(y_test,pred_proba) # 정밀도\n",
    "    recall = recall_score(y_test,pred_proba) # 재현율\n",
    "    f1 = f1_score(y_test,pred_proba)\n",
    "    # 값이 1에 가까울수록 좋음\n",
    "    roc = roc_auc_score(y_test,pred_proba)\n",
    "    \n",
    "    #F1스코어 추가\n",
    "   \n",
    "    print('오차행렬 :\\n',confusion)\n",
    "    print('정확도 : {0:.4f}, 정밀도 :{1:.4f}, 재현율:{2:.4f}, F1:{3:.4f},AUC:{4:4f}'\n",
    "          .format(accuracy, precision,recall,f1,roc))\n",
    "    "
   ]
  },
  {
   "cell_type": "code",
   "execution_count": null,
   "id": "7f9b8059",
   "metadata": {},
   "outputs": [],
   "source": []
  }
 ],
 "metadata": {
  "hide_input": false,
  "kernelspec": {
   "display_name": "Python 3",
   "language": "python",
   "name": "python3"
  },
  "language_info": {
   "codemirror_mode": {
    "name": "ipython",
    "version": 3
   },
   "file_extension": ".py",
   "mimetype": "text/x-python",
   "name": "python",
   "nbconvert_exporter": "python",
   "pygments_lexer": "ipython3",
   "version": "3.8.8"
  },
  "toc": {
   "base_numbering": 1,
   "nav_menu": {},
   "number_sections": true,
   "sideBar": true,
   "skip_h1_title": false,
   "title_cell": "Table of Contents",
   "title_sidebar": "Contents",
   "toc_cell": false,
   "toc_position": {},
   "toc_section_display": true,
   "toc_window_display": false
  },
  "varInspector": {
   "cols": {
    "lenName": 16,
    "lenType": 16,
    "lenVar": 40
   },
   "kernels_config": {
    "python": {
     "delete_cmd_postfix": "",
     "delete_cmd_prefix": "del ",
     "library": "var_list.py",
     "varRefreshCmd": "print(var_dic_list())"
    },
    "r": {
     "delete_cmd_postfix": ") ",
     "delete_cmd_prefix": "rm(",
     "library": "var_list.r",
     "varRefreshCmd": "cat(var_dic_list()) "
    }
   },
   "types_to_exclude": [
    "module",
    "function",
    "builtin_function_or_method",
    "instance",
    "_Feature"
   ],
   "window_display": false
  }
 },
 "nbformat": 4,
 "nbformat_minor": 5
}
