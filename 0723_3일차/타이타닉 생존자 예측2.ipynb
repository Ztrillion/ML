{
 "cells": [
  {
   "cell_type": "markdown",
   "id": "1674bd04",
   "metadata": {
    "ExecuteTime": {
     "end_time": "2021-07-25T07:21:29.146380Z",
     "start_time": "2021-07-25T07:21:28.210616Z"
    }
   },
   "source": [
    "## 데이터 전처리\n",
    "\n",
    "- Null값 처리\n",
    "- 불필요한 피처 제거\n",
    "- Encoding 등"
   ]
  },
  {
   "cell_type": "code",
   "execution_count": 3,
   "id": "b6c4e6bc",
   "metadata": {
    "ExecuteTime": {
     "end_time": "2021-07-25T07:24:48.931301Z",
     "start_time": "2021-07-25T07:24:48.917340Z"
    }
   },
   "outputs": [],
   "source": [
    "from sklearn.preprocessing import LabelEncoder\n",
    "\n",
    "def fillna(df):\n",
    "    df['Age'].fillna(df['Age'].mean, inplace=True)\n",
    "    df['Cabin'].fillna('N', inplace=True)\n",
    "    df['Embarked'].fillna('N', inplace=True)\n",
    "    df['Fare'].fillna(0, inplace=True)\n",
    "    return df\n",
    "\n",
    "def drop_features(df):\n",
    "    df.drop(['PassengerId','Name','Ticket'],axis=1,inplace=True)\n",
    "    return df\n",
    "\n",
    "def encoding(df):\n",
    "    df['Cabin'] = df['Cabin'].str[0]\n",
    "    features = ['Cabin','Sex','Embarked']\n",
    "    for feature in features:\n",
    "        encoder = LabelEncoder()\n",
    "        encoder = encoder.fit(df[feature])\n",
    "        df[feature] = encoder.transform(df[feature])\n",
    "    return df\n",
    "\n",
    "def transform_features(df):\n",
    "    df = fillna(df)\n",
    "    df = drop_features(df)\n",
    "    df = encoding(df)\n",
    "    return df"
   ]
  },
  {
   "cell_type": "markdown",
   "id": "9c3e6c4e",
   "metadata": {},
   "source": [
    "데이터 전처리를 수행하는 tranfrom_features() 함수로 원본데이터 가공"
   ]
  },
  {
   "cell_type": "code",
   "execution_count": 4,
   "id": "11db9399",
   "metadata": {
    "ExecuteTime": {
     "end_time": "2021-07-25T07:24:50.244795Z",
     "start_time": "2021-07-25T07:24:50.222134Z"
    }
   },
   "outputs": [],
   "source": [
    "# 원본데이터 로드, 피처 데이터 세트와 레이블 데이터 세트 추출\n",
    "import pandas as pd\n",
    "import numpy as np\n",
    "titanic_df = pd.read_csv('titanic_train.csv')\n",
    "y = titanic_df['Survived']\n",
    "X = titanic_df.drop(['Survived'],axis=1)\n",
    "X= transform_features(X)"
   ]
  },
  {
   "cell_type": "code",
   "execution_count": 5,
   "id": "a202285d",
   "metadata": {
    "ExecuteTime": {
     "end_time": "2021-07-25T07:26:20.365881Z",
     "start_time": "2021-07-25T07:26:20.349946Z"
    }
   },
   "outputs": [],
   "source": [
    "# train, test 분리\n",
    "from sklearn.model_selection import train_test_split\n",
    "X_train,X_test,y_train,y_test = train_test_split(X,y, test_size=0.2,random_state=11)"
   ]
  },
  {
   "cell_type": "code",
   "execution_count": null,
   "id": "14008455",
   "metadata": {},
   "outputs": [],
   "source": []
  }
 ],
 "metadata": {
  "hide_input": false,
  "kernelspec": {
   "display_name": "Python 3",
   "language": "python",
   "name": "python3"
  },
  "language_info": {
   "codemirror_mode": {
    "name": "ipython",
    "version": 3
   },
   "file_extension": ".py",
   "mimetype": "text/x-python",
   "name": "python",
   "nbconvert_exporter": "python",
   "pygments_lexer": "ipython3",
   "version": "3.8.8"
  },
  "toc": {
   "base_numbering": 1,
   "nav_menu": {},
   "number_sections": true,
   "sideBar": true,
   "skip_h1_title": false,
   "title_cell": "Table of Contents",
   "title_sidebar": "Contents",
   "toc_cell": false,
   "toc_position": {},
   "toc_section_display": true,
   "toc_window_display": false
  },
  "varInspector": {
   "cols": {
    "lenName": 16,
    "lenType": 16,
    "lenVar": 40
   },
   "kernels_config": {
    "python": {
     "delete_cmd_postfix": "",
     "delete_cmd_prefix": "del ",
     "library": "var_list.py",
     "varRefreshCmd": "print(var_dic_list())"
    },
    "r": {
     "delete_cmd_postfix": ") ",
     "delete_cmd_prefix": "rm(",
     "library": "var_list.r",
     "varRefreshCmd": "cat(var_dic_list()) "
    }
   },
   "types_to_exclude": [
    "module",
    "function",
    "builtin_function_or_method",
    "instance",
    "_Feature"
   ],
   "window_display": false
  }
 },
 "nbformat": 4,
 "nbformat_minor": 5
}
