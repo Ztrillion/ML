{
 "cells": [
  {
   "cell_type": "markdown",
   "id": "ca959aa8",
   "metadata": {
    "ExecuteTime": {
     "end_time": "2021-07-25T07:21:29.146380Z",
     "start_time": "2021-07-25T07:21:28.210616Z"
    }
   },
   "source": [
    "## 데이터 전처리\n",
    "\n",
    "- Null값 처리\n",
    "- 불필요한 피처 제거\n",
    "- Encoding 등"
   ]
  },
  {
   "cell_type": "code",
   "execution_count": 1,
   "id": "d3b8e513",
   "metadata": {
    "ExecuteTime": {
     "end_time": "2021-07-25T15:16:29.298719Z",
     "start_time": "2021-07-25T15:16:28.376413Z"
    }
   },
   "outputs": [],
   "source": [
    "from sklearn.preprocessing import LabelEncoder\n",
    "\n",
    "# Null 처리 함수\n",
    "def fillna(df):\n",
    "    df['Age'].fillna(df['Age'].mean(),inplace=True)\n",
    "    df['Cabin'].fillna('N',inplace=True)\n",
    "    df['Embarked'].fillna('N',inplace=True)\n",
    "    df['Fare'].fillna(0,inplace=True)\n",
    "    return df\n",
    "\n",
    "# 머신러닝 알고리즘에 불필요한 속성 제거\n",
    "def drop_features(df):\n",
    "    df.drop(['PassengerId','Name','Ticket'],axis=1,inplace=True)\n",
    "    return df\n",
    "\n",
    "# 레이블 인코딩 수행. \n",
    "def format_features(df):\n",
    "    df['Cabin'] = df['Cabin'].str[:1]\n",
    "    features = ['Cabin','Sex','Embarked']\n",
    "    for feature in features:\n",
    "        le = LabelEncoder()\n",
    "        le = le.fit(df[feature])\n",
    "        df[feature] = le.transform(df[feature])\n",
    "    return df\n",
    "\n",
    "# 앞에서 설정한 Data Preprocessing 함수 호출\n",
    "def transform_features(df):\n",
    "    df = fillna(df)\n",
    "    df = drop_features(df)\n",
    "    df = format_features(df)\n",
    "    return df\n"
   ]
  },
  {
   "cell_type": "code",
   "execution_count": 2,
   "id": "61babbb6",
   "metadata": {
    "ExecuteTime": {
     "end_time": "2021-07-25T15:16:30.052538Z",
     "start_time": "2021-07-25T15:16:29.767401Z"
    }
   },
   "outputs": [],
   "source": [
    "# 원본 데이터를 재로딩 하고, feature데이터 셋과 Label 데이터 셋 추출. \n",
    "import pandas as pd\n",
    "titanic_df = pd.read_csv('./titanic_train.csv')\n",
    "\n",
    "y = titanic_df['Survived']\n",
    "X= titanic_df.drop('Survived',axis=1)\n",
    "\n",
    "X = transform_features(X)"
   ]
  },
  {
   "cell_type": "code",
   "execution_count": 3,
   "id": "414d05e3",
   "metadata": {
    "ExecuteTime": {
     "end_time": "2021-07-25T15:16:30.700158Z",
     "start_time": "2021-07-25T15:16:30.664384Z"
    }
   },
   "outputs": [],
   "source": [
    "from sklearn.model_selection import train_test_split\n",
    "X_train, X_test, y_train, y_test=train_test_split(X, y,test_size=0.2, random_state=11)"
   ]
  },
  {
   "cell_type": "markdown",
   "id": "c08ec944",
   "metadata": {},
   "source": [
    "데이터 전처리를 수행하는 tranfrom_features() 함수로 원본데이터 가공"
   ]
  },
  {
   "cell_type": "code",
   "execution_count": 4,
   "id": "db30540f",
   "metadata": {
    "ExecuteTime": {
     "end_time": "2021-07-25T15:16:32.888093Z",
     "start_time": "2021-07-25T15:16:32.624256Z"
    }
   },
   "outputs": [
    {
     "name": "stdout",
     "output_type": "stream",
     "text": [
      "DecisionTreeClassifier 정확도: 0.7877\n",
      "RandomForestClassifier 정확도:0.8547\n",
      "LogisticRegression 정확도: 0.8492\n"
     ]
    },
    {
     "name": "stderr",
     "output_type": "stream",
     "text": [
      "C:\\Users\\pc\\anaconda3\\lib\\site-packages\\sklearn\\linear_model\\_logistic.py:763: ConvergenceWarning: lbfgs failed to converge (status=1):\n",
      "STOP: TOTAL NO. of ITERATIONS REACHED LIMIT.\n",
      "\n",
      "Increase the number of iterations (max_iter) or scale the data as shown in:\n",
      "    https://scikit-learn.org/stable/modules/preprocessing.html\n",
      "Please also refer to the documentation for alternative solver options:\n",
      "    https://scikit-learn.org/stable/modules/linear_model.html#logistic-regression\n",
      "  n_iter_i = _check_optimize_result(\n"
     ]
    }
   ],
   "source": [
    "from sklearn.tree import DecisionTreeClassifier\n",
    "from sklearn.ensemble import RandomForestClassifier\n",
    "from sklearn.linear_model import LogisticRegression\n",
    "from sklearn.metrics import accuracy_score\n",
    "\n",
    "# 결정트리, Random Forest, 로지스틱 회귀를 위한 사이킷런 Classifier 클래스 생성\n",
    "dt_clf = DecisionTreeClassifier(random_state=11)\n",
    "rf_clf = RandomForestClassifier(random_state=11)\n",
    "lr_clf = LogisticRegression()\n",
    "\n",
    "# DecisionTreeClassifier 학습/예측/평가\n",
    "dt_clf.fit(X_train , y_train)\n",
    "dt_pred = dt_clf.predict(X_test)\n",
    "print('DecisionTreeClassifier 정확도: {0:.4f}'.format(accuracy_score(y_test, dt_pred)))\n",
    "\n",
    "# RandomForestClassifier 학습/예측/평가\n",
    "rf_clf.fit(X_train , y_train)\n",
    "rf_pred = rf_clf.predict(X_test)\n",
    "print('RandomForestClassifier 정확도:{0:.4f}'.format(accuracy_score(y_test, rf_pred)))\n",
    "\n",
    "# LogisticRegression 학습/예측/평가\n",
    "lr_clf.fit(X_train , y_train)\n",
    "lr_pred = lr_clf.predict(X_test)\n",
    "print('LogisticRegression 정확도: {0:.4f}'.format(accuracy_score(y_test, lr_pred)))"
   ]
  },
  {
   "cell_type": "markdown",
   "id": "321001b5",
   "metadata": {},
   "source": [
    "랜덤 포레스트가 가장 정확도가 높게 나왔는데 교재는 왜 로지스틱이 가장 높은지... 내가 뭘 잘못했나?...\n",
    "크흠... "
   ]
  },
  {
   "cell_type": "markdown",
   "id": "524e64e9",
   "metadata": {},
   "source": [
    "# 교차검증\n",
    "\n",
    "- model_selection패키지의 KFold 클래스, cross_val_score, GridSeachCV\n",
    "\n",
    "## KFold 교차검증 수행"
   ]
  },
  {
   "cell_type": "code",
   "execution_count": 5,
   "id": "6ad1e6a6",
   "metadata": {
    "ExecuteTime": {
     "end_time": "2021-07-25T15:16:41.523265Z",
     "start_time": "2021-07-25T15:16:41.496352Z"
    }
   },
   "outputs": [
    {
     "name": "stdout",
     "output_type": "stream",
     "text": [
      "교차검증 0, 정확도 :0.7542\n",
      "교차검증 1, 정확도 :0.7809\n",
      "교차검증 2, 정확도 :0.7865\n",
      "교차검증 3, 정확도 :0.7697\n",
      "교차검증 4, 정확도 :0.8202\n",
      "평균정확도 :0.7823\n"
     ]
    }
   ],
   "source": [
    "from sklearn.model_selection import KFold\n",
    "\n",
    "def kfold(clf,folds=5):\n",
    "    # 폴드세트 5개인 KFold 객체 생성, 폴드 수만큼 예측결과 저장을 위한 리스트 생성\n",
    "    kfold = KFold(n_splits=folds)\n",
    "    scores=[]\n",
    "    \n",
    "    #KFold 교차검증 수행\n",
    "    for iter_count, (train_index, test_index) in enumerate(kfold.split(X)):\n",
    "       \n",
    "        #X 데이터에서 교차검증별 학습과 검증 데이터를 가리키는 index 생성\n",
    "        X_train, X_test = X.values[train_index],X.values[test_index]\n",
    "        y_train, y_test = y.values[train_index],y.values[test_index]\n",
    "        \n",
    "        # classfier 학습, 예측, 정확도 계산\n",
    "        clf.fit(X_train,y_train)\n",
    "        pred = clf.predict(X_test)\n",
    "        accuracy = accuracy_score(y_test,pred)\n",
    "        scores.append(accuracy)\n",
    "        print('교차검증 {0}, 정확도 :{1:.4f}'.format(iter_count,accuracy))\n",
    "        \n",
    "    # 5개의 평균정확도 계산\n",
    "    mean_score = np.mean(scores)\n",
    "    print('평균정확도 :{0:.4f}'.format(mean_score))\n",
    "\n",
    "# kfold 호출\n",
    "kfold(dt_clf,folds=5)"
   ]
  },
  {
   "cell_type": "markdown",
   "id": "14bbb27b",
   "metadata": {},
   "source": [
    "## cross_val_score() 를 이용한 검증"
   ]
  },
  {
   "cell_type": "code",
   "execution_count": 6,
   "id": "3df2e7ea",
   "metadata": {
    "ExecuteTime": {
     "end_time": "2021-07-25T15:16:44.196650Z",
     "start_time": "2021-07-25T15:16:44.159625Z"
    }
   },
   "outputs": [
    {
     "name": "stdout",
     "output_type": "stream",
     "text": [
      "교차검증 0, 정확도:0.743017\n",
      "교차검증 1, 정확도:0.775281\n",
      "교차검증 2, 정확도:0.792135\n",
      "교차검증 3, 정확도:0.786517\n",
      "교차검증 4, 정확도:0.842697\n",
      "평균정확도:0.787929\n"
     ]
    }
   ],
   "source": [
    "from sklearn.model_selection import cross_val_score\n",
    "\n",
    "scores = cross_val_score(dt_clf, X, y, cv=5)\n",
    "for iter_count, accuracy in enumerate(scores):\n",
    "    print('교차검증 {0}, 정확도:{1:4f}'.format(iter_count,accuracy))\n",
    "print('평균정확도:{0:4f}'.format(np.mean(scores)))"
   ]
  },
  {
   "cell_type": "markdown",
   "id": "041377c7",
   "metadata": {},
   "source": [
    "## GridSearchCV()를 이용한 검증"
   ]
  },
  {
   "cell_type": "code",
   "execution_count": 11,
   "id": "5ea88527",
   "metadata": {
    "ExecuteTime": {
     "end_time": "2021-07-25T15:27:32.885266Z",
     "start_time": "2021-07-25T15:27:32.181900Z"
    }
   },
   "outputs": [
    {
     "name": "stdout",
     "output_type": "stream",
     "text": [
      "GridSearchCV 최적의 하이퍼 파라미터: {'max_depth': 3, 'min_samples_leaf': 5, 'min_samples_split': 2}\n",
      "GridSearchCV 최고 정확도0.7992:\n",
      "test 세트에서 DecisionTreeClassifier 정확도 :0.8715\n"
     ]
    }
   ],
   "source": [
    "from sklearn.model_selection import GridSearchCV\n",
    "\n",
    "parameters = {'max_depth': [2,3,5,10],'min_samples_split':[2,3,5], 'min_samples_leaf':[1,5,8]}\n",
    "\n",
    "grid_dclf = GridSearchCV(dt_clf, param_grid=parameters, scoring = 'accuracy', cv=5)\n",
    "grid_dclf.fit(X_train,y_train)\n",
    "\n",
    "print('GridSearchCV 최적의 하이퍼 파라미터:',grid_dclf.best_params_)\n",
    "print('GridSearchCV 최고 정확도{0:.4f}:'.format(grid_dclf.best_score_))\n",
    "\n",
    "# GridSearchCV 최적의 하이퍼 파라미터로 학습된 Estimator로 학습 및 예측 수행\n",
    "pred = grid_dclf.predict(X_test)\n",
    "accuracy = accuracy_score(y_test,pred)\n",
    "print('test 세트에서 DecisionTreeClassifier 정확도 :{0:.4f}'.format(accuracy))\n"
   ]
  },
  {
   "cell_type": "code",
   "execution_count": null,
   "id": "b175dfea",
   "metadata": {},
   "outputs": [],
   "source": []
  }
 ],
 "metadata": {
  "hide_input": false,
  "kernelspec": {
   "display_name": "Python 3",
   "language": "python",
   "name": "python3"
  },
  "language_info": {
   "codemirror_mode": {
    "name": "ipython",
    "version": 3
   },
   "file_extension": ".py",
   "mimetype": "text/x-python",
   "name": "python",
   "nbconvert_exporter": "python",
   "pygments_lexer": "ipython3",
   "version": "3.8.8"
  },
  "toc": {
   "base_numbering": 1,
   "nav_menu": {},
   "number_sections": true,
   "sideBar": true,
   "skip_h1_title": false,
   "title_cell": "Table of Contents",
   "title_sidebar": "Contents",
   "toc_cell": false,
   "toc_position": {},
   "toc_section_display": true,
   "toc_window_display": false
  },
  "varInspector": {
   "cols": {
    "lenName": 16,
    "lenType": 16,
    "lenVar": 40
   },
   "kernels_config": {
    "python": {
     "delete_cmd_postfix": "",
     "delete_cmd_prefix": "del ",
     "library": "var_list.py",
     "varRefreshCmd": "print(var_dic_list())"
    },
    "r": {
     "delete_cmd_postfix": ") ",
     "delete_cmd_prefix": "rm(",
     "library": "var_list.r",
     "varRefreshCmd": "cat(var_dic_list()) "
    }
   },
   "types_to_exclude": [
    "module",
    "function",
    "builtin_function_or_method",
    "instance",
    "_Feature"
   ],
   "window_display": false
  }
 },
 "nbformat": 4,
 "nbformat_minor": 5
}
