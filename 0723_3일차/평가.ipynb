{
 "cells": [
  {
   "cell_type": "markdown",
   "id": "01232b8d",
   "metadata": {},
   "source": [
    "# 평가(Evaluation)\n",
    "\n",
    "## 정확도(Accuracy)\n",
    "\n",
    "- 정확도 = 예측결과가 동일한 데이터 건수/전체 예측 데이터 건수\n",
    "\n",
    "- scikit learn 의 BaseEstimator클래스를 상속받으면\n",
    "  Customized 형태의 Estimator를 개발자가 생성가능\n",
    "  \n",
    "- fit() 메서드는 아무것도 수행하지 않음.\n",
    "- predict() 메서드는 단순히 피처가 1이면 0 그렇치 않으면 1로 예측"
   ]
  },
  {
   "cell_type": "code",
   "execution_count": 2,
   "id": "495d9b8e",
   "metadata": {
    "ExecuteTime": {
     "end_time": "2021-07-27T04:28:28.313893Z",
     "start_time": "2021-07-27T04:28:27.431031Z"
    }
   },
   "outputs": [],
   "source": [
    "from sklearn.base import BaseEstimator\n",
    "\n",
    "class MyDummyClassifier(BaseEstimator):\n",
    "    #fit 메서드는 아무것도 학습하지 않음\n",
    "    def fit(self,X,y=None):\n",
    "        pass\n",
    "    #predict()메서드는 Sex 피처가 1이면 0, 그렇지 않으면 1로 예측\n",
    "    def predict(self,X):\n",
    "        pred=np.zeros((X.shape[0],1))\n",
    "        for i in range(X.shape[0]):\n",
    "            if X['Sex'].iloc[i] == 1:\n",
    "                pred[i]=0\n",
    "            else :\n",
    "                pred[i]=1\n",
    "        return pred"
   ]
  },
  {
   "cell_type": "code",
   "execution_count": 3,
   "id": "efabadca",
   "metadata": {
    "ExecuteTime": {
     "end_time": "2021-07-27T04:28:28.856871Z",
     "start_time": "2021-07-27T04:28:28.822983Z"
    }
   },
   "outputs": [],
   "source": [
    "from sklearn.preprocessing import LabelEncoder\n",
    "\n",
    "# Null 처리 함수\n",
    "def fillna(df):\n",
    "    df['Age'].fillna(df['Age'].mean(),inplace=True)\n",
    "    df['Cabin'].fillna('N',inplace=True)\n",
    "    df['Embarked'].fillna('N',inplace=True)\n",
    "    df['Fare'].fillna(0,inplace=True)\n",
    "    return df\n",
    "\n",
    "# 머신러닝 알고리즘에 불필요한 속성 제거\n",
    "def drop_features(df):\n",
    "    df.drop(['PassengerId','Name','Ticket'],axis=1,inplace=True)\n",
    "    return df\n",
    "\n",
    "# 레이블 인코딩 수행. \n",
    "def format_features(df):\n",
    "    df['Cabin'] = df['Cabin'].str[:1]\n",
    "    features = ['Cabin','Sex','Embarked']\n",
    "    for feature in features:\n",
    "        le = LabelEncoder()\n",
    "        le = le.fit(df[feature])\n",
    "        df[feature] = le.transform(df[feature])\n",
    "    return df\n",
    "\n",
    "# 앞에서 설정한 Data Preprocessing 함수 호출\n",
    "def transform_features(df):\n",
    "    df = fillna(df)\n",
    "    df = drop_features(df)\n",
    "    df = format_features(df)\n",
    "    return df"
   ]
  },
  {
   "cell_type": "code",
   "execution_count": 4,
   "id": "39e6defe",
   "metadata": {
    "ExecuteTime": {
     "end_time": "2021-07-27T04:28:29.879894Z",
     "start_time": "2021-07-27T04:28:29.574131Z"
    }
   },
   "outputs": [
    {
     "name": "stdout",
     "output_type": "stream",
     "text": [
      "MyDummyClassifier 정확도 :0.787709\n"
     ]
    }
   ],
   "source": [
    "# MyDummyClassfier로 학습/예측/평가 하기\n",
    "\n",
    "import pandas as pd\n",
    "from sklearn.model_selection import train_test_split\n",
    "from sklearn.metrics import accuracy_score\n",
    "\n",
    "# 타이타닉 데이터 로딩 및 가공/ 데이터 분리\n",
    "titanic_df = pd.read_csv('titanic_train.csv')\n",
    "y_df = titanic_df['Survived']\n",
    "X_df = titanic_df.drop('Survived',axis=1)\n",
    "X_df = transform_features(X_df)\n",
    "X_train,X_test,y_train,y_test=train_test_split(X_df,y_df,test_size=0.2, random_state=0)\n",
    "\n",
    "# DummyClassfier로 학습/예측/평가\n",
    "Dummyclf = MyDummyClassifier()\n",
    "Dummyclf.fit(X_train,y_train)\n",
    "pred = Dummyclf.predict(X_test)\n",
    "\n",
    "print('MyDummyClassifier 정확도 :{0:4f}'.format(accuracy_score(y_test,pred)))"
   ]
  },
  {
   "cell_type": "code",
   "execution_count": 5,
   "id": "52accb28",
   "metadata": {
    "ExecuteTime": {
     "end_time": "2021-07-27T04:28:30.584860Z",
     "start_time": "2021-07-27T04:28:30.334529Z"
    }
   },
   "outputs": [
    {
     "name": "stdout",
     "output_type": "stream",
     "text": [
      "DecisionTreeClassifier 정확도: 0.7933\n",
      "RandomForestClassifier 정확도:0.8212\n",
      "LogisticRegression 정확도: 0.8101\n"
     ]
    },
    {
     "name": "stderr",
     "output_type": "stream",
     "text": [
      "C:\\Users\\pc\\anaconda3\\lib\\site-packages\\sklearn\\linear_model\\_logistic.py:763: ConvergenceWarning: lbfgs failed to converge (status=1):\n",
      "STOP: TOTAL NO. of ITERATIONS REACHED LIMIT.\n",
      "\n",
      "Increase the number of iterations (max_iter) or scale the data as shown in:\n",
      "    https://scikit-learn.org/stable/modules/preprocessing.html\n",
      "Please also refer to the documentation for alternative solver options:\n",
      "    https://scikit-learn.org/stable/modules/linear_model.html#logistic-regression\n",
      "  n_iter_i = _check_optimize_result(\n"
     ]
    }
   ],
   "source": [
    "from sklearn.tree import DecisionTreeClassifier\n",
    "from sklearn.ensemble import RandomForestClassifier\n",
    "from sklearn.linear_model import LogisticRegression\n",
    "from sklearn.metrics import accuracy_score\n",
    "\n",
    "# 결정트리, Random Forest, 로지스틱 회귀를 위한 사이킷런 Classifier 클래스 생성\n",
    "dt_clf = DecisionTreeClassifier(random_state=11)\n",
    "rf_clf = RandomForestClassifier(random_state=11)\n",
    "lr_clf = LogisticRegression()\n",
    "\n",
    "# DecisionTreeClassifier 학습/예측/평가\n",
    "dt_clf.fit(X_train , y_train)\n",
    "dt_pred = dt_clf.predict(X_test)\n",
    "print('DecisionTreeClassifier 정확도: {0:.4f}'.format(accuracy_score(y_test, dt_pred)))\n",
    "\n",
    "# RandomForestClassifier 학습/예측/평가\n",
    "rf_clf.fit(X_train , y_train)\n",
    "rf_pred = rf_clf.predict(X_test)\n",
    "print('RandomForestClassifier 정확도:{0:.4f}'.format(accuracy_score(y_test, rf_pred)))\n",
    "\n",
    "# LogisticRegression 학습/예측/평가\n",
    "lr_clf.fit(X_train , y_train)\n",
    "lr_pred = lr_clf.predict(X_test)\n",
    "print('LogisticRegression 정확도: {0:.4f}'.format(accuracy_score(y_test, lr_pred)))"
   ]
  },
  {
   "cell_type": "code",
   "execution_count": 6,
   "id": "8f7d9425",
   "metadata": {
    "ExecuteTime": {
     "end_time": "2021-07-27T04:28:31.215317Z",
     "start_time": "2021-07-27T04:28:31.094936Z"
    }
   },
   "outputs": [
    {
     "name": "stdout",
     "output_type": "stream",
     "text": [
      "레이블 데이터 세트 크기 :  (1797, 64)\n",
      "테스트 세트 레이블 0과 1의 분포도: \n",
      " (1797,)\n"
     ]
    }
   ],
   "source": [
    "from sklearn.datasets import load_digits\n",
    "from sklearn.model_selection import train_test_split\n",
    "from sklearn.base import BaseEstimator\n",
    "from sklearn.metrics import accuracy_score\n",
    "import numpy as np\n",
    "import pandas as pd\n",
    "\n",
    "class MyFakeClassifier(BaseEstimator):\n",
    "    def fit(self,X,y):\n",
    "        pass\n",
    "\n",
    "    #입력값으로 들어오는 x데이터 세트의 크기만큼 모두 0으로 만들어서 반환\n",
    "    def predict(self,X):\n",
    "        return np.zeros((len(X),1),dtype=bool)\n",
    "\n",
    "# 내장 데이터 세트 load_digits()를 이용해 MNIST 데이터 로딩\n",
    "digits = load_digits()\n",
    "\n",
    "\n",
    "# 불균형한 레이블 분포도 확인\n",
    "print('레이블 데이터 세트 크기 : ', digits.data.shape)\n",
    "print('테스트 세트 레이블 0과 1의 분포도: \\n',digits.target.shape)"
   ]
  },
  {
   "cell_type": "code",
   "execution_count": 7,
   "id": "4df8faf5",
   "metadata": {
    "ExecuteTime": {
     "end_time": "2021-07-27T04:28:32.076704Z",
     "start_time": "2021-07-27T04:28:32.054765Z"
    }
   },
   "outputs": [
    {
     "data": {
      "text/plain": [
       "array([False, False, False, ..., False, False, False])"
      ]
     },
     "execution_count": 7,
     "metadata": {},
     "output_type": "execute_result"
    }
   ],
   "source": [
    "digits.target == 7"
   ]
  },
  {
   "cell_type": "code",
   "execution_count": 8,
   "id": "04cf2795",
   "metadata": {
    "ExecuteTime": {
     "end_time": "2021-07-27T04:28:32.512003Z",
     "start_time": "2021-07-27T04:28:32.496046Z"
    }
   },
   "outputs": [],
   "source": [
    "# digits 번호가 7번이면 True, 이를 astype(int) 1로 반환, 7이 아니면 false, 0으로 반환\n",
    "y = (digits.target==7).astype(int)\n",
    "X_train,X_test,y_train,y_test=train_test_split(digits.data,y,random_state=11)"
   ]
  },
  {
   "cell_type": "code",
   "execution_count": 9,
   "id": "3967a68b",
   "metadata": {
    "ExecuteTime": {
     "end_time": "2021-07-27T04:28:33.190857Z",
     "start_time": "2021-07-27T04:28:33.175919Z"
    }
   },
   "outputs": [
    {
     "name": "stdout",
     "output_type": "stream",
     "text": [
      "레이블 테스트 세트 크기 :  (450,)\n",
      "테스트 세트 레이블 0과 1의 분포:\n",
      " 0    405\n",
      "1     45\n",
      "dtype: int64\n",
      "모든 예측을 0으로 한 정확도는 : 0.9000\n"
     ]
    }
   ],
   "source": [
    "# 불균형한 레이블 데이터 분포확인\n",
    "print('레이블 테스트 세트 크기 : ',y_test.shape)\n",
    "print('테스트 세트 레이블 0과 1의 분포:\\n',pd.Series(y_test).value_counts())\n",
    "# DummyCalssifier로 학습/예측/정확도 평가\n",
    "fakeclf = MyFakeClassifier()\n",
    "fakeclf.fit(X_train,y_train)\n",
    "pred = fakeclf.predict(X_test)\n",
    "print('모든 예측을 0으로 한 정확도는 : {:.4f}'.format(accuracy_score(y_test,pred)))"
   ]
  },
  {
   "cell_type": "markdown",
   "id": "6fc9eb98",
   "metadata": {},
   "source": [
    "# 오차행렬(confusion matrix) \n",
    "\n",
    "- 얼마나 헷갈리고 있는지 보여주는 지표\n",
    "    - TN(True Negative) : 실제값이 Negative인 값을 Negative로 예측(0,0)\n",
    "    - FN(False Negative) : Negative로 예측 했는데 실제값은 Positive (1,0)\n",
    "    - FP(False Positive) : Positive로 예측했는데 실제값은 Negative(0,1)\n",
    "    - TP(True Positive) : 실제값이 Positive인 값을 Positive 로 예측(1,1)\n",
    "    \n",
    "    \n",
    "- 불균형한 데이터에서는 정확도 보다 정밀도, 재현율이 더 선호됨"
   ]
  },
  {
   "cell_type": "markdown",
   "id": "3b7fbcbd",
   "metadata": {},
   "source": [
    "- 정확도(Accuracy) : (TN+TP)/(TN+FP+FN+TP)\n",
    "    \n",
    "- 정밀도(Precision) : (TP)/(TP+FP) = Positive로 예측한 대상 중에 실제값이 Positive인 값의 비율\n",
    "  \n",
    "  = 양성예측도\n",
    "  \n",
    "    \n",
    "- 재현율(Recall) : (TP)/(TP+FN) = 실제값이 Positive인 값중에 예측과 실제값이 Positive인 데이터 비율\n",
    "  \n",
    "  = 민감도(Sensitivity) = TPR(True Positive Rate)"
   ]
  },
  {
   "cell_type": "code",
   "execution_count": 11,
   "id": "f6c988a9",
   "metadata": {
    "ExecuteTime": {
     "end_time": "2021-07-27T04:28:38.741829Z",
     "start_time": "2021-07-27T04:28:38.726879Z"
    }
   },
   "outputs": [
    {
     "data": {
      "text/plain": [
       "array([[405,   0],\n",
       "       [ 45,   0]], dtype=int64)"
      ]
     },
     "execution_count": 11,
     "metadata": {},
     "output_type": "execute_result"
    }
   ],
   "source": [
    "# MyFakeClassifier 의 예측결과 fpred를 오차행렬를 이용한 배열로 출력\n",
    "\n",
    "from sklearn.metrics import confusion_matrix\n",
    "\n",
    "confusion_matrix(y_test,pred)"
   ]
  },
  {
   "cell_type": "markdown",
   "id": "fc65eede",
   "metadata": {},
   "source": [
    "## 정밀도(Precision)과 재현율(Recall)\n",
    "\n",
    "-MyFakeClassfier 의 예측결과로 정밀도와 재현율 측정"
   ]
  },
  {
   "cell_type": "markdown",
   "id": "1851fdaa",
   "metadata": {},
   "source": [
    "- 오차행렬, 정확도, 정밀도, 재현율을 한번에 계산하는 함수 생성\n",
    "        get_clf_val()함수"
   ]
  },
  {
   "cell_type": "code",
   "execution_count": 15,
   "id": "44576429",
   "metadata": {
    "ExecuteTime": {
     "end_time": "2021-07-27T04:29:39.365545Z",
     "start_time": "2021-07-27T04:29:39.350810Z"
    }
   },
   "outputs": [],
   "source": [
    "from sklearn.metrics import accuracy_score, precision_score,\\\n",
    "recall_score, confusion_matrix,f1_score\n",
    "\n",
    "def get_clf_val(y_test,pred):\n",
    "    confusion = confusion_matrix(y_test,pred)\n",
    "    accuracy = accuracy_score(y_test, pred)\n",
    "    precision = precision_score(y_test,pred)\n",
    "    recall = recall_score(y_test,pred)\n",
    "    \n",
    "    print('오차행렬:\\n', confusion)\n",
    "    print('정확도 : {0:.4f}, 정밀도 : {1:.4f}, 재현율 : {2:.4f}'.format(accuracy,precision,recall))"
   ]
  },
  {
   "cell_type": "markdown",
   "id": "9c2ca85c",
   "metadata": {},
   "source": [
    "### 원본데이터 로드 후 LogisticRegression() 의 정확도, 정밀도, 재현율 확인"
   ]
  },
  {
   "cell_type": "code",
   "execution_count": 16,
   "id": "00f4f400",
   "metadata": {
    "ExecuteTime": {
     "end_time": "2021-07-27T04:29:40.602767Z",
     "start_time": "2021-07-27T04:29:40.550907Z"
    }
   },
   "outputs": [
    {
     "name": "stdout",
     "output_type": "stream",
     "text": [
      "오차행렬:\n",
      " [[104  14]\n",
      " [ 13  48]]\n",
      "정확도 : 0.8492, 정밀도 : 0.7742, 재현율 : 0.7869\n"
     ]
    },
    {
     "name": "stderr",
     "output_type": "stream",
     "text": [
      "C:\\Users\\pc\\anaconda3\\lib\\site-packages\\sklearn\\linear_model\\_logistic.py:763: ConvergenceWarning: lbfgs failed to converge (status=1):\n",
      "STOP: TOTAL NO. of ITERATIONS REACHED LIMIT.\n",
      "\n",
      "Increase the number of iterations (max_iter) or scale the data as shown in:\n",
      "    https://scikit-learn.org/stable/modules/preprocessing.html\n",
      "Please also refer to the documentation for alternative solver options:\n",
      "    https://scikit-learn.org/stable/modules/linear_model.html#logistic-regression\n",
      "  n_iter_i = _check_optimize_result(\n"
     ]
    }
   ],
   "source": [
    "import numpy as np\n",
    "import pandas as pd\n",
    "\n",
    "from sklearn.model_selection import train_test_split\n",
    "from sklearn.linear_model import LogisticRegression\n",
    "\n",
    "#원본 데이터 재로딩, 가공, train, test 분리\n",
    "titanic_df = pd.read_csv('titanic_train.csv')\n",
    "y = titanic_df['Survived']\n",
    "X = titanic_df.drop('Survived',axis = 1)\n",
    "X = transform_features(X)\n",
    "\n",
    "X_train,X_test,y_train,y_test = train_test_split(X,y,test_size=0.2,random_state=11)\n",
    "\n",
    "lr = LogisticRegression()\n",
    "lr.fit(X_train,y_train)\n",
    "pred = lr.predict(X_test)\n",
    "get_clf_val(y_test,pred)"
   ]
  },
  {
   "cell_type": "markdown",
   "id": "ac042a8c",
   "metadata": {},
   "source": [
    "### Precision/Recall Trade-off\n",
    "\n",
    "- Trade-off : 정밀도, 재현율이 특별히 강조되야 할 경우 임계값(Threshold)을\n",
    "              조정해 정밀도,재현율 수치를 높일 수 있음\n",
    "              \n",
    "              정밀도, 재현율 중 어느 한쪽을 강제로 높이면 다른 하나의 수치는 떨어지기 쉬움\n",
    "              이를 Trade-off 라고 함\n",
    "\n",
    "- 일반적인 이진분류 : 임계값을 0.5 = 50% 기준 설정\n",
    "\n",
    "    - 기준값보다 확률이 크면 Positive 작으면, Negative로 결정\n",
    "\n",
    "- predict_proba() 메서드 : 학습 완료 된 Classfier 에서 호출 가능\n",
    "    - test 피처 데이터 세트 : 파라미터로 입력 해주면 테스트 피처 레코드의 개별 클래스 예측 확률 반환\n",
    "\n",
    "- 반환값  : ndarray m x n ( m : 입력값의 레코드 수, n : 클래스 값 유형)\n",
    "    - ex) 입력 테스트 데이터 표본개수가 100개, 예측 클래스 값 유형 2개(이진분류) 반환값 = 100x2 ndarray\n",
    "    - 첫번째 컬0럼 : 0 Negative 확률, 두번째 컬럼 : 1 Positive 확률"
   ]
  },
  {
   "cell_type": "code",
   "execution_count": 17,
   "id": "5afdf4af",
   "metadata": {
    "ExecuteTime": {
     "end_time": "2021-07-27T04:29:42.319704Z",
     "start_time": "2021-07-27T04:29:42.302749Z"
    }
   },
   "outputs": [
    {
     "name": "stdout",
     "output_type": "stream",
     "text": [
      "pred_proba 결과 shape:  (179, 2)\n",
      "pred_preba array 에서 앞 3개만 추출 : \n",
      " [[0.46196064 0.53803936]\n",
      " [0.87860795 0.12139205]\n",
      " [0.87714215 0.12285785]]\n",
      "두개의 class 중 더 큰 확률을 클래스 값으로 예측 \n",
      " [[0.46196064 0.53803936 1.        ]\n",
      " [0.87860795 0.12139205 0.        ]\n",
      " [0.87714215 0.12285785 0.        ]]\n"
     ]
    }
   ],
   "source": [
    "pred_proba = lr.predict_proba(X_test)\n",
    "pred = lr.predict(X_test)\n",
    "print('pred_proba 결과 shape: ',pred_proba.shape)\n",
    "print('pred_preba array 에서 앞 3개만 추출 : \\n',pred_proba[:3])\n",
    "\n",
    "# 예측확률 array와 예측 결과값 array를 병합(concatenate)해 확률과 결괏값을 한눈에 확인\n",
    "pred_proba_result = np.concatenate([pred_proba, pred.reshape(-1,1)],axis=1)\n",
    "print('두개의 class 중 더 큰 확률을 클래스 값으로 예측 \\n',pred_proba_result[:3])"
   ]
  },
  {
   "cell_type": "markdown",
   "id": "72a8b6e1",
   "metadata": {},
   "source": [
    "    ## Binarizer ##\n",
    "\n",
    "- threshold 값보다 작으면 0, 크면 1을 반환\n",
    "- Binarizer.fit_trasform() 활용"
   ]
  },
  {
   "cell_type": "code",
   "execution_count": 18,
   "id": "035aa344",
   "metadata": {
    "ExecuteTime": {
     "end_time": "2021-07-27T04:29:43.496760Z",
     "start_time": "2021-07-27T04:29:43.486798Z"
    }
   },
   "outputs": [
    {
     "name": "stdout",
     "output_type": "stream",
     "text": [
      "[[0. 1. 0.]\n",
      " [0. 0. 1.]\n",
      " [0. 1. 0.]]\n"
     ]
    }
   ],
   "source": [
    "from sklearn.preprocessing import Binarizer\n",
    "\n",
    "x = [[1,8,4],\n",
    "     [2,0,9],\n",
    "     [0,8.1,1.5]]\n",
    "\n",
    "binarizer = Binarizer(threshold=5)\n",
    "print(binarizer.fit_transform(x))"
   ]
  },
  {
   "cell_type": "code",
   "execution_count": 19,
   "id": "09c5432d",
   "metadata": {
    "ExecuteTime": {
     "end_time": "2021-07-27T04:29:44.098734Z",
     "start_time": "2021-07-27T04:29:44.080762Z"
    }
   },
   "outputs": [
    {
     "name": "stdout",
     "output_type": "stream",
     "text": [
      "오차행렬:\n",
      " [[98 20]\n",
      " [10 51]]\n",
      "정확도 : 0.8324, 정밀도 : 0.7183, 재현율 : 0.8361\n"
     ]
    }
   ],
   "source": [
    "# Binarizer에 git_clf_eval()함수 적용\n",
    "from sklearn.preprocessing import Binarizer\n",
    "\n",
    "#Binarizer의 threshold 설정값, 분류 결정 임계값임\n",
    "custom_threshold = 0.4\n",
    "\n",
    "#predict_proba() 반환값의 두번째 칼럼(Positive)클래스 칼럼 하나만 Binarizer 적용\n",
    "pred_proba_1 = pred_proba[:,1].reshape(-1,1)\n",
    "\n",
    "binarizer = Binarizer(threshold = custom_threshold).fit(pred_proba_1)\n",
    "custom_pred = binarizer.transform(pred_proba_1)\n",
    "\n",
    "get_clf_val(y_test,custom_pred)"
   ]
  },
  {
   "cell_type": "code",
   "execution_count": 20,
   "id": "839ff4dd",
   "metadata": {
    "ExecuteTime": {
     "end_time": "2021-07-27T04:29:44.757182Z",
     "start_time": "2021-07-27T04:29:44.720281Z"
    }
   },
   "outputs": [
    {
     "name": "stdout",
     "output_type": "stream",
     "text": [
      "임계값:  0.4\n",
      "오차행렬:\n",
      " [[98 20]\n",
      " [10 51]]\n",
      "정확도 : 0.8324, 정밀도 : 0.7183, 재현율 : 0.8361\n",
      "임계값:  0.45\n",
      "오차행렬:\n",
      " [[103  15]\n",
      " [ 12  49]]\n",
      "정확도 : 0.8492, 정밀도 : 0.7656, 재현율 : 0.8033\n",
      "임계값:  0.5\n",
      "오차행렬:\n",
      " [[104  14]\n",
      " [ 13  48]]\n",
      "정확도 : 0.8492, 정밀도 : 0.7742, 재현율 : 0.7869\n",
      "임계값:  0.55\n",
      "오차행렬:\n",
      " [[109   9]\n",
      " [ 15  46]]\n",
      "정확도 : 0.8659, 정밀도 : 0.8364, 재현율 : 0.7541\n",
      "임계값:  0.6\n",
      "오차행렬:\n",
      " [[112   6]\n",
      " [ 16  45]]\n",
      "정확도 : 0.8771, 정밀도 : 0.8824, 재현율 : 0.7377\n"
     ]
    }
   ],
   "source": [
    "## 여러개의 분류 결정 임계값 변경으로 Binarizer예측값 변환\n",
    "\n",
    "thresholds = [0.40,0.45,0.5,0.55,0.60]\n",
    "\n",
    "def get_threshold(y_test,pred_proba2,threshold):\n",
    "    # thresholds list 값을 차례로 iteration 하면서 Evaluation 수행\n",
    "    for custom_threshold in thresholds:\n",
    "        binarizer = Binarizer(threshold=custom_threshold).fit(pred_proba2)\n",
    "        custom_predict=binarizer.transform(pred_proba2)\n",
    "        print('임계값: ',custom_threshold)\n",
    "        get_clf_val(y_test,custom_predict)\n",
    "\n",
    "get_threshold(y_test,pred_proba[:,1].reshape(-1,1),thresholds)"
   ]
  },
  {
   "cell_type": "markdown",
   "id": "a645bd39",
   "metadata": {},
   "source": [
    "###### precision_recall_curve() #######\n",
    "\n",
    "입력 파라미터 \n",
    "\n",
    "- y_true : 실제 클래스값 배열\n",
    "- probas_pred : Positive 칼럼의 예측 확률 배열\n",
    "\n",
    "반환값 : 정밀도, 재현율\n"
   ]
  },
  {
   "cell_type": "code",
   "execution_count": 21,
   "id": "0bc434dc",
   "metadata": {
    "ExecuteTime": {
     "end_time": "2021-07-27T04:29:45.945815Z",
     "start_time": "2021-07-27T04:29:45.926865Z"
    }
   },
   "outputs": [
    {
     "name": "stdout",
     "output_type": "stream",
     "text": [
      "반환된 분류 결정 임곗값 배열의 Shape: (140,)\n",
      "반환된 precisions 배열의 Shape: (141,)\n",
      "반환된 recalls 배열의 Shape: (141,)\n",
      "thresholds 5 sample: [0.09858504 0.09859031 0.09864942 0.09884408 0.10337224]\n",
      "precisions 5 sample: [0.3961039  0.39215686 0.39473684 0.39735099 0.39333333]\n",
      "recalls 5 sample: [1.         0.98360656 0.98360656 0.98360656 0.96721311]\n",
      "샘플 추출을 위한 임계값 배열의 index 10개: [  0  15  30  45  60  75  90 105 120 135]\n",
      "샘플용 10개의 임곗값:  [0.1  0.12 0.14 0.19 0.29 0.42 0.59 0.72 0.87 0.95]\n",
      "샘플 임계값별 정밀도:  [0.396 0.45  0.478 0.556 0.659 0.716 0.885 0.944 0.952 1.   ]\n",
      "샘플 임계값별 재현율:  [1.    0.967 0.902 0.902 0.885 0.787 0.754 0.557 0.328 0.098]\n"
     ]
    }
   ],
   "source": [
    "from sklearn.metrics import precision_recall_curve\n",
    "\n",
    "# 레이블 값이 1일때의 예측 확률을 추출 \n",
    "pred_proba_l1 = lr_clf.predict_proba(X_test)[:, 1] \n",
    "\n",
    "# 실제값 데이터 셋과 레이블 값이 1일 때의 예측 확률을 precision_recall_curve 인자로 입력 \n",
    "precisions, recalls, thresholds = precision_recall_curve(y_test, pred_proba_l1 )\n",
    "print('반환된 분류 결정 임곗값 배열의 Shape:', thresholds.shape)\n",
    "print('반환된 precisions 배열의 Shape:', precisions.shape)\n",
    "print('반환된 recalls 배열의 Shape:', recalls.shape)\n",
    "\n",
    "print(\"thresholds 5 sample:\", thresholds[:5])\n",
    "print(\"precisions 5 sample:\", precisions[:5])\n",
    "print(\"recalls 5 sample:\", recalls[:5])\n",
    "\n",
    "#반환된 임계값 배열 로우가 147건이므로 샘플로 10건만 추출하되, 임곗값을 15 Step으로 추출. \n",
    "thr_index = np.arange(0, thresholds.shape[0], 15)\n",
    "print('샘플 추출을 위한 임계값 배열의 index 10개:', thr_index)\n",
    "print('샘플용 10개의 임곗값: ', np.round(thresholds[thr_index], 2))\n",
    "\n",
    "# 15 step 단위로 추출된 임계값에 따른 정밀도와 재현율 값 \n",
    "print('샘플 임계값별 정밀도: ', np.round(precisions[thr_index], 3))\n",
    "print('샘플 임계값별 재현율: ', np.round(recalls[thr_index], 3))"
   ]
  },
  {
   "cell_type": "code",
   "execution_count": 22,
   "id": "246e8999",
   "metadata": {
    "ExecuteTime": {
     "end_time": "2021-07-27T04:29:46.909144Z",
     "start_time": "2021-07-27T04:29:46.534737Z"
    }
   },
   "outputs": [
    {
     "data": {
      "image/png": "[encoded data removed]",
      "text/plain": [
       "<Figure size 576x432 with 1 Axes>"
      ]
     },
     "metadata": {
      "needs_background": "light"
     },
     "output_type": "display_data"
    }
   ],
   "source": [
    "## 정밀도와 재현율 시각화\n",
    "\n",
    "import matplotlib.pyplot as plt\n",
    "import matplotlib.ticker as tk\n",
    "%matplotlib inline\n",
    "\n",
    "def prc_plot(y_test,pred_proba_l1):\n",
    "    precisions, recalls, thresholds = precision_recall_curve(y_test,pred_proba_l1)\n",
    "    \n",
    "    #X축 thresholds, y축 정밀도, 재현율 : 정밀도는 점선\n",
    "    plt.figure(figsize=(8,6))\n",
    "    threshold_boundary = thresholds.shape[0]\n",
    "    plt.plot(thresholds, precisions[0:threshold_boundary],linestyle='--',label='precision')\n",
    "    plt.plot(thresholds, recalls[0:threshold_boundary],label='recall')\n",
    "    \n",
    "    #threshold 값 X축 scale을 0.1단위로 변경\n",
    "    start, end = plt.xlim()\n",
    "    plt.xticks(np.round(np.arange(start,end,0.1),2))\n",
    "    \n",
    "    # X축, y축 label 과 legend, grid 설정\n",
    "    plt.xlabel('Threshold value'); plt.ylabel('Precision and Recall value')\n",
    "    plt.legend(); plt.grid()\n",
    "    plt.show()\n",
    "    \n",
    "prc_plot(y_test,lr_clf.predict_proba(X_test)[:,1])"
   ]
  },
  {
   "cell_type": "markdown",
   "id": "4e2e83b9",
   "metadata": {},
   "source": [
    "## F1 Score\n",
    "\n",
    "- 정밀도, 재현율의 수치가 적절하게 조합, 분류의 종합적인 성능 평가에 사용\n",
    "\n",
    "- 2(precision*recall/precision+recall)"
   ]
  },
  {
   "cell_type": "code",
   "execution_count": 27,
   "id": "e632df03",
   "metadata": {
    "ExecuteTime": {
     "end_time": "2021-07-27T04:49:46.039487Z",
     "start_time": "2021-07-27T04:49:46.004580Z"
    }
   },
   "outputs": [
    {
     "name": "stdout",
     "output_type": "stream",
     "text": [
      "임계값:  0.4\n",
      "오차행렬:\n",
      " [[98 20]\n",
      " [11 50]]\n",
      "정확도 : 0.8268, 정밀도 : 0.7143, 재현율 : 0.8197, f1_score:0.7634\n",
      "임계값:  0.45\n",
      "오차행렬:\n",
      " [[104  14]\n",
      " [ 13  48]]\n",
      "정확도 : 0.8492, 정밀도 : 0.7742, 재현율 : 0.7869, f1_score:0.7805\n",
      "임계값:  0.5\n",
      "오차행렬:\n",
      " [[105  13]\n",
      " [ 13  48]]\n",
      "정확도 : 0.8547, 정밀도 : 0.7869, 재현율 : 0.7869, f1_score:0.7869\n",
      "임계값:  0.55\n",
      "오차행렬:\n",
      " [[111   7]\n",
      " [ 15  46]]\n",
      "정확도 : 0.8771, 정밀도 : 0.8679, 재현율 : 0.7541, f1_score:0.8070\n",
      "임계값:  0.6\n",
      "오차행렬:\n",
      " [[112   6]\n",
      " [ 16  45]]\n",
      "정확도 : 0.8771, 정밀도 : 0.8824, 재현율 : 0.7377, f1_score:0.8036\n"
     ]
    }
   ],
   "source": [
    "from sklearn.metrics import accuracy_score, precision_score,\\\n",
    "recall_score, confusion_matrix,f1_score\n",
    "\n",
    "def get_clf_val(y_test,pred):\n",
    "    confusion = confusion_matrix(y_test,pred)\n",
    "    accuracy = accuracy_score(y_test, pred)\n",
    "    precision = precision_score(y_test,pred)\n",
    "    recall = recall_score(y_test,pred)\n",
    "    f1 = f1_score(y_test,pred)\n",
    "    \n",
    "    print('오차행렬:\\n', confusion)\n",
    "    print('정확도 : {0:.4f}, 정밀도 : {1:.4f}, 재현율 : {2:.4f}, f1_score:{3:.4f}'.format(accuracy,precision,recall,f1))\n",
    "    \n",
    "thresholds = [0.40,0.45,0.5,0.55,0.60]\n",
    "pred_proba = lr_clf.predict_proba(X_test)\n",
    "get_threshold(y_test,pred_proba[:,1].reshape(-1,1), thresholds)"
   ]
  },
  {
   "cell_type": "markdown",
   "id": "a4719b32",
   "metadata": {},
   "source": [
    "## ROC Curve와 AUC\n",
    "\n",
    "ROC_CURVE() :\n",
    "    - 입력값 : y_true, y_score\n",
    "    - 반환값 : FPR, TPR, thresholds\n",
    "\n",
    "- ROC 곡선과 AUC스코어는 이진분류의 예측 성능 측정에서 활용\n",
    "\n",
    "- ROC곡선(Receiver Operation Characteristic Curve) = 수신자 판단 곡선 \n",
    "    - 일반적으로 의학에서 많이 사용\n",
    "    - FPR(X)이 변할 때 TPR(Y)이 어떻게 변하는지 나타내는 곡선\n",
    "\n",
    "- TPR(True Positive Rate) : 재현율=민감도 TP/(TP+TN)\n",
    "- FPR(False Positive Rate) : 특이성 FP/(FP+TN)\n",
    "    - = 1-TNR = 1-특이성\n",
    "- ROC곡선이 직선에 가까울수록 성능이 떨어지고 멀어질수록 성능이 뛰어남"
   ]
  },
  {
   "cell_type": "code",
   "execution_count": 31,
   "id": "bbf528b0",
   "metadata": {
    "ExecuteTime": {
     "end_time": "2021-07-27T05:24:36.008859Z",
     "start_time": "2021-07-27T05:24:35.999884Z"
    }
   },
   "outputs": [
    {
     "name": "stdout",
     "output_type": "stream",
     "text": [
      "임곗값 배열의 인덱스 : [ 1  6 11 16 21 26 31 36 41 46]\n",
      "샘플 index로 추출한 임곗값 :  [0.97 0.69 0.66 0.54 0.37 0.32 0.15 0.12 0.11 0.1 ]\n",
      "샘플 임곗값별 FPR :  [0.    0.017 0.042 0.068 0.178 0.212 0.458 0.534 0.653 0.771]\n",
      "샘플 임곗값별 TPR :  [0.033 0.623 0.689 0.77  0.82  0.885 0.902 0.934 0.967 0.984]\n"
     ]
    }
   ],
   "source": [
    "from sklearn.metrics import roc_curve\n",
    "# 레이블 값이 1일때 예측 확률\n",
    "pred_proba_class1 = lr_clf.predict_proba(X_test)[:,1]\n",
    "\n",
    "fpr, tpr, thresholds = roc_curve(y_test,pred_proba_class1)\n",
    "# 반환된 임곗값 배열에서 임계값을 5step으로 데이터 추출\n",
    "#thresholds[0]은 max(예측확률)+1로 임의 설정, 이를 제외하기위해 np.arange 1부터\n",
    "thr_index=np.arange(1,thresholds.shape[0],5)\n",
    "print('임곗값 배열의 인덱스 :',thr_index)\n",
    "print('샘플 index로 추출한 임곗값 : ', np.round(thresholds[thr_index],2))\n",
    "\n",
    "#5 step 단위로 추출된 임계값에 따른 FPR,TPR 값\n",
    "print('샘플 임곗값별 FPR : ',np.round(fpr[thr_index],3))\n",
    "print('샘플 임곗값별 TPR : ',np.round(tpr[thr_index],3))"
   ]
  },
  {
   "cell_type": "code",
   "execution_count": 33,
   "id": "6bc27d27",
   "metadata": {
    "ExecuteTime": {
     "end_time": "2021-07-27T05:39:41.151182Z",
     "start_time": "2021-07-27T05:39:40.990587Z"
    }
   },
   "outputs": [
    {
     "data": {
      "image/png": "[encoded data removed]",
      "text/plain": [
       "<Figure size 432x288 with 1 Axes>"
      ]
     },
     "metadata": {
      "needs_background": "light"
     },
     "output_type": "display_data"
    }
   ],
   "source": [
    "def roc_curve_plot(y_test,pred_probal1):\n",
    "    #tpr,fpr 반환 받음\n",
    "    tpr,fpr,thresholds = roc_curve(y_test,pred_proba_l1)\n",
    "    \n",
    "    #ROC Curve를  plot 곡선으로 그림\n",
    "    plt.plot(tpr,fpr,label='ROC')\n",
    "    #가운데 대각선 직선\n",
    "    plt.plot([0,1],[0,1],'k--',label='Random')\n",
    "    \n",
    "    #FPR X축의 Scale을 0.1단위로 변경, X,Y 축명 설정 등\n",
    "    start, end = plt.xlim()\n",
    "    plt.xticks(np.round(np.arange(start,end,0.1),2))\n",
    "    plt.xlim(0,1); plt.ylim(0,1)\n",
    "    plt.xlabel('FPR( 1 - Specificity)'); plt.ylabel('TPR(Recall)')\n",
    "    plt.legend()\n",
    "    plt.show()\n",
    "roc_curve_plot(y_test, lr_clf.predict_proba(X_test)[:,1])"
   ]
  },
  {
   "cell_type": "code",
   "execution_count": 38,
   "id": "3463b152",
   "metadata": {
    "ExecuteTime": {
     "end_time": "2021-07-27T06:39:49.879513Z",
     "start_time": "2021-07-27T06:39:49.862559Z"
    }
   },
   "outputs": [
    {
     "name": "stdout",
     "output_type": "stream",
     "text": [
      "roc_auc값:0.904210\n"
     ]
    }
   ],
   "source": [
    "from sklearn.metrics import roc_auc_score\n",
    "\n",
    "pred_proba = lr_clf.predict_proba(X_test)[:,1]\n",
    "roc_score = roc_auc_score(y_test,pred_proba)\n",
    "print('roc_auc값:{0:4f}'.format(roc_score))"
   ]
  },
  {
   "cell_type": "code",
   "execution_count": 43,
   "id": "68fd4a37",
   "metadata": {
    "ExecuteTime": {
     "end_time": "2021-07-27T06:46:45.085788Z",
     "start_time": "2021-07-27T06:46:45.076837Z"
    }
   },
   "outputs": [],
   "source": [
    "def get_clf_val(y_test,pred=None,pred_proba=None):\n",
    "    confusion = confusion_matrix(y_test,pred)\n",
    "    accuracy = accuracy_score(y_test,pred)\n",
    "    precision = precision_score(y_test,pred)\n",
    "    recall = recall_score(y_test,pred)\n",
    "    f1 = f1_score(y_test, pred)\n",
    "    roc_auc = roc_auc_score(y_test,pred_proba)\n",
    "    \n",
    "    print('오차행렬:\\n',confusion)\n",
    "    print('정확도: {0:.4f}, 정밀도: {1:.4f}, 재현율: {2:.4f},\\\n",
    "          F1: {3:.4f}, AUC:{4:.4f}'.format(accuracy, precision, recall, f1, roc_auc))"
   ]
  },
  {
   "cell_type": "code",
   "execution_count": 42,
   "id": "29d84291",
   "metadata": {
    "ExecuteTime": {
     "end_time": "2021-07-27T06:46:38.162233Z",
     "start_time": "2021-07-27T06:46:38.156249Z"
    }
   },
   "outputs": [
    {
     "data": {
      "text/plain": [
       "<function __main__.get_clf_val(y_test, pred=None, pred_proba=None)>"
      ]
     },
     "execution_count": 42,
     "metadata": {},
     "output_type": "execute_result"
    }
   ],
   "source": []
  },
  {
   "cell_type": "code",
   "execution_count": null,
   "id": "f7eacb6f",
   "metadata": {},
   "outputs": [],
   "source": []
  }
 ],
 "metadata": {
  "hide_input": false,
  "kernelspec": {
   "display_name": "Python 3",
   "language": "python",
   "name": "python3"
  },
  "language_info": {
   "codemirror_mode": {
    "name": "ipython",
    "version": 3
   },
   "file_extension": ".py",
   "mimetype": "text/x-python",
   "name": "python",
   "nbconvert_exporter": "python",
   "pygments_lexer": "ipython3",
   "version": "3.8.8"
  },
  "toc": {
   "base_numbering": 1,
   "nav_menu": {},
   "number_sections": true,
   "sideBar": true,
   "skip_h1_title": false,
   "title_cell": "Table of Contents",
   "title_sidebar": "Contents",
   "toc_cell": false,
   "toc_position": {},
   "toc_section_display": true,
   "toc_window_display": false
  },
  "varInspector": {
   "cols": {
    "lenName": 16,
    "lenType": 16,
    "lenVar": 40
   },
   "kernels_config": {
    "python": {
     "delete_cmd_postfix": "",
     "delete_cmd_prefix": "del ",
     "library": "var_list.py",
     "varRefreshCmd": "print(var_dic_list())"
    },
    "r": {
     "delete_cmd_postfix": ") ",
     "delete_cmd_prefix": "rm(",
     "library": "var_list.r",
     "varRefreshCmd": "cat(var_dic_list()) "
    }
   },
   "types_to_exclude": [
    "module",
    "function",
    "builtin_function_or_method",
    "instance",
    "_Feature"
   ],
   "window_display": false
  }
 },
 "nbformat": 4,
 "nbformat_minor": 5
}
