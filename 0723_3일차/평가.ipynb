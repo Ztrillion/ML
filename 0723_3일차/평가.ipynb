{
 "cells": [
  {
   "cell_type": "markdown",
   "id": "01232b8d",
   "metadata": {},
   "source": [
    "# 평가(Evaluation)\n",
    "\n",
    "## 정확도(Accuracy)\n",
    "\n",
    "- 정확도 = 예측결과가 동일한 데이터 건수/전체 예측 데이터 건수\n",
    "\n",
    "- scikit learn 의 BaseEstimator클래스를 상속받으면\n",
    "  Customized 형태의 Estimator를 개발자가 생성가능\n",
    "  \n",
    "- fit() 메서드는 아무것도 수행하지 않음.\n",
    "- predict() 메서드는 단순히 피처가 1이면 0 그렇치 않으면 1로 예측"
   ]
  },
  {
   "cell_type": "code",
   "execution_count": 7,
   "id": "38418de1",
   "metadata": {
    "ExecuteTime": {
     "end_time": "2021-07-25T16:08:11.737620Z",
     "start_time": "2021-07-25T16:08:11.729642Z"
    }
   },
   "outputs": [],
   "source": [
    "from sklearn.preprocessing import LabelEncoder\n",
    "\n",
    "# Null 처리 함수\n",
    "def fillna(df):\n",
    "    df['Age'].fillna(df['Age'].mean(),inplace=True)\n",
    "    df['Cabin'].fillna('N',inplace=True)\n",
    "    df['Embarked'].fillna('N',inplace=True)\n",
    "    df['Fare'].fillna(0,inplace=True)\n",
    "    return df\n",
    "\n",
    "# 머신러닝 알고리즘에 불필요한 속성 제거\n",
    "def drop_features(df):\n",
    "    df.drop(['PassengerId','Name','Ticket'],axis=1,inplace=True)\n",
    "    return df\n",
    "\n",
    "# 레이블 인코딩 수행. \n",
    "def format_features(df):\n",
    "    df['Cabin'] = df['Cabin'].str[:1]\n",
    "    features = ['Cabin','Sex','Embarked']\n",
    "    for feature in features:\n",
    "        le = LabelEncoder()\n",
    "        le = le.fit(df[feature])\n",
    "        df[feature] = le.transform(df[feature])\n",
    "    return df\n",
    "\n",
    "# 앞에서 설정한 Data Preprocessing 함수 호출\n",
    "def transform_features(df):\n",
    "    df = fillna(df)\n",
    "    df = drop_features(df)\n",
    "    df = format_features(df)\n",
    "    return df"
   ]
  },
  {
   "cell_type": "code",
   "execution_count": 8,
   "id": "495d9b8e",
   "metadata": {
    "ExecuteTime": {
     "end_time": "2021-07-25T16:08:12.962567Z",
     "start_time": "2021-07-25T16:08:12.944613Z"
    }
   },
   "outputs": [],
   "source": [
    "from sklearn.base import BaseEstimator\n",
    "\n",
    "class MyDummyClassifier(BaseEstimator):\n",
    "    #fit 메서드는 아무것도 학습하지 않음\n",
    "    def fit(self,X,y=None):\n",
    "        pass\n",
    "    #predict()메서드는 Sex 피처가 1이면 0, 그렇지 않으면 1로 예측\n",
    "    def predict(self,X):\n",
    "        pred=np.zeros((X.shape[0],1))\n",
    "        for i in range(X.shape[0]):\n",
    "            if X['Sex'].iloc[i] == 1:\n",
    "                pred[i]=0\n",
    "            else :\n",
    "                pred[i]=1\n",
    "        return pred"
   ]
  },
  {
   "cell_type": "code",
   "execution_count": 10,
   "id": "39e6defe",
   "metadata": {
    "ExecuteTime": {
     "end_time": "2021-07-25T16:08:58.599146Z",
     "start_time": "2021-07-25T16:08:58.576203Z"
    }
   },
   "outputs": [
    {
     "name": "stdout",
     "output_type": "stream",
     "text": [
      "MyDummyClassifier 정확도 :0.787709\n"
     ]
    }
   ],
   "source": [
    "# MyDummyClassfier로 학습/예측/평가 하기\n",
    "\n",
    "import pandas as pd\n",
    "from sklearn.model_selection import train_test_split\n",
    "from sklearn.metrics import accuracy_score\n",
    "\n",
    "# 타이타닉 데이터 로딩 및 가공/ 데이터 분리\n",
    "titanic_df = pd.read_csv('titanic_train.csv')\n",
    "y_df = titanic_df['Survived']\n",
    "X_df = titanic_df.drop('Survived',axis=1)\n",
    "X_df = transform_features(X_df)\n",
    "X_train,X_test,y_train,y_test=train_test_split(X_df,y_df,test_size=0.2, random_state=0)\n",
    "\n",
    "# DummyClassfier로 학습/예측/평가\n",
    "Dummyclf = MyDummyClassifier()\n",
    "Dummyclf.fit(X_train,y_train)\n",
    "pred = Dummyclf.predict(X_test)\n",
    "\n",
    "print('MyDummyClassifier 정확도 :{0:4f}'.format(accuracy_score(y_test,pred)))"
   ]
  },
  {
   "cell_type": "code",
   "execution_count": null,
   "id": "8f7d9425",
   "metadata": {},
   "outputs": [],
   "source": []
  }
 ],
 "metadata": {
  "hide_input": false,
  "kernelspec": {
   "display_name": "Python 3",
   "language": "python",
   "name": "python3"
  },
  "language_info": {
   "codemirror_mode": {
    "name": "ipython",
    "version": 3
   },
   "file_extension": ".py",
   "mimetype": "text/x-python",
   "name": "python",
   "nbconvert_exporter": "python",
   "pygments_lexer": "ipython3",
   "version": "3.8.8"
  },
  "toc": {
   "base_numbering": 1,
   "nav_menu": {},
   "number_sections": true,
   "sideBar": true,
   "skip_h1_title": false,
   "title_cell": "Table of Contents",
   "title_sidebar": "Contents",
   "toc_cell": false,
   "toc_position": {},
   "toc_section_display": true,
   "toc_window_display": false
  },
  "varInspector": {
   "cols": {
    "lenName": 16,
    "lenType": 16,
    "lenVar": 40
   },
   "kernels_config": {
    "python": {
     "delete_cmd_postfix": "",
     "delete_cmd_prefix": "del ",
     "library": "var_list.py",
     "varRefreshCmd": "print(var_dic_list())"
    },
    "r": {
     "delete_cmd_postfix": ") ",
     "delete_cmd_prefix": "rm(",
     "library": "var_list.r",
     "varRefreshCmd": "cat(var_dic_list()) "
    }
   },
   "types_to_exclude": [
    "module",
    "function",
    "builtin_function_or_method",
    "instance",
    "_Feature"
   ],
   "window_display": false
  }
 },
 "nbformat": 4,
 "nbformat_minor": 5
}
