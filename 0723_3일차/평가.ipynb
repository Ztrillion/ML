{
 "cells": [
  {
   "cell_type": "markdown",
   "id": "01232b8d",
   "metadata": {},
   "source": [
    "# 평가(Evaluation)\n",
    "\n",
    "## 정확도(Accuracy)\n",
    "\n",
    "- 정확도 = 예측결과가 동일한 데이터 건수/전체 예측 데이터 건수\n",
    "\n",
    "- scikit learn 의 BaseEstimator클래스를 상속받으면\n",
    "  Customized 형태의 Estimator를 개발자가 생성가능\n",
    "  \n",
    "- fit() 메서드는 아무것도 수행하지 않음.\n",
    "- predict() 메서드는 단순히 피처가 1이면 0 그렇치 않으면 1로 예측"
   ]
  },
  {
   "cell_type": "code",
   "execution_count": 1,
   "id": "495d9b8e",
   "metadata": {
    "ExecuteTime": {
     "end_time": "2021-07-26T08:50:01.591314Z",
     "start_time": "2021-07-26T08:50:00.700904Z"
    }
   },
   "outputs": [],
   "source": [
    "from sklearn.base import BaseEstimator\n",
    "\n",
    "class MyDummyClassifier(BaseEstimator):\n",
    "    #fit 메서드는 아무것도 학습하지 않음\n",
    "    def fit(self,X,y=None):\n",
    "        pass\n",
    "    #predict()메서드는 Sex 피처가 1이면 0, 그렇지 않으면 1로 예측\n",
    "    def predict(self,X):\n",
    "        pred=np.zeros((X.shape[0],1))\n",
    "        for i in range(X.shape[0]):\n",
    "            if X['Sex'].iloc[i] == 1:\n",
    "                pred[i]=0\n",
    "            else :\n",
    "                pred[i]=1\n",
    "        return pred"
   ]
  },
  {
   "cell_type": "code",
   "execution_count": 2,
   "id": "efabadca",
   "metadata": {
    "ExecuteTime": {
     "end_time": "2021-07-26T08:50:02.590260Z",
     "start_time": "2021-07-26T08:50:02.564569Z"
    }
   },
   "outputs": [],
   "source": [
    "from sklearn.preprocessing import LabelEncoder\n",
    "\n",
    "# Null 처리 함수\n",
    "def fillna(df):\n",
    "    df['Age'].fillna(df['Age'].mean(),inplace=True)\n",
    "    df['Cabin'].fillna('N',inplace=True)\n",
    "    df['Embarked'].fillna('N',inplace=True)\n",
    "    df['Fare'].fillna(0,inplace=True)\n",
    "    return df\n",
    "\n",
    "# 머신러닝 알고리즘에 불필요한 속성 제거\n",
    "def drop_features(df):\n",
    "    df.drop(['PassengerId','Name','Ticket'],axis=1,inplace=True)\n",
    "    return df\n",
    "\n",
    "# 레이블 인코딩 수행. \n",
    "def format_features(df):\n",
    "    df['Cabin'] = df['Cabin'].str[:1]\n",
    "    features = ['Cabin','Sex','Embarked']\n",
    "    for feature in features:\n",
    "        le = LabelEncoder()\n",
    "        le = le.fit(df[feature])\n",
    "        df[feature] = le.transform(df[feature])\n",
    "    return df\n",
    "\n",
    "# 앞에서 설정한 Data Preprocessing 함수 호출\n",
    "def transform_features(df):\n",
    "    df = fillna(df)\n",
    "    df = drop_features(df)\n",
    "    df = format_features(df)\n",
    "    return df"
   ]
  },
  {
   "cell_type": "code",
   "execution_count": 3,
   "id": "39e6defe",
   "metadata": {
    "ExecuteTime": {
     "end_time": "2021-07-26T08:50:03.963732Z",
     "start_time": "2021-07-26T08:50:03.651364Z"
    }
   },
   "outputs": [
    {
     "name": "stdout",
     "output_type": "stream",
     "text": [
      "MyDummyClassifier 정확도 :0.787709\n"
     ]
    }
   ],
   "source": [
    "# MyDummyClassfier로 학습/예측/평가 하기\n",
    "\n",
    "import pandas as pd\n",
    "from sklearn.model_selection import train_test_split\n",
    "from sklearn.metrics import accuracy_score\n",
    "\n",
    "# 타이타닉 데이터 로딩 및 가공/ 데이터 분리\n",
    "titanic_df = pd.read_csv('titanic_train.csv')\n",
    "y_df = titanic_df['Survived']\n",
    "X_df = titanic_df.drop('Survived',axis=1)\n",
    "X_df = transform_features(X_df)\n",
    "X_train,X_test,y_train,y_test=train_test_split(X_df,y_df,test_size=0.2, random_state=0)\n",
    "\n",
    "# DummyClassfier로 학습/예측/평가\n",
    "Dummyclf = MyDummyClassifier()\n",
    "Dummyclf.fit(X_train,y_train)\n",
    "pred = Dummyclf.predict(X_test)\n",
    "\n",
    "print('MyDummyClassifier 정확도 :{0:4f}'.format(accuracy_score(y_test,pred)))"
   ]
  },
  {
   "cell_type": "code",
   "execution_count": 4,
   "id": "8f7d9425",
   "metadata": {
    "ExecuteTime": {
     "end_time": "2021-07-26T08:50:04.893947Z",
     "start_time": "2021-07-26T08:50:04.772571Z"
    }
   },
   "outputs": [
    {
     "name": "stdout",
     "output_type": "stream",
     "text": [
      "레이블 데이터 세트 크기 :  (1797, 64)\n",
      "테스트 세트 레이블 0과 1의 분포도: \n",
      " (1797,)\n"
     ]
    }
   ],
   "source": [
    "from sklearn.datasets import load_digits\n",
    "from sklearn.model_selection import train_test_split\n",
    "from sklearn.base import BaseEstimator\n",
    "from sklearn.metrics import accuracy_score\n",
    "import numpy as np\n",
    "import pandas as pd\n",
    "\n",
    "class MyFakeClassifier(BaseEstimator):\n",
    "    def fit(self,X,y):\n",
    "        pass\n",
    "\n",
    "    #입력값으로 들어오는 x데이터 세트의 크기만큼 모두 0으로 만들어서 반환\n",
    "    def predict(self,X):\n",
    "        return np.zeros((len(X),1),dtype=bool)\n",
    "\n",
    "# 내장 데이터 세트 load_digits()를 이용해 MNIST 데이터 로딩\n",
    "digits = load_digits()\n",
    "\n",
    "\n",
    "# 불균형한 레이블 분포도 확인\n",
    "print('레이블 데이터 세트 크기 : ', digits.data.shape)\n",
    "print('테스트 세트 레이블 0과 1의 분포도: \\n',digits.target.shape)"
   ]
  },
  {
   "cell_type": "code",
   "execution_count": 5,
   "id": "4df8faf5",
   "metadata": {
    "ExecuteTime": {
     "end_time": "2021-07-26T08:50:05.812526Z",
     "start_time": "2021-07-26T08:50:05.796569Z"
    }
   },
   "outputs": [
    {
     "data": {
      "text/plain": [
       "array([False, False, False, ..., False, False, False])"
      ]
     },
     "execution_count": 5,
     "metadata": {},
     "output_type": "execute_result"
    }
   ],
   "source": [
    "digits.target == 7"
   ]
  },
  {
   "cell_type": "code",
   "execution_count": 6,
   "id": "04cf2795",
   "metadata": {
    "ExecuteTime": {
     "end_time": "2021-07-26T08:50:06.793181Z",
     "start_time": "2021-07-26T08:50:06.787192Z"
    }
   },
   "outputs": [],
   "source": [
    "# digits 번호가 7번이면 True, 이를 astype(int) 1로 반환, 7이 아니면 false, 0으로 반환\n",
    "y = (digits.target==7).astype(int)\n",
    "X_train,X_test,y_train,y_test=train_test_split(digits.data,y,random_state=11)"
   ]
  },
  {
   "cell_type": "code",
   "execution_count": 7,
   "id": "3967a68b",
   "metadata": {
    "ExecuteTime": {
     "end_time": "2021-07-26T08:50:07.679099Z",
     "start_time": "2021-07-26T08:50:07.668112Z"
    }
   },
   "outputs": [
    {
     "name": "stdout",
     "output_type": "stream",
     "text": [
      "레이블 테스트 세트 크기 :  (450,)\n",
      "테스트 세트 레이블 0과 1의 분포:\n",
      " 0    405\n",
      "1     45\n",
      "dtype: int64\n",
      "모든 예측을 0으로 한 정확도는 : 0.9000\n"
     ]
    }
   ],
   "source": [
    "# 불균형한 레이블 데이터 분포확인\n",
    "print('레이블 테스트 세트 크기 : ',y_test.shape)\n",
    "print('테스트 세트 레이블 0과 1의 분포:\\n',pd.Series(y_test).value_counts())\n",
    "# DummyCalssifier로 학습/예측/정확도 평가\n",
    "fakeclf = MyFakeClassifier()\n",
    "fakeclf.fit(X_train,y_train)\n",
    "fpred = fakeclf.predict(X_test)\n",
    "print('모든 예측을 0으로 한 정확도는 : {:.4f}'.format(accuracy_score(y_test,fpred)))"
   ]
  },
  {
   "attachments": {},
   "cell_type": "markdown",
   "id": "6fc9eb98",
   "metadata": {},
   "source": [
    "# 오차행렬(confusion matrix) \n",
    "\n",
    "- 얼마나 헷갈리고 있는지 보여주는 지표\n",
    "    - TN(True Negative) : 실제값이 Negative인 값을 Negative로 예측(0,0)\n",
    "    - FN(False Negative) : Negative로 예측 했는데 실제값은 Positive (1,0)\n",
    "    - FP(False Positive) : Positive로 예측했는데 실제값은 Negative(0,1)\n",
    "    - TP(True Positive) : 실제값이 Positive인 값을 Positive 로 예측(1,1)\n",
    "    \n",
    "    \n",
    "- 불균형한 데이터에서는 정확도 보다 정밀도, 재현율이 더 선호됨"
   ]
  },
  {
   "cell_type": "markdown",
   "id": "3b7fbcbd",
   "metadata": {},
   "source": [
    "- 정확도(Accuracy) : (TN+TP)/(TN+FP+FN+TP)\n",
    "    \n",
    "- 정밀도(Precision) : (TP)/(TP+FP) = Positive로 예측한 대상 중에 실제값이 Positive인 값의 비율\n",
    "  \n",
    "  = 양성예측도\n",
    "  \n",
    "    \n",
    "- 재현율(Recall) : (TP)/(TP+FN) = 실제값이 Positive인 값중에 예측과 실제값이 Positive인 데이터 비율\n",
    "  \n",
    "  = 민감도(Sensitivity) = TPR(True Positive Rate)"
   ]
  },
  {
   "cell_type": "code",
   "execution_count": 8,
   "id": "f6c988a9",
   "metadata": {
    "ExecuteTime": {
     "end_time": "2021-07-26T08:50:09.820500Z",
     "start_time": "2021-07-26T08:50:09.803586Z"
    }
   },
   "outputs": [
    {
     "data": {
      "text/plain": [
       "array([[405,   0],\n",
       "       [ 45,   0]], dtype=int64)"
      ]
     },
     "execution_count": 8,
     "metadata": {},
     "output_type": "execute_result"
    }
   ],
   "source": [
    "# MyFakeClassifier 의 예측결과 fpred를 오차행렬를 이용한 배열로 출력\n",
    "\n",
    "from sklearn.metrics import confusion_matrix\n",
    "\n",
    "confusion_matrix(y_test,fpred)"
   ]
  },
  {
   "cell_type": "markdown",
   "id": "fc65eede",
   "metadata": {},
   "source": [
    "## 정밀도(Precision)과 재현율(Recall)\n",
    "\n",
    "-MyFakeClassfier 의 예측결과로 정밀도와 재현율 측정"
   ]
  },
  {
   "cell_type": "markdown",
   "id": "1851fdaa",
   "metadata": {},
   "source": [
    "- 오차행렬, 정확도, 정밀도, 재현율을 한번에 계산하는 함수 생성\n",
    "        get_clf_val()함수"
   ]
  },
  {
   "cell_type": "code",
   "execution_count": 9,
   "id": "44576429",
   "metadata": {
    "ExecuteTime": {
     "end_time": "2021-07-26T08:50:11.932529Z",
     "start_time": "2021-07-26T08:50:11.923576Z"
    }
   },
   "outputs": [],
   "source": [
    "from sklearn.metrics import accuracy_score, precision_score,recall_score, confusion_matrix\n",
    "\n",
    "def get_clf_val(y_test,pred):\n",
    "    confusion = confusion_matrix(y_test,pred)\n",
    "    accuracy = accuracy_score(y_test, pred)\n",
    "    precision = precision_score(y_test,pred)\n",
    "    recall = recall_score(y_test,pred)\n",
    "    \n",
    "    print('오차행렬:\\n', confusion)\n",
    "    print('정확도 : {0:.4f}, 정밀도 : {1:.4f}, 재현율 : {2:.4f}'.format(accuracy,precision,recall))"
   ]
  },
  {
   "cell_type": "markdown",
   "id": "9c2ca85c",
   "metadata": {},
   "source": [
    "### 원본데이터 로드 후 LogisticRegression() 의 정확도, 정밀도, 재현율 확인"
   ]
  },
  {
   "cell_type": "code",
   "execution_count": 10,
   "id": "00f4f400",
   "metadata": {
    "ExecuteTime": {
     "end_time": "2021-07-26T08:50:13.396578Z",
     "start_time": "2021-07-26T08:50:13.307886Z"
    }
   },
   "outputs": [
    {
     "name": "stdout",
     "output_type": "stream",
     "text": [
      "오차행렬:\n",
      " [[104  14]\n",
      " [ 13  48]]\n",
      "정확도 : 0.8492, 정밀도 : 0.7742, 재현율 : 0.7869\n"
     ]
    },
    {
     "name": "stderr",
     "output_type": "stream",
     "text": [
      "C:\\Users\\pc\\anaconda3\\lib\\site-packages\\sklearn\\linear_model\\_logistic.py:763: ConvergenceWarning: lbfgs failed to converge (status=1):\n",
      "STOP: TOTAL NO. of ITERATIONS REACHED LIMIT.\n",
      "\n",
      "Increase the number of iterations (max_iter) or scale the data as shown in:\n",
      "    https://scikit-learn.org/stable/modules/preprocessing.html\n",
      "Please also refer to the documentation for alternative solver options:\n",
      "    https://scikit-learn.org/stable/modules/linear_model.html#logistic-regression\n",
      "  n_iter_i = _check_optimize_result(\n"
     ]
    }
   ],
   "source": [
    "import numpy as np\n",
    "import pandas as pd\n",
    "\n",
    "from sklearn.model_selection import train_test_split\n",
    "from sklearn.linear_model import LogisticRegression\n",
    "\n",
    "#원본 데이터 재로딩, 가공, train, test 분리\n",
    "titanic_df = pd.read_csv('titanic_train.csv')\n",
    "y = titanic_df['Survived']\n",
    "X = titanic_df.drop('Survived',axis = 1)\n",
    "X = transform_features(X)\n",
    "\n",
    "X_train,X_test,y_train,y_test = train_test_split(X,y,test_size=0.2,random_state=11)\n",
    "\n",
    "lr = LogisticRegression()\n",
    "lr.fit(X_train,y_train)\n",
    "pred = lr.predict(X_test)\n",
    "get_clf_val(y_test,pred)"
   ]
  },
  {
   "cell_type": "markdown",
   "id": "ac042a8c",
   "metadata": {},
   "source": [
    "### Precision/Recall Trade-off\n",
    "\n",
    "- Trade-off : 정밀도, 재현율이 특별히 강조되야 할 경우 임계값(Threshold)을\n",
    "              조정해 정밀도,재현율 수치를 높일 수 있음\n",
    "              \n",
    "              절밀도, 재현율 중 어느 한쪽을 강제로 높이면 다른 하나의 수치는 떨어지기 쉬움\n",
    "              이를 Trade-off 라고 함\n",
    "\n",
    "- 일반적인 이진분류 : 임계값을 0.5 = 50% 기준 설정\n",
    "\n",
    "    - 기준값보다 확률이 크면 Positive 작으면, Negative로 결정\n",
    "\n",
    "- predict_proba() 메서드 : 학습 완료 된 Classfier 에서 호출 가능\n",
    "    - test 피처 데이터 세트 : 파라미터로 입력 해주면 테스트 피처 레코드의 개별 클래스 예측 확률 반환\n",
    "\n",
    "- 반환값  : ndarray m x n ( m : 입력값의 레코드 수, n : 클래스 값 유형)\n",
    "    - ex) 입력 테스트 데이터 표본개수가 100개, 예측 클래스 값 유형 2개(이진분류) 반환값 = 100x2 ndarray\n",
    "    - 첫번째 컬0럼 : 0 Negative 확률, 두번째 컬럼 : 1 Positive 확률"
   ]
  },
  {
   "cell_type": "code",
   "execution_count": 20,
   "id": "5afdf4af",
   "metadata": {
    "ExecuteTime": {
     "end_time": "2021-07-26T08:53:24.531074Z",
     "start_time": "2021-07-26T08:53:24.515117Z"
    }
   },
   "outputs": [
    {
     "name": "stdout",
     "output_type": "stream",
     "text": [
      "pred_proba 결과 shape:  (179, 2)\n",
      "pred_preba array 에서 앞 3개만 추출 : \n",
      " [[0.46196064 0.53803936]\n",
      " [0.87860795 0.12139205]\n",
      " [0.87714215 0.12285785]]\n",
      "두개의 class 중 더 큰 확률을 클래스 값으로 예측 \n",
      " [[0.46196064 0.53803936 1.        ]\n",
      " [0.87860795 0.12139205 0.        ]\n",
      " [0.87714215 0.12285785 0.        ]]\n"
     ]
    }
   ],
   "source": [
    "pred_proba = lr.predict_proba(X_test)\n",
    "pred = lr.predict(X_test)\n",
    "print('pred_proba 결과 shape: ',pred_proba.shape)\n",
    "print('pred_preba array 에서 앞 3개만 추출 : \\n',pred_proba[:3])\n",
    "\n",
    "# 예측확률 array와 예측 결과값 array를 병합(concatenate)해 확률과 결괏값을 한눈에 확인\n",
    "pred_proba_result = np.concatenate([pred_proba, pred.reshape(-1,1)],axis=1)\n",
    "print('두개의 class 중 더 큰 확률을 클래스 값으로 예측 \\n',pred_proba_result[:3])"
   ]
  },
  {
   "cell_type": "code",
   "execution_count": null,
   "id": "e199e30f",
   "metadata": {},
   "outputs": [],
   "source": []
  }
 ],
 "metadata": {
  "hide_input": false,
  "kernelspec": {
   "display_name": "Python 3",
   "language": "python",
   "name": "python3"
  },
  "language_info": {
   "codemirror_mode": {
    "name": "ipython",
    "version": 3
   },
   "file_extension": ".py",
   "mimetype": "text/x-python",
   "name": "python",
   "nbconvert_exporter": "python",
   "pygments_lexer": "ipython3",
   "version": "3.8.8"
  },
  "toc": {
   "base_numbering": 1,
   "nav_menu": {},
   "number_sections": true,
   "sideBar": true,
   "skip_h1_title": false,
   "title_cell": "Table of Contents",
   "title_sidebar": "Contents",
   "toc_cell": false,
   "toc_position": {},
   "toc_section_display": true,
   "toc_window_display": false
  },
  "varInspector": {
   "cols": {
    "lenName": 16,
    "lenType": 16,
    "lenVar": 40
   },
   "kernels_config": {
    "python": {
     "delete_cmd_postfix": "",
     "delete_cmd_prefix": "del ",
     "library": "var_list.py",
     "varRefreshCmd": "print(var_dic_list())"
    },
    "r": {
     "delete_cmd_postfix": ") ",
     "delete_cmd_prefix": "rm(",
     "library": "var_list.r",
     "varRefreshCmd": "cat(var_dic_list()) "
    }
   },
   "types_to_exclude": [
    "module",
    "function",
    "builtin_function_or_method",
    "instance",
    "_Feature"
   ],
   "window_display": false
  }
 },
 "nbformat": 4,
 "nbformat_minor": 5
}
